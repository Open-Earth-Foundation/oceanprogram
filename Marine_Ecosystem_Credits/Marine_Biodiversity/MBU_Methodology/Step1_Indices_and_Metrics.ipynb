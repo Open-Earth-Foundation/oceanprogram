{
 "cells": [
  {
   "cell_type": "markdown",
   "id": "1e239291",
   "metadata": {},
   "source": [
    "# Open Earth Foundation\n",
    "## Open Ocean"
   ]
  },
  {
   "cell_type": "markdown",
   "id": "0abb8d40",
   "metadata": {},
   "source": [
    "This is the second notebook of a series of 5 notebooks that explains step by step how to calculate each modulating factor and assign credtis for the [Marine Biodiversity Credits methodology](https://zenodo.org/records/10182712) applied to the Cocos Marine Conservation Area of Costa Rica"
   ]
  },
  {
   "cell_type": "markdown",
   "id": "434525fb",
   "metadata": {},
   "source": [
    "## Libraries"
   ]
  },
  {
   "cell_type": "code",
   "execution_count": null,
   "id": "0c116771",
   "metadata": {},
   "outputs": [],
   "source": [
    "#!pip install pyobis"
   ]
  },
  {
   "cell_type": "code",
   "execution_count": null,
   "id": "76e3a9d2",
   "metadata": {},
   "outputs": [],
   "source": [
    "import os\n",
    "import glob\n",
    "import boto3\n",
    "\n",
    "import pyproj\n",
    "import math\n",
    "import numpy as np\n",
    "import pandas as pd\n",
    "from pyobis import occurrences\n",
    "\n",
    "import matplotlib.pyplot as plt\n",
    "\n",
    "import shapely\n",
    "import geopandas as gpd\n",
    "from shapely.geometry import Polygon, Point, box\n",
    "from shapely.ops import linemerge, unary_union, polygonize"
   ]
  },
  {
   "cell_type": "code",
   "execution_count": null,
   "id": "ed6253ef",
   "metadata": {},
   "outputs": [],
   "source": [
    "import fiona; #help(fiona.open)"
   ]
  },
  {
   "cell_type": "code",
   "execution_count": null,
   "id": "446f379e",
   "metadata": {},
   "outputs": [],
   "source": [
    "%load_ext autoreload"
   ]
  },
  {
   "cell_type": "code",
   "execution_count": null,
   "id": "21f7caa5",
   "metadata": {},
   "outputs": [],
   "source": [
    "#Run this to reload the python file\n",
    "%autoreload 2\n",
    "from MBU_utils import *"
   ]
  },
  {
   "cell_type": "markdown",
   "id": "802eec82",
   "metadata": {},
   "source": [
    "# Data"
   ]
  },
  {
   "cell_type": "markdown",
   "id": "453f0655",
   "metadata": {},
   "source": [
    "Two data sources are used for these calculations, data from OBIS (observation points) and those from the IUCN red list (distribution polygons).\n",
    "\n",
    "- Indices such as Shannon and Simpson can be calculated only with OBIS data\n",
    "- Metrics like WEGE and Endemism can be calculated only with IUCN data\n",
    "- Habitats accounting is calculating with IUCN Global Ecosystem Typology"
   ]
  },
  {
   "cell_type": "markdown",
   "id": "15f83bc3",
   "metadata": {},
   "source": [
    "**Accessing OBIS data**\n",
    "\n",
    "OBIS data contains species information and points of observation"
   ]
  },
  {
   "cell_type": "code",
   "execution_count": null,
   "id": "7bd7051f",
   "metadata": {},
   "outputs": [],
   "source": [
    "# MPA file\n",
    "ACMC = gpd.read_file('https://ocean-program.s3.amazonaws.com/data/raw/MPAs/ACMC.geojson')"
   ]
  },
  {
   "cell_type": "code",
   "execution_count": null,
   "id": "3d7faa3c",
   "metadata": {},
   "outputs": [],
   "source": [
    "#create a polygon to access the OBIS data\n",
    "min_x, min_y, max_x, max_y = ACMC.total_bounds\n",
    "geometry = f\"POLYGON(({max_x} {min_y}, {min_x} {min_y}, {min_x} {max_y}, {max_x} {max_y}, {max_x} {min_y}))\"\n",
    "\n",
    "query = occurrences.search(geometry=geometry)\n",
    "query.execute()\n",
    "\n",
    "# Returns the data\n",
    "df2 = query.data "
   ]
  },
  {
   "cell_type": "code",
   "execution_count": null,
   "id": "928251aa",
   "metadata": {},
   "outputs": [],
   "source": [
    "# convert OBIS dataframe to geodataframe\n",
    "# making point with the lat and lon information\n",
    "df2 = gpd.GeoDataFrame(df2, geometry=gpd.points_from_xy(df2.decimalLongitude, df2.decimalLatitude))"
   ]
  },
  {
   "cell_type": "code",
   "execution_count": null,
   "id": "74de8cf2",
   "metadata": {},
   "outputs": [],
   "source": [
    "df2.crs = \"EPSG:4326\""
   ]
  },
  {
   "cell_type": "code",
   "execution_count": null,
   "id": "55defab0",
   "metadata": {},
   "outputs": [],
   "source": [
    "df2.crs"
   ]
  },
  {
   "cell_type": "markdown",
   "id": "6c4fdf2f",
   "metadata": {},
   "source": [
    "**Accesing IUCN RedList data**"
   ]
  },
  {
   "cell_type": "code",
   "execution_count": null,
   "id": "a69a61a2",
   "metadata": {},
   "outputs": [],
   "source": [
    "df1 = gpd.read_file('s3://ocean-program/data/processed/ACMC_IUCN_RedList/gdf_ACMC_IUCN_range_status_filtered.shp')"
   ]
  },
  {
   "cell_type": "code",
   "execution_count": null,
   "id": "7e881ee9",
   "metadata": {},
   "outputs": [],
   "source": [
    "df1.crs = \"EPSG:4326\""
   ]
  },
  {
   "cell_type": "code",
   "execution_count": null,
   "id": "73b7fde9",
   "metadata": {},
   "outputs": [],
   "source": [
    "df1.crs"
   ]
  },
  {
   "cell_type": "markdown",
   "id": "c152fec5",
   "metadata": {},
   "source": [
    "**Accesing IUCN Global Ecosystem Typology**\n",
    "\n",
    "For this step, it's needed only the ubication path of these files"
   ]
  },
  {
   "cell_type": "code",
   "execution_count": null,
   "id": "8c9068d5",
   "metadata": {},
   "outputs": [],
   "source": [
    "#From AWS\n",
    "s3 = boto3.resource('s3')\n",
    "bucket = s3.Bucket('ocean-program')\n",
    "\n",
    "eco_names = []\n",
    "\n",
    "for obj in bucket.objects.filter(Prefix='data/raw/Ecosystems/'):\n",
    "    name = obj.key[:]\n",
    "    eco_names.append(f'https://ocean-program.s3.amazonaws.com/{name}')"
   ]
  },
  {
   "cell_type": "markdown",
   "id": "ec95b01f",
   "metadata": {},
   "source": [
    "# Metrics and Indices"
   ]
  },
  {
   "cell_type": "markdown",
   "id": "b2889bc5",
   "metadata": {},
   "source": [
    "First, we need to build a grid geoDataFrame"
   ]
  },
  {
   "cell_type": "code",
   "execution_count": null,
   "id": "ee25a169",
   "metadata": {},
   "outputs": [],
   "source": [
    "# Making a grid geoDataFrame\n",
    "grid = create_grid(ACMC, grid_shape=\"hexagon\", grid_size_deg=0.05)"
   ]
  },
  {
   "cell_type": "code",
   "execution_count": null,
   "id": "d38f60ff",
   "metadata": {},
   "outputs": [],
   "source": [
    "grid.crs"
   ]
  },
  {
   "cell_type": "markdown",
   "id": "4551dc67",
   "metadata": {},
   "source": [
    "## Using OBIS data"
   ]
  },
  {
   "cell_type": "markdown",
   "id": "63ee78dd",
   "metadata": {},
   "source": [
    "`Note`: Endemism and WEGE indices are not available for this data set"
   ]
  },
  {
   "cell_type": "markdown",
   "id": "2e92915c",
   "metadata": {},
   "source": [
    "**Shannon Index**"
   ]
  },
  {
   "cell_type": "code",
   "execution_count": null,
   "id": "404ddb28",
   "metadata": {},
   "outputs": [],
   "source": [
    "Shannon = shannon(ACMC, df2, grid)"
   ]
  },
  {
   "cell_type": "code",
   "execution_count": null,
   "id": "e640c8c3",
   "metadata": {},
   "outputs": [],
   "source": [
    "Shannon.head()"
   ]
  },
  {
   "cell_type": "code",
   "execution_count": null,
   "id": "14cce67d",
   "metadata": {},
   "outputs": [],
   "source": [
    "Shannon = gpd.clip(Shannon.set_crs(epsg=4326, allow_override=True), ACMC.set_crs(epsg=4326, allow_override=True))\n",
    "ax = Shannon.plot(column='shannon', figsize=(6, 6), cmap='viridis', edgecolor=\"grey\", legend = True)\n",
    "\n",
    "gpd.GeoSeries(ACMC.geometry).plot(ax=ax, edgecolor='black', facecolor='none', label='ACMC')\n",
    "plt.title('Shannon Index for ACMC\\nSource: OBIS')"
   ]
  },
  {
   "cell_type": "markdown",
   "id": "fefd1377",
   "metadata": {},
   "source": [
    "**Simpson Index**"
   ]
  },
  {
   "cell_type": "code",
   "execution_count": null,
   "id": "d881a19d",
   "metadata": {},
   "outputs": [],
   "source": [
    "Simpson = simpson(ACMC, df2, grid)"
   ]
  },
  {
   "cell_type": "code",
   "execution_count": null,
   "id": "2c01cbed",
   "metadata": {},
   "outputs": [],
   "source": [
    "Simpson.head()"
   ]
  },
  {
   "cell_type": "code",
   "execution_count": null,
   "id": "942e68ce",
   "metadata": {},
   "outputs": [],
   "source": [
    "Simpson = gpd.clip(Simpson.set_crs(epsg=4326, allow_override=True), ACMC.set_crs(epsg=4326, allow_override=True))\n",
    "ax = Simpson.plot(column='simpson', figsize=(6, 6), cmap='viridis', edgecolor=\"grey\", legend = True)\n",
    "\n",
    "gpd.GeoSeries(ACMC.geometry).plot(ax=ax, edgecolor='black', facecolor='none', label='ACMC')\n",
    "plt.title('Simpson Index for ACMC\\nSource: OBIS')"
   ]
  },
  {
   "cell_type": "markdown",
   "id": "17b7ea3c",
   "metadata": {},
   "source": [
    "**Species Richness**"
   ]
  },
  {
   "cell_type": "code",
   "execution_count": null,
   "id": "5b69863d",
   "metadata": {},
   "outputs": [],
   "source": [
    "Species_Richness = species_richness(ACMC, df2, grid)"
   ]
  },
  {
   "cell_type": "code",
   "execution_count": null,
   "id": "ac1d6155",
   "metadata": {},
   "outputs": [],
   "source": [
    "Species_Richness.head()"
   ]
  },
  {
   "cell_type": "code",
   "execution_count": null,
   "id": "31fc93b6",
   "metadata": {},
   "outputs": [],
   "source": [
    "Species_Richness = gpd.clip(Species_Richness.set_crs(epsg=4326, allow_override=True), ACMC.set_crs(epsg=4326, allow_override=True))\n",
    "ax = Species_Richness.plot(column='species_richness', figsize=(6, 6), cmap='viridis', edgecolor=\"grey\", legend = True)\n",
    "\n",
    "gpd.GeoSeries(ACMC.geometry).plot(ax=ax, edgecolor='black', facecolor='none', label='ACMC')\n",
    "plt.title('Species Richness metric for ACMC\\nSource: OBIS')"
   ]
  },
  {
   "cell_type": "markdown",
   "id": "cd83785b",
   "metadata": {},
   "source": [
    "## Using IUCN data"
   ]
  },
  {
   "cell_type": "markdown",
   "id": "6f06a553",
   "metadata": {},
   "source": [
    "`Note`: Shannon and Simpson indices are not available for this data set"
   ]
  },
  {
   "cell_type": "markdown",
   "id": "b31e92d1",
   "metadata": {},
   "source": [
    "**Species Richness**"
   ]
  },
  {
   "cell_type": "code",
   "execution_count": null,
   "id": "9db87141",
   "metadata": {},
   "outputs": [],
   "source": [
    "Species_Richness = species_richness(ACMC, df1, grid)"
   ]
  },
  {
   "cell_type": "code",
   "execution_count": null,
   "id": "e96998d0",
   "metadata": {},
   "outputs": [],
   "source": [
    "Species_Richness.head()"
   ]
  },
  {
   "cell_type": "code",
   "execution_count": null,
   "id": "daee7edc",
   "metadata": {},
   "outputs": [],
   "source": [
    "Species_Richness = gpd.clip(Species_Richness.set_crs(epsg=4326, allow_override=True), ACMC.set_crs(epsg=4326, allow_override=True))\n",
    "ax = Species_Richness.plot(column='species_richness', figsize=(6, 6), cmap='viridis', edgecolor=\"grey\", legend = True)\n",
    "\n",
    "gpd.GeoSeries(ACMC.geometry).plot(ax=ax, edgecolor='black', facecolor='none', label='ACMC')\n",
    "plt.title('Species Richness metric for ACMC\\nSource: IUCN')"
   ]
  },
  {
   "cell_type": "markdown",
   "id": "a7718e42",
   "metadata": {},
   "source": [
    "**Endemism**"
   ]
  },
  {
   "cell_type": "code",
   "execution_count": null,
   "id": "b811bff2",
   "metadata": {},
   "outputs": [],
   "source": [
    "Endemism = endemism(ACMC, df1, grid)"
   ]
  },
  {
   "cell_type": "code",
   "execution_count": null,
   "id": "1512667b",
   "metadata": {},
   "outputs": [],
   "source": [
    "Endemism.head()"
   ]
  },
  {
   "cell_type": "code",
   "execution_count": null,
   "id": "725ec879",
   "metadata": {},
   "outputs": [],
   "source": [
    "Endemism = gpd.clip(Endemism.set_crs(epsg=4326, allow_override=True), ACMC.set_crs(epsg=4326, allow_override=True))\n",
    "ax = Endemism.plot(column='endemism', figsize=(6, 6), cmap='viridis', edgecolor=\"grey\", legend = True)\n",
    "\n",
    "gpd.GeoSeries(ACMC.geometry).plot(ax=ax, edgecolor='black', facecolor='none', label='ACMC')\n",
    "plt.title('Endemism metric for ACMC\\nSource: IUCN')"
   ]
  },
  {
   "cell_type": "markdown",
   "id": "fbac2b3b",
   "metadata": {},
   "source": [
    "**WEGE Index**"
   ]
  },
  {
   "cell_type": "code",
   "execution_count": null,
   "id": "196fe902",
   "metadata": {},
   "outputs": [],
   "source": [
    "Wege = wege(ACMC, df1, grid)"
   ]
  },
  {
   "cell_type": "code",
   "execution_count": null,
   "id": "0f4b7c6b",
   "metadata": {},
   "outputs": [],
   "source": [
    "Wege.head()"
   ]
  },
  {
   "cell_type": "code",
   "execution_count": null,
   "id": "78909f40",
   "metadata": {},
   "outputs": [],
   "source": [
    "Wege = gpd.clip(Wege.set_crs(epsg=4326, allow_override=True), ACMC.set_crs(epsg=4326, allow_override=True))\n",
    "ax = Wege.plot(column='wege', figsize=(6, 6), cmap='viridis', edgecolor=\"grey\", legend = True)\n",
    "\n",
    "gpd.GeoSeries(ACMC.geometry).plot(ax=ax, edgecolor='black', facecolor='none', label='ACMC')\n",
    "plt.title('Wege index for ACMC\\nSource: IUCN')"
   ]
  },
  {
   "cell_type": "markdown",
   "id": "0f474d28",
   "metadata": {},
   "source": [
    "**Habitats Accounting**"
   ]
  },
  {
   "cell_type": "code",
   "execution_count": null,
   "id": "b0b91516",
   "metadata": {},
   "outputs": [],
   "source": [
    "Habitat_accounting = habitat_accounting(ACMC, grid, eco_names)"
   ]
  },
  {
   "cell_type": "code",
   "execution_count": null,
   "id": "5438bd1c",
   "metadata": {},
   "outputs": [],
   "source": [
    "Habitat_accounting.head()"
   ]
  },
  {
   "cell_type": "code",
   "execution_count": null,
   "id": "66ea7fe3",
   "metadata": {},
   "outputs": [],
   "source": [
    "Habitat_accounting = gpd.clip(Habitat_accounting.set_crs(epsg=4326, allow_override=True), ACMC.set_crs(epsg=4326, allow_override=True))\n",
    "ax = Habitat_accounting.plot(column='habitat_accounting', figsize=(6, 6), cmap='viridis', edgecolor=\"grey\", legend = True)\n",
    "\n",
    "gpd.GeoSeries(ACMC.geometry).plot(ax=ax, edgecolor='black', facecolor='none', label='ACMC')\n",
    "plt.title('Habitat_accounting for ACMC\\nSource: IUCN')"
   ]
  }
 ],
 "metadata": {
  "kernelspec": {
   "display_name": "Python 3 (ipykernel)",
   "language": "python",
   "name": "python3"
  },
  "language_info": {
   "codemirror_mode": {
    "name": "ipython",
    "version": 3
   },
   "file_extension": ".py",
   "mimetype": "text/x-python",
   "name": "python",
   "nbconvert_exporter": "python",
   "pygments_lexer": "ipython3",
   "version": "3.9.12"
  }
 },
 "nbformat": 4,
 "nbformat_minor": 5
}
