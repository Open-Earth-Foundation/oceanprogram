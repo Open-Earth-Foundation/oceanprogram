{
 "cells": [
  {
   "cell_type": "markdown",
   "id": "18465ae2",
   "metadata": {},
   "source": [
    "# Open Earth Foundation\n",
    "## Open Ocean"
   ]
  },
  {
   "cell_type": "markdown",
   "id": "e859c756",
   "metadata": {},
   "source": [
    "This is the fourth of a series of 4 notebooks that explains step by step how to calculate the Marine Biodiversity Units applied to the Cocos Marine Conservation Area of Costa Rica"
   ]
  },
  {
   "cell_type": "markdown",
   "id": "9e74e8d3",
   "metadata": {},
   "source": [
    "## Libraries"
   ]
  },
  {
   "cell_type": "code",
   "execution_count": 1,
   "id": "9a92c316",
   "metadata": {},
   "outputs": [],
   "source": [
    "import os\n",
    "import glob\n",
    "import boto3\n",
    "\n",
    "import math\n",
    "import numpy as np\n",
    "import pandas as pd\n",
    "\n",
    "import matplotlib.pyplot as plt\n",
    "\n",
    "import shapely\n",
    "import geopandas as gpd\n",
    "from shapely.geometry import Polygon, Point, box\n",
    "from shapely.ops import linemerge, unary_union, polygonize"
   ]
  },
  {
   "cell_type": "code",
   "execution_count": 2,
   "id": "6cbf87a3",
   "metadata": {},
   "outputs": [],
   "source": [
    "import fiona; #help(fiona.open)"
   ]
  },
  {
   "cell_type": "code",
   "execution_count": 3,
   "id": "e7e7020c",
   "metadata": {},
   "outputs": [],
   "source": [
    "%load_ext autoreload"
   ]
  },
  {
   "cell_type": "code",
   "execution_count": 17,
   "id": "81da56bf",
   "metadata": {},
   "outputs": [],
   "source": [
    "#Run this to reload the python file\n",
    "%autoreload 2\n",
    "from MBU_utils import *"
   ]
  },
  {
   "cell_type": "markdown",
   "id": "85d2320c",
   "metadata": {},
   "source": [
    "## Data"
   ]
  },
  {
   "cell_type": "markdown",
   "id": "7cd44bfc",
   "metadata": {},
   "source": [
    "Two data sources are used for these calculations, data from OBIS (observation points) and those from the IUCN red list (distribution polygons).\n",
    "\n",
    "- Indices such as Shannon and Simpson can be calculated only with OBIS data\n",
    "- Metrics like WEGE and Endemism can be calculated only with IUCN data\n",
    "- Habitats accounting is calculating with IUCN Global Ecosystem Typology"
   ]
  },
  {
   "cell_type": "markdown",
   "id": "0dcb33c1",
   "metadata": {},
   "source": [
    "**Accessing OBIS data**\n",
    "\n",
    "OBIS data contains species information and points of observation"
   ]
  },
  {
   "cell_type": "code",
   "execution_count": 5,
   "id": "fa4830fe",
   "metadata": {},
   "outputs": [],
   "source": [
    "from pyobis import occurrences"
   ]
  },
  {
   "cell_type": "code",
   "execution_count": 6,
   "id": "9132d176",
   "metadata": {},
   "outputs": [],
   "source": [
    "# MPA file\n",
    "ACMC = gpd.read_file('https://ocean-program.s3.amazonaws.com/data/raw/MPAs/ACMC.geojson')"
   ]
  },
  {
   "cell_type": "code",
   "execution_count": 7,
   "id": "ec072d23",
   "metadata": {},
   "outputs": [
    {
     "name": "stdout",
     "output_type": "stream",
     "text": [
      "Fetching: [████████████████████████████████████████████████████████████████████████████████████████████████████] 4216/4216\n",
      "Fetched 4216 records.\n"
     ]
    }
   ],
   "source": [
    "#create a polygon to access the OBIS data\n",
    "min_x, min_y, max_x, max_y = ACMC.total_bounds\n",
    "geometry = f\"POLYGON(({max_x} {min_y}, {min_x} {min_y}, {min_x} {max_y}, {max_x} {max_y}, {max_x} {min_y}))\"\n",
    "\n",
    "query = occurrences.search(geometry=geometry)\n",
    "query.execute()\n",
    "\n",
    "# Returns the data\n",
    "df2 = query.data "
   ]
  },
  {
   "cell_type": "code",
   "execution_count": 8,
   "id": "b1a4229c",
   "metadata": {},
   "outputs": [
    {
     "name": "stderr",
     "output_type": "stream",
     "text": [
      "/Users/maureenfonseca/opt/anaconda3/lib/python3.9/site-packages/geopandas/geodataframe.py:1443: PerformanceWarning: DataFrame is highly fragmented.  This is usually the result of calling `frame.insert` many times, which has poor performance.  Consider joining all columns at once using pd.concat(axis=1) instead. To get a de-fragmented frame, use `newframe = frame.copy()`\n",
      "  super().__setitem__(key, value)\n"
     ]
    }
   ],
   "source": [
    "# convert OBIS dataframe to geodataframe\n",
    "# making point with the lat and lon information\n",
    "df2 = gpd.GeoDataFrame(df2, geometry=gpd.points_from_xy(df2.decimalLongitude, df2.decimalLatitude))"
   ]
  },
  {
   "cell_type": "markdown",
   "id": "6f24057f",
   "metadata": {},
   "source": [
    "**Accesing IUCN RedList data**"
   ]
  },
  {
   "cell_type": "code",
   "execution_count": 9,
   "id": "85b23d3f",
   "metadata": {},
   "outputs": [],
   "source": [
    "#df1 = gpd.read_file('s3://ocean-program/data/processed/ACMC_IUCN_RedList/gdf_ACMC_IUCN_range_status_filtered.shp')\n",
    "df1 = gpd.read_file('s3://ocean-program/data/Test/gdf_range_status_filtered_shortV.shp')"
   ]
  },
  {
   "cell_type": "markdown",
   "id": "fb67e03c",
   "metadata": {},
   "source": [
    "**Accesing IUCN Global Ecosystem Typology**\n",
    "\n",
    "For this step, it's needed only the ubication path of these files"
   ]
  },
  {
   "cell_type": "code",
   "execution_count": 10,
   "id": "754002d1",
   "metadata": {},
   "outputs": [],
   "source": [
    "#From AWS\n",
    "s3 = boto3.resource('s3')\n",
    "bucket = s3.Bucket('ocean-program')\n",
    "\n",
    "eco_names = []\n",
    "\n",
    "for obj in bucket.objects.filter(Prefix='data/raw/Ecosystems/'):\n",
    "    name = obj.key[:]\n",
    "    eco_names.append(f'https://ocean-program.s3.amazonaws.com/{name}')"
   ]
  },
  {
   "cell_type": "markdown",
   "id": "f63978d9",
   "metadata": {},
   "source": [
    "## Marine Biodiveristy Units"
   ]
  },
  {
   "cell_type": "markdown",
   "id": "2a01a16a",
   "metadata": {},
   "source": [
    "Let's choose which MF to calculate:"
   ]
  },
  {
   "cell_type": "code",
   "execution_count": 11,
   "id": "ca39ce53",
   "metadata": {},
   "outputs": [],
   "source": [
    "# Modulating factors list\n",
    "MF = ['biodiversity_score', 'species_richness', 'endemism', 'wege', 'habitats_survey']"
   ]
  },
  {
   "cell_type": "markdown",
   "id": "297ca7be",
   "metadata": {},
   "source": [
    "**IUCN Data**"
   ]
  },
  {
   "cell_type": "code",
   "execution_count": 18,
   "id": "66fd546a",
   "metadata": {},
   "outputs": [
    {
     "name": "stderr",
     "output_type": "stream",
     "text": [
      "/Users/maureenfonseca/Desktop/oceanprogram/Experimental_Work/MBU_utils.py:143: ShapelyDeprecationWarning: The 'type' attribute is deprecated, and will be removed in the future. You can use the 'geom_type' attribute instead.\n",
      "  if this_row_boundary.type[:len('multi')].lower() == 'multi':\n",
      "/Users/maureenfonseca/Desktop/oceanprogram/Experimental_Work/MBU_utils.py:164: UserWarning: Geometry is in a geographic CRS. Results from 'centroid' are likely incorrect. Use 'GeoSeries.to_crs()' to re-project geometries to a projected CRS before this operation.\n",
      "\n",
      "  new_gdf['geom_centroid'] = new_gdf.centroid\n",
      "/Users/maureenfonseca/Desktop/oceanprogram/Experimental_Work/MBU_utils.py:483: UserWarning: Geometry is in a geographic CRS. Results from 'area' are likely incorrect. Use 'GeoSeries.to_crs()' to re-project geometries to a projected CRS before this operation.\n",
      "\n",
      "  dist_ratio2 = np.round(df2.area/gdf.area, decimals=4, out=None)\n",
      "/Users/maureenfonseca/opt/anaconda3/lib/python3.9/site-packages/pandas/core/arraylike.py:396: RuntimeWarning: divide by zero encountered in log2\n",
      "  result = getattr(ufunc, method)(*inputs, **kwargs)\n",
      "/Users/maureenfonseca/Desktop/oceanprogram/Experimental_Work/MBU_utils.py:200: FutureWarning: Currently, index_parts defaults to True, but in the future, it will default to False to be consistent with Pandas. Use `index_parts=True` to keep the current behavior and True/False to silence the warning.\n",
      "  new_gdf = gdf.explode('geometry')\n",
      "/Users/maureenfonseca/Desktop/oceanprogram/Experimental_Work/MBU_utils.py:576: UserWarning: Geometry is in a geographic CRS. Results from 'area' are likely incorrect. Use 'GeoSeries.to_crs()' to re-project geometries to a projected CRS before this operation.\n",
      "\n",
      "  MPA_area = MPA.area[0]\n",
      "/Users/maureenfonseca/Desktop/oceanprogram/Experimental_Work/MBU_utils.py:583: UserWarning: Geometry is in a geographic CRS. Results from 'area' are likely incorrect. Use 'GeoSeries.to_crs()' to re-project geometries to a projected CRS before this operation.\n",
      "\n",
      "  we = np.round(df.area/MPA_area, decimals=4, out=None)\n",
      "/Users/maureenfonseca/Desktop/oceanprogram/Experimental_Work/MBU_utils.py:200: FutureWarning: Currently, index_parts defaults to True, but in the future, it will default to False to be consistent with Pandas. Use `index_parts=True` to keep the current behavior and True/False to silence the warning.\n",
      "  new_gdf = gdf.explode('geometry')\n"
     ]
    }
   ],
   "source": [
    "MBUS_score_1 = give_mbu_score(MF, ACMC, df1, 'hexagon', 1, eco_names, 'IUCN', 31970)"
   ]
  },
  {
   "cell_type": "code",
   "execution_count": 19,
   "id": "d621f411",
   "metadata": {},
   "outputs": [
    {
     "data": {
      "text/html": [
       "<div>\n",
       "<style scoped>\n",
       "    .dataframe tbody tr th:only-of-type {\n",
       "        vertical-align: middle;\n",
       "    }\n",
       "\n",
       "    .dataframe tbody tr th {\n",
       "        vertical-align: top;\n",
       "    }\n",
       "\n",
       "    .dataframe thead th {\n",
       "        text-align: right;\n",
       "    }\n",
       "</style>\n",
       "<table border=\"1\" class=\"dataframe\">\n",
       "  <thead>\n",
       "    <tr style=\"text-align: right;\">\n",
       "      <th></th>\n",
       "      <th>geometry</th>\n",
       "      <th>Grid_ID</th>\n",
       "      <th>mbu_biodiversity_score</th>\n",
       "      <th>species_richness</th>\n",
       "      <th>area_sqkm</th>\n",
       "      <th>mbu_species_richness</th>\n",
       "      <th>endemism</th>\n",
       "      <th>mbu_endemism</th>\n",
       "      <th>wege</th>\n",
       "      <th>mbu_wege</th>\n",
       "      <th>mbu_habitats_survey</th>\n",
       "      <th>Total_MBUs</th>\n",
       "    </tr>\n",
       "  </thead>\n",
       "  <tbody>\n",
       "    <tr>\n",
       "      <th>0</th>\n",
       "      <td>POLYGON ((-88.32201 2.15063, -88.82201 3.01666...</td>\n",
       "      <td>0</td>\n",
       "      <td>0</td>\n",
       "      <td>NaN</td>\n",
       "      <td>31986.471199</td>\n",
       "      <td>NaN</td>\n",
       "      <td>NaN</td>\n",
       "      <td>NaN</td>\n",
       "      <td>NaN</td>\n",
       "      <td>NaN</td>\n",
       "      <td>0</td>\n",
       "      <td>NaN</td>\n",
       "    </tr>\n",
       "    <tr>\n",
       "      <th>1</th>\n",
       "      <td>POLYGON ((-88.32201 3.88268, -88.82201 4.74871...</td>\n",
       "      <td>1</td>\n",
       "      <td>0</td>\n",
       "      <td>7.0</td>\n",
       "      <td>31936.727495</td>\n",
       "      <td>2281.194821</td>\n",
       "      <td>0.0</td>\n",
       "      <td>0.0</td>\n",
       "      <td>0.0</td>\n",
       "      <td>0.0</td>\n",
       "      <td>0</td>\n",
       "      <td>2281.194821</td>\n",
       "    </tr>\n",
       "    <tr>\n",
       "      <th>2</th>\n",
       "      <td>POLYGON ((-88.32201 5.61474, -88.82201 6.48076...</td>\n",
       "      <td>2</td>\n",
       "      <td>0</td>\n",
       "      <td>7.0</td>\n",
       "      <td>31858.465100</td>\n",
       "      <td>2275.604650</td>\n",
       "      <td>0.0</td>\n",
       "      <td>0.0</td>\n",
       "      <td>0.0</td>\n",
       "      <td>0.0</td>\n",
       "      <td>0</td>\n",
       "      <td>2275.604650</td>\n",
       "    </tr>\n",
       "    <tr>\n",
       "      <th>3</th>\n",
       "      <td>POLYGON ((-88.32201 7.34679, -88.82201 8.21281...</td>\n",
       "      <td>3</td>\n",
       "      <td>0</td>\n",
       "      <td>7.0</td>\n",
       "      <td>31751.740608</td>\n",
       "      <td>2267.981472</td>\n",
       "      <td>0.0</td>\n",
       "      <td>0.0</td>\n",
       "      <td>0.0</td>\n",
       "      <td>0.0</td>\n",
       "      <td>0</td>\n",
       "      <td>2267.981472</td>\n",
       "    </tr>\n",
       "    <tr>\n",
       "      <th>4</th>\n",
       "      <td>POLYGON ((-86.82201 1.28461, -87.32201 2.15063...</td>\n",
       "      <td>4</td>\n",
       "      <td>0</td>\n",
       "      <td>NaN</td>\n",
       "      <td>31954.393897</td>\n",
       "      <td>NaN</td>\n",
       "      <td>NaN</td>\n",
       "      <td>NaN</td>\n",
       "      <td>NaN</td>\n",
       "      <td>NaN</td>\n",
       "      <td>0</td>\n",
       "      <td>NaN</td>\n",
       "    </tr>\n",
       "  </tbody>\n",
       "</table>\n",
       "</div>"
      ],
      "text/plain": [
       "                                            geometry  Grid_ID   \n",
       "0  POLYGON ((-88.32201 2.15063, -88.82201 3.01666...        0  \\\n",
       "1  POLYGON ((-88.32201 3.88268, -88.82201 4.74871...        1   \n",
       "2  POLYGON ((-88.32201 5.61474, -88.82201 6.48076...        2   \n",
       "3  POLYGON ((-88.32201 7.34679, -88.82201 8.21281...        3   \n",
       "4  POLYGON ((-86.82201 1.28461, -87.32201 2.15063...        4   \n",
       "\n",
       "   mbu_biodiversity_score  species_richness     area_sqkm   \n",
       "0                       0               NaN  31986.471199  \\\n",
       "1                       0               7.0  31936.727495   \n",
       "2                       0               7.0  31858.465100   \n",
       "3                       0               7.0  31751.740608   \n",
       "4                       0               NaN  31954.393897   \n",
       "\n",
       "   mbu_species_richness  endemism  mbu_endemism  wege  mbu_wege   \n",
       "0                   NaN       NaN           NaN   NaN       NaN  \\\n",
       "1           2281.194821       0.0           0.0   0.0       0.0   \n",
       "2           2275.604650       0.0           0.0   0.0       0.0   \n",
       "3           2267.981472       0.0           0.0   0.0       0.0   \n",
       "4                   NaN       NaN           NaN   NaN       NaN   \n",
       "\n",
       "   mbu_habitats_survey   Total_MBUs  \n",
       "0                    0          NaN  \n",
       "1                    0  2281.194821  \n",
       "2                    0  2275.604650  \n",
       "3                    0  2267.981472  \n",
       "4                    0          NaN  "
      ]
     },
     "execution_count": 19,
     "metadata": {},
     "output_type": "execute_result"
    }
   ],
   "source": [
    "MBUS_score_1.head()"
   ]
  },
  {
   "cell_type": "code",
   "execution_count": 20,
   "id": "63bc4415",
   "metadata": {},
   "outputs": [
    {
     "data": {
      "text/plain": [
       "Text(0.5, 1.0, 'Total amout of MBUs for ACMC\\nSource: IUCN')"
      ]
     },
     "execution_count": 20,
     "metadata": {},
     "output_type": "execute_result"
    },
    {
     "data": {
      "image/png": "[encoded data removed]",
      "text/plain": [
       "<Figure size 600x600 with 2 Axes>"
      ]
     },
     "metadata": {},
     "output_type": "display_data"
    }
   ],
   "source": [
    "MBUS_score_1 = gpd.clip(MBUS_score_1.set_crs(epsg=4326, allow_override=True), ACMC.set_crs(epsg=4326, allow_override=True))\n",
    "ax = MBUS_score_1.plot(column='Total_MBUs', figsize=(6, 6), cmap='viridis', edgecolor=\"grey\", legend = True)\n",
    "\n",
    "gpd.GeoSeries(ACMC.geometry).plot(ax=ax, edgecolor='black', facecolor='none', label='ACMC')\n",
    "plt.title('Total amout of MBUs for ACMC\\nSource: IUCN')"
   ]
  },
  {
   "cell_type": "markdown",
   "id": "18ec814d",
   "metadata": {},
   "source": [
    "**OBIS Data**"
   ]
  },
  {
   "cell_type": "code",
   "execution_count": 12,
   "id": "7842ab39",
   "metadata": {},
   "outputs": [
    {
     "name": "stderr",
     "output_type": "stream",
     "text": [
      "/Users/maureenfonseca/opt/anaconda3/lib/python3.9/site-packages/pandas/core/arraylike.py:396: RuntimeWarning: divide by zero encountered in log\n",
      "  result = getattr(ufunc, method)(*inputs, **kwargs)\n"
     ]
    }
   ],
   "source": [
    "MBUS_score_2 = give_mbu_score(MF, ACMC, df2, 'hexagon', 1, eco_names, 'OBIS', 31970)"
   ]
  },
  {
   "cell_type": "code",
   "execution_count": 13,
   "id": "08a88377",
   "metadata": {},
   "outputs": [
    {
     "data": {
      "text/html": [
       "<div>\n",
       "<style scoped>\n",
       "    .dataframe tbody tr th:only-of-type {\n",
       "        vertical-align: middle;\n",
       "    }\n",
       "\n",
       "    .dataframe tbody tr th {\n",
       "        vertical-align: top;\n",
       "    }\n",
       "\n",
       "    .dataframe thead th {\n",
       "        text-align: right;\n",
       "    }\n",
       "</style>\n",
       "<table border=\"1\" class=\"dataframe\">\n",
       "  <thead>\n",
       "    <tr style=\"text-align: right;\">\n",
       "      <th></th>\n",
       "      <th>geometry</th>\n",
       "      <th>Grid_ID</th>\n",
       "      <th>mbu_biodiversity_score</th>\n",
       "      <th>species_richness</th>\n",
       "      <th>mbu_species_richness</th>\n",
       "      <th>mbu_endemism</th>\n",
       "      <th>mbu_wege</th>\n",
       "      <th>mbu_habitats_survey</th>\n",
       "      <th>Total_MBUs</th>\n",
       "    </tr>\n",
       "  </thead>\n",
       "  <tbody>\n",
       "    <tr>\n",
       "      <th>0</th>\n",
       "      <td>POLYGON ((-88.32201 2.15063, -88.82201 3.01666...</td>\n",
       "      <td>0</td>\n",
       "      <td>NaN</td>\n",
       "      <td>1</td>\n",
       "      <td>11.064155</td>\n",
       "      <td>0</td>\n",
       "      <td>0</td>\n",
       "      <td>0</td>\n",
       "      <td>NaN</td>\n",
       "    </tr>\n",
       "    <tr>\n",
       "      <th>1</th>\n",
       "      <td>POLYGON ((-88.32201 3.88268, -88.82201 4.74871...</td>\n",
       "      <td>1</td>\n",
       "      <td>12017.475862</td>\n",
       "      <td>18</td>\n",
       "      <td>198.845069</td>\n",
       "      <td>0</td>\n",
       "      <td>0</td>\n",
       "      <td>0</td>\n",
       "      <td>12216.320931</td>\n",
       "    </tr>\n",
       "    <tr>\n",
       "      <th>2</th>\n",
       "      <td>POLYGON ((-88.32201 5.61474, -88.82201 6.48076...</td>\n",
       "      <td>2</td>\n",
       "      <td>12772.136942</td>\n",
       "      <td>43</td>\n",
       "      <td>473.854721</td>\n",
       "      <td>0</td>\n",
       "      <td>0</td>\n",
       "      <td>0</td>\n",
       "      <td>13245.991663</td>\n",
       "    </tr>\n",
       "    <tr>\n",
       "      <th>3</th>\n",
       "      <td>POLYGON ((-88.32201 7.34679, -88.82201 8.21281...</td>\n",
       "      <td>3</td>\n",
       "      <td>NaN</td>\n",
       "      <td>1</td>\n",
       "      <td>10.982961</td>\n",
       "      <td>0</td>\n",
       "      <td>0</td>\n",
       "      <td>0</td>\n",
       "      <td>NaN</td>\n",
       "    </tr>\n",
       "    <tr>\n",
       "      <th>4</th>\n",
       "      <td>POLYGON ((-86.82201 1.28461, -87.32201 2.15063...</td>\n",
       "      <td>4</td>\n",
       "      <td>NaN</td>\n",
       "      <td>1</td>\n",
       "      <td>11.053059</td>\n",
       "      <td>0</td>\n",
       "      <td>0</td>\n",
       "      <td>0</td>\n",
       "      <td>NaN</td>\n",
       "    </tr>\n",
       "  </tbody>\n",
       "</table>\n",
       "</div>"
      ],
      "text/plain": [
       "                                            geometry  Grid_ID   \n",
       "0  POLYGON ((-88.32201 2.15063, -88.82201 3.01666...        0  \\\n",
       "1  POLYGON ((-88.32201 3.88268, -88.82201 4.74871...        1   \n",
       "2  POLYGON ((-88.32201 5.61474, -88.82201 6.48076...        2   \n",
       "3  POLYGON ((-88.32201 7.34679, -88.82201 8.21281...        3   \n",
       "4  POLYGON ((-86.82201 1.28461, -87.32201 2.15063...        4   \n",
       "\n",
       "   mbu_biodiversity_score  species_richness  mbu_species_richness   \n",
       "0                     NaN                 1             11.064155  \\\n",
       "1            12017.475862                18            198.845069   \n",
       "2            12772.136942                43            473.854721   \n",
       "3                     NaN                 1             10.982961   \n",
       "4                     NaN                 1             11.053059   \n",
       "\n",
       "   mbu_endemism  mbu_wege  mbu_habitats_survey    Total_MBUs  \n",
       "0             0         0                    0           NaN  \n",
       "1             0         0                    0  12216.320931  \n",
       "2             0         0                    0  13245.991663  \n",
       "3             0         0                    0           NaN  \n",
       "4             0         0                    0           NaN  "
      ]
     },
     "execution_count": 13,
     "metadata": {},
     "output_type": "execute_result"
    }
   ],
   "source": [
    "MBUS_score_2.head()"
   ]
  },
  {
   "cell_type": "code",
   "execution_count": 14,
   "id": "8347c8c3",
   "metadata": {},
   "outputs": [
    {
     "data": {
      "text/plain": [
       "Text(0.5, 1.0, 'Total amout of MBUs for ACMC\\nSource: OBIS')"
      ]
     },
     "execution_count": 14,
     "metadata": {},
     "output_type": "execute_result"
    },
    {
     "data": {
      "image/png": "[encoded data removed]",
      "text/plain": [
       "<Figure size 600x600 with 2 Axes>"
      ]
     },
     "metadata": {},
     "output_type": "display_data"
    }
   ],
   "source": [
    "MBUS_score_2 = gpd.clip(MBUS_score_2.set_crs(epsg=4326, allow_override=True), ACMC.set_crs(epsg=4326, allow_override=True))\n",
    "ax = MBUS_score_2.plot(column='Total_MBUs', figsize=(6, 6), cmap='viridis', edgecolor=\"grey\", legend = True)\n",
    "\n",
    "gpd.GeoSeries(ACMC.geometry).plot(ax=ax, edgecolor='black', facecolor='none', label='ACMC')\n",
    "plt.title('Total amout of MBUs for ACMC\\nSource: OBIS')"
   ]
  },
  {
   "cell_type": "code",
   "execution_count": null,
   "id": "2ed95539",
   "metadata": {},
   "outputs": [],
   "source": []
  },
  {
   "cell_type": "code",
   "execution_count": null,
   "id": "b2a8f5c1",
   "metadata": {},
   "outputs": [],
   "source": []
  },
  {
   "cell_type": "code",
   "execution_count": null,
   "id": "21d6141c",
   "metadata": {},
   "outputs": [],
   "source": []
  }
 ],
 "metadata": {
  "kernelspec": {
   "display_name": "Python 3 (ipykernel)",
   "language": "python",
   "name": "python3"
  },
  "language_info": {
   "codemirror_mode": {
    "name": "ipython",
    "version": 3
   },
   "file_extension": ".py",
   "mimetype": "text/x-python",
   "name": "python",
   "nbconvert_exporter": "python",
   "pygments_lexer": "ipython3",
   "version": "3.9.13"
  }
 },
 "nbformat": 4,
 "nbformat_minor": 5
}
