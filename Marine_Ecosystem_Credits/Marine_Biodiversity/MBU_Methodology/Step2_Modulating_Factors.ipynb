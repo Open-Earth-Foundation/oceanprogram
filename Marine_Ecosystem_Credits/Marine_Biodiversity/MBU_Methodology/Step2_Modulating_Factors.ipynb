{
 "cells": [
  {
   "cell_type": "markdown",
   "id": "18465ae2",
   "metadata": {},
   "source": [
    "# Open Earth Foundation\n",
    "## Open Ocean"
   ]
  },
  {
   "cell_type": "markdown",
   "id": "e859c756",
   "metadata": {},
   "source": [
    "This is the third notebook of a series of 5 notebooks that explains step by step how to calculate each modulating factor and assign credtis for the [Marine Biodiversity Credits methodology](https://zenodo.org/records/10182712) applied to the Cocos Marine Conservation Area of Costa Rica"
   ]
  },
  {
   "cell_type": "markdown",
   "id": "9e74e8d3",
   "metadata": {},
   "source": [
    "## Libraries"
   ]
  },
  {
   "cell_type": "code",
   "execution_count": null,
   "id": "9a92c316",
   "metadata": {},
   "outputs": [],
   "source": [
    "import os\n",
    "import glob\n",
    "import boto3\n",
    "\n",
    "import math\n",
    "import numpy as np\n",
    "import pandas as pd\n",
    "from pyobis import occurrences\n",
    "\n",
    "import matplotlib.pyplot as plt\n",
    "\n",
    "import shapely\n",
    "import geopandas as gpd\n",
    "from shapely.geometry import Polygon, Point, box\n",
    "from shapely.ops import linemerge, unary_union, polygonize"
   ]
  },
  {
   "cell_type": "code",
   "execution_count": null,
   "id": "6cbf87a3",
   "metadata": {},
   "outputs": [],
   "source": [
    "import fiona; #help(fiona.open)"
   ]
  },
  {
   "cell_type": "code",
   "execution_count": null,
   "id": "e7e7020c",
   "metadata": {},
   "outputs": [],
   "source": [
    "%load_ext autoreload"
   ]
  },
  {
   "cell_type": "code",
   "execution_count": null,
   "id": "81da56bf",
   "metadata": {},
   "outputs": [],
   "source": [
    "#Run this to reload the python file\n",
    "%autoreload 2\n",
    "from MBU_utils import *"
   ]
  },
  {
   "cell_type": "markdown",
   "id": "85d2320c",
   "metadata": {},
   "source": [
    "## Data"
   ]
  },
  {
   "cell_type": "markdown",
   "id": "7cd44bfc",
   "metadata": {},
   "source": [
    "Two data sources are used for these calculations, data from OBIS (observation points) and those from the IUCN red list (distribution polygons).\n",
    "\n",
    "- Indices such as Shannon and Simpson can be calculated only with OBIS data\n",
    "- Metrics like WEGE and Endemism can be calculated only with IUCN data\n",
    "- Habitats accounting is calculating with IUCN Global Ecosystem Typology"
   ]
  },
  {
   "cell_type": "markdown",
   "id": "0dcb33c1",
   "metadata": {},
   "source": [
    "**Accessing OBIS data**\n",
    "\n",
    "OBIS data contains species information and points of observation"
   ]
  },
  {
   "cell_type": "code",
   "execution_count": null,
   "id": "9132d176",
   "metadata": {},
   "outputs": [],
   "source": [
    "# MPA file\n",
    "ACMC = gpd.read_file('https://ocean-program.s3.amazonaws.com/data/raw/MPAs/ACMC.geojson')"
   ]
  },
  {
   "cell_type": "code",
   "execution_count": null,
   "id": "ec072d23",
   "metadata": {},
   "outputs": [],
   "source": [
    "# create a polygon to access the OBIS data\n",
    "min_x, min_y, max_x, max_y = ACMC.total_bounds\n",
    "geometry = f\"POLYGON(({max_x} {min_y}, {min_x} {min_y}, {min_x} {max_y}, {max_x} {max_y}, {max_x} {min_y}))\"\n",
    "\n",
    "query = occurrences.search(geometry=geometry)\n",
    "query.execute()\n",
    "\n",
    "# returns the data\n",
    "df2 = query.data "
   ]
  },
  {
   "cell_type": "code",
   "execution_count": null,
   "id": "b1a4229c",
   "metadata": {},
   "outputs": [],
   "source": [
    "# convert OBIS dataframe to geodataframe\n",
    "# making point with the lat and lon information\n",
    "df2 = gpd.GeoDataFrame(df2, geometry=gpd.points_from_xy(df2.decimalLongitude, df2.decimalLatitude))"
   ]
  },
  {
   "cell_type": "markdown",
   "id": "6f24057f",
   "metadata": {},
   "source": [
    "**Accesing IUCN RedList data**"
   ]
  },
  {
   "cell_type": "code",
   "execution_count": null,
   "id": "85b23d3f",
   "metadata": {},
   "outputs": [],
   "source": [
    "df1 = gpd.read_file('s3://ocean-program/data/processed/ACMC_IUCN_RedList/gdf_ACMC_IUCN_range_status_filtered.shp')"
   ]
  },
  {
   "cell_type": "markdown",
   "id": "fb67e03c",
   "metadata": {},
   "source": [
    "**Accesing IUCN Global Ecosystem Typology**\n",
    "\n",
    "For this step, it's needed only the ubication path of these files"
   ]
  },
  {
   "cell_type": "code",
   "execution_count": null,
   "id": "754002d1",
   "metadata": {},
   "outputs": [],
   "source": [
    "# from AWS\n",
    "s3 = boto3.resource('s3')\n",
    "bucket = s3.Bucket('ocean-program')\n",
    "\n",
    "eco_names = []\n",
    "\n",
    "# list of all ecosystem layes\n",
    "for obj in bucket.objects.filter(Prefix='data/raw/Ecosystems/'):\n",
    "    name = obj.key[:]\n",
    "    eco_names.append(f'https://ocean-program.s3.amazonaws.com/{name}')"
   ]
  },
  {
   "cell_type": "markdown",
   "id": "45fca36d",
   "metadata": {},
   "source": [
    "Grid geodataframe"
   ]
  },
  {
   "cell_type": "code",
   "execution_count": null,
   "id": "6cbe6e56",
   "metadata": {},
   "outputs": [],
   "source": [
    "# making a grid geoDataFrame\n",
    "grid = create_grid(ACMC, grid_shape=\"hexagon\", grid_size_deg=0.05)"
   ]
  },
  {
   "cell_type": "markdown",
   "id": "f63978d9",
   "metadata": {},
   "source": [
    "# Modulating Factors"
   ]
  },
  {
   "cell_type": "markdown",
   "id": "e6fc75fe",
   "metadata": {},
   "source": [
    "**Shannon Index**"
   ]
  },
  {
   "cell_type": "code",
   "execution_count": null,
   "id": "d029d04e",
   "metadata": {},
   "outputs": [],
   "source": [
    "MF1 = shannon(ACMC, df2, grid)"
   ]
  },
  {
   "cell_type": "code",
   "execution_count": null,
   "id": "2ccbc688",
   "metadata": {},
   "outputs": [],
   "source": [
    "MF1.head()"
   ]
  },
  {
   "cell_type": "code",
   "execution_count": null,
   "id": "26e6aa16",
   "metadata": {},
   "outputs": [],
   "source": [
    "MF1 = gpd.clip(MF1.set_crs(epsg=4326, allow_override=True), ACMC.set_crs(epsg=4326, allow_override=True))"
   ]
  },
  {
   "cell_type": "code",
   "execution_count": null,
   "id": "4ba66e53",
   "metadata": {},
   "outputs": [],
   "source": [
    "ax = MF1.plot(column='shannon', figsize=(12, 10), cmap='viridis', edgecolor=\"grey\", legend = True)\n",
    "ax.yaxis.set_ticks([])\n",
    "ax.xaxis.set_ticks([])\n",
    "\n",
    "gpd.GeoSeries(ACMC.geometry).plot(ax=ax, edgecolor='black', facecolor='none')\n",
    "plt.title('Modulating Factor: Shannon Index')"
   ]
  },
  {
   "cell_type": "markdown",
   "id": "4d0bded1",
   "metadata": {},
   "source": [
    "**Simpsion Index**"
   ]
  },
  {
   "cell_type": "code",
   "execution_count": null,
   "id": "89bd5f1b",
   "metadata": {},
   "outputs": [],
   "source": [
    "MF2 = simpson(ACMC, df2, grid)"
   ]
  },
  {
   "cell_type": "code",
   "execution_count": null,
   "id": "b1c54b10",
   "metadata": {},
   "outputs": [],
   "source": [
    "MF2.head()"
   ]
  },
  {
   "cell_type": "code",
   "execution_count": null,
   "id": "b81d1a1e",
   "metadata": {},
   "outputs": [],
   "source": [
    "MF2 = gpd.clip(MF2.set_crs(epsg=4326, allow_override=True), ACMC.set_crs(epsg=4326, allow_override=True))"
   ]
  },
  {
   "cell_type": "code",
   "execution_count": null,
   "id": "88e3a4a0",
   "metadata": {},
   "outputs": [],
   "source": [
    "ax = MF2.plot(column='simpson', figsize=(12, 10), cmap='viridis', edgecolor=\"grey\", legend = True)\n",
    "ax.yaxis.set_ticks([])\n",
    "ax.xaxis.set_ticks([])\n",
    "\n",
    "gpd.GeoSeries(ACMC.geometry).plot(ax=ax, edgecolor='black', facecolor='none')\n",
    "plt.title('Modulating Factor: Simpson Index')"
   ]
  },
  {
   "cell_type": "markdown",
   "id": "ff021dce",
   "metadata": {},
   "source": [
    "**Species Richness**"
   ]
  },
  {
   "cell_type": "code",
   "execution_count": null,
   "id": "60fc1d92",
   "metadata": {},
   "outputs": [],
   "source": [
    "MF3 = species_richness(ACMC, df2, grid)"
   ]
  },
  {
   "cell_type": "code",
   "execution_count": null,
   "id": "8bee032c",
   "metadata": {},
   "outputs": [],
   "source": [
    "MF3.head()"
   ]
  },
  {
   "cell_type": "code",
   "execution_count": null,
   "id": "8b605448",
   "metadata": {},
   "outputs": [],
   "source": [
    "MF3 = gpd.clip(MF3.set_crs(epsg=4326, allow_override=True), ACMC.set_crs(epsg=4326, allow_override=True))"
   ]
  },
  {
   "cell_type": "code",
   "execution_count": null,
   "id": "93e1499c",
   "metadata": {},
   "outputs": [],
   "source": [
    "ax = MF3.plot(column='species_richness', figsize=(12, 10), cmap='viridis', edgecolor=\"grey\", legend = True)\n",
    "ax.yaxis.set_ticks([])\n",
    "ax.xaxis.set_ticks([])\n",
    "\n",
    "gpd.GeoSeries(ACMC.geometry).plot(ax=ax, edgecolor='black', facecolor='none')\n",
    "plt.title('Modulating Factor: Species Richness')"
   ]
  },
  {
   "cell_type": "markdown",
   "id": "7558f8c1",
   "metadata": {},
   "source": [
    "**Endemism**"
   ]
  },
  {
   "cell_type": "code",
   "execution_count": null,
   "id": "31ce9463",
   "metadata": {},
   "outputs": [],
   "source": [
    "MF4 = endemism(ACMC, df1, grid)"
   ]
  },
  {
   "cell_type": "code",
   "execution_count": null,
   "id": "606afc8b",
   "metadata": {},
   "outputs": [],
   "source": [
    "MF4.head()"
   ]
  },
  {
   "cell_type": "code",
   "execution_count": null,
   "id": "306b0fef",
   "metadata": {},
   "outputs": [],
   "source": [
    "MF4 = gpd.clip(MF4.set_crs(epsg=4326, allow_override=True), ACMC.set_crs(epsg=4326, allow_override=True))"
   ]
  },
  {
   "cell_type": "code",
   "execution_count": null,
   "id": "34a9edf9",
   "metadata": {},
   "outputs": [],
   "source": [
    "ax = MF4.plot(column='result', figsize=(12, 10), cmap='viridis', edgecolor=\"grey\", legend = True)\n",
    "ax.yaxis.set_ticks([])\n",
    "ax.xaxis.set_ticks([])\n",
    "\n",
    "gpd.GeoSeries(ACMC.geometry).plot(ax=ax, edgecolor='black', facecolor='none')\n",
    "plt.title('Modulating Factor: Endemism')"
   ]
  },
  {
   "cell_type": "markdown",
   "id": "f0becc2a",
   "metadata": {},
   "source": [
    "**WEGE**"
   ]
  },
  {
   "cell_type": "code",
   "execution_count": null,
   "id": "4b0c903e",
   "metadata": {},
   "outputs": [],
   "source": [
    "MF5 = wege(ACMC, df1, grid)"
   ]
  },
  {
   "cell_type": "code",
   "execution_count": null,
   "id": "3dbbdf83",
   "metadata": {},
   "outputs": [],
   "source": [
    "MF5.head()"
   ]
  },
  {
   "cell_type": "code",
   "execution_count": null,
   "id": "c3307567",
   "metadata": {},
   "outputs": [],
   "source": [
    "MF5 = gpd.clip(MF5.set_crs(epsg=4326, allow_override=True), ACMC.set_crs(epsg=4326, allow_override=True))"
   ]
  },
  {
   "cell_type": "code",
   "execution_count": null,
   "id": "ee114f58",
   "metadata": {},
   "outputs": [],
   "source": [
    "ax = MF5.plot(column='result', figsize=(12, 10), cmap='viridis', edgecolor=\"grey\", legend = True)\n",
    "ax.yaxis.set_ticks([])\n",
    "ax.xaxis.set_ticks([])\n",
    "\n",
    "gpd.GeoSeries(ACMC.geometry).plot(ax=ax, edgecolor='black', facecolor='none')\n",
    "plt.title('Modulating Factor: Wege')"
   ]
  },
  {
   "cell_type": "markdown",
   "id": "18ec814d",
   "metadata": {},
   "source": [
    "**Habitats Accounting**"
   ]
  },
  {
   "cell_type": "code",
   "execution_count": null,
   "id": "7842ab39",
   "metadata": {},
   "outputs": [],
   "source": [
    "MF6 = habitat_accounting(ACMC, grid, eco_names)"
   ]
  },
  {
   "cell_type": "code",
   "execution_count": null,
   "id": "08a88377",
   "metadata": {},
   "outputs": [],
   "source": [
    "MF6.head()"
   ]
  },
  {
   "cell_type": "code",
   "execution_count": null,
   "id": "556078f0",
   "metadata": {},
   "outputs": [],
   "source": [
    "MF6 = gpd.clip(MF6.set_crs(epsg=4326, allow_override=True), ACMC.set_crs(epsg=4326, allow_override=True))"
   ]
  },
  {
   "cell_type": "code",
   "execution_count": null,
   "id": "8347c8c3",
   "metadata": {},
   "outputs": [],
   "source": [
    "ax = MF6.plot(column='count', figsize=(12, 10), cmap='viridis', edgecolor=\"grey\", legend = True)\n",
    "ax.yaxis.set_ticks([])\n",
    "ax.xaxis.set_ticks([])\n",
    "\n",
    "gpd.GeoSeries(ACMC.geometry).plot(ax=ax, edgecolor='black', facecolor='none')\n",
    "plt.title('Modulating Factor: Habitats Survey')"
   ]
  }
 ],
 "metadata": {
  "kernelspec": {
   "display_name": "Python 3 (ipykernel)",
   "language": "python",
   "name": "python3"
  },
  "language_info": {
   "codemirror_mode": {
    "name": "ipython",
    "version": 3
   },
   "file_extension": ".py",
   "mimetype": "text/x-python",
   "name": "python",
   "nbconvert_exporter": "python",
   "pygments_lexer": "ipython3",
   "version": "3.9.12"
  }
 },
 "nbformat": 4,
 "nbformat_minor": 5
}
