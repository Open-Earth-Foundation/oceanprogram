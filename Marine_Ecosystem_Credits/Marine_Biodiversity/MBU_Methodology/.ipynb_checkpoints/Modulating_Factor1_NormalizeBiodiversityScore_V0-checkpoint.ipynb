{
 "cells": [
  {
   "cell_type": "markdown",
   "metadata": {},
   "source": [
    "# Open Ocean\n",
    "# Open Earth Fundation"
   ]
  },
  {
   "cell_type": "markdown",
   "metadata": {},
   "source": [
    "<h1> Step 2: calculate different metrics for each modulating factor </h1>\n",
    "\n",
    "This notebook is the second part of the `Step1_Curate_IUCN_RedList.ipynb`\n",
    "\n",
    "<h2> Modulating Factor 1: Normalize Biodiversity Score </h2>\n",
    "\n",
    "Species diversity refers to the variety of different species present in a given area, as well as their abundance and distribution. This includes the number of species, their relative abundances, and how evenly or unevenly distributed they are.\n",
    "Our proposal is: apply the Simpson and Shannon Index to obtain a local value of the MPA and normalize each sqd km value"
   ]
  },
  {
   "cell_type": "markdown",
   "metadata": {},
   "source": [
    "### Data needed for this project\n",
    "\n",
    "- Species names\n",
    "- Species abundance\n",
    "- Species distribution\n",
    "\n",
    "Next Steps:\n",
    "\n",
    "1. Find a database or datasets with abundance and distribution information for the entire ACMC\n",
    "2. If it isn't reallistic, try to simulate that data\n",
    "\n",
    "Options:\n",
    "1. IUCN RED List and simulate abundance information\n",
    "2. GBIF species information and simulate abundance and distribution information"
   ]
  },
  {
   "cell_type": "markdown",
   "metadata": {},
   "source": [
    "### 1. Importing libraries."
   ]
  },
  {
   "cell_type": "code",
   "execution_count": 1,
   "metadata": {},
   "outputs": [],
   "source": [
    "# load basic libraries\n",
    "import os\n",
    "import glob\n",
    "import boto3\n",
    "\n",
    "import math\n",
    "import numpy as np\n",
    "import pandas as pd\n",
    "\n",
    "# to plot\n",
    "import matplotlib.pyplot as plt\n",
    "\n",
    "# to manage shapefiles\n",
    "import shapely\n",
    "import geopandas as gpd\n",
    "from shapely.geometry import Polygon, Point, box\n",
    "from shapely.ops import linemerge, unary_union, polygonize"
   ]
  },
  {
   "cell_type": "code",
   "execution_count": 2,
   "metadata": {},
   "outputs": [],
   "source": [
    "import fiona; #help(fiona.open)"
   ]
  },
  {
   "cell_type": "markdown",
   "metadata": {},
   "source": [
    "**Import OEF functions**"
   ]
  },
  {
   "cell_type": "code",
   "execution_count": 3,
   "metadata": {},
   "outputs": [],
   "source": [
    "%load_ext autoreload"
   ]
  },
  {
   "cell_type": "code",
   "execution_count": 4,
   "metadata": {},
   "outputs": [],
   "source": [
    "#Run this to reload the python file\n",
    "%autoreload 2\n",
    "from MBU_utils import *"
   ]
  },
  {
   "cell_type": "markdown",
   "metadata": {},
   "source": [
    "### 2. Load data"
   ]
  },
  {
   "cell_type": "code",
   "execution_count": 5,
   "metadata": {},
   "outputs": [],
   "source": [
    "ACMC = gpd.read_file('https://ocean-program.s3.amazonaws.com/data/raw/MPAs/ACMC.geojson')"
   ]
  },
  {
   "cell_type": "code",
   "execution_count": null,
   "metadata": {},
   "outputs": [],
   "source": [
    "%%time\n",
    "df = gpd.read_file('/Users/maureenfonseca/Desktop/Data-Oceans/ACMC_IUCN_data/gdf_ACMC_IUCN_range_status_filtered.shp')"
   ]
  },
  {
   "cell_type": "code",
   "execution_count": null,
   "metadata": {},
   "outputs": [],
   "source": [
    "grid = create_grid(ACMC, grid_shape=\"hexagon\", grid_size_deg=1.)"
   ]
  },
  {
   "cell_type": "markdown",
   "metadata": {},
   "source": [
    "### 3. Preliminary calculations\n"
   ]
  },
  {
   "cell_type": "markdown",
   "metadata": {},
   "source": [
    "**Shannon Index**"
   ]
  },
  {
   "cell_type": "markdown",
   "metadata": {},
   "source": [
    "$\\text{H} = -\\sum[{p_i}\\times\\ln(p_i)]$\n",
    "\n",
    "\n",
    "where, pi is the proportion of the entire community made up of species i\n",
    "\n",
    "$p_i = {n/N}$"
   ]
  },
  {
   "cell_type": "markdown",
   "metadata": {},
   "source": [
    "**Simpson Index**\n",
    "\n",
    "$\\text{D} = 1-(\\frac{\\sum{n(n-1)}}{N(N-1)})$\n",
    "\n",
    "n = the total number of organisms of a particular species\n",
    "\n",
    "N = the total number of organisms of all species\n",
    "\n",
    "The value of ***D*** ranges between 0 and 1. With this index, 1 represents infinite diversity and 0, no diversity."
   ]
  },
  {
   "cell_type": "code",
   "execution_count": null,
   "metadata": {},
   "outputs": [],
   "source": [
    "def shannon(gdf_abundance_col):\n",
    "    \"\"\"\n",
    "    Calculates the value of H using the given values of abundance.\n",
    "    \n",
    "    Parameters:\n",
    "        - gdf_abundance_col (list): A list of species of the entire community made up of each species\n",
    "        \n",
    "    Returns:\n",
    "        - H (float): The calculated value of H\n",
    "    \"\"\"\n",
    "    \n",
    "    abundance = np.array(gdf_abundance_col)\n",
    "    N = np.sum(abundance)\n",
    "    \n",
    "    p = (abundance/N)\n",
    "    \n",
    "    H = 0\n",
    "    for pi in p:\n",
    "        if pi > 0:\n",
    "            H += pi * math.log(pi)\n",
    "    H = -H\n",
    "    return H"
   ]
  },
  {
   "cell_type": "code",
   "execution_count": null,
   "metadata": {},
   "outputs": [],
   "source": [
    "def simpson(gdf_abundance_col):\n",
    "    \"\"\"\n",
    "    Calculates the value of D using the given values of abundance.\n",
    "    \n",
    "    Parameters:\n",
    "        - n (int): The sum of n(n-1)\n",
    "        - N (int): The total number of elements\n",
    "        \n",
    "    Returns:\n",
    "        - D (float): The calculated value of D\n",
    "    \"\"\"\n",
    "    \n",
    "    abundance = np.array(gdf_abundance_col)\n",
    "    N = np.sum(abundance)\n",
    "    \n",
    "    numerator = sum([n*(n-1) for n in abundance])\n",
    "    denominator = N * (N - 1)\n",
    "    \n",
    "    D = 1 - (numerator / denominator)\n",
    "    \n",
    "    return D"
   ]
  },
  {
   "cell_type": "code",
   "execution_count": null,
   "metadata": {},
   "outputs": [],
   "source": [
    "fake_abundance = np.random.randint(50, size = (len(df2)))"
   ]
  },
  {
   "cell_type": "code",
   "execution_count": null,
   "metadata": {},
   "outputs": [],
   "source": [
    "df2['abundance'] = fake_abundance"
   ]
  },
  {
   "cell_type": "code",
   "execution_count": null,
   "metadata": {},
   "outputs": [],
   "source": [
    "def mbu_shannon(roi, gdf, grid_gdf, gdf_col_name):\n",
    "\n",
    "    #Join in a gdf all the geometries within ROI\n",
    "    gdf = gpd.clip(gdf.set_crs(epsg=4326, allow_override=True), roi)\n",
    "\n",
    "    #This function calculates the sum of all abundances of overlapping species\n",
    "    overlap = sum_values(gdf, str(gdf_col_name))\n",
    "\n",
    "    #Merged the overlap values of overlapping geometries with the grid gdf\n",
    "    merged = gpd.sjoin(overlap, grid_gdf, how='left')\n",
    "    merged['n_value'] = overlap['sum_overlaps']\n",
    "\n",
    "    pi = merged['n_value']/np.sum(merged['n_value'])\n",
    "    pi = pi.fillna(0)\n",
    "    merged['pilogpi'] = pi*np.log(pi)\n",
    "\n",
    "    #Dissolve the DataFrame by 'index_right' and aggregate using the calculated Shannon entropy\n",
    "    dissolve = merged.dissolve(by=\"index_right\", aggfunc={'pilogpi': 'sum'})\n",
    "    dissolve['pilogpi'] = (-1)*dissolve['pilogpi']\n",
    "\n",
    "    #Put this into cell\n",
    "    grid_gdf.loc[dissolve.index, 'Shannon'] = dissolve.pilogpi.values\n",
    "\n",
    "    #Normalization factor\n",
    "    Norm_factor = grid_gdf['Shannon']/grid_gdf['Shannon'].max()\n",
    "\n",
    "    #Convert area from degrees to square kilometers\n",
    "    #this case apply only for Central America\n",
    "    #https://epsg.io/31970\n",
    "    grid_gdf['area_sqkm'] = (grid_gdf.to_crs(crs=31970).area)*10**(-6)\n",
    "\n",
    "    #Calculate the MBUS from the endemic MF without a normalization factor\n",
    "    grid_gdf['mbu_shannon'] = grid_gdf['Shannon']*grid_gdf['area_sqkm']\n",
    "\n",
    "    #Calculate the MBUS from the endemic MF with a normalization factor\n",
    "    grid_gdf['mbu_shannon_n'] = Norm_factor*grid_gdf['area_sqkm']\n",
    "    \n",
    "    return grid_gdf"
   ]
  },
  {
   "cell_type": "code",
   "execution_count": null,
   "metadata": {},
   "outputs": [],
   "source": [
    "mbu_shannon(ACMC, df2, grid, 'abundance')"
   ]
  }
 ],
 "metadata": {
  "kernelspec": {
   "display_name": "Python 3 (ipykernel)",
   "language": "python",
   "name": "python3"
  },
  "language_info": {
   "codemirror_mode": {
    "name": "ipython",
    "version": 3
   },
   "file_extension": ".py",
   "mimetype": "text/x-python",
   "name": "python",
   "nbconvert_exporter": "python",
   "pygments_lexer": "ipython3",
   "version": "3.9.13"
  }
 },
 "nbformat": 4,
 "nbformat_minor": 4
}
