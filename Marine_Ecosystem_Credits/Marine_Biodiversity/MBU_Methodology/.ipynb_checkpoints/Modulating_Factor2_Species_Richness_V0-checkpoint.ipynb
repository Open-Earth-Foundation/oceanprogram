{
 "cells": [
  {
   "cell_type": "markdown",
   "metadata": {},
   "source": [
    "# Open Ocean\n",
    "# Open Earth Fundation"
   ]
  },
  {
   "cell_type": "markdown",
   "metadata": {},
   "source": [
    "<h1> Step 2: calculate different metrics for each modulating factor </h1>\n",
    "\n",
    "This notebook is the second part of the `Step1_Curate_IUCN_RedList.ipynb`\n",
    "\n",
    "<h2> Modulating Factor 2: Species Richness </h2>\n",
    "\n",
    "Idea: Use the total number of species within the area of interest to get the base unit for a base credit."
   ]
  },
  {
   "cell_type": "markdown",
   "metadata": {},
   "source": [
    "### Data needed for this project\n",
    "\n",
    "At this moment we have not identified a database on marine biodiversity for the analysis of this modulating factor, however we make several assumptions based on literature and some national inventories of species."
   ]
  },
  {
   "cell_type": "markdown",
   "metadata": {},
   "source": [
    "### 1. Importing libraries."
   ]
  },
  {
   "cell_type": "code",
   "execution_count": 1,
   "metadata": {},
   "outputs": [],
   "source": [
    "import os\n",
    "import boto3\n",
    "\n",
    "import numpy as np\n",
    "import pandas as pd\n",
    "import geopandas as gpd\n",
    "\n",
    "import matplotlib.pyplot as plt\n",
    "from shapely.geometry import Polygon, Point"
   ]
  },
  {
   "cell_type": "code",
   "execution_count": 2,
   "metadata": {},
   "outputs": [],
   "source": [
    "import fiona; #help(fiona.open)"
   ]
  },
  {
   "cell_type": "markdown",
   "metadata": {},
   "source": [
    "OEF Functions"
   ]
  },
  {
   "cell_type": "code",
   "execution_count": 3,
   "metadata": {},
   "outputs": [],
   "source": [
    "from marinebiodiversity_utils import *"
   ]
  },
  {
   "cell_type": "markdown",
   "metadata": {},
   "source": [
    "### 2. Load data\n",
    " (....)"
   ]
  },
  {
   "cell_type": "markdown",
   "metadata": {},
   "source": [
    "### 3. Preliminary calculations"
   ]
  },
  {
   "cell_type": "markdown",
   "metadata": {},
   "source": [
    "Info from SINAC, link to [Google Drive](https://drive.google.com/file/d/1Bztf55bKgZi7X9nJPbWGdOUtW7Zv0-3_/view?usp=sharing) document\n",
    "```\n",
    "The CINP is home to 1688 species of marine fauna, of which\n",
    "45 are endemic. This represents 47,4 % of the endemism in\n",
    "Costa Rica. In other words, the CINP contributes half of the\n",
    "country’s unique biological richness.\n",
    "```\n",
    "SINAC (Sistema Nacional de Áreas de Conservación). 2018. Importancia de los ecosistemas y las poblaciones del sitio de interés: Parque Nacional Isla del Coco (PNIC), Área Marina de Manejo Montes Submarinos (AMM MS) y aguas adyacentes. Área de Conservación Marina Cocos. San José, Costa Rica. 68 p."
   ]
  },
  {
   "cell_type": "markdown",
   "metadata": {},
   "source": [
    "Note: this was the old park\n",
    "```\n",
    "The CINP, created in 1978, is located 342 miles (500 km) southeast of Costa Rica’s Pacific coast and covers an area of 785 sq miles (2034 km2). The island comprises an area of about 9 sq miles (23 km2) and the marine area covers the remaining 776 sq miles (2011 km2). The SMMA was created in 2011 and was the first protected wildlife area in this category in Costa Rica. It encompasses 3725 sq miles (9649 km2) of the Pacific Ocean waters around the CINP (Figure 1).\n",
    "```"
   ]
  },
  {
   "cell_type": "markdown",
   "metadata": {},
   "source": [
    "Note: World Register of Marine Species (WoRMS)  contains 243,000 species in its inventory.\n",
    "\n",
    "https://en.wikipedia.org/wiki/Marine_life#/media/File:Marine_animal_biodiversity.png shows 201,004.\n",
    "\n",
    "https://en.wikipedia.org/wiki/Species_richness shows species richness in terms of km? or per sq km?\n",
    "\n",
    "https://www.researchgate.net/figure/Global-marine-species-richness-for-all-taxa-Source-Titterson-et-al-2010_fig2_305636318\n",
    "this is at a coarse resolution, but we can use this to normalize marine richness?\n",
    "\n",
    "According to: https://www.researchgate.net/publication/45406822_Global_patterns_and_predictors_of_marine_biodiversity_across_taxa\n",
    "we have: \n",
    "11,567 total - 60 seagrasses - 32 mangroves - 39 foraminifera"
   ]
  },
  {
   "cell_type": "markdown",
   "metadata": {},
   "source": [
    "**Marine biodiversity Assumption 1**\n",
    "\n",
    "Assuming a total number of species of marine fauna of $N_\\text{total}$ (here `N_species_fauna_total`)"
   ]
  },
  {
   "cell_type": "code",
   "execution_count": 3,
   "metadata": {},
   "outputs": [
    {
     "name": "stdout",
     "output_type": "stream",
     "text": [
      "11436\n"
     ]
    }
   ],
   "source": [
    "N_species_fauna_total = 11567 - 60 - 32 - 39\n",
    "print(N_species_fauna_total)"
   ]
  },
  {
   "cell_type": "markdown",
   "metadata": {},
   "source": [
    "**Marine biodiversity Assumption 2**\n",
    "\n",
    "Assuming a number of species of marine fauna within the area of interest of $N_\\text{local}$ (here `N_species_fauna`). This is extrapolating the number of species given by SINAC to the entire ACMC area."
   ]
  },
  {
   "cell_type": "code",
   "execution_count": 4,
   "metadata": {},
   "outputs": [],
   "source": [
    "N_species_fauna = 1688"
   ]
  },
  {
   "cell_type": "markdown",
   "metadata": {},
   "source": [
    "**Marine biodiversity Assumption 3**\n",
    "\n",
    "The marine fauna is uniformely distributed accross the ACMC... here because we don't have:\n",
    "- $N_\\text{local}$(square kilometer 1)\n",
    "- $N_\\text{local}$(square kilometer 2)\n",
    "- ...\n",
    "- $N_\\text{local}$(square kilometer  N)\n",
    "\n",
    "Thus our \"base unit\" for credits is homogeneous throughout ACMC. \n",
    "\n",
    "Note 1: this is for illustrative purposes and this is a WRONG assumption! but we do not have a heat map of marine fauna!\n",
    "\n",
    "Note 2: another approach can be that the representativeness of biodiversity in ACMC with respect to the world total. Value that can be penalized for the lack of data in ACMC."
   ]
  },
  {
   "cell_type": "code",
   "execution_count": 5,
   "metadata": {},
   "outputs": [
    {
     "name": "stdout",
     "output_type": "stream",
     "text": [
      "1.1590538866455768\n"
     ]
    }
   ],
   "source": [
    "N_units_base = np.exp(N_species_fauna/N_species_fauna_total)\n",
    "print(N_units_base)"
   ]
  },
  {
   "cell_type": "markdown",
   "metadata": {},
   "source": [
    "Assuming we had the maximum species richness of $N_\\text{total}$ = 2,555 (here `N_species_fauna_total`):"
   ]
  },
  {
   "cell_type": "code",
   "execution_count": 6,
   "metadata": {},
   "outputs": [
    {
     "data": {
      "text/plain": [
       "1.2503422061517109"
      ]
     },
     "execution_count": 6,
     "metadata": {},
     "output_type": "execute_result"
    }
   ],
   "source": [
    "np.exp(2555/N_species_fauna_total)"
   ]
  },
  {
   "cell_type": "markdown",
   "metadata": {},
   "source": [
    "That's the \"maximum base unit\" per this logic."
   ]
  },
  {
   "cell_type": "markdown",
   "metadata": {},
   "source": [
    "Assuming we have very little species richness, e.g. $N_\\text{total}$ = 10 (here `N_species_fauna_total` means there are only 10 species of fish, crabs, whatever):"
   ]
  },
  {
   "cell_type": "code",
   "execution_count": 7,
   "metadata": {},
   "outputs": [
    {
     "data": {
      "text/plain": [
       "1.0008748140462365"
      ]
     },
     "execution_count": 7,
     "metadata": {},
     "output_type": "execute_result"
    }
   ],
   "source": [
    "np.exp(10/N_species_fauna_total)"
   ]
  },
  {
   "cell_type": "markdown",
   "metadata": {},
   "source": [
    "That's a lower bound for the \"base unit\" per this logic."
   ]
  },
  {
   "cell_type": "markdown",
   "metadata": {},
   "source": [
    "It is a very narrow range that does not reward high biodiversity this much. \n",
    "\n",
    "Is it \"good\" or \"bad\"? \n",
    "\n",
    "Note: \n",
    "\n",
    "Well, the advantages are as follows:\n",
    "   * it minimizes the impact of measurements errors and uncertainty. Given that measuring marine biodiversity is difficult, this may actually be a good thing.\n",
    "    \n",
    "   * it increases the influence of modulating factors, such as:\n",
    "        - vulnerable species\n",
    "        - endemism\n",
    "        - habitat type\n",
    "        - etc."
   ]
  },
  {
   "cell_type": "markdown",
   "metadata": {},
   "source": [
    "### Another way"
   ]
  },
  {
   "cell_type": "markdown",
   "metadata": {},
   "source": [
    "**1. Using IUCN Red List**\n",
    "\n",
    "With polygons of distribution per each species"
   ]
  },
  {
   "cell_type": "code",
   "execution_count": 4,
   "metadata": {},
   "outputs": [],
   "source": [
    "ACMC = gpd.read_file('https://ocean-program.s3.amazonaws.com/data/raw/MPAs/ACMC.geojson')"
   ]
  },
  {
   "cell_type": "code",
   "execution_count": null,
   "metadata": {},
   "outputs": [],
   "source": [
    "%%time\n",
    "df = gpd.read_file('/Users/maureenfonseca/Desktop/Data-Oceans/ACMC_IUCN_data/gdf_ACMC_IUCN_range_status_filtered.shp') "
   ]
  },
  {
   "cell_type": "code",
   "execution_count": null,
   "metadata": {},
   "outputs": [],
   "source": [
    "df2 = gpd.clip(df.set_crs(epsg=4326, allow_override=True), ACMC)"
   ]
  },
  {
   "cell_type": "code",
   "execution_count": null,
   "metadata": {},
   "outputs": [],
   "source": [
    "df2 = df2[0:200]"
   ]
  },
  {
   "cell_type": "code",
   "execution_count": null,
   "metadata": {},
   "outputs": [],
   "source": [
    "overlap = count_overlapping_geometries(df2)"
   ]
  },
  {
   "cell_type": "code",
   "execution_count": null,
   "metadata": {},
   "outputs": [],
   "source": []
  },
  {
   "cell_type": "code",
   "execution_count": 12,
   "metadata": {},
   "outputs": [
    {
     "ename": "KeyboardInterrupt",
     "evalue": "",
     "output_type": "error",
     "traceback": [
      "\u001b[0;31m---------------------------------------------------------------------------\u001b[0m",
      "\u001b[0;31mKeyboardInterrupt\u001b[0m                         Traceback (most recent call last)",
      "\u001b[0;32m/var/folders/v8/b0fnjf9d4q31sfz_8q4h4zxm0000gn/T/ipykernel_82952/3771316385.py\u001b[0m in \u001b[0;36m<module>\u001b[0;34m\u001b[0m\n\u001b[0;32m----> 1\u001b[0;31m \u001b[0moverlap\u001b[0m \u001b[0;34m=\u001b[0m \u001b[0mcount_overlapping_geometries\u001b[0m\u001b[0;34m(\u001b[0m\u001b[0mdf2\u001b[0m\u001b[0;34m)\u001b[0m\u001b[0;34m\u001b[0m\u001b[0;34m\u001b[0m\u001b[0m\n\u001b[0m\u001b[1;32m      2\u001b[0m \u001b[0;34m\u001b[0m\u001b[0m\n\u001b[1;32m      3\u001b[0m \u001b[0mhexagon\u001b[0m \u001b[0;34m=\u001b[0m \u001b[0mcreate_grid\u001b[0m\u001b[0;34m(\u001b[0m\u001b[0mACMC\u001b[0m\u001b[0;34m,\u001b[0m \u001b[0;34m'hexagon'\u001b[0m\u001b[0;34m,\u001b[0m \u001b[0;36m1\u001b[0m\u001b[0;34m,\u001b[0m \u001b[0;36m4326\u001b[0m\u001b[0;34m)\u001b[0m\u001b[0;34m\u001b[0m\u001b[0;34m\u001b[0m\u001b[0m\n\u001b[1;32m      4\u001b[0m \u001b[0;34m\u001b[0m\u001b[0m\n\u001b[1;32m      5\u001b[0m \u001b[0mmerged\u001b[0m \u001b[0;34m=\u001b[0m \u001b[0mgpd\u001b[0m\u001b[0;34m.\u001b[0m\u001b[0msjoin\u001b[0m\u001b[0;34m(\u001b[0m\u001b[0moverlap\u001b[0m\u001b[0;34m,\u001b[0m \u001b[0mhexagon\u001b[0m\u001b[0;34m,\u001b[0m \u001b[0mhow\u001b[0m\u001b[0;34m=\u001b[0m\u001b[0;34m'left'\u001b[0m\u001b[0;34m)\u001b[0m\u001b[0;34m\u001b[0m\u001b[0;34m\u001b[0m\u001b[0m\n",
      "\u001b[0;32m~/Desktop/Oceans/oceanprogram/Marine_Ecosystem_Credits/Marine_Biodiversity/MBU_Methodology/marinebiodiversity_utils.py\u001b[0m in \u001b[0;36mcount_overlapping_geometries\u001b[0;34m(in_gdf)\u001b[0m\n\u001b[1;32m    202\u001b[0m         \u001b[0msplitting_results\u001b[0m \u001b[0;34m=\u001b[0m \u001b[0;34m[\u001b[0m\u001b[0;34m]\u001b[0m\u001b[0;34m\u001b[0m\u001b[0;34m\u001b[0m\u001b[0m\n\u001b[1;32m    203\u001b[0m         \u001b[0;32mfor\u001b[0m \u001b[0mj\u001b[0m\u001b[0;34m,\u001b[0m\u001b[0mpart\u001b[0m \u001b[0;32min\u001b[0m \u001b[0menumerate\u001b[0m\u001b[0;34m(\u001b[0m\u001b[0minput_parts\u001b[0m\u001b[0;34m)\u001b[0m\u001b[0;34m:\u001b[0m\u001b[0;34m\u001b[0m\u001b[0;34m\u001b[0m\u001b[0m\n\u001b[0;32m--> 204\u001b[0;31m             \u001b[0mnew_parts\u001b[0m \u001b[0;34m=\u001b[0m \u001b[0mlist\u001b[0m\u001b[0;34m(\u001b[0m\u001b[0mshapely\u001b[0m\u001b[0;34m.\u001b[0m\u001b[0mops\u001b[0m\u001b[0;34m.\u001b[0m\u001b[0msplit\u001b[0m\u001b[0;34m(\u001b[0m\u001b[0mpart\u001b[0m\u001b[0;34m,\u001b[0m \u001b[0mboundary\u001b[0m\u001b[0;34m)\u001b[0m\u001b[0;34m.\u001b[0m\u001b[0mgeoms\u001b[0m\u001b[0;34m)\u001b[0m\u001b[0;34m\u001b[0m\u001b[0;34m\u001b[0m\u001b[0m\n\u001b[0m\u001b[1;32m    205\u001b[0m             \u001b[0msplitting_results\u001b[0m \u001b[0;34m=\u001b[0m \u001b[0msplitting_results\u001b[0m \u001b[0;34m+\u001b[0m \u001b[0mnew_parts\u001b[0m\u001b[0;34m\u001b[0m\u001b[0;34m\u001b[0m\u001b[0m\n\u001b[1;32m    206\u001b[0m         \u001b[0minput_parts\u001b[0m \u001b[0;34m=\u001b[0m \u001b[0msplitting_results\u001b[0m\u001b[0;34m\u001b[0m\u001b[0;34m\u001b[0m\u001b[0m\n",
      "\u001b[0;32m~/opt/anaconda3/lib/python3.9/site-packages/shapely/ops.py\u001b[0m in \u001b[0;36msplit\u001b[0;34m(geom, splitter)\u001b[0m\n\u001b[1;32m    550\u001b[0m             )\n\u001b[1;32m    551\u001b[0m \u001b[0;34m\u001b[0m\u001b[0m\n\u001b[0;32m--> 552\u001b[0;31m         \u001b[0;32mreturn\u001b[0m \u001b[0mGeometryCollection\u001b[0m\u001b[0;34m(\u001b[0m\u001b[0msplit_func\u001b[0m\u001b[0;34m(\u001b[0m\u001b[0mgeom\u001b[0m\u001b[0;34m,\u001b[0m \u001b[0msplitter\u001b[0m\u001b[0;34m)\u001b[0m\u001b[0;34m)\u001b[0m\u001b[0;34m\u001b[0m\u001b[0;34m\u001b[0m\u001b[0m\n\u001b[0m\u001b[1;32m    553\u001b[0m \u001b[0;34m\u001b[0m\u001b[0m\n\u001b[1;32m    554\u001b[0m \u001b[0;34m\u001b[0m\u001b[0m\n",
      "\u001b[0;32m~/opt/anaconda3/lib/python3.9/site-packages/shapely/ops.py\u001b[0m in \u001b[0;36m_split_polygon_with_line\u001b[0;34m(poly, splitter)\u001b[0m\n\u001b[1;32m    387\u001b[0m         \u001b[0;31m# an inner point of polygonized geometry (pg)\u001b[0m\u001b[0;34m\u001b[0m\u001b[0;34m\u001b[0m\u001b[0m\n\u001b[1;32m    388\u001b[0m         return [\n\u001b[0;32m--> 389\u001b[0;31m             \u001b[0mpg\u001b[0m \u001b[0;32mfor\u001b[0m \u001b[0mpg\u001b[0m \u001b[0;32min\u001b[0m \u001b[0mpolygonize\u001b[0m\u001b[0;34m(\u001b[0m\u001b[0munion\u001b[0m\u001b[0;34m)\u001b[0m \u001b[0;32mif\u001b[0m \u001b[0mpoly\u001b[0m\u001b[0;34m.\u001b[0m\u001b[0mcontains\u001b[0m\u001b[0;34m(\u001b[0m\u001b[0mpg\u001b[0m\u001b[0;34m.\u001b[0m\u001b[0mrepresentative_point\u001b[0m\u001b[0;34m(\u001b[0m\u001b[0;34m)\u001b[0m\u001b[0;34m)\u001b[0m\u001b[0;34m\u001b[0m\u001b[0;34m\u001b[0m\u001b[0m\n\u001b[0m\u001b[1;32m    390\u001b[0m         ]\n\u001b[1;32m    391\u001b[0m \u001b[0;34m\u001b[0m\u001b[0m\n",
      "\u001b[0;32m~/opt/anaconda3/lib/python3.9/site-packages/shapely/ops.py\u001b[0m in \u001b[0;36mpolygonize\u001b[0;34m(self, lines)\u001b[0m\n\u001b[1;32m     64\u001b[0m         \u001b[0;32mfinally\u001b[0m\u001b[0;34m:\u001b[0m\u001b[0;34m\u001b[0m\u001b[0;34m\u001b[0m\u001b[0m\n\u001b[1;32m     65\u001b[0m             \u001b[0mobs\u001b[0m \u001b[0;34m=\u001b[0m \u001b[0;34m[\u001b[0m\u001b[0mself\u001b[0m\u001b[0;34m.\u001b[0m\u001b[0mshapeup\u001b[0m\u001b[0;34m(\u001b[0m\u001b[0mline\u001b[0m\u001b[0;34m)\u001b[0m \u001b[0;32mfor\u001b[0m \u001b[0mline\u001b[0m \u001b[0;32min\u001b[0m \u001b[0msource\u001b[0m\u001b[0;34m]\u001b[0m\u001b[0;34m\u001b[0m\u001b[0;34m\u001b[0m\u001b[0m\n\u001b[0;32m---> 66\u001b[0;31m         \u001b[0mcollection\u001b[0m \u001b[0;34m=\u001b[0m \u001b[0mshapely\u001b[0m\u001b[0;34m.\u001b[0m\u001b[0mpolygonize\u001b[0m\u001b[0;34m(\u001b[0m\u001b[0mobs\u001b[0m\u001b[0;34m)\u001b[0m\u001b[0;34m\u001b[0m\u001b[0;34m\u001b[0m\u001b[0m\n\u001b[0m\u001b[1;32m     67\u001b[0m         \u001b[0;32mreturn\u001b[0m \u001b[0mcollection\u001b[0m\u001b[0;34m.\u001b[0m\u001b[0mgeoms\u001b[0m\u001b[0;34m\u001b[0m\u001b[0;34m\u001b[0m\u001b[0m\n\u001b[1;32m     68\u001b[0m \u001b[0;34m\u001b[0m\u001b[0m\n",
      "\u001b[0;32m~/opt/anaconda3/lib/python3.9/site-packages/shapely/constructive.py\u001b[0m in \u001b[0;36mpolygonize\u001b[0;34m(geometries, **kwargs)\u001b[0m\n\u001b[1;32m    679\u001b[0m     \u001b[0;34m<\u001b[0m\u001b[0mGEOMETRYCOLLECTION\u001b[0m \u001b[0;34m(\u001b[0m\u001b[0mPOLYGON\u001b[0m \u001b[0;34m(\u001b[0m\u001b[0;34m(\u001b[0m\u001b[0;36m1\u001b[0m \u001b[0;36m1\u001b[0m\u001b[0;34m,\u001b[0m \u001b[0;36m0\u001b[0m \u001b[0;36m0\u001b[0m\u001b[0;34m,\u001b[0m \u001b[0;36m0\u001b[0m \u001b[0;36m1\u001b[0m\u001b[0;34m,\u001b[0m \u001b[0;36m1\u001b[0m \u001b[0;36m1\u001b[0m\u001b[0;34m)\u001b[0m\u001b[0;34m)\u001b[0m\u001b[0;34m)\u001b[0m\u001b[0;34m>\u001b[0m\u001b[0;34m\u001b[0m\u001b[0;34m\u001b[0m\u001b[0m\n\u001b[1;32m    680\u001b[0m     \"\"\"\n\u001b[0;32m--> 681\u001b[0;31m     \u001b[0;32mreturn\u001b[0m \u001b[0mlib\u001b[0m\u001b[0;34m.\u001b[0m\u001b[0mpolygonize\u001b[0m\u001b[0;34m(\u001b[0m\u001b[0mgeometries\u001b[0m\u001b[0;34m,\u001b[0m \u001b[0;34m**\u001b[0m\u001b[0mkwargs\u001b[0m\u001b[0;34m)\u001b[0m\u001b[0;34m\u001b[0m\u001b[0;34m\u001b[0m\u001b[0m\n\u001b[0m\u001b[1;32m    682\u001b[0m \u001b[0;34m\u001b[0m\u001b[0m\n\u001b[1;32m    683\u001b[0m \u001b[0;34m\u001b[0m\u001b[0m\n",
      "\u001b[0;31mKeyboardInterrupt\u001b[0m: "
     ]
    }
   ],
   "source": [
    "overlap = count_overlapping_geometries(df2)\n",
    "\n",
    "hexagon = create_grid(ACMC, 'hexagon', 1, 4326)\n",
    "\n",
    "merged = gpd.sjoin(overlap, hexagon, how='left')\n",
    "\n",
    "# make a simple count variable that we can sum\n",
    "merged['n_species']= overlap['count_intersections']\n",
    "\n",
    "# Compute stats per grid cell\n",
    "dissolve = merged.dissolve(by=\"index_right\")#, aggfunc=\"sum\")\n",
    "\n",
    "# put this into cell\n",
    "hexagon.loc[dissolve.index, 'n_species'] = dissolve.n_species.values"
   ]
  },
  {
   "cell_type": "code",
   "execution_count": null,
   "metadata": {},
   "outputs": [],
   "source": [
    "hexagon"
   ]
  },
  {
   "cell_type": "code",
   "execution_count": null,
   "metadata": {},
   "outputs": [],
   "source": [
    "ax = hexagon.plot(column='n_species', figsize=(12, 8), cmap='viridis', edgecolor=\"grey\", legend = True)\n",
    "#plt.autoscale(False)\n",
    "\n",
    "gpd.GeoSeries(ACMC.geometry).plot(ax=ax, edgecolor='black', facecolor='none', label='ACMC')\n",
    "ax.axis('off')"
   ]
  },
  {
   "cell_type": "markdown",
   "metadata": {},
   "source": [
    "This option take a lot of timeeee!"
   ]
  },
  {
   "cell_type": "markdown",
   "metadata": {},
   "source": [
    "**2. Using GBIF data**"
   ]
  },
  {
   "cell_type": "code",
   "execution_count": 42,
   "metadata": {},
   "outputs": [],
   "source": [
    "#Download and unzip GBIF file for ACMC\n",
    "#REFERENCE: GBIF.org (30 March 2023) GBIF Occurrence Download https://doi.org/10.15468/dl.n3qe23\n",
    "#POLYGON((-89.322 2.151,-86.032 2.151,-86.032 6.571,-89.322 6.571,-89.322 2.151))"
   ]
  },
  {
   "cell_type": "code",
   "execution_count": 21,
   "metadata": {},
   "outputs": [],
   "source": [
    "min_x, min_y, max_x, max_y = ACMC.total_bounds"
   ]
  },
  {
   "cell_type": "code",
   "execution_count": 96,
   "metadata": {},
   "outputs": [],
   "source": [
    "# Read GBIF species files with all the colums\n",
    "\n",
    "#df=pd.read_csv('/Users/maureenfonseca/Desktop/Data-Oceans/Species_ACMC_GBIF.csv',sep='\\t')\n",
    "#df.columns.values"
   ]
  },
  {
   "cell_type": "code",
   "execution_count": 98,
   "metadata": {},
   "outputs": [],
   "source": [
    "# Read GBIF species files just with the interest columns\n",
    "df=pd.read_csv('/Users/maureenfonseca/Desktop/Data-Oceans/Species_ACMC_GBIF.csv',sep='\\t',\n",
    "               usecols=['decimalLongitude', 'decimalLatitude', 'scientificName','individualCount'])"
   ]
  },
  {
   "cell_type": "code",
   "execution_count": 99,
   "metadata": {},
   "outputs": [
    {
     "data": {
      "text/html": [
       "<div>\n",
       "<style scoped>\n",
       "    .dataframe tbody tr th:only-of-type {\n",
       "        vertical-align: middle;\n",
       "    }\n",
       "\n",
       "    .dataframe tbody tr th {\n",
       "        vertical-align: top;\n",
       "    }\n",
       "\n",
       "    .dataframe thead th {\n",
       "        text-align: right;\n",
       "    }\n",
       "</style>\n",
       "<table border=\"1\" class=\"dataframe\">\n",
       "  <thead>\n",
       "    <tr style=\"text-align: right;\">\n",
       "      <th></th>\n",
       "      <th>scientificName</th>\n",
       "      <th>individualCount</th>\n",
       "      <th>decimalLatitude</th>\n",
       "      <th>decimalLongitude</th>\n",
       "    </tr>\n",
       "  </thead>\n",
       "  <tbody>\n",
       "    <tr>\n",
       "      <th>0</th>\n",
       "      <td>Sphaerodactylus pacificus Stejneger, 1903</td>\n",
       "      <td>NaN</td>\n",
       "      <td>5.533933</td>\n",
       "      <td>-87.050983</td>\n",
       "    </tr>\n",
       "    <tr>\n",
       "      <th>1</th>\n",
       "      <td>Sphaerodactylus pacificus Stejneger, 1903</td>\n",
       "      <td>NaN</td>\n",
       "      <td>5.524333</td>\n",
       "      <td>-87.080100</td>\n",
       "    </tr>\n",
       "    <tr>\n",
       "      <th>2</th>\n",
       "      <td>Sphaerodactylus pacificus Stejneger, 1903</td>\n",
       "      <td>NaN</td>\n",
       "      <td>5.540967</td>\n",
       "      <td>-87.703650</td>\n",
       "    </tr>\n",
       "    <tr>\n",
       "      <th>3</th>\n",
       "      <td>Sphaerodactylus pacificus Stejneger, 1903</td>\n",
       "      <td>NaN</td>\n",
       "      <td>5.543483</td>\n",
       "      <td>-87.056833</td>\n",
       "    </tr>\n",
       "    <tr>\n",
       "      <th>4</th>\n",
       "      <td>Sphaerodactylus pacificus Stejneger, 1903</td>\n",
       "      <td>NaN</td>\n",
       "      <td>5.529167</td>\n",
       "      <td>-87.077983</td>\n",
       "    </tr>\n",
       "  </tbody>\n",
       "</table>\n",
       "</div>"
      ],
      "text/plain": [
       "                              scientificName  individualCount  \\\n",
       "0  Sphaerodactylus pacificus Stejneger, 1903              NaN   \n",
       "1  Sphaerodactylus pacificus Stejneger, 1903              NaN   \n",
       "2  Sphaerodactylus pacificus Stejneger, 1903              NaN   \n",
       "3  Sphaerodactylus pacificus Stejneger, 1903              NaN   \n",
       "4  Sphaerodactylus pacificus Stejneger, 1903              NaN   \n",
       "\n",
       "   decimalLatitude  decimalLongitude  \n",
       "0         5.533933        -87.050983  \n",
       "1         5.524333        -87.080100  \n",
       "2         5.540967        -87.703650  \n",
       "3         5.543483        -87.056833  \n",
       "4         5.529167        -87.077983  "
      ]
     },
     "execution_count": 99,
     "metadata": {},
     "output_type": "execute_result"
    }
   ],
   "source": [
    "df.head()"
   ]
  },
  {
   "cell_type": "code",
   "execution_count": 100,
   "metadata": {},
   "outputs": [
    {
     "data": {
      "text/plain": [
       "25619"
      ]
     },
     "execution_count": 100,
     "metadata": {},
     "output_type": "execute_result"
    }
   ],
   "source": [
    "len(df)"
   ]
  },
  {
   "cell_type": "code",
   "execution_count": 101,
   "metadata": {},
   "outputs": [],
   "source": [
    "#convert GBIF dataframe to geodataframe\n",
    "species = gpd.GeoDataFrame(df, geometry=gpd.points_from_xy(df.decimalLongitude, df.decimalLatitude))"
   ]
  },
  {
   "cell_type": "code",
   "execution_count": 102,
   "metadata": {},
   "outputs": [
    {
     "data": {
      "text/plain": [
       "<AxesSubplot:>"
      ]
     },
     "execution_count": 102,
     "metadata": {},
     "output_type": "execute_result"
    },
    {
     "data": {
      "image/png": "[encoded data removed]",
      "text/plain": [
       "<Figure size 640x480 with 1 Axes>"
      ]
     },
     "metadata": {},
     "output_type": "display_data"
    }
   ],
   "source": [
    "# plot protected area with marine species\n",
    "# select column name to plot\n",
    "\n",
    "column_name = 'scientificName'\n",
    "ax = ACMC.boundary.plot()\n",
    "species.plot(ax=ax, markersize=1, column=column_name)#, legend=True, antialiased=False, legend_kwds={'bbox_to_anchor': (1, 1)})"
   ]
  },
  {
   "cell_type": "code",
   "execution_count": 103,
   "metadata": {},
   "outputs": [],
   "source": [
    "# extract longitudes and latitudes in new columns\n",
    "species['x'] = species['geometry'].x\n",
    "species['y'] = species['geometry'].y"
   ]
  },
  {
   "cell_type": "code",
   "execution_count": 104,
   "metadata": {},
   "outputs": [],
   "source": [
    "# set resolution and point samples\n",
    "resolution = 0.05\n",
    "points = np.array([species['x'].values, species['y'].values])\n",
    "x, y = points"
   ]
  },
  {
   "cell_type": "code",
   "execution_count": 105,
   "metadata": {},
   "outputs": [
    {
     "name": "stderr",
     "output_type": "stream",
     "text": [
      "/var/folders/v8/b0fnjf9d4q31sfz_8q4h4zxm0000gn/T/ipykernel_73048/655210896.py:2: DeprecationWarning: Please use `gaussian_kde` from the `scipy.stats` namespace, the `scipy.stats.kde` namespace is deprecated.\n",
      "  from scipy.stats.kde import gaussian_kde\n"
     ]
    }
   ],
   "source": [
    "# to map weighted KDE\n",
    "from scipy.stats.kde import gaussian_kde"
   ]
  },
  {
   "cell_type": "code",
   "execution_count": 108,
   "metadata": {},
   "outputs": [],
   "source": [
    "# https://www.oreilly.com/library/view/python-data-science/9781491912126/ch04.html\n",
    "kde = gaussian_kde(points)\n",
    "x_step = int((max(x)-min(x))/resolution)\n",
    "y_step = int((max(y)-min(y))/resolution)\n",
    "xgrid = np.linspace(min(x), max(x), x_step+1)\n",
    "ygrid = np.linspace(min(y), max(y), y_step+1)\n",
    "Xgrid, Ygrid = np.meshgrid(xgrid, ygrid)\n",
    "Z = kde.evaluate(np.vstack([Xgrid.ravel(), Ygrid.ravel()]))\n",
    "Zgrid = Z.reshape(Xgrid.shape)\n",
    "\n",
    "ext = [min(x), max(x), min(y), max(y)]"
   ]
  },
  {
   "cell_type": "code",
   "execution_count": 109,
   "metadata": {},
   "outputs": [
    {
     "data": {
      "image/png": "[encoded data removed]",
      "text/plain": [
       "<Figure size 640x480 with 2 Axes>"
      ]
     },
     "metadata": {},
     "output_type": "display_data"
    }
   ],
   "source": [
    "plt.imshow(Zgrid,\n",
    "    origin='lower', aspect='auto',\n",
    "    extent=ext,\n",
    "    alpha=0.8,\n",
    "    cmap='viridis')\n",
    "plt.scatter(x, y, s=0.001, facecolor='white')\n",
    "plt.title('KDE without weights')\n",
    "\n",
    "# add color bar\n",
    "plt.colorbar()\n",
    "\n",
    "# show the plot\n",
    "plt.show()"
   ]
  },
  {
   "cell_type": "code",
   "execution_count": 110,
   "metadata": {},
   "outputs": [],
   "source": [
    "hexagon = create_grid(ACMC, \"hexagon\", 0.05, 4326)"
   ]
  }
 ],
 "metadata": {
  "kernelspec": {
   "display_name": "Python 3 (ipykernel)",
   "language": "python",
   "name": "python3"
  },
  "language_info": {
   "codemirror_mode": {
    "name": "ipython",
    "version": 3
   },
   "file_extension": ".py",
   "mimetype": "text/x-python",
   "name": "python",
   "nbconvert_exporter": "python",
   "pygments_lexer": "ipython3",
   "version": "3.9.13"
  }
 },
 "nbformat": 4,
 "nbformat_minor": 4
}
