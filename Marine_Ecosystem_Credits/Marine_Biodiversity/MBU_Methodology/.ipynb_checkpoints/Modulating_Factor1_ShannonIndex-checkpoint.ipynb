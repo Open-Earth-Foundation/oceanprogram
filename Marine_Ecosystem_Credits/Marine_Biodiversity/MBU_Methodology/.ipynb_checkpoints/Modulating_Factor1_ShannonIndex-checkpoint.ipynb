{
 "cells": [
  {
   "cell_type": "markdown",
   "metadata": {},
   "source": [
    "# Open Ocean\n",
    "# Open Earth Fundation"
   ]
  },
  {
   "cell_type": "markdown",
   "metadata": {},
   "source": [
    "<h1> Step 2: calculate different metrics for each modulating factor </h1>\n",
    "\n",
    "This notebook is the second part of the `Step1_Curate_IUCN_RedList.ipynb`\n",
    "\n",
    "<h2> Modulating Factor 1: Normalize Biodiversity Score </h2>\n",
    "\n",
    "Species diversity refers to the variety of different species present in a given area, as well as their abundance and distribution. This includes the number of species, their relative abundances, and how evenly or unevenly distributed they are.\n",
    "Our proposal is: apply the Simpson and Shannon Index to obtain a local value of the MPA and normalize each sqd km value"
   ]
  },
  {
   "cell_type": "markdown",
   "metadata": {},
   "source": [
    "### Data needed for this project\n",
    "\n",
    "- Species names\n",
    "- Species abundance\n",
    "- Species distribution\n",
    "\n",
    "Next Steps:\n",
    "\n",
    "1. Find a database or datasets with abundance and distribution information for the entire ACMC\n",
    "2. If it isn't reallistic, try to simulate that data\n",
    "\n",
    "Options:\n",
    "1. IUCN RED List and simulate abundance information\n",
    "2. GBIF species information and simulate abundance and distribution information"
   ]
  },
  {
   "cell_type": "markdown",
   "metadata": {},
   "source": [
    "### 1. Importing libraries."
   ]
  },
  {
   "cell_type": "code",
   "execution_count": 1,
   "metadata": {},
   "outputs": [],
   "source": [
    "# load basic libraries\n",
    "import os\n",
    "import glob\n",
    "import boto3\n",
    "\n",
    "import math\n",
    "import numpy as np\n",
    "import pandas as pd\n",
    "\n",
    "# to plot\n",
    "import matplotlib.pyplot as plt\n",
    "\n",
    "# to manage shapefiles\n",
    "import shapely\n",
    "import geopandas as gpd\n",
    "from shapely.geometry import Polygon, Point, box\n",
    "from shapely.ops import linemerge, unary_union, polygonize"
   ]
  },
  {
   "cell_type": "code",
   "execution_count": 2,
   "metadata": {},
   "outputs": [],
   "source": [
    "import fiona; #help(fiona.open)"
   ]
  },
  {
   "cell_type": "markdown",
   "metadata": {},
   "source": [
    "**Import OEF functions**"
   ]
  },
  {
   "cell_type": "code",
   "execution_count": 3,
   "metadata": {},
   "outputs": [],
   "source": [
    "%load_ext autoreload"
   ]
  },
  {
   "cell_type": "code",
   "execution_count": 14,
   "metadata": {},
   "outputs": [],
   "source": [
    "#Run this to reload the python file\n",
    "%autoreload 2\n",
    "from MBU_utils import *"
   ]
  },
  {
   "cell_type": "markdown",
   "metadata": {},
   "source": [
    "### 2. Load data"
   ]
  },
  {
   "cell_type": "code",
   "execution_count": 5,
   "metadata": {},
   "outputs": [],
   "source": [
    "ACMC = gpd.read_file('https://ocean-program.s3.amazonaws.com/data/raw/MPAs/ACMC.geojson')"
   ]
  },
  {
   "cell_type": "code",
   "execution_count": null,
   "metadata": {},
   "outputs": [],
   "source": [
    "%%time\n",
    "df = gpd.read_file('https://ocean-program.s3.amazonaws.com/data/processed/ACMC_IUCN_RedList/gdf_ACMC_IUCN_range_status_filtered.shp')"
   ]
  },
  {
   "cell_type": "code",
   "execution_count": 6,
   "metadata": {},
   "outputs": [
    {
     "name": "stdout",
     "output_type": "stream",
     "text": [
      "CPU times: user 7min 27s, sys: 3.79 s, total: 7min 31s\n",
      "Wall time: 7min 33s\n"
     ]
    }
   ],
   "source": [
    "%%time\n",
    "#Locally\n",
    "df = gpd.read_file('/Users/maureenfonseca/Desktop/Data-Oceans/ACMC_IUCN_data/gdf_ACMC_IUCN_range_status_filtered.shp')"
   ]
  },
  {
   "cell_type": "code",
   "execution_count": 22,
   "metadata": {},
   "outputs": [],
   "source": [
    "grid = create_grid(ACMC, grid_shape=\"hexagon\", grid_size_deg=0.5)"
   ]
  },
  {
   "cell_type": "markdown",
   "metadata": {},
   "source": [
    "### 3. Preliminary calculations\n"
   ]
  },
  {
   "cell_type": "markdown",
   "metadata": {},
   "source": [
    "**Shannon Index**"
   ]
  },
  {
   "cell_type": "markdown",
   "metadata": {},
   "source": [
    "$\\text{H} = -\\sum[{p_i}\\times\\ln(p_i)]$\n",
    "\n",
    "\n",
    "where, pi is the proportion of the entire community made up of species i\n",
    "\n",
    "$p_i = {n/N}$"
   ]
  },
  {
   "cell_type": "code",
   "execution_count": null,
   "metadata": {},
   "outputs": [],
   "source": [
    "def shannon(gdf_abundance_col):\n",
    "    \"\"\"\n",
    "    Calculates the value of H using the given values of abundance.\n",
    "    \n",
    "    Parameters:\n",
    "        - gdf_abundance_col (list): A list of species of the entire community made up of each species\n",
    "        \n",
    "    Returns:\n",
    "        - H (float): The calculated value of H\n",
    "    \"\"\"\n",
    "    \n",
    "    abundance = np.array(gdf_abundance_col)\n",
    "    N = np.sum(abundance)\n",
    "    \n",
    "    p = (abundance/N)\n",
    "    \n",
    "    H = 0\n",
    "    for pi in p:\n",
    "        if pi > 0:\n",
    "            H += pi * math.log(pi)\n",
    "    H = -H\n",
    "    return H"
   ]
  },
  {
   "cell_type": "code",
   "execution_count": 9,
   "metadata": {},
   "outputs": [],
   "source": [
    "fake_abundance = np.random.randint(50, size = (len(df)))"
   ]
  },
  {
   "cell_type": "code",
   "execution_count": 10,
   "metadata": {},
   "outputs": [],
   "source": [
    "df['abundance'] = fake_abundance"
   ]
  },
  {
   "cell_type": "code",
   "execution_count": 25,
   "metadata": {},
   "outputs": [],
   "source": [
    "def shannon(roi, gdf, grid_gdf, gdf_col_name):\n",
    "    \"\"\"\n",
    "    This function calculates the Shannon Index per grid cell and its corresponding MBU value\n",
    "    pi = (n/N): where n is the abundance number per species and N is the total abundance number in the dataset \n",
    "    \n",
    "    input(s):\n",
    "    roi <shapely polygon in CRS WGS84:EPSG 4326>: region of interest or the total project area\n",
    "    gdf <geopandas dataframe>: contains at least the name of the species, the distribution polygons of each of them \n",
    "                             :and their abundance\n",
    "    grid_gdf <geopandas dataframe>: consists of polygons of grids typically generated by the gridding function\n",
    "                                  : containts at least a geometry column and a unique grid_id\n",
    "    gdf_col_name <string>: corresponds to the name of the abundance information column in the gdf\n",
    "    \n",
    "    output(s):\n",
    "    gdf <geopandas dataframe>: with an additional column ('mbu_habitat_survey') containing the number\n",
    "                             : of units for that grid or geometry\n",
    "    \"\"\"\n",
    "    \n",
    "    #Join in a gdf all the geometries within ROI\n",
    "    gdf = gpd.clip(gdf.set_crs(epsg=4326, allow_override=True), roi)\n",
    "\n",
    "    #This function calculates the sum of all abundances of overlapping species\n",
    "    overlap = map_algebra(gdf, gdf_col_name, 'sum')\n",
    "\n",
    "    #Merged the overlap values of overlapping geometries with the grid gdf\n",
    "    merged = gpd.sjoin(overlap, grid_gdf, how='left')\n",
    "    merged['n_value'] = overlap['algebra_overlaps']\n",
    "    \n",
    "    #Calculate the pi value per row\n",
    "    pi = merged['n_value']/np.sum(merged['n_value'])\n",
    "    pi = pi.fillna(0)\n",
    "    merged['pilogpi'] = pi*np.log(pi)\n",
    "\n",
    "    #Dissolve the DataFrame by 'index_right' and aggregate using the calculated Shannon entropy\n",
    "    dissolve = merged.dissolve(by=\"index_right\", aggfunc={'pilogpi': 'sum'})\n",
    "    \n",
    "    #Calculate the Shannon index per grid\n",
    "    dissolve['pilogpi'] = (-1)*dissolve['pilogpi']\n",
    "\n",
    "    #Put this into cell\n",
    "    grid_gdf.loc[dissolve.index, 'Shannon'] = dissolve.pilogpi.values\n",
    "\n",
    "    #Normalization factor\n",
    "    Norm_factor = grid_gdf['Shannon']/grid_gdf['Shannon'].max()\n",
    "    \n",
    "    return grid_gdf"
   ]
  },
  {
   "cell_type": "code",
   "execution_count": 26,
   "metadata": {},
   "outputs": [
    {
     "name": "stderr",
     "output_type": "stream",
     "text": [
      "/Users/maureenfonseca/Desktop/oceanprogram/Marine_Ecosystem_Credits/Marine_Biodiversity/MBU_Methodology/MBU_utils.py:198: FutureWarning: Currently, index_parts defaults to True, but in the future, it will default to False to be consistent with Pandas. Use `index_parts=True` to keep the current behavior and True/False to silence the warning.\n",
      "  new_gdf = gdf.explode('geometry')\n",
      "/Users/maureenfonseca/opt/anaconda3/lib/python3.9/site-packages/pandas/core/arraylike.py:397: RuntimeWarning: divide by zero encountered in log\n",
      "  result = getattr(ufunc, method)(*inputs, **kwargs)\n"
     ]
    },
    {
     "name": "stdout",
     "output_type": "stream",
     "text": [
      "                                             geometry  Grid_ID   Shannon\n",
      "0   POLYGON ((-88.82201 2.15063, -89.07201 2.58365...        0       NaN\n",
      "1   POLYGON ((-88.82201 3.01666, -89.07201 3.44967...        1 -0.000000\n",
      "2   POLYGON ((-88.82201 3.88268, -89.07201 4.31570...        2 -0.000000\n",
      "3   POLYGON ((-88.82201 4.74871, -89.07201 5.18172...        3 -0.000000\n",
      "4   POLYGON ((-88.82201 5.61474, -89.07201 6.04775...        4 -0.000000\n",
      "5   POLYGON ((-88.82201 6.48076, -89.07201 6.91377...        5 -0.000000\n",
      "6   POLYGON ((-88.82201 7.34679, -89.07201 7.77980...        6       NaN\n",
      "7   POLYGON ((-88.07201 1.71762, -88.32201 2.15063...        7       NaN\n",
      "8   POLYGON ((-88.07201 2.58365, -88.32201 3.01666...        8 -0.000000\n",
      "9   POLYGON ((-88.07201 3.44967, -88.32201 3.88268...        9 -0.000000\n",
      "10  POLYGON ((-88.07201 4.31570, -88.32201 4.74871...       10 -0.000000\n",
      "11  POLYGON ((-88.07201 5.18172, -88.32201 5.61474...       11 -0.000000\n",
      "12  POLYGON ((-88.07201 6.04775, -88.32201 6.48076...       12 -0.000000\n",
      "13  POLYGON ((-88.07201 6.91377, -88.32201 7.34679...       13 -0.000000\n",
      "14  POLYGON ((-88.07201 7.77980, -88.32201 8.21281...       14       NaN\n",
      "15  POLYGON ((-87.32201 2.15063, -87.57201 2.58365...       15 -0.000000\n",
      "16  POLYGON ((-87.32201 3.01666, -87.57201 3.44967...       16 -0.000000\n",
      "17  POLYGON ((-87.32201 3.88268, -87.57201 4.31570...       17 -0.000000\n",
      "18  POLYGON ((-87.32201 4.74871, -87.57201 5.18172...       18  0.493941\n",
      "19  POLYGON ((-87.32201 5.61474, -87.57201 6.04775...       19  1.684268\n",
      "20  POLYGON ((-87.32201 6.48076, -87.57201 6.91377...       20  1.196083\n",
      "21  POLYGON ((-87.32201 7.34679, -87.57201 7.77980...       21       NaN\n",
      "22  POLYGON ((-86.57201 1.71762, -86.82201 2.15063...       22 -0.000000\n",
      "23  POLYGON ((-86.57201 2.58365, -86.82201 3.01666...       23 -0.000000\n",
      "24  POLYGON ((-86.57201 3.44967, -86.82201 3.88268...       24 -0.000000\n",
      "25  POLYGON ((-86.57201 4.31570, -86.82201 4.74871...       25  0.739695\n",
      "26  POLYGON ((-86.57201 5.18172, -86.82201 5.61474...       26  0.005571\n",
      "27  POLYGON ((-86.57201 6.04775, -86.82201 6.48076...       27  0.772259\n",
      "28  POLYGON ((-86.57201 6.91377, -86.82201 7.34679...       28 -0.000000\n",
      "29  POLYGON ((-86.57201 7.77980, -86.82201 8.21281...       29       NaN\n",
      "30  POLYGON ((-85.82201 2.15063, -86.07201 2.58365...       30 -0.000000\n",
      "31  POLYGON ((-85.82201 3.01666, -86.07201 3.44967...       31 -0.000000\n",
      "32  POLYGON ((-85.82201 3.88268, -86.07201 4.31570...       32 -0.000000\n",
      "33  POLYGON ((-85.82201 4.74871, -86.07201 5.18172...       33  0.569838\n",
      "34  POLYGON ((-85.82201 5.61474, -86.07201 6.04775...       34  1.165718\n",
      "35  POLYGON ((-85.82201 6.48076, -86.07201 6.91377...       35  1.621678\n",
      "36  POLYGON ((-85.82201 7.34679, -86.07201 7.77980...       36       NaN\n",
      "37  POLYGON ((-85.07201 1.71762, -85.32201 2.15063...       37       NaN\n",
      "38  POLYGON ((-85.07201 2.58365, -85.32201 3.01666...       38 -0.000000\n",
      "39  POLYGON ((-85.07201 3.44967, -85.32201 3.88268...       39 -0.000000\n",
      "40  POLYGON ((-85.07201 4.31570, -85.32201 4.74871...       40 -0.000000\n",
      "41  POLYGON ((-85.07201 5.18172, -85.32201 5.61474...       41 -0.000000\n",
      "42  POLYGON ((-85.07201 6.04775, -85.32201 6.48076...       42 -0.000000\n",
      "43  POLYGON ((-85.07201 6.91377, -85.32201 7.34679...       43       NaN\n",
      "44  POLYGON ((-85.07201 7.77980, -85.32201 8.21281...       44       NaN\n"
     ]
    }
   ],
   "source": [
    "Shannon = shannon(ACMC, df, grid, 'abundance')"
   ]
  },
  {
   "cell_type": "code",
   "execution_count": 28,
   "metadata": {},
   "outputs": [
    {
     "data": {
      "image/png": "[encoded data removed]",
      "text/plain": [
       "<Figure size 800x800 with 1 Axes>"
      ]
     },
     "metadata": {},
     "output_type": "display_data"
    }
   ],
   "source": [
    "fig, ax = plt.subplots(figsize = (8,8))\n",
    "\n",
    "ax.set_aspect('equal')\n",
    "Shannon.plot(ax = ax, column = 'Shannon', cmap = 'viridis', edgecolor = 'grey', linewidth = 0.01)\n",
    "\n",
    "plt.show()"
   ]
  }
 ],
 "metadata": {
  "kernelspec": {
   "display_name": "Python 3 (ipykernel)",
   "language": "python",
   "name": "python3"
  },
  "language_info": {
   "codemirror_mode": {
    "name": "ipython",
    "version": 3
   },
   "file_extension": ".py",
   "mimetype": "text/x-python",
   "name": "python",
   "nbconvert_exporter": "python",
   "pygments_lexer": "ipython3",
   "version": "3.9.13"
  }
 },
 "nbformat": 4,
 "nbformat_minor": 4
}
