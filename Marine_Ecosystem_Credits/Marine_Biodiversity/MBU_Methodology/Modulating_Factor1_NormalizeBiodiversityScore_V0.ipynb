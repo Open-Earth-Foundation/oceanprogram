{
 "cells": [
  {
   "cell_type": "markdown",
   "metadata": {},
   "source": [
    "# Open Ocean\n",
    "# Open Earth Fundation"
   ]
  },
  {
   "cell_type": "markdown",
   "metadata": {},
   "source": [
    "<h1> Step 2: calculate different metrics for each modulating factor </h1>\n",
    "\n",
    "This notebook is the second part of the `Step1_Curate_IUCN_RedList.ipynb`\n",
    "\n",
    "<h2> Modulating Factor 1: Normalize Biodiversity Score </h2>\n",
    "\n",
    "Species diversity refers to the variety of different species present in a given area, as well as their abundance and distribution. This includes the number of species, their relative abundances, and how evenly or unevenly distributed they are.\n",
    "Our proposal is: apply the Simpson and Shannon Index to obtain a local value of the MPA and normalize each sqd km value"
   ]
  },
  {
   "cell_type": "markdown",
   "metadata": {},
   "source": [
    "### Data needed for this project\n",
    "\n",
    "- Species names\n",
    "- Species abundance\n",
    "- Species distribution\n",
    "\n",
    "Next Steps:\n",
    "\n",
    "1. Find a database or datasets with abundance and distribution information for the entire ACMC\n",
    "2. If it isn't reallistic, try to simulate that data\n",
    "\n",
    "Options:\n",
    "1. IUCN RED List and simulate abundance information\n",
    "2. GBIF species information and simulate abundance and distribution information"
   ]
  },
  {
   "cell_type": "markdown",
   "metadata": {},
   "source": [
    "### 1. Importing libraries."
   ]
  },
  {
   "cell_type": "code",
   "execution_count": 3,
   "metadata": {},
   "outputs": [],
   "source": [
    "# load basic libraries\n",
    "import os\n",
    "import glob\n",
    "import boto3\n",
    "\n",
    "import math\n",
    "import numpy as np\n",
    "import pandas as pd\n",
    "\n",
    "# to plot\n",
    "import matplotlib.pyplot as plt\n",
    "\n",
    "# to manage shapefiles\n",
    "import shapely\n",
    "import geopandas as gpd\n",
    "from shapely.geometry import Polygon, Point, box\n",
    "from shapely.ops import linemerge, unary_union, polygonize"
   ]
  },
  {
   "cell_type": "code",
   "execution_count": 4,
   "metadata": {},
   "outputs": [],
   "source": [
    "import fiona; #help(fiona.open)"
   ]
  },
  {
   "cell_type": "markdown",
   "metadata": {},
   "source": [
    "**Import OEF functions**"
   ]
  },
  {
   "cell_type": "code",
   "execution_count": 5,
   "metadata": {},
   "outputs": [],
   "source": [
    "%load_ext autoreload"
   ]
  },
  {
   "cell_type": "code",
   "execution_count": 6,
   "metadata": {},
   "outputs": [],
   "source": [
    "#Run this to reload the python file\n",
    "%autoreload 2\n",
    "from MBU_utils import *"
   ]
  },
  {
   "cell_type": "markdown",
   "metadata": {},
   "source": [
    "### 2. Load data"
   ]
  },
  {
   "cell_type": "code",
   "execution_count": 7,
   "metadata": {},
   "outputs": [],
   "source": [
    "ACMC = gpd.read_file('https://ocean-program.s3.amazonaws.com/data/raw/MPAs/ACMC.geojson')"
   ]
  },
  {
   "cell_type": "code",
   "execution_count": 8,
   "metadata": {},
   "outputs": [],
   "source": [
    "df = gpd.read_file('/Users/maureenfonseca/Desktop/Data-Oceans/ACMC_IUCN_data/gdf_ACMC_IUCN_range_status_filtered.shp')"
   ]
  },
  {
   "cell_type": "code",
   "execution_count": 9,
   "metadata": {},
   "outputs": [],
   "source": [
    "grid = create_grid(ACMC, grid_shape=\"hexagon\", grid_size_deg=1.)"
   ]
  },
  {
   "cell_type": "markdown",
   "metadata": {},
   "source": [
    "### 3. Preliminary calculations\n"
   ]
  },
  {
   "cell_type": "code",
   "execution_count": 10,
   "metadata": {},
   "outputs": [
    {
     "data": {
      "text/plain": [
       "627"
      ]
     },
     "execution_count": 10,
     "metadata": {},
     "output_type": "execute_result"
    }
   ],
   "source": [
    "len(df)"
   ]
  },
  {
   "cell_type": "markdown",
   "metadata": {},
   "source": [
    "**Shannon Index**"
   ]
  },
  {
   "cell_type": "markdown",
   "metadata": {},
   "source": [
    "$\\text{H} = -\\sum[{p_i}\\times\\ln(p_i)]$\n",
    "\n",
    "where, pi is the proportion of the entire community made up of species i"
   ]
  },
  {
   "cell_type": "code",
   "execution_count": 11,
   "metadata": {},
   "outputs": [],
   "source": [
    "#Polygons of species distribution to be clipped to roi\n",
    "df2 = gpd.clip(df.set_crs(epsg=4326, allow_override=True), ACMC)"
   ]
  },
  {
   "cell_type": "code",
   "execution_count": 12,
   "metadata": {},
   "outputs": [],
   "source": [
    "df2 = df2[0:100]"
   ]
  },
  {
   "cell_type": "code",
   "execution_count": 23,
   "metadata": {},
   "outputs": [
    {
     "name": "stderr",
     "output_type": "stream",
     "text": [
      "/Users/maureenfonseca/Desktop/Oceans/oceanprogram/Marine_Ecosystem_Credits/Marine_Biodiversity/MBU_Methodology/MBU_utils.py:140: ShapelyDeprecationWarning: The 'type' attribute is deprecated, and will be removed in the future. You can use the 'geom_type' attribute instead.\n",
      "  if this_row_boundary.type[:len('multi')].lower() == 'multi':\n",
      "/Users/maureenfonseca/Desktop/Oceans/oceanprogram/Marine_Ecosystem_Credits/Marine_Biodiversity/MBU_Methodology/MBU_utils.py:161: UserWarning: Geometry is in a geographic CRS. Results from 'centroid' are likely incorrect. Use 'GeoSeries.to_crs()' to re-project geometries to a projected CRS before this operation.\n",
      "\n",
      "  new_gdf['geom_centroid'] = new_gdf.centroid\n"
     ]
    }
   ],
   "source": [
    "#Join in a gdf all the geometries within ROI\n",
    "joined = gpd.clip(df2.set_crs(epsg=4326, allow_override=True), ACMC)\n",
    "    \n",
    "#Count the number of overlappong geometries from joined gdf\n",
    "overlap_geo = count_overlapping_geometries(joined)\n",
    "    \n",
    "#This is to count how many geometries are in each grid \n",
    "merged2 = gpd.sjoin(overlap_geo, grid, how='left')\n",
    "merged2['n_species']= overlap_geo['count_intersections']\n",
    "\n",
    "#Compute stats per grid cell\n",
    "dissolve = merged2.dissolve(by=\"index_right\", aggfunc=\"count\")\n",
    "\n",
    "#Put this into cell\n",
    "grid.loc[dissolve.index, 'n_species'] = dissolve.n_species.values\n",
    "    \n",
    "#Calculate the normalize factor \n",
    "#normalized_factor = grid_gdf['n_habitats']/grid_gdf['n_habitats'].max()\n",
    "    \n",
    "#Convert area from degrees to square kilometers\n",
    "#this case apply only for Central America\n",
    "#https://epsg.io/31970\n",
    "#grid_gdf['area_sqkm'] = (grid_gdf.to_crs(crs=31970).area)*10**(-6)\n",
    "#grid_gdf['mbu_habitat_survey'] = normalized_factor*grid_gdf['area_sqkm']"
   ]
  },
  {
   "cell_type": "code",
   "execution_count": null,
   "metadata": {},
   "outputs": [],
   "source": [
    "grid"
   ]
  },
  {
   "cell_type": "code",
   "execution_count": null,
   "metadata": {},
   "outputs": [],
   "source": []
  }
 ],
 "metadata": {
  "kernelspec": {
   "display_name": "Python 3 (ipykernel)",
   "language": "python",
   "name": "python3"
  },
  "language_info": {
   "codemirror_mode": {
    "name": "ipython",
    "version": 3
   },
   "file_extension": ".py",
   "mimetype": "text/x-python",
   "name": "python",
   "nbconvert_exporter": "python",
   "pygments_lexer": "ipython3",
   "version": "3.9.13"
  }
 },
 "nbformat": 4,
 "nbformat_minor": 4
}
