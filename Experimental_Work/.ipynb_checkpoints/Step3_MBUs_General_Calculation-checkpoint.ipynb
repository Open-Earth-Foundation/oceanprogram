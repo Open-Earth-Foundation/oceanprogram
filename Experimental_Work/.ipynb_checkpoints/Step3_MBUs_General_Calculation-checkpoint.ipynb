{
 "cells": [
  {
   "cell_type": "markdown",
   "id": "fd68a188",
   "metadata": {},
   "source": [
    "# Open Ocean\n",
    "## Open Earth Fundation"
   ]
  },
  {
   "cell_type": "markdown",
   "id": "6b29a0a6",
   "metadata": {},
   "source": [
    "## Step 3: \n",
    "Calculate a final number of `Marine Biodiversity Units (MBUs)` based on the modulating factors score"
   ]
  },
  {
   "cell_type": "markdown",
   "id": "77b419cf",
   "metadata": {},
   "source": [
    "### Marine Biodiversity Units (MBUs)"
   ]
  },
  {
   "cell_type": "markdown",
   "id": "18a88ff0",
   "metadata": {},
   "source": [
    "We think that to develop a scalable system of marine biodiversity credits, we must first define what the credit unit is. To achieve this, we aim to develop a metric that incorporates the ecological values of the ecosystems within each acreage—or 1 km$^2$—of ocean protected. \n",
    "\n",
    "The number of MBUs assigned to each km$^2$ is modulated by different factors, which we call \"Modularing Factors\".\n",
    "\n",
    "These Modulating Factors are:\n",
    "1. Normalize Marine Biodiversity Score\n",
    "2. Species richness\n",
    "3. Species distribution area\n",
    "4. Endemism\n",
    "5. Habitats' Survey\n",
    "6. Vulnerability of species\n",
    "\n",
    "**Note:** Some of these factors do not have a defined methodology yet.\n",
    "\n",
    "Each Modulating Factor has a weight factor that it's define by (...)(?)"
   ]
  },
  {
   "cell_type": "markdown",
   "id": "68e853e6",
   "metadata": {},
   "source": [
    "**General Methodology**"
   ]
  },
  {
   "cell_type": "markdown",
   "id": "dc0ca1b7",
   "metadata": {},
   "source": [
    "- Per km$^2$:\n",
    "$$\n",
    "\\begin{align}\n",
    "MBUs_{sqdkm} = \\sum_{i=1}^{6} C_i\\times MBUs_i\n",
    "\\end{align}\n",
    "$$\n",
    "\n",
    "where i represent each modulating factor and $C_i$ represent the weight factor of that modulating factor\n",
    "\n",
    "This means that each km$^2$ is assigned a number of MBUs per modulating factor\n",
    "\n",
    "- For the entire MPA:\n",
    "$$\n",
    "\\begin{align}\n",
    "\\text{Total MBUs} = \\sum_{j=1}^{N} MBUs_{sqdkm}\n",
    "\\end{align}\n",
    "$$\n",
    "\n",
    "where N represents the total size of the MPA in km$^2$"
   ]
  },
  {
   "cell_type": "markdown",
   "id": "07ec4f99",
   "metadata": {},
   "source": [
    "## 3.1 Import Libraries"
   ]
  },
  {
   "cell_type": "code",
   "execution_count": 1,
   "id": "8612c3b9",
   "metadata": {},
   "outputs": [],
   "source": [
    "import os\n",
    "import glob\n",
    "import boto3\n",
    "\n",
    "import math\n",
    "import numpy as np\n",
    "import pandas as pd\n",
    "\n",
    "from pyobis import occurrences\n",
    "\n",
    "import matplotlib.pyplot as plt\n",
    "\n",
    "import shapely\n",
    "import geopandas as gpd\n",
    "from shapely.geometry import Polygon, Point, box\n",
    "from shapely.ops import linemerge, unary_union, polygonize"
   ]
  },
  {
   "cell_type": "code",
   "execution_count": 2,
   "id": "c0f85099",
   "metadata": {},
   "outputs": [],
   "source": [
    "import fiona; #help(fiona.open)"
   ]
  },
  {
   "cell_type": "markdown",
   "id": "7c5d169a",
   "metadata": {},
   "source": [
    "**OEF Functions**"
   ]
  },
  {
   "cell_type": "code",
   "execution_count": 3,
   "id": "314a68db",
   "metadata": {},
   "outputs": [],
   "source": [
    "%load_ext autoreload"
   ]
  },
  {
   "cell_type": "code",
   "execution_count": 21,
   "id": "92de119c",
   "metadata": {},
   "outputs": [],
   "source": [
    "#Run this to reload the python file\n",
    "%autoreload 2\n",
    "from MBU_utils import *"
   ]
  },
  {
   "cell_type": "markdown",
   "id": "e6b69257",
   "metadata": {},
   "source": [
    "## 3.2 Data Needed"
   ]
  },
  {
   "cell_type": "markdown",
   "id": "297c2ae8",
   "metadata": {},
   "source": [
    "**Import the entire marine protected area file**"
   ]
  },
  {
   "cell_type": "code",
   "execution_count": 5,
   "id": "7898fbe9",
   "metadata": {},
   "outputs": [],
   "source": [
    "ACMC = gpd.read_file('https://ocean-program.s3.amazonaws.com/data/raw/MPAs/ACMC.geojson')"
   ]
  },
  {
   "cell_type": "markdown",
   "id": "ad374205",
   "metadata": {},
   "source": [
    "Inspect the Coordinate Reference Systems (CRS)"
   ]
  },
  {
   "cell_type": "code",
   "execution_count": 6,
   "id": "33c14143",
   "metadata": {},
   "outputs": [
    {
     "data": {
      "text/plain": [
       "<Geographic 2D CRS: EPSG:4326>\n",
       "Name: WGS 84\n",
       "Axis Info [ellipsoidal]:\n",
       "- Lat[north]: Geodetic latitude (degree)\n",
       "- Lon[east]: Geodetic longitude (degree)\n",
       "Area of Use:\n",
       "- name: World.\n",
       "- bounds: (-180.0, -90.0, 180.0, 90.0)\n",
       "Datum: World Geodetic System 1984 ensemble\n",
       "- Ellipsoid: WGS 84\n",
       "- Prime Meridian: Greenwich"
      ]
     },
     "execution_count": 6,
     "metadata": {},
     "output_type": "execute_result"
    }
   ],
   "source": [
    "ACMC.crs"
   ]
  },
  {
   "cell_type": "markdown",
   "id": "622facdd",
   "metadata": {},
   "source": [
    "**Grid gdf**"
   ]
  },
  {
   "cell_type": "code",
   "execution_count": 7,
   "id": "9898f25f",
   "metadata": {},
   "outputs": [],
   "source": [
    "grid = create_grid(ACMC, grid_shape=\"hexagon\", grid_size_deg=1.)"
   ]
  },
  {
   "cell_type": "markdown",
   "id": "9ee37265",
   "metadata": {},
   "source": [
    "**Import the species information**\n",
    "\n",
    "The species information needed for this project is:\n",
    "\n",
    "- Species name\n",
    "- Polygons of distribution for each species in the list"
   ]
  },
  {
   "cell_type": "code",
   "execution_count": 8,
   "id": "6dc34f73",
   "metadata": {},
   "outputs": [],
   "source": [
    "#Locally\n",
    "df1 = gpd.read_file('/Users/maureenfonseca/Desktop/oceanprogram/Marine_Ecosystem_Credits/Marine_Biodiversity/MBU_Methodology/gdf_range_status_filtered_shortV.shp')"
   ]
  },
  {
   "cell_type": "markdown",
   "id": "b2a24382",
   "metadata": {},
   "source": [
    "The IUCN Red List dataset does not have information on species abundance, to calculate this MF, that information will be randomly assigned."
   ]
  },
  {
   "cell_type": "code",
   "execution_count": 9,
   "id": "e60bc5ff",
   "metadata": {},
   "outputs": [],
   "source": [
    "fake_abundance = np.random.randint(50, size = (len(df1)))\n",
    "df1['abundance'] = fake_abundance"
   ]
  },
  {
   "cell_type": "markdown",
   "id": "dc948353",
   "metadata": {},
   "source": [
    "Another source of species data is OBIS"
   ]
  },
  {
   "cell_type": "code",
   "execution_count": 10,
   "id": "38e747b1",
   "metadata": {},
   "outputs": [
    {
     "name": "stdout",
     "output_type": "stream",
     "text": [
      "Fetching: [████████████████████████████████████████████████████████████████████████████████████████████████████] 4216/4216\n",
      "Fetched 4216 records.\n"
     ]
    }
   ],
   "source": [
    "#create a polygon to access the OBIS data\n",
    "min_x, min_y, max_x, max_y = ACMC.total_bounds\n",
    "geometry = f\"POLYGON(({max_x} {min_y}, {min_x} {min_y}, {min_x} {max_y}, {max_x} {max_y}, {max_x} {min_y}))\"\n",
    "\n",
    "query = occurrences.search(geometry=geometry)\n",
    "query.execute()\n",
    "\n",
    "# Returns the data\n",
    "df2 = query.data "
   ]
  },
  {
   "cell_type": "markdown",
   "id": "5c625a96",
   "metadata": {},
   "source": [
    "**Import the habitats/ecosystems information**"
   ]
  },
  {
   "cell_type": "code",
   "execution_count": 11,
   "id": "1330a09f",
   "metadata": {},
   "outputs": [],
   "source": [
    "#Locally\n",
    "source_dir = '/Users/maureenfonseca/Desktop/Data-Oceans/Ecosystem_Typology_IUCN/'\n",
    "eco_names = np.sort(glob.glob(source_dir + \"/*.json\"))"
   ]
  },
  {
   "cell_type": "markdown",
   "id": "01c5c215",
   "metadata": {},
   "source": [
    "**Weighted Factors**\n",
    "\n",
    "(To be define)"
   ]
  },
  {
   "cell_type": "markdown",
   "id": "0765ae18",
   "metadata": {},
   "source": [
    "## 3.3 Indices and metrics"
   ]
  },
  {
   "cell_type": "markdown",
   "id": "3eb8151b",
   "metadata": {},
   "source": [
    "**Shannon Index**"
   ]
  },
  {
   "cell_type": "code",
   "execution_count": 14,
   "id": "f1100b5f",
   "metadata": {},
   "outputs": [
    {
     "name": "stderr",
     "output_type": "stream",
     "text": [
      "/Users/maureenfonseca/Desktop/oceanprogram/Experimental_Work/MBU_utils.py:195: FutureWarning: Currently, index_parts defaults to True, but in the future, it will default to False to be consistent with Pandas. Use `index_parts=True` to keep the current behavior and True/False to silence the warning.\n",
      "  new_gdf = gdf.explode('geometry')\n",
      "/Users/maureenfonseca/opt/anaconda3/lib/python3.9/site-packages/pandas/core/arraylike.py:397: RuntimeWarning: divide by zero encountered in log\n",
      "  result = getattr(ufunc, method)(*inputs, **kwargs)\n"
     ]
    },
    {
     "name": "stdout",
     "output_type": "stream",
     "text": [
      "CPU times: user 3.95 s, sys: 49.6 ms, total: 4 s\n",
      "Wall time: 4 s\n"
     ]
    }
   ],
   "source": [
    "%%time\n",
    "shannon = shannon(ACMC, df1, grid, 'abundance', 'IUCN')"
   ]
  },
  {
   "cell_type": "markdown",
   "id": "10de0fd9",
   "metadata": {},
   "source": [
    "**Simpson Index**"
   ]
  },
  {
   "cell_type": "code",
   "execution_count": 15,
   "id": "04a8125c",
   "metadata": {},
   "outputs": [
    {
     "name": "stderr",
     "output_type": "stream",
     "text": [
      "/Users/maureenfonseca/Desktop/oceanprogram/Experimental_Work/MBU_utils.py:195: FutureWarning: Currently, index_parts defaults to True, but in the future, it will default to False to be consistent with Pandas. Use `index_parts=True` to keep the current behavior and True/False to silence the warning.\n",
      "  new_gdf = gdf.explode('geometry')\n"
     ]
    },
    {
     "name": "stdout",
     "output_type": "stream",
     "text": [
      "CPU times: user 3.95 s, sys: 29.5 ms, total: 3.98 s\n",
      "Wall time: 3.98 s\n"
     ]
    }
   ],
   "source": [
    "%%time\n",
    "simpson = simpson(ACMC, df1, grid, 'abundance', 'IUCN')"
   ]
  },
  {
   "cell_type": "markdown",
   "id": "a8a84582",
   "metadata": {},
   "source": [
    "**Species Richness**"
   ]
  },
  {
   "cell_type": "code",
   "execution_count": 25,
   "id": "cac73234",
   "metadata": {},
   "outputs": [
    {
     "name": "stdout",
     "output_type": "stream",
     "text": [
      "CPU times: user 376 ms, sys: 5.06 ms, total: 381 ms\n",
      "Wall time: 380 ms\n"
     ]
    }
   ],
   "source": [
    "%%time\n",
    "species_richness = species_richness(ACMC, df2, grid, 'obis')"
   ]
  },
  {
   "cell_type": "markdown",
   "id": "e3816fbc",
   "metadata": {},
   "source": [
    "**Endemism**"
   ]
  },
  {
   "cell_type": "code",
   "execution_count": 22,
   "id": "99742766",
   "metadata": {},
   "outputs": [
    {
     "name": "stderr",
     "output_type": "stream",
     "text": [
      "/Users/maureenfonseca/Desktop/oceanprogram/Experimental_Work/MBU_utils.py:460: UserWarning: Geometry is in a geographic CRS. Results from 'area' are likely incorrect. Use 'GeoSeries.to_crs()' to re-project geometries to a projected CRS before this operation.\n",
      "\n",
      "  dist_ratio2 = np.round(df2.area/gdf.area, decimals=4, out=None)\n",
      "/Users/maureenfonseca/opt/anaconda3/lib/python3.9/site-packages/pandas/core/arraylike.py:397: RuntimeWarning: divide by zero encountered in log2\n",
      "  result = getattr(ufunc, method)(*inputs, **kwargs)\n",
      "/Users/maureenfonseca/Desktop/oceanprogram/Experimental_Work/MBU_utils.py:195: FutureWarning: Currently, index_parts defaults to True, but in the future, it will default to False to be consistent with Pandas. Use `index_parts=True` to keep the current behavior and True/False to silence the warning.\n",
      "  new_gdf = gdf.explode('geometry')\n"
     ]
    },
    {
     "name": "stdout",
     "output_type": "stream",
     "text": [
      "CPU times: user 4.02 s, sys: 55.2 ms, total: 4.07 s\n",
      "Wall time: 4.09 s\n"
     ]
    }
   ],
   "source": [
    "%%time\n",
    "endemism = endemism(ACMC, df1, grid)"
   ]
  },
  {
   "cell_type": "markdown",
   "id": "a1e800a5",
   "metadata": {},
   "source": [
    "**WEGE**"
   ]
  },
  {
   "cell_type": "code",
   "execution_count": 23,
   "id": "56873db5",
   "metadata": {},
   "outputs": [
    {
     "name": "stderr",
     "output_type": "stream",
     "text": [
      "/Users/maureenfonseca/Desktop/oceanprogram/Experimental_Work/MBU_utils.py:553: UserWarning: Geometry is in a geographic CRS. Results from 'area' are likely incorrect. Use 'GeoSeries.to_crs()' to re-project geometries to a projected CRS before this operation.\n",
      "\n",
      "  roi_area = roi.area[0]\n",
      "/Users/maureenfonseca/Desktop/oceanprogram/Experimental_Work/MBU_utils.py:560: UserWarning: Geometry is in a geographic CRS. Results from 'area' are likely incorrect. Use 'GeoSeries.to_crs()' to re-project geometries to a projected CRS before this operation.\n",
      "\n",
      "  we = np.round(df.area/roi_area, decimals=4, out=None)\n",
      "/Users/maureenfonseca/Desktop/oceanprogram/Experimental_Work/MBU_utils.py:195: FutureWarning: Currently, index_parts defaults to True, but in the future, it will default to False to be consistent with Pandas. Use `index_parts=True` to keep the current behavior and True/False to silence the warning.\n",
      "  new_gdf = gdf.explode('geometry')\n"
     ]
    },
    {
     "name": "stdout",
     "output_type": "stream",
     "text": [
      "CPU times: user 3.99 s, sys: 25.8 ms, total: 4.02 s\n",
      "Wall time: 4.02 s\n"
     ]
    }
   ],
   "source": [
    "%%time\n",
    "wege = wege(ACMC, df1, grid)"
   ]
  },
  {
   "cell_type": "markdown",
   "id": "0c6f6f5e",
   "metadata": {},
   "source": [
    "**Habitats Survey**"
   ]
  },
  {
   "cell_type": "code",
   "execution_count": 26,
   "id": "a605d469",
   "metadata": {},
   "outputs": [
    {
     "name": "stderr",
     "output_type": "stream",
     "text": [
      "/Users/maureenfonseca/Desktop/oceanprogram/Experimental_Work/MBU_utils.py:139: ShapelyDeprecationWarning: The 'type' attribute is deprecated, and will be removed in the future. You can use the 'geom_type' attribute instead.\n",
      "  if this_row_boundary.type[:len('multi')].lower() == 'multi':\n",
      "/Users/maureenfonseca/Desktop/oceanprogram/Experimental_Work/MBU_utils.py:160: UserWarning: Geometry is in a geographic CRS. Results from 'centroid' are likely incorrect. Use 'GeoSeries.to_crs()' to re-project geometries to a projected CRS before this operation.\n",
      "\n",
      "  new_gdf['geom_centroid'] = new_gdf.centroid\n"
     ]
    },
    {
     "name": "stdout",
     "output_type": "stream",
     "text": [
      "CPU times: user 3min 17s, sys: 2.63 s, total: 3min 19s\n",
      "Wall time: 3min 20s\n"
     ]
    }
   ],
   "source": [
    "%%time\n",
    "habitats = habitats_survey(ACMC, grid, eco_names)"
   ]
  },
  {
   "cell_type": "code",
   "execution_count": 28,
   "id": "d8252400",
   "metadata": {},
   "outputs": [
    {
     "data": {
      "text/html": [
       "<div>\n",
       "<style scoped>\n",
       "    .dataframe tbody tr th:only-of-type {\n",
       "        vertical-align: middle;\n",
       "    }\n",
       "\n",
       "    .dataframe tbody tr th {\n",
       "        vertical-align: top;\n",
       "    }\n",
       "\n",
       "    .dataframe thead th {\n",
       "        text-align: right;\n",
       "    }\n",
       "</style>\n",
       "<table border=\"1\" class=\"dataframe\">\n",
       "  <thead>\n",
       "    <tr style=\"text-align: right;\">\n",
       "      <th></th>\n",
       "      <th>geometry</th>\n",
       "      <th>Grid_ID</th>\n",
       "      <th>Shannon</th>\n",
       "      <th>Simpson</th>\n",
       "      <th>endemism</th>\n",
       "      <th>wege</th>\n",
       "      <th>species_richness</th>\n",
       "      <th>habitats_survey</th>\n",
       "    </tr>\n",
       "  </thead>\n",
       "  <tbody>\n",
       "    <tr>\n",
       "      <th>0</th>\n",
       "      <td>POLYGON ((-88.32201 2.15063, -88.82201 3.01666...</td>\n",
       "      <td>0</td>\n",
       "      <td>NaN</td>\n",
       "      <td>NaN</td>\n",
       "      <td>NaN</td>\n",
       "      <td>NaN</td>\n",
       "      <td>1</td>\n",
       "      <td>NaN</td>\n",
       "    </tr>\n",
       "    <tr>\n",
       "      <th>1</th>\n",
       "      <td>POLYGON ((-88.32201 3.88268, -88.82201 4.74871...</td>\n",
       "      <td>1</td>\n",
       "      <td>-0.000000</td>\n",
       "      <td>1.000000</td>\n",
       "      <td>0.000000</td>\n",
       "      <td>0.000000</td>\n",
       "      <td>18</td>\n",
       "      <td>6.0</td>\n",
       "    </tr>\n",
       "    <tr>\n",
       "      <th>2</th>\n",
       "      <td>POLYGON ((-88.32201 5.61474, -88.82201 6.48076...</td>\n",
       "      <td>2</td>\n",
       "      <td>-0.000000</td>\n",
       "      <td>1.000000</td>\n",
       "      <td>0.000000</td>\n",
       "      <td>0.000000</td>\n",
       "      <td>43</td>\n",
       "      <td>7.0</td>\n",
       "    </tr>\n",
       "    <tr>\n",
       "      <th>3</th>\n",
       "      <td>POLYGON ((-88.32201 7.34679, -88.82201 8.21281...</td>\n",
       "      <td>3</td>\n",
       "      <td>-0.000000</td>\n",
       "      <td>1.000000</td>\n",
       "      <td>0.000000</td>\n",
       "      <td>0.000000</td>\n",
       "      <td>1</td>\n",
       "      <td>6.0</td>\n",
       "    </tr>\n",
       "    <tr>\n",
       "      <th>4</th>\n",
       "      <td>POLYGON ((-86.82201 1.28461, -87.32201 2.15063...</td>\n",
       "      <td>4</td>\n",
       "      <td>NaN</td>\n",
       "      <td>NaN</td>\n",
       "      <td>NaN</td>\n",
       "      <td>NaN</td>\n",
       "      <td>1</td>\n",
       "      <td>NaN</td>\n",
       "    </tr>\n",
       "    <tr>\n",
       "      <th>5</th>\n",
       "      <td>POLYGON ((-86.82201 3.01666, -87.32201 3.88268...</td>\n",
       "      <td>5</td>\n",
       "      <td>-0.000000</td>\n",
       "      <td>1.000000</td>\n",
       "      <td>0.000000</td>\n",
       "      <td>0.000000</td>\n",
       "      <td>105</td>\n",
       "      <td>6.0</td>\n",
       "    </tr>\n",
       "    <tr>\n",
       "      <th>6</th>\n",
       "      <td>POLYGON ((-86.82201 4.74871, -87.32201 5.61474...</td>\n",
       "      <td>6</td>\n",
       "      <td>1.980391</td>\n",
       "      <td>0.999931</td>\n",
       "      <td>11952.095261</td>\n",
       "      <td>327.565145</td>\n",
       "      <td>651</td>\n",
       "      <td>6.0</td>\n",
       "    </tr>\n",
       "    <tr>\n",
       "      <th>7</th>\n",
       "      <td>POLYGON ((-86.82201 6.48076, -87.32201 7.34679...</td>\n",
       "      <td>7</td>\n",
       "      <td>2.463775</td>\n",
       "      <td>0.999919</td>\n",
       "      <td>14479.794850</td>\n",
       "      <td>421.216818</td>\n",
       "      <td>186</td>\n",
       "      <td>7.0</td>\n",
       "    </tr>\n",
       "    <tr>\n",
       "      <th>8</th>\n",
       "      <td>POLYGON ((-86.82201 8.21281, -87.32201 9.07884...</td>\n",
       "      <td>8</td>\n",
       "      <td>NaN</td>\n",
       "      <td>NaN</td>\n",
       "      <td>NaN</td>\n",
       "      <td>NaN</td>\n",
       "      <td>1</td>\n",
       "      <td>NaN</td>\n",
       "    </tr>\n",
       "    <tr>\n",
       "      <th>9</th>\n",
       "      <td>POLYGON ((-85.32201 2.15063, -85.82201 3.01666...</td>\n",
       "      <td>9</td>\n",
       "      <td>-0.000000</td>\n",
       "      <td>1.000000</td>\n",
       "      <td>0.000000</td>\n",
       "      <td>0.000000</td>\n",
       "      <td>33</td>\n",
       "      <td>7.0</td>\n",
       "    </tr>\n",
       "    <tr>\n",
       "      <th>10</th>\n",
       "      <td>POLYGON ((-85.32201 3.88268, -85.82201 4.74871...</td>\n",
       "      <td>10</td>\n",
       "      <td>0.430802</td>\n",
       "      <td>0.999988</td>\n",
       "      <td>2501.337605</td>\n",
       "      <td>84.302339</td>\n",
       "      <td>165</td>\n",
       "      <td>6.0</td>\n",
       "    </tr>\n",
       "    <tr>\n",
       "      <th>11</th>\n",
       "      <td>POLYGON ((-85.32201 5.61474, -85.82201 6.48076...</td>\n",
       "      <td>11</td>\n",
       "      <td>3.419601</td>\n",
       "      <td>0.999886</td>\n",
       "      <td>20497.674516</td>\n",
       "      <td>527.159756</td>\n",
       "      <td>2891</td>\n",
       "      <td>8.0</td>\n",
       "    </tr>\n",
       "    <tr>\n",
       "      <th>12</th>\n",
       "      <td>POLYGON ((-85.32201 7.34679, -85.82201 8.21281...</td>\n",
       "      <td>12</td>\n",
       "      <td>0.000059</td>\n",
       "      <td>1.000000</td>\n",
       "      <td>0.000000</td>\n",
       "      <td>0.000016</td>\n",
       "      <td>3</td>\n",
       "      <td>6.0</td>\n",
       "    </tr>\n",
       "    <tr>\n",
       "      <th>13</th>\n",
       "      <td>POLYGON ((-83.82201 1.28461, -84.32201 2.15063...</td>\n",
       "      <td>13</td>\n",
       "      <td>NaN</td>\n",
       "      <td>NaN</td>\n",
       "      <td>NaN</td>\n",
       "      <td>NaN</td>\n",
       "      <td>1</td>\n",
       "      <td>NaN</td>\n",
       "    </tr>\n",
       "    <tr>\n",
       "      <th>14</th>\n",
       "      <td>POLYGON ((-83.82201 3.01666, -84.32201 3.88268...</td>\n",
       "      <td>14</td>\n",
       "      <td>NaN</td>\n",
       "      <td>NaN</td>\n",
       "      <td>NaN</td>\n",
       "      <td>NaN</td>\n",
       "      <td>1</td>\n",
       "      <td>NaN</td>\n",
       "    </tr>\n",
       "    <tr>\n",
       "      <th>15</th>\n",
       "      <td>POLYGON ((-83.82201 4.74871, -84.32201 5.61474...</td>\n",
       "      <td>15</td>\n",
       "      <td>NaN</td>\n",
       "      <td>NaN</td>\n",
       "      <td>NaN</td>\n",
       "      <td>NaN</td>\n",
       "      <td>1</td>\n",
       "      <td>NaN</td>\n",
       "    </tr>\n",
       "    <tr>\n",
       "      <th>16</th>\n",
       "      <td>POLYGON ((-83.82201 6.48076, -84.32201 7.34679...</td>\n",
       "      <td>16</td>\n",
       "      <td>NaN</td>\n",
       "      <td>NaN</td>\n",
       "      <td>NaN</td>\n",
       "      <td>NaN</td>\n",
       "      <td>1</td>\n",
       "      <td>NaN</td>\n",
       "    </tr>\n",
       "    <tr>\n",
       "      <th>17</th>\n",
       "      <td>POLYGON ((-83.82201 8.21281, -84.32201 9.07884...</td>\n",
       "      <td>17</td>\n",
       "      <td>NaN</td>\n",
       "      <td>NaN</td>\n",
       "      <td>NaN</td>\n",
       "      <td>NaN</td>\n",
       "      <td>1</td>\n",
       "      <td>NaN</td>\n",
       "    </tr>\n",
       "  </tbody>\n",
       "</table>\n",
       "</div>"
      ],
      "text/plain": [
       "                                             geometry  Grid_ID   Shannon  \\\n",
       "0   POLYGON ((-88.32201 2.15063, -88.82201 3.01666...        0       NaN   \n",
       "1   POLYGON ((-88.32201 3.88268, -88.82201 4.74871...        1 -0.000000   \n",
       "2   POLYGON ((-88.32201 5.61474, -88.82201 6.48076...        2 -0.000000   \n",
       "3   POLYGON ((-88.32201 7.34679, -88.82201 8.21281...        3 -0.000000   \n",
       "4   POLYGON ((-86.82201 1.28461, -87.32201 2.15063...        4       NaN   \n",
       "5   POLYGON ((-86.82201 3.01666, -87.32201 3.88268...        5 -0.000000   \n",
       "6   POLYGON ((-86.82201 4.74871, -87.32201 5.61474...        6  1.980391   \n",
       "7   POLYGON ((-86.82201 6.48076, -87.32201 7.34679...        7  2.463775   \n",
       "8   POLYGON ((-86.82201 8.21281, -87.32201 9.07884...        8       NaN   \n",
       "9   POLYGON ((-85.32201 2.15063, -85.82201 3.01666...        9 -0.000000   \n",
       "10  POLYGON ((-85.32201 3.88268, -85.82201 4.74871...       10  0.430802   \n",
       "11  POLYGON ((-85.32201 5.61474, -85.82201 6.48076...       11  3.419601   \n",
       "12  POLYGON ((-85.32201 7.34679, -85.82201 8.21281...       12  0.000059   \n",
       "13  POLYGON ((-83.82201 1.28461, -84.32201 2.15063...       13       NaN   \n",
       "14  POLYGON ((-83.82201 3.01666, -84.32201 3.88268...       14       NaN   \n",
       "15  POLYGON ((-83.82201 4.74871, -84.32201 5.61474...       15       NaN   \n",
       "16  POLYGON ((-83.82201 6.48076, -84.32201 7.34679...       16       NaN   \n",
       "17  POLYGON ((-83.82201 8.21281, -84.32201 9.07884...       17       NaN   \n",
       "\n",
       "     Simpson      endemism        wege  species_richness  habitats_survey  \n",
       "0        NaN           NaN         NaN                 1              NaN  \n",
       "1   1.000000      0.000000    0.000000                18              6.0  \n",
       "2   1.000000      0.000000    0.000000                43              7.0  \n",
       "3   1.000000      0.000000    0.000000                 1              6.0  \n",
       "4        NaN           NaN         NaN                 1              NaN  \n",
       "5   1.000000      0.000000    0.000000               105              6.0  \n",
       "6   0.999931  11952.095261  327.565145               651              6.0  \n",
       "7   0.999919  14479.794850  421.216818               186              7.0  \n",
       "8        NaN           NaN         NaN                 1              NaN  \n",
       "9   1.000000      0.000000    0.000000                33              7.0  \n",
       "10  0.999988   2501.337605   84.302339               165              6.0  \n",
       "11  0.999886  20497.674516  527.159756              2891              8.0  \n",
       "12  1.000000      0.000000    0.000016                 3              6.0  \n",
       "13       NaN           NaN         NaN                 1              NaN  \n",
       "14       NaN           NaN         NaN                 1              NaN  \n",
       "15       NaN           NaN         NaN                 1              NaN  \n",
       "16       NaN           NaN         NaN                 1              NaN  \n",
       "17       NaN           NaN         NaN                 1              NaN  "
      ]
     },
     "execution_count": 28,
     "metadata": {},
     "output_type": "execute_result"
    }
   ],
   "source": [
    "habitats"
   ]
  },
  {
   "cell_type": "markdown",
   "id": "5bedd321",
   "metadata": {},
   "source": [
    "## 3.4 Modulating Factors and MBU calculations"
   ]
  },
  {
   "cell_type": "markdown",
   "id": "49b70443",
   "metadata": {},
   "source": [
    "crs for Central America in meters: 31970\n",
    "\n",
    "https://epsg.io/31970"
   ]
  },
  {
   "cell_type": "markdown",
   "id": "f50a760d",
   "metadata": {},
   "source": [
    "**Biodiversity Score**"
   ]
  },
  {
   "cell_type": "code",
   "execution_count": 29,
   "id": "5ce0eab3",
   "metadata": {},
   "outputs": [
    {
     "name": "stderr",
     "output_type": "stream",
     "text": [
      "/Users/maureenfonseca/Desktop/oceanprogram/Experimental_Work/MBU_utils.py:195: FutureWarning: Currently, index_parts defaults to True, but in the future, it will default to False to be consistent with Pandas. Use `index_parts=True` to keep the current behavior and True/False to silence the warning.\n",
      "  new_gdf = gdf.explode('geometry')\n",
      "/Users/maureenfonseca/opt/anaconda3/lib/python3.9/site-packages/pandas/core/arraylike.py:397: RuntimeWarning: divide by zero encountered in log\n",
      "  result = getattr(ufunc, method)(*inputs, **kwargs)\n",
      "/Users/maureenfonseca/Desktop/oceanprogram/Experimental_Work/MBU_utils.py:195: FutureWarning: Currently, index_parts defaults to True, but in the future, it will default to False to be consistent with Pandas. Use `index_parts=True` to keep the current behavior and True/False to silence the warning.\n",
      "  new_gdf = gdf.explode('geometry')\n"
     ]
    }
   ],
   "source": [
    "mbu_biodiversity_score = mbu_biodiversity_score(ACMC, df1, grid, 'abundance', 31970)"
   ]
  },
  {
   "cell_type": "markdown",
   "id": "8a5d5474",
   "metadata": {},
   "source": [
    "**Species Richness**"
   ]
  },
  {
   "cell_type": "code",
   "execution_count": 30,
   "id": "7e2ce634",
   "metadata": {},
   "outputs": [],
   "source": [
    "mbu_species_richness = mbu_species_richness(ACMC, df2, grid, 'obis', 31970)"
   ]
  },
  {
   "cell_type": "markdown",
   "id": "76587734",
   "metadata": {},
   "source": [
    "**Endemism**"
   ]
  },
  {
   "cell_type": "code",
   "execution_count": 31,
   "id": "1c1afe04",
   "metadata": {},
   "outputs": [
    {
     "name": "stderr",
     "output_type": "stream",
     "text": [
      "/Users/maureenfonseca/Desktop/oceanprogram/Experimental_Work/MBU_utils.py:460: UserWarning: Geometry is in a geographic CRS. Results from 'area' are likely incorrect. Use 'GeoSeries.to_crs()' to re-project geometries to a projected CRS before this operation.\n",
      "\n",
      "  dist_ratio2 = np.round(df2.area/gdf.area, decimals=4, out=None)\n",
      "/Users/maureenfonseca/opt/anaconda3/lib/python3.9/site-packages/pandas/core/arraylike.py:397: RuntimeWarning: divide by zero encountered in log2\n",
      "  result = getattr(ufunc, method)(*inputs, **kwargs)\n",
      "/Users/maureenfonseca/Desktop/oceanprogram/Experimental_Work/MBU_utils.py:195: FutureWarning: Currently, index_parts defaults to True, but in the future, it will default to False to be consistent with Pandas. Use `index_parts=True` to keep the current behavior and True/False to silence the warning.\n",
      "  new_gdf = gdf.explode('geometry')\n"
     ]
    }
   ],
   "source": [
    "mbu_endemism = mbu_endemism(ACMC, df1, grid, 31970)"
   ]
  },
  {
   "cell_type": "markdown",
   "id": "02e7da23",
   "metadata": {},
   "source": [
    "**Wege**"
   ]
  },
  {
   "cell_type": "code",
   "execution_count": 32,
   "id": "e684f55f",
   "metadata": {},
   "outputs": [
    {
     "name": "stderr",
     "output_type": "stream",
     "text": [
      "/Users/maureenfonseca/Desktop/oceanprogram/Experimental_Work/MBU_utils.py:553: UserWarning: Geometry is in a geographic CRS. Results from 'area' are likely incorrect. Use 'GeoSeries.to_crs()' to re-project geometries to a projected CRS before this operation.\n",
      "\n",
      "  roi_area = roi.area[0]\n",
      "/Users/maureenfonseca/Desktop/oceanprogram/Experimental_Work/MBU_utils.py:560: UserWarning: Geometry is in a geographic CRS. Results from 'area' are likely incorrect. Use 'GeoSeries.to_crs()' to re-project geometries to a projected CRS before this operation.\n",
      "\n",
      "  we = np.round(df.area/roi_area, decimals=4, out=None)\n",
      "/Users/maureenfonseca/Desktop/oceanprogram/Experimental_Work/MBU_utils.py:195: FutureWarning: Currently, index_parts defaults to True, but in the future, it will default to False to be consistent with Pandas. Use `index_parts=True` to keep the current behavior and True/False to silence the warning.\n",
      "  new_gdf = gdf.explode('geometry')\n"
     ]
    }
   ],
   "source": [
    "mbu_wege = mbu_wege(ACMC, df1, grid, 31970)"
   ]
  },
  {
   "cell_type": "markdown",
   "id": "cb5aae01",
   "metadata": {},
   "source": [
    "**Habitats Survey**"
   ]
  },
  {
   "cell_type": "code",
   "execution_count": 33,
   "id": "42dac0f7",
   "metadata": {},
   "outputs": [
    {
     "name": "stderr",
     "output_type": "stream",
     "text": [
      "/Users/maureenfonseca/Desktop/oceanprogram/Experimental_Work/MBU_utils.py:139: ShapelyDeprecationWarning: The 'type' attribute is deprecated, and will be removed in the future. You can use the 'geom_type' attribute instead.\n",
      "  if this_row_boundary.type[:len('multi')].lower() == 'multi':\n",
      "/Users/maureenfonseca/Desktop/oceanprogram/Experimental_Work/MBU_utils.py:160: UserWarning: Geometry is in a geographic CRS. Results from 'centroid' are likely incorrect. Use 'GeoSeries.to_crs()' to re-project geometries to a projected CRS before this operation.\n",
      "\n",
      "  new_gdf['geom_centroid'] = new_gdf.centroid\n"
     ]
    }
   ],
   "source": [
    "mbu_habitats_survey = mbu_habitats_survey(ACMC, grid, eco_names, 31970)"
   ]
  },
  {
   "cell_type": "code",
   "execution_count": 34,
   "id": "5adff9bc",
   "metadata": {},
   "outputs": [
    {
     "data": {
      "text/html": [
       "<div>\n",
       "<style scoped>\n",
       "    .dataframe tbody tr th:only-of-type {\n",
       "        vertical-align: middle;\n",
       "    }\n",
       "\n",
       "    .dataframe tbody tr th {\n",
       "        vertical-align: top;\n",
       "    }\n",
       "\n",
       "    .dataframe thead th {\n",
       "        text-align: right;\n",
       "    }\n",
       "</style>\n",
       "<table border=\"1\" class=\"dataframe\">\n",
       "  <thead>\n",
       "    <tr style=\"text-align: right;\">\n",
       "      <th></th>\n",
       "      <th>geometry</th>\n",
       "      <th>Grid_ID</th>\n",
       "      <th>Shannon</th>\n",
       "      <th>Simpson</th>\n",
       "      <th>endemism</th>\n",
       "      <th>wege</th>\n",
       "      <th>species_richness</th>\n",
       "      <th>habitats_survey</th>\n",
       "      <th>area_sqkm</th>\n",
       "      <th>mbu_biodiversity_score</th>\n",
       "      <th>mbu_species_richness</th>\n",
       "      <th>mbu_endemism</th>\n",
       "      <th>mbu_wege</th>\n",
       "      <th>mbu_habitats_survey</th>\n",
       "    </tr>\n",
       "  </thead>\n",
       "  <tbody>\n",
       "    <tr>\n",
       "      <th>0</th>\n",
       "      <td>POLYGON ((-88.32201 2.15063, -88.82201 3.01666...</td>\n",
       "      <td>0</td>\n",
       "      <td>NaN</td>\n",
       "      <td>NaN</td>\n",
       "      <td>NaN</td>\n",
       "      <td>NaN</td>\n",
       "      <td>1</td>\n",
       "      <td>NaN</td>\n",
       "      <td>31986.471199</td>\n",
       "      <td>NaN</td>\n",
       "      <td>11.064155</td>\n",
       "      <td>NaN</td>\n",
       "      <td>NaN</td>\n",
       "      <td>NaN</td>\n",
       "    </tr>\n",
       "    <tr>\n",
       "      <th>1</th>\n",
       "      <td>POLYGON ((-88.32201 3.88268, -88.82201 4.74871...</td>\n",
       "      <td>1</td>\n",
       "      <td>-0.000000</td>\n",
       "      <td>1.000000</td>\n",
       "      <td>0.000000</td>\n",
       "      <td>0.000000</td>\n",
       "      <td>18</td>\n",
       "      <td>6.0</td>\n",
       "      <td>31936.727495</td>\n",
       "      <td>31936.727495</td>\n",
       "      <td>198.845069</td>\n",
       "      <td>0.000000</td>\n",
       "      <td>0.000000</td>\n",
       "      <td>23952.545621</td>\n",
       "    </tr>\n",
       "    <tr>\n",
       "      <th>2</th>\n",
       "      <td>POLYGON ((-88.32201 5.61474, -88.82201 6.48076...</td>\n",
       "      <td>2</td>\n",
       "      <td>-0.000000</td>\n",
       "      <td>1.000000</td>\n",
       "      <td>0.000000</td>\n",
       "      <td>0.000000</td>\n",
       "      <td>43</td>\n",
       "      <td>7.0</td>\n",
       "      <td>31858.465100</td>\n",
       "      <td>31858.465100</td>\n",
       "      <td>473.854721</td>\n",
       "      <td>0.000000</td>\n",
       "      <td>0.000000</td>\n",
       "      <td>27876.156962</td>\n",
       "    </tr>\n",
       "    <tr>\n",
       "      <th>3</th>\n",
       "      <td>POLYGON ((-88.32201 7.34679, -88.82201 8.21281...</td>\n",
       "      <td>3</td>\n",
       "      <td>-0.000000</td>\n",
       "      <td>1.000000</td>\n",
       "      <td>0.000000</td>\n",
       "      <td>0.000000</td>\n",
       "      <td>1</td>\n",
       "      <td>6.0</td>\n",
       "      <td>31751.740608</td>\n",
       "      <td>31751.740608</td>\n",
       "      <td>10.982961</td>\n",
       "      <td>0.000000</td>\n",
       "      <td>0.000000</td>\n",
       "      <td>23813.805456</td>\n",
       "    </tr>\n",
       "    <tr>\n",
       "      <th>4</th>\n",
       "      <td>POLYGON ((-86.82201 1.28461, -87.32201 2.15063...</td>\n",
       "      <td>4</td>\n",
       "      <td>NaN</td>\n",
       "      <td>NaN</td>\n",
       "      <td>NaN</td>\n",
       "      <td>NaN</td>\n",
       "      <td>1</td>\n",
       "      <td>NaN</td>\n",
       "      <td>31954.393897</td>\n",
       "      <td>NaN</td>\n",
       "      <td>11.053059</td>\n",
       "      <td>NaN</td>\n",
       "      <td>NaN</td>\n",
       "      <td>NaN</td>\n",
       "    </tr>\n",
       "    <tr>\n",
       "      <th>5</th>\n",
       "      <td>POLYGON ((-86.82201 3.01666, -87.32201 3.88268...</td>\n",
       "      <td>5</td>\n",
       "      <td>-0.000000</td>\n",
       "      <td>1.000000</td>\n",
       "      <td>0.000000</td>\n",
       "      <td>0.000000</td>\n",
       "      <td>105</td>\n",
       "      <td>6.0</td>\n",
       "      <td>31919.081068</td>\n",
       "      <td>31919.081068</td>\n",
       "      <td>1159.288659</td>\n",
       "      <td>0.000000</td>\n",
       "      <td>0.000000</td>\n",
       "      <td>23939.310801</td>\n",
       "    </tr>\n",
       "    <tr>\n",
       "      <th>6</th>\n",
       "      <td>POLYGON ((-86.82201 4.74871, -87.32201 5.61474...</td>\n",
       "      <td>6</td>\n",
       "      <td>1.980391</td>\n",
       "      <td>0.999931</td>\n",
       "      <td>11952.095261</td>\n",
       "      <td>327.565145</td>\n",
       "      <td>651</td>\n",
       "      <td>6.0</td>\n",
       "      <td>31855.354220</td>\n",
       "      <td>50301.508173</td>\n",
       "      <td>7173.239570</td>\n",
       "      <td>18574.703579</td>\n",
       "      <td>19794.196355</td>\n",
       "      <td>23891.515665</td>\n",
       "    </tr>\n",
       "    <tr>\n",
       "      <th>7</th>\n",
       "      <td>POLYGON ((-86.82201 6.48076, -87.32201 7.34679...</td>\n",
       "      <td>7</td>\n",
       "      <td>2.463775</td>\n",
       "      <td>0.999919</td>\n",
       "      <td>14479.794850</td>\n",
       "      <td>421.216818</td>\n",
       "      <td>186</td>\n",
       "      <td>7.0</td>\n",
       "      <td>31763.257814</td>\n",
       "      <td>54645.669233</td>\n",
       "      <td>2043.571758</td>\n",
       "      <td>22437.933462</td>\n",
       "      <td>25379.817474</td>\n",
       "      <td>27792.850587</td>\n",
       "    </tr>\n",
       "    <tr>\n",
       "      <th>8</th>\n",
       "      <td>POLYGON ((-86.82201 8.21281, -87.32201 9.07884...</td>\n",
       "      <td>8</td>\n",
       "      <td>NaN</td>\n",
       "      <td>NaN</td>\n",
       "      <td>NaN</td>\n",
       "      <td>NaN</td>\n",
       "      <td>1</td>\n",
       "      <td>NaN</td>\n",
       "      <td>31642.856236</td>\n",
       "      <td>NaN</td>\n",
       "      <td>10.945298</td>\n",
       "      <td>NaN</td>\n",
       "      <td>NaN</td>\n",
       "      <td>NaN</td>\n",
       "    </tr>\n",
       "    <tr>\n",
       "      <th>9</th>\n",
       "      <td>POLYGON ((-85.32201 2.15063, -85.82201 3.01666...</td>\n",
       "      <td>9</td>\n",
       "      <td>-0.000000</td>\n",
       "      <td>1.000000</td>\n",
       "      <td>0.000000</td>\n",
       "      <td>0.000000</td>\n",
       "      <td>33</td>\n",
       "      <td>7.0</td>\n",
       "      <td>31938.178096</td>\n",
       "      <td>31938.178096</td>\n",
       "      <td>364.565852</td>\n",
       "      <td>0.000000</td>\n",
       "      <td>0.000000</td>\n",
       "      <td>27945.905834</td>\n",
       "    </tr>\n",
       "    <tr>\n",
       "      <th>10</th>\n",
       "      <td>POLYGON ((-85.32201 3.88268, -85.82201 4.74871...</td>\n",
       "      <td>10</td>\n",
       "      <td>0.430802</td>\n",
       "      <td>0.999988</td>\n",
       "      <td>2501.337605</td>\n",
       "      <td>84.302339</td>\n",
       "      <td>165</td>\n",
       "      <td>6.0</td>\n",
       "      <td>31888.663978</td>\n",
       "      <td>35905.631000</td>\n",
       "      <td>1820.003306</td>\n",
       "      <td>3891.383597</td>\n",
       "      <td>5099.571697</td>\n",
       "      <td>23916.497983</td>\n",
       "    </tr>\n",
       "    <tr>\n",
       "      <th>11</th>\n",
       "      <td>POLYGON ((-85.32201 5.61474, -85.82201 6.48076...</td>\n",
       "      <td>11</td>\n",
       "      <td>3.419601</td>\n",
       "      <td>0.999886</td>\n",
       "      <td>20497.674516</td>\n",
       "      <td>527.159756</td>\n",
       "      <td>2891</td>\n",
       "      <td>8.0</td>\n",
       "      <td>31810.761273</td>\n",
       "      <td>63617.886861</td>\n",
       "      <td>31810.761273</td>\n",
       "      <td>31810.761273</td>\n",
       "      <td>31810.761273</td>\n",
       "      <td>31810.761273</td>\n",
       "    </tr>\n",
       "    <tr>\n",
       "      <th>12</th>\n",
       "      <td>POLYGON ((-85.32201 7.34679, -85.82201 8.21281...</td>\n",
       "      <td>12</td>\n",
       "      <td>0.000059</td>\n",
       "      <td>1.000000</td>\n",
       "      <td>0.000000</td>\n",
       "      <td>0.000016</td>\n",
       "      <td>3</td>\n",
       "      <td>6.0</td>\n",
       "      <td>31704.524296</td>\n",
       "      <td>31705.066842</td>\n",
       "      <td>32.899887</td>\n",
       "      <td>0.000000</td>\n",
       "      <td>0.000938</td>\n",
       "      <td>23778.393222</td>\n",
       "    </tr>\n",
       "    <tr>\n",
       "      <th>13</th>\n",
       "      <td>POLYGON ((-83.82201 1.28461, -84.32201 2.15063...</td>\n",
       "      <td>13</td>\n",
       "      <td>NaN</td>\n",
       "      <td>NaN</td>\n",
       "      <td>NaN</td>\n",
       "      <td>NaN</td>\n",
       "      <td>1</td>\n",
       "      <td>NaN</td>\n",
       "      <td>31994.276768</td>\n",
       "      <td>NaN</td>\n",
       "      <td>11.066855</td>\n",
       "      <td>NaN</td>\n",
       "      <td>NaN</td>\n",
       "      <td>NaN</td>\n",
       "    </tr>\n",
       "    <tr>\n",
       "      <th>14</th>\n",
       "      <td>POLYGON ((-83.82201 3.01666, -84.32201 3.88268...</td>\n",
       "      <td>14</td>\n",
       "      <td>NaN</td>\n",
       "      <td>NaN</td>\n",
       "      <td>NaN</td>\n",
       "      <td>NaN</td>\n",
       "      <td>1</td>\n",
       "      <td>NaN</td>\n",
       "      <td>31958.828748</td>\n",
       "      <td>NaN</td>\n",
       "      <td>11.054593</td>\n",
       "      <td>NaN</td>\n",
       "      <td>NaN</td>\n",
       "      <td>NaN</td>\n",
       "    </tr>\n",
       "    <tr>\n",
       "      <th>15</th>\n",
       "      <td>POLYGON ((-83.82201 4.74871, -84.32201 5.61474...</td>\n",
       "      <td>15</td>\n",
       "      <td>NaN</td>\n",
       "      <td>NaN</td>\n",
       "      <td>NaN</td>\n",
       "      <td>NaN</td>\n",
       "      <td>1</td>\n",
       "      <td>NaN</td>\n",
       "      <td>31894.858731</td>\n",
       "      <td>NaN</td>\n",
       "      <td>11.032466</td>\n",
       "      <td>NaN</td>\n",
       "      <td>NaN</td>\n",
       "      <td>NaN</td>\n",
       "    </tr>\n",
       "    <tr>\n",
       "      <th>16</th>\n",
       "      <td>POLYGON ((-83.82201 6.48076, -84.32201 7.34679...</td>\n",
       "      <td>16</td>\n",
       "      <td>NaN</td>\n",
       "      <td>NaN</td>\n",
       "      <td>NaN</td>\n",
       "      <td>NaN</td>\n",
       "      <td>1</td>\n",
       "      <td>NaN</td>\n",
       "      <td>31802.412720</td>\n",
       "      <td>NaN</td>\n",
       "      <td>11.000489</td>\n",
       "      <td>NaN</td>\n",
       "      <td>NaN</td>\n",
       "      <td>NaN</td>\n",
       "    </tr>\n",
       "    <tr>\n",
       "      <th>17</th>\n",
       "      <td>POLYGON ((-83.82201 8.21281, -84.32201 9.07884...</td>\n",
       "      <td>17</td>\n",
       "      <td>NaN</td>\n",
       "      <td>NaN</td>\n",
       "      <td>NaN</td>\n",
       "      <td>NaN</td>\n",
       "      <td>1</td>\n",
       "      <td>NaN</td>\n",
       "      <td>31681.557317</td>\n",
       "      <td>NaN</td>\n",
       "      <td>10.958685</td>\n",
       "      <td>NaN</td>\n",
       "      <td>NaN</td>\n",
       "      <td>NaN</td>\n",
       "    </tr>\n",
       "  </tbody>\n",
       "</table>\n",
       "</div>"
      ],
      "text/plain": [
       "                                             geometry  Grid_ID   Shannon  \\\n",
       "0   POLYGON ((-88.32201 2.15063, -88.82201 3.01666...        0       NaN   \n",
       "1   POLYGON ((-88.32201 3.88268, -88.82201 4.74871...        1 -0.000000   \n",
       "2   POLYGON ((-88.32201 5.61474, -88.82201 6.48076...        2 -0.000000   \n",
       "3   POLYGON ((-88.32201 7.34679, -88.82201 8.21281...        3 -0.000000   \n",
       "4   POLYGON ((-86.82201 1.28461, -87.32201 2.15063...        4       NaN   \n",
       "5   POLYGON ((-86.82201 3.01666, -87.32201 3.88268...        5 -0.000000   \n",
       "6   POLYGON ((-86.82201 4.74871, -87.32201 5.61474...        6  1.980391   \n",
       "7   POLYGON ((-86.82201 6.48076, -87.32201 7.34679...        7  2.463775   \n",
       "8   POLYGON ((-86.82201 8.21281, -87.32201 9.07884...        8       NaN   \n",
       "9   POLYGON ((-85.32201 2.15063, -85.82201 3.01666...        9 -0.000000   \n",
       "10  POLYGON ((-85.32201 3.88268, -85.82201 4.74871...       10  0.430802   \n",
       "11  POLYGON ((-85.32201 5.61474, -85.82201 6.48076...       11  3.419601   \n",
       "12  POLYGON ((-85.32201 7.34679, -85.82201 8.21281...       12  0.000059   \n",
       "13  POLYGON ((-83.82201 1.28461, -84.32201 2.15063...       13       NaN   \n",
       "14  POLYGON ((-83.82201 3.01666, -84.32201 3.88268...       14       NaN   \n",
       "15  POLYGON ((-83.82201 4.74871, -84.32201 5.61474...       15       NaN   \n",
       "16  POLYGON ((-83.82201 6.48076, -84.32201 7.34679...       16       NaN   \n",
       "17  POLYGON ((-83.82201 8.21281, -84.32201 9.07884...       17       NaN   \n",
       "\n",
       "     Simpson      endemism        wege  species_richness  habitats_survey  \\\n",
       "0        NaN           NaN         NaN                 1              NaN   \n",
       "1   1.000000      0.000000    0.000000                18              6.0   \n",
       "2   1.000000      0.000000    0.000000                43              7.0   \n",
       "3   1.000000      0.000000    0.000000                 1              6.0   \n",
       "4        NaN           NaN         NaN                 1              NaN   \n",
       "5   1.000000      0.000000    0.000000               105              6.0   \n",
       "6   0.999931  11952.095261  327.565145               651              6.0   \n",
       "7   0.999919  14479.794850  421.216818               186              7.0   \n",
       "8        NaN           NaN         NaN                 1              NaN   \n",
       "9   1.000000      0.000000    0.000000                33              7.0   \n",
       "10  0.999988   2501.337605   84.302339               165              6.0   \n",
       "11  0.999886  20497.674516  527.159756              2891              8.0   \n",
       "12  1.000000      0.000000    0.000016                 3              6.0   \n",
       "13       NaN           NaN         NaN                 1              NaN   \n",
       "14       NaN           NaN         NaN                 1              NaN   \n",
       "15       NaN           NaN         NaN                 1              NaN   \n",
       "16       NaN           NaN         NaN                 1              NaN   \n",
       "17       NaN           NaN         NaN                 1              NaN   \n",
       "\n",
       "       area_sqkm  mbu_biodiversity_score  mbu_species_richness  mbu_endemism  \\\n",
       "0   31986.471199                     NaN             11.064155           NaN   \n",
       "1   31936.727495            31936.727495            198.845069      0.000000   \n",
       "2   31858.465100            31858.465100            473.854721      0.000000   \n",
       "3   31751.740608            31751.740608             10.982961      0.000000   \n",
       "4   31954.393897                     NaN             11.053059           NaN   \n",
       "5   31919.081068            31919.081068           1159.288659      0.000000   \n",
       "6   31855.354220            50301.508173           7173.239570  18574.703579   \n",
       "7   31763.257814            54645.669233           2043.571758  22437.933462   \n",
       "8   31642.856236                     NaN             10.945298           NaN   \n",
       "9   31938.178096            31938.178096            364.565852      0.000000   \n",
       "10  31888.663978            35905.631000           1820.003306   3891.383597   \n",
       "11  31810.761273            63617.886861          31810.761273  31810.761273   \n",
       "12  31704.524296            31705.066842             32.899887      0.000000   \n",
       "13  31994.276768                     NaN             11.066855           NaN   \n",
       "14  31958.828748                     NaN             11.054593           NaN   \n",
       "15  31894.858731                     NaN             11.032466           NaN   \n",
       "16  31802.412720                     NaN             11.000489           NaN   \n",
       "17  31681.557317                     NaN             10.958685           NaN   \n",
       "\n",
       "        mbu_wege  mbu_habitats_survey  \n",
       "0            NaN                  NaN  \n",
       "1       0.000000         23952.545621  \n",
       "2       0.000000         27876.156962  \n",
       "3       0.000000         23813.805456  \n",
       "4            NaN                  NaN  \n",
       "5       0.000000         23939.310801  \n",
       "6   19794.196355         23891.515665  \n",
       "7   25379.817474         27792.850587  \n",
       "8            NaN                  NaN  \n",
       "9       0.000000         27945.905834  \n",
       "10   5099.571697         23916.497983  \n",
       "11  31810.761273         31810.761273  \n",
       "12      0.000938         23778.393222  \n",
       "13           NaN                  NaN  \n",
       "14           NaN                  NaN  \n",
       "15           NaN                  NaN  \n",
       "16           NaN                  NaN  \n",
       "17           NaN                  NaN  "
      ]
     },
     "execution_count": 34,
     "metadata": {},
     "output_type": "execute_result"
    }
   ],
   "source": [
    "mbu_habitats_survey"
   ]
  },
  {
   "cell_type": "code",
   "execution_count": null,
   "id": "2f7749c2",
   "metadata": {},
   "outputs": [],
   "source": []
  }
 ],
 "metadata": {
  "kernelspec": {
   "display_name": "Python 3 (ipykernel)",
   "language": "python",
   "name": "python3"
  },
  "language_info": {
   "codemirror_mode": {
    "name": "ipython",
    "version": 3
   },
   "file_extension": ".py",
   "mimetype": "text/x-python",
   "name": "python",
   "nbconvert_exporter": "python",
   "pygments_lexer": "ipython3",
   "version": "3.9.13"
  }
 },
 "nbformat": 4,
 "nbformat_minor": 5
}
