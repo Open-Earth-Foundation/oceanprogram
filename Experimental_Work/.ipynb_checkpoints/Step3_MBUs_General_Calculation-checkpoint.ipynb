{
 "cells": [
  {
   "cell_type": "markdown",
   "id": "fd68a188",
   "metadata": {},
   "source": [
    "# Open Ocean\n",
    "## Open Earth Fundation"
   ]
  },
  {
   "cell_type": "markdown",
   "id": "6b29a0a6",
   "metadata": {},
   "source": [
    "## Step 3: \n",
    "Calculate a final number of `Marine Biodiversity Units (MBUs)` based on the modulating factors score"
   ]
  },
  {
   "cell_type": "markdown",
   "id": "77b419cf",
   "metadata": {},
   "source": [
    "### Marine Biodiversity Units (MBUs)"
   ]
  },
  {
   "cell_type": "markdown",
   "id": "18a88ff0",
   "metadata": {},
   "source": [
    "We think that to develop a scalable system of marine biodiversity credits, we must first define what the credit unit is. To achieve this, we aim to develop a metric that incorporates the ecological values of the ecosystems within each acreage—or 1 km$^2$—of ocean protected. \n",
    "\n",
    "The number of MBUs assigned to each km$^2$ is modulated by different factors, which we call \"Modularing Factors\".\n",
    "\n",
    "These Modulating Factors are:\n",
    "1. Normalize Marine Biodiversity Score\n",
    "2. Species richness\n",
    "3. Species distribution area\n",
    "4. Endemism\n",
    "5. Habitats' Survey\n",
    "6. Vulnerability of species\n",
    "\n",
    "**Note:** Some of these factors do not have a defined methodology yet.\n",
    "\n",
    "Each Modulating Factor has a weight factor that it's define by (...)(?)"
   ]
  },
  {
   "cell_type": "markdown",
   "id": "68e853e6",
   "metadata": {},
   "source": [
    "**General Methodology**"
   ]
  },
  {
   "cell_type": "markdown",
   "id": "dc0ca1b7",
   "metadata": {},
   "source": [
    "- Per km$^2$:\n",
    "$$\n",
    "\\begin{align}\n",
    "MBUs_{sqdkm} = \\sum_{i=1}^{6} C_i\\times MBUs_i\n",
    "\\end{align}\n",
    "$$\n",
    "\n",
    "where i represent each modulating factor and $C_i$ represent the weight factor of that modulating factor\n",
    "\n",
    "This means that each km$^2$ is assigned a number of MBUs per modulating factor\n",
    "\n",
    "- For the entire MPA:\n",
    "$$\n",
    "\\begin{align}\n",
    "\\text{Total MBUs} = \\sum_{j=1}^{N} MBUs_{sqdkm}\n",
    "\\end{align}\n",
    "$$\n",
    "\n",
    "where N represents the total size of the MPA in km$^2$"
   ]
  },
  {
   "cell_type": "markdown",
   "id": "07ec4f99",
   "metadata": {},
   "source": [
    "## 3.1 Import Libraries"
   ]
  },
  {
   "cell_type": "code",
   "execution_count": 2,
   "id": "8612c3b9",
   "metadata": {},
   "outputs": [],
   "source": [
    "# load basic libraries\n",
    "import os\n",
    "import glob\n",
    "import boto3\n",
    "\n",
    "import math\n",
    "import numpy as np\n",
    "import pandas as pd\n",
    "\n",
    "# to plot\n",
    "import matplotlib.pyplot as plt\n",
    "\n",
    "# to manage shapefiles\n",
    "import shapely\n",
    "import geopandas as gpd\n",
    "from shapely.geometry import Polygon, Point, box\n",
    "from shapely.ops import linemerge, unary_union, polygonize"
   ]
  },
  {
   "cell_type": "code",
   "execution_count": 3,
   "id": "c0f85099",
   "metadata": {},
   "outputs": [],
   "source": [
    "import fiona; #help(fiona.open)"
   ]
  },
  {
   "cell_type": "markdown",
   "id": "7c5d169a",
   "metadata": {},
   "source": [
    "**OEF Functions**"
   ]
  },
  {
   "cell_type": "code",
   "execution_count": 4,
   "id": "314a68db",
   "metadata": {},
   "outputs": [],
   "source": [
    "%load_ext autoreload"
   ]
  },
  {
   "cell_type": "code",
   "execution_count": 5,
   "id": "92de119c",
   "metadata": {},
   "outputs": [],
   "source": [
    "#Run this to reload the python file\n",
    "%autoreload 2\n",
    "from MBU_utils import *"
   ]
  },
  {
   "cell_type": "markdown",
   "id": "e6b69257",
   "metadata": {},
   "source": [
    "## 3.2 Data Needed"
   ]
  },
  {
   "cell_type": "markdown",
   "id": "297c2ae8",
   "metadata": {},
   "source": [
    "**Import the entire marine protected area file**"
   ]
  },
  {
   "cell_type": "code",
   "execution_count": 6,
   "id": "7898fbe9",
   "metadata": {},
   "outputs": [],
   "source": [
    "ACMC = gpd.read_file('https://ocean-program.s3.amazonaws.com/data/raw/MPAs/ACMC.geojson')"
   ]
  },
  {
   "cell_type": "markdown",
   "id": "ad374205",
   "metadata": {},
   "source": [
    "Inspect the Coordinate Reference Systems (CRS)"
   ]
  },
  {
   "cell_type": "code",
   "execution_count": 7,
   "id": "33c14143",
   "metadata": {},
   "outputs": [
    {
     "data": {
      "text/plain": [
       "<Geographic 2D CRS: EPSG:4326>\n",
       "Name: WGS 84\n",
       "Axis Info [ellipsoidal]:\n",
       "- Lat[north]: Geodetic latitude (degree)\n",
       "- Lon[east]: Geodetic longitude (degree)\n",
       "Area of Use:\n",
       "- name: World.\n",
       "- bounds: (-180.0, -90.0, 180.0, 90.0)\n",
       "Datum: World Geodetic System 1984 ensemble\n",
       "- Ellipsoid: WGS 84\n",
       "- Prime Meridian: Greenwich"
      ]
     },
     "execution_count": 7,
     "metadata": {},
     "output_type": "execute_result"
    }
   ],
   "source": [
    "ACMC.crs"
   ]
  },
  {
   "cell_type": "markdown",
   "id": "9ee37265",
   "metadata": {},
   "source": [
    "**Import the species information**\n",
    "\n",
    "The species information needed for this project is:\n",
    "\n",
    "- Species name\n",
    "- Polygons of distribution for each species in the list"
   ]
  },
  {
   "cell_type": "code",
   "execution_count": 8,
   "id": "6dc34f73",
   "metadata": {},
   "outputs": [],
   "source": [
    "#Locally\n",
    "df = gpd.read_file('/Users/maureenfonseca/Desktop/Data-Oceans/ACMC_IUCN_data/gdf_ACMC_IUCN_range_status_filtered.shp')"
   ]
  },
  {
   "cell_type": "markdown",
   "id": "5c625a96",
   "metadata": {},
   "source": [
    "**Import the habitats/ecosystems information**"
   ]
  },
  {
   "cell_type": "code",
   "execution_count": 10,
   "id": "1330a09f",
   "metadata": {},
   "outputs": [],
   "source": [
    "#Locally\n",
    "source_dir = '/Users/maureenfonseca/Desktop/Data-Oceans/Ecosystem_Typology_IUCN/'\n",
    "eco_names = np.sort(glob.glob(source_dir + \"/*.json\"))"
   ]
  },
  {
   "cell_type": "markdown",
   "id": "622facdd",
   "metadata": {},
   "source": [
    "**Grid gdf**"
   ]
  },
  {
   "cell_type": "code",
   "execution_count": 9,
   "id": "9898f25f",
   "metadata": {},
   "outputs": [],
   "source": [
    "grid = create_grid(ACMC, grid_shape=\"hexagon\", grid_size_deg=1.)"
   ]
  },
  {
   "cell_type": "markdown",
   "id": "0765ae18",
   "metadata": {},
   "source": [
    "## 3.3 MBU Calculations"
   ]
  },
  {
   "cell_type": "markdown",
   "id": "01c5c215",
   "metadata": {},
   "source": [
    "**Weighted Factors**\n",
    "\n",
    "(To be define)"
   ]
  },
  {
   "cell_type": "markdown",
   "id": "0c6f6f5e",
   "metadata": {},
   "source": [
    "### Habitats Survey"
   ]
  },
  {
   "cell_type": "code",
   "execution_count": 12,
   "id": "a605d469",
   "metadata": {},
   "outputs": [
    {
     "name": "stderr",
     "output_type": "stream",
     "text": [
      "/Users/maureenfonseca/Desktop/Oceans/oceanprogram/Experimental_Work/MBU_utils.py:140: ShapelyDeprecationWarning: The 'type' attribute is deprecated, and will be removed in the future. You can use the 'geom_type' attribute instead.\n",
      "  if this_row_boundary.type[:len('multi')].lower() == 'multi':\n",
      "/Users/maureenfonseca/Desktop/Oceans/oceanprogram/Experimental_Work/MBU_utils.py:161: UserWarning: Geometry is in a geographic CRS. Results from 'centroid' are likely incorrect. Use 'GeoSeries.to_crs()' to re-project geometries to a projected CRS before this operation.\n",
      "\n",
      "  new_gdf['geom_centroid'] = new_gdf.centroid\n"
     ]
    },
    {
     "name": "stdout",
     "output_type": "stream",
     "text": [
      "CPU times: user 3min 23s, sys: 3.68 s, total: 3min 27s\n",
      "Wall time: 3min 30s\n"
     ]
    }
   ],
   "source": [
    "%%time\n",
    "MBU_habitats = mbu_habitats_survey(ACMC, eco_names, grid)"
   ]
  },
  {
   "cell_type": "markdown",
   "id": "e3816fbc",
   "metadata": {},
   "source": [
    "### Endemism"
   ]
  },
  {
   "cell_type": "code",
   "execution_count": null,
   "id": "99742766",
   "metadata": {},
   "outputs": [],
   "source": [
    "%%time\n",
    "MBU_endemism = mbu_endemism(ACMC, df, grid)"
   ]
  },
  {
   "cell_type": "markdown",
   "id": "a1e800a5",
   "metadata": {},
   "source": [
    "### WEGE"
   ]
  },
  {
   "cell_type": "code",
   "execution_count": null,
   "id": "56873db5",
   "metadata": {},
   "outputs": [],
   "source": [
    "%%time\n",
    "MBU_wege = mbu_wege(ACMC, df, grid, transform=\"square-root\")"
   ]
  },
  {
   "cell_type": "markdown",
   "id": "a8a84582",
   "metadata": {},
   "source": [
    "### Species Richness"
   ]
  },
  {
   "cell_type": "code",
   "execution_count": null,
   "id": "cac73234",
   "metadata": {},
   "outputs": [],
   "source": [
    "%%time\n",
    "mbu_species_richness(ACMC, df, grid)"
   ]
  },
  {
   "cell_type": "markdown",
   "id": "3eb8151b",
   "metadata": {},
   "source": [
    "### Normalized Biodiveristy Score"
   ]
  },
  {
   "cell_type": "markdown",
   "id": "09c2dd76",
   "metadata": {},
   "source": [
    "The IUCN Red List dataset does not have information on species abundance, to calculate this MF, that information will be randomly assigned."
   ]
  },
  {
   "cell_type": "code",
   "execution_count": 10,
   "id": "cbe2d1ed",
   "metadata": {},
   "outputs": [],
   "source": [
    "fake_abundance = np.random.randint(50, size = (len(df)))\n",
    "df['abundance'] = fake_abundance"
   ]
  },
  {
   "cell_type": "code",
   "execution_count": null,
   "id": "04a8125c",
   "metadata": {},
   "outputs": [],
   "source": [
    "%%time\n",
    "mbu_normalize_biodiversity_score(ACMC, df, grid, 'abundance')"
   ]
  }
 ],
 "metadata": {
  "kernelspec": {
   "display_name": "Python 3 (ipykernel)",
   "language": "python",
   "name": "python3"
  },
  "language_info": {
   "codemirror_mode": {
    "name": "ipython",
    "version": 3
   },
   "file_extension": ".py",
   "mimetype": "text/x-python",
   "name": "python",
   "nbconvert_exporter": "python",
   "pygments_lexer": "ipython3",
   "version": "3.9.13"
  }
 },
 "nbformat": 4,
 "nbformat_minor": 5
}
