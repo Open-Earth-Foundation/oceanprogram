{
 "cells": [
  {
   "cell_type": "markdown",
   "id": "fd68a188",
   "metadata": {},
   "source": [
    "# Open Ocean\n",
    "## Open Earth Fundation"
   ]
  },
  {
   "cell_type": "markdown",
   "id": "6b29a0a6",
   "metadata": {},
   "source": [
    "## Step 3: \n",
    "Calculate a final number of `Marine Biodiversity Units (MBUs)` based on the modulating factors score"
   ]
  },
  {
   "cell_type": "markdown",
   "id": "77b419cf",
   "metadata": {},
   "source": [
    "### Marine Biodiversity Units (MBUs)"
   ]
  },
  {
   "cell_type": "markdown",
   "id": "18a88ff0",
   "metadata": {},
   "source": [
    "We think that to develop a scalable system of marine biodiversity credits, we must first define what the credit unit is. To achieve this, we aim to develop a metric that incorporates the ecological values of the ecosystems within each acreage—or 1 km$^2$—of ocean protected. \n",
    "\n",
    "The number of MBUs assigned to each km$^2$ is modulated by different factors, which we call \"Modularing Factors\".\n",
    "\n",
    "These Modulating Factors are:\n",
    "1. Normalize Marine Biodiversity Score\n",
    "2. Species richness\n",
    "3. Species distribution area\n",
    "4. Endemism\n",
    "5. Habitats' Survey\n",
    "6. Vulnerability of species\n",
    "\n",
    "**Note:** Some of these factors do not have a defined methodology yet.\n",
    "\n",
    "Each Modulating Factor has a weight factor that it's define by (...)(?)"
   ]
  },
  {
   "cell_type": "markdown",
   "id": "68e853e6",
   "metadata": {},
   "source": [
    "**General Methodology**"
   ]
  },
  {
   "cell_type": "markdown",
   "id": "dc0ca1b7",
   "metadata": {},
   "source": [
    "- Per km$^2$:\n",
    "$$\n",
    "\\begin{align}\n",
    "MBUs_{sqdkm} = \\sum_{i=1}^{6} C_i\\times MBUs_i\n",
    "\\end{align}\n",
    "$$\n",
    "\n",
    "where i represent each modulating factor and $C_i$ represent the weight factor of that modulating factor\n",
    "\n",
    "This means that each km$^2$ is assigned a number of MBUs per modulating factor\n",
    "\n",
    "- For the entire MPA:\n",
    "$$\n",
    "\\begin{align}\n",
    "\\text{Total MBUs} = \\sum_{j=1}^{N} MBUs_{sqdkm}\n",
    "\\end{align}\n",
    "$$\n",
    "\n",
    "where N represents the total size of the MPA in km$^2$"
   ]
  },
  {
   "cell_type": "markdown",
   "id": "07ec4f99",
   "metadata": {},
   "source": [
    "## 3.1 Import Libraries"
   ]
  },
  {
   "cell_type": "code",
   "execution_count": 1,
   "id": "8612c3b9",
   "metadata": {},
   "outputs": [],
   "source": [
    "import os\n",
    "import glob\n",
    "import boto3\n",
    "\n",
    "import math\n",
    "import numpy as np\n",
    "import pandas as pd\n",
    "\n",
    "import matplotlib.pyplot as plt\n",
    "\n",
    "import shapely\n",
    "import geopandas as gpd\n",
    "from shapely.geometry import Polygon, Point, box\n",
    "from shapely.ops import linemerge, unary_union, polygonize"
   ]
  },
  {
   "cell_type": "code",
   "execution_count": 2,
   "id": "c0f85099",
   "metadata": {},
   "outputs": [],
   "source": [
    "import fiona; #help(fiona.open)"
   ]
  },
  {
   "cell_type": "markdown",
   "id": "7c5d169a",
   "metadata": {},
   "source": [
    "**OEF Functions**"
   ]
  },
  {
   "cell_type": "code",
   "execution_count": 3,
   "id": "314a68db",
   "metadata": {},
   "outputs": [],
   "source": [
    "%load_ext autoreload"
   ]
  },
  {
   "cell_type": "code",
   "execution_count": 37,
   "id": "949cb87e",
   "metadata": {},
   "outputs": [],
   "source": [
    "#Run this to reload the python file\n",
    "%autoreload 2\n",
    "from MBU_utils import *"
   ]
  },
  {
   "cell_type": "markdown",
   "id": "e6b69257",
   "metadata": {},
   "source": [
    "## 3.2 General Data Needed"
   ]
  },
  {
   "cell_type": "markdown",
   "id": "297c2ae8",
   "metadata": {},
   "source": [
    "**Import the entire marine protected area file**"
   ]
  },
  {
   "cell_type": "code",
   "execution_count": 5,
   "id": "7898fbe9",
   "metadata": {},
   "outputs": [],
   "source": [
    "ACMC = gpd.read_file('https://ocean-program.s3.amazonaws.com/data/raw/MPAs/ACMC.geojson')"
   ]
  },
  {
   "cell_type": "markdown",
   "id": "ad374205",
   "metadata": {},
   "source": [
    "Inspect the Coordinate Reference Systems (CRS)"
   ]
  },
  {
   "cell_type": "code",
   "execution_count": 6,
   "id": "33c14143",
   "metadata": {},
   "outputs": [
    {
     "data": {
      "text/plain": [
       "<Geographic 2D CRS: EPSG:4326>\n",
       "Name: WGS 84\n",
       "Axis Info [ellipsoidal]:\n",
       "- Lat[north]: Geodetic latitude (degree)\n",
       "- Lon[east]: Geodetic longitude (degree)\n",
       "Area of Use:\n",
       "- name: World.\n",
       "- bounds: (-180.0, -90.0, 180.0, 90.0)\n",
       "Datum: World Geodetic System 1984 ensemble\n",
       "- Ellipsoid: WGS 84\n",
       "- Prime Meridian: Greenwich"
      ]
     },
     "execution_count": 6,
     "metadata": {},
     "output_type": "execute_result"
    }
   ],
   "source": [
    "ACMC.crs"
   ]
  },
  {
   "cell_type": "markdown",
   "id": "622facdd",
   "metadata": {},
   "source": [
    "**Grid gdf**"
   ]
  },
  {
   "cell_type": "code",
   "execution_count": 7,
   "id": "9898f25f",
   "metadata": {},
   "outputs": [],
   "source": [
    "grid = create_grid(ACMC, grid_shape=\"hexagon\", grid_size_deg=1.)"
   ]
  },
  {
   "cell_type": "markdown",
   "id": "ecf9794f",
   "metadata": {},
   "source": [
    "## 3.3 Calculations"
   ]
  },
  {
   "cell_type": "markdown",
   "id": "6049fcf9",
   "metadata": {},
   "source": [
    "### Using geometries"
   ]
  },
  {
   "cell_type": "markdown",
   "id": "9ee37265",
   "metadata": {},
   "source": [
    "**Import the species information from IUCN**"
   ]
  },
  {
   "cell_type": "code",
   "execution_count": 8,
   "id": "dec4bae7",
   "metadata": {},
   "outputs": [],
   "source": [
    "df1 = gpd.read_file('s3://ocean-program/data/Test/gdf_range_status_filtered_shortV.shp')"
   ]
  },
  {
   "cell_type": "code",
   "execution_count": null,
   "id": "6dc34f73",
   "metadata": {},
   "outputs": [],
   "source": [
    "#Locally\n",
    "#df1 = gpd.read_file('/Users/maureenfonseca/Desktop/oceanprogram/Marine_Ecosystem_Credits/Marine_Biodiversity/MBU_Methodology/gdf_range_status_filtered_shortV.shp')"
   ]
  },
  {
   "cell_type": "markdown",
   "id": "b2a24382",
   "metadata": {},
   "source": [
    "The IUCN Red List dataset doesn't have information on species abundance, to calculate some MF, that information will be randomly assigned for this moment."
   ]
  },
  {
   "cell_type": "code",
   "execution_count": 9,
   "id": "e60bc5ff",
   "metadata": {},
   "outputs": [],
   "source": [
    "import random\n",
    "\n",
    "fake_abundance1 = [random.randint(1, 100) for _ in range(len(df1))]\n",
    "df1['abundance'] = fake_abundance1"
   ]
  },
  {
   "cell_type": "markdown",
   "id": "5c625a96",
   "metadata": {},
   "source": [
    "**Import the habitats/ecosystems information**"
   ]
  },
  {
   "cell_type": "code",
   "execution_count": null,
   "id": "3423569b",
   "metadata": {},
   "outputs": [],
   "source": [
    "#From AWS\n",
    "s3 = boto3.resource('s3')\n",
    "bucket = s3.Bucket('ocean-program')\n",
    "\n",
    "eco_names = []\n",
    "\n",
    "for obj in bucket.objects.filter(Prefix='data/raw/Ecosystems/'):\n",
    "    name = obj.key[:]\n",
    "    eco_names.append(f'https://ocean-program.s3.amazonaws.com/{name}')"
   ]
  },
  {
   "cell_type": "code",
   "execution_count": null,
   "id": "acda4b59",
   "metadata": {},
   "outputs": [],
   "source": [
    "#Download and run it locally\n",
    "# Initialize S3 client\n",
    "s3 = boto3.client('s3')\n",
    "\n",
    "# Set the name of the bucket and the path to the directory\n",
    "bucket_name = 'ocean-program'\n",
    "directory_path = 'data/raw/Ecosystems/'\n",
    "\n",
    "# List all files in the directory\n",
    "response = s3.list_objects_v2(Bucket=bucket_name, Prefix=directory_path)\n",
    "\n",
    "# Download each file\n",
    "for obj in response['Contents']:\n",
    "    # Skip directories\n",
    "    if obj['Key'].endswith('/'):\n",
    "        continue\n",
    "    \n",
    "    # Download the file\n",
    "    file_name = obj['Key'].split('/')[-1]\n",
    "    s3.download_file(bucket_name, obj['Key'], file_name)\n",
    "    print(f\"Downloaded file: {file_name}\")"
   ]
  },
  {
   "cell_type": "markdown",
   "id": "6ac32e90",
   "metadata": {},
   "source": [
    "The downloaded files will be saved in the current working directory, so to list it:"
   ]
  },
  {
   "cell_type": "code",
   "execution_count": null,
   "id": "619f83df",
   "metadata": {},
   "outputs": [],
   "source": [
    "source_dir = './'\n",
    "eco_names = np.sort(glob.glob(source_dir + \"/*.json\"))"
   ]
  },
  {
   "cell_type": "code",
   "execution_count": 10,
   "id": "1330a09f",
   "metadata": {},
   "outputs": [],
   "source": [
    "#Locally\n",
    "source_dir = '/Users/maureenfonseca/Desktop/Data-Oceans/Ecosystem_Typology_IUCN/'\n",
    "eco_names = np.sort(glob.glob(source_dir + \"/*.json\"))"
   ]
  },
  {
   "cell_type": "markdown",
   "id": "01c5c215",
   "metadata": {},
   "source": [
    "**Weighted Factors**\n",
    "\n",
    "(To be define)"
   ]
  },
  {
   "cell_type": "markdown",
   "id": "0765ae18",
   "metadata": {},
   "source": [
    "### 3.3.1 Indices and metrics"
   ]
  },
  {
   "cell_type": "markdown",
   "id": "3eb8151b",
   "metadata": {},
   "source": [
    "**Shannon Index**"
   ]
  },
  {
   "cell_type": "code",
   "execution_count": 11,
   "id": "5a2a6cde",
   "metadata": {},
   "outputs": [
    {
     "name": "stderr",
     "output_type": "stream",
     "text": [
      "/Users/maureenfonseca/Desktop/oceanprogram/Experimental_Work/MBU_utils.py:195: FutureWarning: Currently, index_parts defaults to True, but in the future, it will default to False to be consistent with Pandas. Use `index_parts=True` to keep the current behavior and True/False to silence the warning.\n",
      "  new_gdf = gdf.explode('geometry')\n",
      "/Users/maureenfonseca/opt/anaconda3/lib/python3.9/site-packages/pandas/core/arraylike.py:397: RuntimeWarning: divide by zero encountered in log\n",
      "  result = getattr(ufunc, method)(*inputs, **kwargs)\n"
     ]
    },
    {
     "name": "stdout",
     "output_type": "stream",
     "text": [
      "CPU times: user 3.72 s, sys: 91 ms, total: 3.81 s\n",
      "Wall time: 3.83 s\n"
     ]
    }
   ],
   "source": [
    "%%time\n",
    "shannon = shannon(ACMC, df1, grid, 'abundance', 'IUCN')"
   ]
  },
  {
   "cell_type": "code",
   "execution_count": 12,
   "id": "c28de142",
   "metadata": {},
   "outputs": [
    {
     "data": {
      "text/plain": [
       "(-90.57200586479142, -85.07200586479142, 0.9381984227004798, 8.55922197600354)"
      ]
     },
     "execution_count": 12,
     "metadata": {},
     "output_type": "execute_result"
    },
    {
     "data": {
      "image/png": "[encoded data removed]",
      "text/plain": [
       "<Figure size 400x400 with 2 Axes>"
      ]
     },
     "metadata": {},
     "output_type": "display_data"
    }
   ],
   "source": [
    "ax = shannon.plot(column='shannon', figsize=(4, 4), cmap='viridis', edgecolor=\"grey\", legend = True)\n",
    "\n",
    "gpd.GeoSeries(ACMC.geometry).plot(ax=ax, edgecolor='black', facecolor='none', label='ACMC')\n",
    "ax.axis('off')"
   ]
  },
  {
   "cell_type": "markdown",
   "id": "9dfd4d08",
   "metadata": {},
   "source": [
    "**Simpson Index**"
   ]
  },
  {
   "cell_type": "code",
   "execution_count": 13,
   "id": "04a8125c",
   "metadata": {},
   "outputs": [
    {
     "name": "stderr",
     "output_type": "stream",
     "text": [
      "/Users/maureenfonseca/Desktop/oceanprogram/Experimental_Work/MBU_utils.py:195: FutureWarning: Currently, index_parts defaults to True, but in the future, it will default to False to be consistent with Pandas. Use `index_parts=True` to keep the current behavior and True/False to silence the warning.\n",
      "  new_gdf = gdf.explode('geometry')\n"
     ]
    },
    {
     "name": "stdout",
     "output_type": "stream",
     "text": [
      "CPU times: user 3.64 s, sys: 19.4 ms, total: 3.66 s\n",
      "Wall time: 3.66 s\n"
     ]
    }
   ],
   "source": [
    "%%time\n",
    "simpson = simpson(ACMC, df1, grid, 'abundance', 'IUCN')"
   ]
  },
  {
   "cell_type": "code",
   "execution_count": 14,
   "id": "29055af3",
   "metadata": {},
   "outputs": [
    {
     "data": {
      "text/plain": [
       "(-90.57200586479142, -85.07200586479142, 0.9381984227004798, 8.55922197600354)"
      ]
     },
     "execution_count": 14,
     "metadata": {},
     "output_type": "execute_result"
    },
    {
     "data": {
      "image/png": "[encoded data removed]",
      "text/plain": [
       "<Figure size 400x400 with 2 Axes>"
      ]
     },
     "metadata": {},
     "output_type": "display_data"
    }
   ],
   "source": [
    "ax = simpson.plot(column='simpson', figsize=(4, 4), cmap='viridis', edgecolor=\"grey\", legend = True)\n",
    "\n",
    "gpd.GeoSeries(ACMC.geometry).plot(ax=ax, edgecolor='black', facecolor='none', label='ACMC')\n",
    "ax.axis('off')"
   ]
  },
  {
   "cell_type": "markdown",
   "id": "a8a84582",
   "metadata": {},
   "source": [
    "**Species Richness**"
   ]
  },
  {
   "cell_type": "code",
   "execution_count": 15,
   "id": "ff5ab9bb",
   "metadata": {},
   "outputs": [
    {
     "name": "stderr",
     "output_type": "stream",
     "text": [
      "/Users/maureenfonseca/Desktop/oceanprogram/Experimental_Work/MBU_utils.py:139: ShapelyDeprecationWarning: The 'type' attribute is deprecated, and will be removed in the future. You can use the 'geom_type' attribute instead.\n",
      "  if this_row_boundary.type[:len('multi')].lower() == 'multi':\n",
      "/Users/maureenfonseca/Desktop/oceanprogram/Experimental_Work/MBU_utils.py:160: UserWarning: Geometry is in a geographic CRS. Results from 'centroid' are likely incorrect. Use 'GeoSeries.to_crs()' to re-project geometries to a projected CRS before this operation.\n",
      "\n",
      "  new_gdf['geom_centroid'] = new_gdf.centroid\n"
     ]
    },
    {
     "name": "stdout",
     "output_type": "stream",
     "text": [
      "CPU times: user 5min 37s, sys: 1.25 s, total: 5min 38s\n",
      "Wall time: 5min 38s\n"
     ]
    }
   ],
   "source": [
    "%%time\n",
    "species_richness = species_richness(ACMC, df1, grid, 'IUCN')"
   ]
  },
  {
   "cell_type": "code",
   "execution_count": 17,
   "id": "caca3c0b",
   "metadata": {},
   "outputs": [
    {
     "data": {
      "text/plain": [
       "(-90.57200586479142, -85.07200586479142, 0.9381984227004798, 8.55922197600354)"
      ]
     },
     "execution_count": 17,
     "metadata": {},
     "output_type": "execute_result"
    },
    {
     "data": {
      "image/png": "[encoded data removed]",
      "text/plain": [
       "<Figure size 400x400 with 2 Axes>"
      ]
     },
     "metadata": {},
     "output_type": "display_data"
    }
   ],
   "source": [
    "ax = species_richness.plot(column='species_richness', figsize=(4, 4), cmap='viridis', edgecolor=\"grey\", legend = True)\n",
    "\n",
    "gpd.GeoSeries(ACMC.geometry).plot(ax=ax, edgecolor='black', facecolor='none', label='ACMC')\n",
    "ax.axis('off')"
   ]
  },
  {
   "cell_type": "markdown",
   "id": "e3816fbc",
   "metadata": {},
   "source": [
    "**Endemism**"
   ]
  },
  {
   "cell_type": "code",
   "execution_count": 18,
   "id": "99742766",
   "metadata": {},
   "outputs": [
    {
     "name": "stderr",
     "output_type": "stream",
     "text": [
      "/Users/maureenfonseca/Desktop/oceanprogram/Experimental_Work/MBU_utils.py:535: UserWarning: Geometry is in a geographic CRS. Results from 'area' are likely incorrect. Use 'GeoSeries.to_crs()' to re-project geometries to a projected CRS before this operation.\n",
      "\n",
      "  dist_ratio2 = np.round(df2.area/gdf.area, decimals=4, out=None)\n",
      "/Users/maureenfonseca/opt/anaconda3/lib/python3.9/site-packages/pandas/core/arraylike.py:397: RuntimeWarning: divide by zero encountered in log2\n",
      "  result = getattr(ufunc, method)(*inputs, **kwargs)\n",
      "/Users/maureenfonseca/Desktop/oceanprogram/Experimental_Work/MBU_utils.py:195: FutureWarning: Currently, index_parts defaults to True, but in the future, it will default to False to be consistent with Pandas. Use `index_parts=True` to keep the current behavior and True/False to silence the warning.\n",
      "  new_gdf = gdf.explode('geometry')\n"
     ]
    },
    {
     "name": "stdout",
     "output_type": "stream",
     "text": [
      "CPU times: user 3.67 s, sys: 140 ms, total: 3.81 s\n",
      "Wall time: 3.84 s\n"
     ]
    }
   ],
   "source": [
    "%%time\n",
    "endemism = endemism(ACMC, df1, grid)"
   ]
  },
  {
   "cell_type": "code",
   "execution_count": 19,
   "id": "7747c6fb",
   "metadata": {},
   "outputs": [
    {
     "data": {
      "text/plain": [
       "(-90.57200586479142, -85.07200586479142, 0.9381984227004798, 8.55922197600354)"
      ]
     },
     "execution_count": 19,
     "metadata": {},
     "output_type": "execute_result"
    },
    {
     "data": {
      "image/png": "[encoded data removed]",
      "text/plain": [
       "<Figure size 400x400 with 2 Axes>"
      ]
     },
     "metadata": {},
     "output_type": "display_data"
    }
   ],
   "source": [
    "ax = endemism.plot(column='endemism', figsize=(4, 4), cmap='viridis', edgecolor=\"grey\", legend = True)\n",
    "\n",
    "gpd.GeoSeries(ACMC.geometry).plot(ax=ax, edgecolor='black', facecolor='none', label='ACMC')\n",
    "ax.axis('off')"
   ]
  },
  {
   "cell_type": "markdown",
   "id": "a1e800a5",
   "metadata": {},
   "source": [
    "**WEGE**"
   ]
  },
  {
   "cell_type": "code",
   "execution_count": 20,
   "id": "56873db5",
   "metadata": {},
   "outputs": [
    {
     "name": "stderr",
     "output_type": "stream",
     "text": [
      "/Users/maureenfonseca/Desktop/oceanprogram/Experimental_Work/MBU_utils.py:625: UserWarning: Geometry is in a geographic CRS. Results from 'area' are likely incorrect. Use 'GeoSeries.to_crs()' to re-project geometries to a projected CRS before this operation.\n",
      "\n",
      "  roi_area = roi.area[0]\n",
      "/Users/maureenfonseca/Desktop/oceanprogram/Experimental_Work/MBU_utils.py:632: UserWarning: Geometry is in a geographic CRS. Results from 'area' are likely incorrect. Use 'GeoSeries.to_crs()' to re-project geometries to a projected CRS before this operation.\n",
      "\n",
      "  we = np.round(df.area/roi_area, decimals=4, out=None)\n",
      "/Users/maureenfonseca/Desktop/oceanprogram/Experimental_Work/MBU_utils.py:195: FutureWarning: Currently, index_parts defaults to True, but in the future, it will default to False to be consistent with Pandas. Use `index_parts=True` to keep the current behavior and True/False to silence the warning.\n",
      "  new_gdf = gdf.explode('geometry')\n"
     ]
    },
    {
     "name": "stdout",
     "output_type": "stream",
     "text": [
      "CPU times: user 3.71 s, sys: 36.1 ms, total: 3.74 s\n",
      "Wall time: 3.75 s\n"
     ]
    }
   ],
   "source": [
    "%%time\n",
    "wege = wege(ACMC, df1, grid)"
   ]
  },
  {
   "cell_type": "code",
   "execution_count": 21,
   "id": "7d87f966",
   "metadata": {},
   "outputs": [
    {
     "data": {
      "text/plain": [
       "(-90.57200586479142, -85.07200586479142, 0.9381984227004798, 8.55922197600354)"
      ]
     },
     "execution_count": 21,
     "metadata": {},
     "output_type": "execute_result"
    },
    {
     "data": {
      "image/png": "[encoded data removed]",
      "text/plain": [
       "<Figure size 400x400 with 2 Axes>"
      ]
     },
     "metadata": {},
     "output_type": "display_data"
    }
   ],
   "source": [
    "ax = wege.plot(column='wege', figsize=(4, 4), cmap='viridis', edgecolor=\"grey\", legend = True)\n",
    "\n",
    "gpd.GeoSeries(ACMC.geometry).plot(ax=ax, edgecolor='black', facecolor='none', label='ACMC')\n",
    "ax.axis('off')"
   ]
  },
  {
   "cell_type": "markdown",
   "id": "0c6f6f5e",
   "metadata": {},
   "source": [
    "**Habitats Survey**"
   ]
  },
  {
   "cell_type": "code",
   "execution_count": 22,
   "id": "a605d469",
   "metadata": {},
   "outputs": [
    {
     "name": "stderr",
     "output_type": "stream",
     "text": [
      "/Users/maureenfonseca/Desktop/oceanprogram/Experimental_Work/MBU_utils.py:139: ShapelyDeprecationWarning: The 'type' attribute is deprecated, and will be removed in the future. You can use the 'geom_type' attribute instead.\n",
      "  if this_row_boundary.type[:len('multi')].lower() == 'multi':\n",
      "/Users/maureenfonseca/Desktop/oceanprogram/Experimental_Work/MBU_utils.py:160: UserWarning: Geometry is in a geographic CRS. Results from 'centroid' are likely incorrect. Use 'GeoSeries.to_crs()' to re-project geometries to a projected CRS before this operation.\n",
      "\n",
      "  new_gdf['geom_centroid'] = new_gdf.centroid\n"
     ]
    },
    {
     "name": "stdout",
     "output_type": "stream",
     "text": [
      "CPU times: user 3min 15s, sys: 2.7 s, total: 3min 18s\n",
      "Wall time: 3min 19s\n"
     ]
    }
   ],
   "source": [
    "%%time\n",
    "#This calculation is independent of the species dataset\n",
    "habitats = habitats_survey(ACMC, grid, eco_names)"
   ]
  },
  {
   "cell_type": "code",
   "execution_count": 26,
   "id": "a8e6bd33",
   "metadata": {},
   "outputs": [
    {
     "data": {
      "text/plain": [
       "(-90.57200586479142, -85.07200586479142, 0.9381984227004798, 8.55922197600354)"
      ]
     },
     "execution_count": 26,
     "metadata": {},
     "output_type": "execute_result"
    },
    {
     "data": {
      "image/png": "[encoded data removed]",
      "text/plain": [
       "<Figure size 400x400 with 2 Axes>"
      ]
     },
     "metadata": {},
     "output_type": "display_data"
    }
   ],
   "source": [
    "ax = habitats.plot(column='habitats_survey', figsize=(4, 4), cmap='viridis', edgecolor=\"grey\", legend = True)\n",
    "\n",
    "gpd.GeoSeries(ACMC.geometry).plot(ax=ax, edgecolor='black', facecolor='none', label='ACMC')\n",
    "ax.axis('off')"
   ]
  },
  {
   "cell_type": "markdown",
   "id": "203f937b",
   "metadata": {},
   "source": [
    "### 3.3.2 Modulating Factors and MBU calculations"
   ]
  },
  {
   "cell_type": "markdown",
   "id": "624290ad",
   "metadata": {},
   "source": [
    "crs for Central America in meters: 31970\n",
    "\n",
    "https://epsg.io/31970"
   ]
  },
  {
   "cell_type": "markdown",
   "id": "0d391bdc",
   "metadata": {},
   "source": [
    "**Biodiversity Score**"
   ]
  },
  {
   "cell_type": "code",
   "execution_count": 43,
   "id": "167b65df",
   "metadata": {},
   "outputs": [
    {
     "name": "stderr",
     "output_type": "stream",
     "text": [
      "/Users/maureenfonseca/Desktop/oceanprogram/Experimental_Work/MBU_utils.py:195: FutureWarning: Currently, index_parts defaults to True, but in the future, it will default to False to be consistent with Pandas. Use `index_parts=True` to keep the current behavior and True/False to silence the warning.\n",
      "  new_gdf = gdf.explode('geometry')\n",
      "/Users/maureenfonseca/opt/anaconda3/lib/python3.9/site-packages/pandas/core/arraylike.py:397: RuntimeWarning: divide by zero encountered in log\n",
      "  result = getattr(ufunc, method)(*inputs, **kwargs)\n",
      "/Users/maureenfonseca/Desktop/oceanprogram/Experimental_Work/MBU_utils.py:195: FutureWarning: Currently, index_parts defaults to True, but in the future, it will default to False to be consistent with Pandas. Use `index_parts=True` to keep the current behavior and True/False to silence the warning.\n",
      "  new_gdf = gdf.explode('geometry')\n"
     ]
    }
   ],
   "source": [
    "biodiversity_score_MBUS = mbu_biodiversity_score(ACMC, df1, grid, 'abundance', 'IUCN', 31970)"
   ]
  },
  {
   "cell_type": "code",
   "execution_count": 50,
   "id": "e6e4b0fe",
   "metadata": {},
   "outputs": [
    {
     "data": {
      "text/html": [
       "<div>\n",
       "<style scoped>\n",
       "    .dataframe tbody tr th:only-of-type {\n",
       "        vertical-align: middle;\n",
       "    }\n",
       "\n",
       "    .dataframe tbody tr th {\n",
       "        vertical-align: top;\n",
       "    }\n",
       "\n",
       "    .dataframe thead th {\n",
       "        text-align: right;\n",
       "    }\n",
       "</style>\n",
       "<table border=\"1\" class=\"dataframe\">\n",
       "  <thead>\n",
       "    <tr style=\"text-align: right;\">\n",
       "      <th></th>\n",
       "      <th>area_sqkm</th>\n",
       "      <th>shannon</th>\n",
       "      <th>simpson</th>\n",
       "      <th>mbu_biodiversity_score</th>\n",
       "    </tr>\n",
       "  </thead>\n",
       "  <tbody>\n",
       "    <tr>\n",
       "      <th>0</th>\n",
       "      <td>31986.471199</td>\n",
       "      <td>NaN</td>\n",
       "      <td>NaN</td>\n",
       "      <td>NaN</td>\n",
       "    </tr>\n",
       "    <tr>\n",
       "      <th>1</th>\n",
       "      <td>31936.727495</td>\n",
       "      <td>-0.000000</td>\n",
       "      <td>1.000000</td>\n",
       "      <td>31936.727495</td>\n",
       "    </tr>\n",
       "    <tr>\n",
       "      <th>2</th>\n",
       "      <td>31858.465100</td>\n",
       "      <td>-0.000000</td>\n",
       "      <td>1.000000</td>\n",
       "      <td>31858.465100</td>\n",
       "    </tr>\n",
       "    <tr>\n",
       "      <th>3</th>\n",
       "      <td>31751.740608</td>\n",
       "      <td>-0.000000</td>\n",
       "      <td>1.000000</td>\n",
       "      <td>31751.740608</td>\n",
       "    </tr>\n",
       "    <tr>\n",
       "      <th>4</th>\n",
       "      <td>31954.393897</td>\n",
       "      <td>NaN</td>\n",
       "      <td>NaN</td>\n",
       "      <td>NaN</td>\n",
       "    </tr>\n",
       "    <tr>\n",
       "      <th>5</th>\n",
       "      <td>31919.081068</td>\n",
       "      <td>-0.000000</td>\n",
       "      <td>1.000000</td>\n",
       "      <td>31919.081068</td>\n",
       "    </tr>\n",
       "    <tr>\n",
       "      <th>6</th>\n",
       "      <td>31855.354220</td>\n",
       "      <td>1.957356</td>\n",
       "      <td>0.999931</td>\n",
       "      <td>50029.250994</td>\n",
       "    </tr>\n",
       "    <tr>\n",
       "      <th>7</th>\n",
       "      <td>31763.257814</td>\n",
       "      <td>2.463018</td>\n",
       "      <td>0.999918</td>\n",
       "      <td>54566.215569</td>\n",
       "    </tr>\n",
       "    <tr>\n",
       "      <th>8</th>\n",
       "      <td>31642.856236</td>\n",
       "      <td>NaN</td>\n",
       "      <td>NaN</td>\n",
       "      <td>NaN</td>\n",
       "    </tr>\n",
       "    <tr>\n",
       "      <th>9</th>\n",
       "      <td>31938.178096</td>\n",
       "      <td>-0.000000</td>\n",
       "      <td>1.000000</td>\n",
       "      <td>31938.178096</td>\n",
       "    </tr>\n",
       "    <tr>\n",
       "      <th>10</th>\n",
       "      <td>31888.663978</td>\n",
       "      <td>0.431508</td>\n",
       "      <td>0.999988</td>\n",
       "      <td>35899.472116</td>\n",
       "    </tr>\n",
       "    <tr>\n",
       "      <th>11</th>\n",
       "      <td>31810.761273</td>\n",
       "      <td>3.430454</td>\n",
       "      <td>0.999884</td>\n",
       "      <td>63617.816988</td>\n",
       "    </tr>\n",
       "    <tr>\n",
       "      <th>12</th>\n",
       "      <td>31704.524296</td>\n",
       "      <td>0.000062</td>\n",
       "      <td>1.000000</td>\n",
       "      <td>31705.095832</td>\n",
       "    </tr>\n",
       "    <tr>\n",
       "      <th>13</th>\n",
       "      <td>31994.276768</td>\n",
       "      <td>NaN</td>\n",
       "      <td>NaN</td>\n",
       "      <td>NaN</td>\n",
       "    </tr>\n",
       "    <tr>\n",
       "      <th>14</th>\n",
       "      <td>31958.828748</td>\n",
       "      <td>NaN</td>\n",
       "      <td>NaN</td>\n",
       "      <td>NaN</td>\n",
       "    </tr>\n",
       "    <tr>\n",
       "      <th>15</th>\n",
       "      <td>31894.858731</td>\n",
       "      <td>NaN</td>\n",
       "      <td>NaN</td>\n",
       "      <td>NaN</td>\n",
       "    </tr>\n",
       "    <tr>\n",
       "      <th>16</th>\n",
       "      <td>31802.412720</td>\n",
       "      <td>NaN</td>\n",
       "      <td>NaN</td>\n",
       "      <td>NaN</td>\n",
       "    </tr>\n",
       "    <tr>\n",
       "      <th>17</th>\n",
       "      <td>31681.557317</td>\n",
       "      <td>NaN</td>\n",
       "      <td>NaN</td>\n",
       "      <td>NaN</td>\n",
       "    </tr>\n",
       "  </tbody>\n",
       "</table>\n",
       "</div>"
      ],
      "text/plain": [
       "       area_sqkm   shannon   simpson  mbu_biodiversity_score\n",
       "0   31986.471199       NaN       NaN                     NaN\n",
       "1   31936.727495 -0.000000  1.000000            31936.727495\n",
       "2   31858.465100 -0.000000  1.000000            31858.465100\n",
       "3   31751.740608 -0.000000  1.000000            31751.740608\n",
       "4   31954.393897       NaN       NaN                     NaN\n",
       "5   31919.081068 -0.000000  1.000000            31919.081068\n",
       "6   31855.354220  1.957356  0.999931            50029.250994\n",
       "7   31763.257814  2.463018  0.999918            54566.215569\n",
       "8   31642.856236       NaN       NaN                     NaN\n",
       "9   31938.178096 -0.000000  1.000000            31938.178096\n",
       "10  31888.663978  0.431508  0.999988            35899.472116\n",
       "11  31810.761273  3.430454  0.999884            63617.816988\n",
       "12  31704.524296  0.000062  1.000000            31705.095832\n",
       "13  31994.276768       NaN       NaN                     NaN\n",
       "14  31958.828748       NaN       NaN                     NaN\n",
       "15  31894.858731       NaN       NaN                     NaN\n",
       "16  31802.412720       NaN       NaN                     NaN\n",
       "17  31681.557317       NaN       NaN                     NaN"
      ]
     },
     "execution_count": 50,
     "metadata": {},
     "output_type": "execute_result"
    }
   ],
   "source": [
    "biodiversity_score_MBUS"
   ]
  },
  {
   "cell_type": "markdown",
   "id": "ae934f52",
   "metadata": {},
   "source": [
    "**Species Richness**"
   ]
  },
  {
   "cell_type": "code",
   "execution_count": 46,
   "id": "4db52ae5",
   "metadata": {},
   "outputs": [
    {
     "name": "stderr",
     "output_type": "stream",
     "text": [
      "/Users/maureenfonseca/Desktop/oceanprogram/Experimental_Work/MBU_utils.py:139: ShapelyDeprecationWarning: The 'type' attribute is deprecated, and will be removed in the future. You can use the 'geom_type' attribute instead.\n",
      "  if this_row_boundary.type[:len('multi')].lower() == 'multi':\n",
      "/Users/maureenfonseca/Desktop/oceanprogram/Experimental_Work/MBU_utils.py:160: UserWarning: Geometry is in a geographic CRS. Results from 'centroid' are likely incorrect. Use 'GeoSeries.to_crs()' to re-project geometries to a projected CRS before this operation.\n",
      "\n",
      "  new_gdf['geom_centroid'] = new_gdf.centroid\n"
     ]
    }
   ],
   "source": [
    "species_richness_MBUS = mbu_species_richness(ACMC, df1, grid, 'IUCN', 31970)"
   ]
  },
  {
   "cell_type": "markdown",
   "id": "bfe1344f",
   "metadata": {},
   "source": [
    "**Endemism**"
   ]
  },
  {
   "cell_type": "code",
   "execution_count": 47,
   "id": "322f9f55",
   "metadata": {},
   "outputs": [
    {
     "name": "stderr",
     "output_type": "stream",
     "text": [
      "/Users/maureenfonseca/Desktop/oceanprogram/Experimental_Work/MBU_utils.py:535: UserWarning: Geometry is in a geographic CRS. Results from 'area' are likely incorrect. Use 'GeoSeries.to_crs()' to re-project geometries to a projected CRS before this operation.\n",
      "\n",
      "  dist_ratio2 = np.round(df2.area/gdf.area, decimals=4, out=None)\n",
      "/Users/maureenfonseca/opt/anaconda3/lib/python3.9/site-packages/pandas/core/arraylike.py:397: RuntimeWarning: divide by zero encountered in log2\n",
      "  result = getattr(ufunc, method)(*inputs, **kwargs)\n",
      "/Users/maureenfonseca/Desktop/oceanprogram/Experimental_Work/MBU_utils.py:195: FutureWarning: Currently, index_parts defaults to True, but in the future, it will default to False to be consistent with Pandas. Use `index_parts=True` to keep the current behavior and True/False to silence the warning.\n",
      "  new_gdf = gdf.explode('geometry')\n"
     ]
    }
   ],
   "source": [
    "endemism_MBUS = mbu_endemism(ACMC, df1, grid, 31970)"
   ]
  },
  {
   "cell_type": "markdown",
   "id": "06bb4365",
   "metadata": {},
   "source": [
    "**Wege**"
   ]
  },
  {
   "cell_type": "code",
   "execution_count": 48,
   "id": "87683647",
   "metadata": {},
   "outputs": [
    {
     "name": "stderr",
     "output_type": "stream",
     "text": [
      "/Users/maureenfonseca/Desktop/oceanprogram/Experimental_Work/MBU_utils.py:625: UserWarning: Geometry is in a geographic CRS. Results from 'area' are likely incorrect. Use 'GeoSeries.to_crs()' to re-project geometries to a projected CRS before this operation.\n",
      "\n",
      "  roi_area = roi.area[0]\n",
      "/Users/maureenfonseca/Desktop/oceanprogram/Experimental_Work/MBU_utils.py:632: UserWarning: Geometry is in a geographic CRS. Results from 'area' are likely incorrect. Use 'GeoSeries.to_crs()' to re-project geometries to a projected CRS before this operation.\n",
      "\n",
      "  we = np.round(df.area/roi_area, decimals=4, out=None)\n",
      "/Users/maureenfonseca/Desktop/oceanprogram/Experimental_Work/MBU_utils.py:195: FutureWarning: Currently, index_parts defaults to True, but in the future, it will default to False to be consistent with Pandas. Use `index_parts=True` to keep the current behavior and True/False to silence the warning.\n",
      "  new_gdf = gdf.explode('geometry')\n"
     ]
    }
   ],
   "source": [
    "wege_MBUS = mbu_wege(ACMC, df1, grid, 31970)"
   ]
  },
  {
   "cell_type": "markdown",
   "id": "2f87d7e2",
   "metadata": {},
   "source": [
    "**Habitats Survey**"
   ]
  },
  {
   "cell_type": "code",
   "execution_count": 49,
   "id": "e1ea4cca",
   "metadata": {},
   "outputs": [
    {
     "ename": "TypeError",
     "evalue": "'GeoDataFrame' object is not callable",
     "output_type": "error",
     "traceback": [
      "\u001b[0;31m---------------------------------------------------------------------------\u001b[0m",
      "\u001b[0;31mTypeError\u001b[0m                                 Traceback (most recent call last)",
      "\u001b[0;32m/var/folders/v8/b0fnjf9d4q31sfz_8q4h4zxm0000gn/T/ipykernel_55211/854873176.py\u001b[0m in \u001b[0;36m<module>\u001b[0;34m\u001b[0m\n\u001b[0;32m----> 1\u001b[0;31m \u001b[0mhabitats_survey_MBUS\u001b[0m \u001b[0;34m=\u001b[0m \u001b[0mmbu_habitats_survey\u001b[0m\u001b[0;34m(\u001b[0m\u001b[0mACMC\u001b[0m\u001b[0;34m,\u001b[0m \u001b[0mgrid\u001b[0m\u001b[0;34m,\u001b[0m \u001b[0meco_names\u001b[0m\u001b[0;34m,\u001b[0m \u001b[0;36m31970\u001b[0m\u001b[0;34m)\u001b[0m\u001b[0;34m\u001b[0m\u001b[0;34m\u001b[0m\u001b[0m\n\u001b[0m",
      "\u001b[0;31mTypeError\u001b[0m: 'GeoDataFrame' object is not callable"
     ]
    }
   ],
   "source": [
    "habitats_survey_MBUS = mbu_habitats_survey(ACMC, grid, eco_names, 31970)"
   ]
  },
  {
   "cell_type": "markdown",
   "id": "ae44c0bc",
   "metadata": {},
   "source": [
    "**Total MBUS**"
   ]
  },
  {
   "cell_type": "code",
   "execution_count": 45,
   "id": "f63ead7f",
   "metadata": {},
   "outputs": [
    {
     "data": {
      "text/plain": [
       "0              NaN\n",
       "1     31936.727495\n",
       "2     31858.465100\n",
       "3     31751.740608\n",
       "4              NaN\n",
       "5     31919.081068\n",
       "6     50029.250994\n",
       "7     54566.215569\n",
       "8              NaN\n",
       "9     31938.178096\n",
       "10    35899.472116\n",
       "11    63617.816988\n",
       "12    31705.095832\n",
       "13             NaN\n",
       "14             NaN\n",
       "15             NaN\n",
       "16             NaN\n",
       "17             NaN\n",
       "Name: mbu_biodiversity_score, dtype: float64"
      ]
     },
     "execution_count": 45,
     "metadata": {},
     "output_type": "execute_result"
    }
   ],
   "source": [
    "TotalMBUS = biodiversity_score_MBUS['mbu_biodiversity_score'] + species_richness_MBUS['mbu_species_richness'] + endemism_MBUS['mbu_endemism'] + wege_MBUS['mbu_wege'] + habitats_survey_MBUS['mbu_habitats_survey']"
   ]
  },
  {
   "cell_type": "code",
   "execution_count": null,
   "id": "85334f3c",
   "metadata": {},
   "outputs": [],
   "source": [
    "ax = mbu_habitats_survey.plot(column='TotalMBUS', figsize=(4, 4), cmap='viridis', edgecolor=\"grey\", legend = True)\n",
    "\n",
    "gpd.GeoSeries(ACMC.geometry).plot(ax=ax, edgecolor='black', facecolor='none', label='ACMC')\n",
    "ax.axis('off')"
   ]
  },
  {
   "cell_type": "markdown",
   "id": "7e07e520",
   "metadata": {},
   "source": [
    "### Using Observation Points"
   ]
  },
  {
   "cell_type": "markdown",
   "id": "9b5a4c97",
   "metadata": {},
   "source": [
    "**Import species data from OBIS**"
   ]
  },
  {
   "cell_type": "code",
   "execution_count": null,
   "id": "1dff1e6e",
   "metadata": {},
   "outputs": [],
   "source": [
    "from pyobis import occurrences"
   ]
  },
  {
   "cell_type": "code",
   "execution_count": null,
   "id": "c6f86c2a",
   "metadata": {},
   "outputs": [],
   "source": [
    "#create a polygon to access the OBIS data\n",
    "min_x, min_y, max_x, max_y = ACMC.total_bounds\n",
    "geometry = f\"POLYGON(({max_x} {min_y}, {min_x} {min_y}, {min_x} {max_y}, {max_x} {max_y}, {max_x} {min_y}))\"\n",
    "\n",
    "query = occurrences.search(geometry=geometry)\n",
    "query.execute()\n",
    "\n",
    "# Returns the data\n",
    "df2 = query.data "
   ]
  },
  {
   "cell_type": "markdown",
   "id": "43e4a2c6",
   "metadata": {},
   "source": [
    "The OBIS dataset doesn't have information on species abundance, to calculate some MF, that information will be randomly assigned for this moment."
   ]
  },
  {
   "cell_type": "code",
   "execution_count": null,
   "id": "2dce709f",
   "metadata": {},
   "outputs": [],
   "source": [
    "import random\n",
    "\n",
    "fake_abundance2 = [random.randint(1, 100) for _ in range(len(df2))]\n",
    "df2['abundance'] = fake_abundance2"
   ]
  },
  {
   "cell_type": "markdown",
   "id": "e8fe7fcd",
   "metadata": {},
   "source": [
    "### 3.3.1 Indices and Metrics"
   ]
  },
  {
   "cell_type": "markdown",
   "id": "49583ddc",
   "metadata": {},
   "source": [
    "**Shannon Index**"
   ]
  },
  {
   "cell_type": "code",
   "execution_count": null,
   "id": "4b56236d",
   "metadata": {},
   "outputs": [],
   "source": [
    "%%time\n",
    "shannon = shannon(ACMC, df2, grid, 'abundance', 'obis')"
   ]
  },
  {
   "cell_type": "markdown",
   "id": "039ef869",
   "metadata": {},
   "source": [
    "**Simpson Index**"
   ]
  },
  {
   "cell_type": "code",
   "execution_count": null,
   "id": "f132a812",
   "metadata": {},
   "outputs": [],
   "source": [
    "%%time\n",
    "simpson = simpson(ACMC, df2, grid, 'abundance', 'obis')"
   ]
  },
  {
   "cell_type": "markdown",
   "id": "f46f1ff3",
   "metadata": {},
   "source": [
    "**Species Richness**"
   ]
  },
  {
   "cell_type": "code",
   "execution_count": null,
   "id": "ae765395",
   "metadata": {},
   "outputs": [],
   "source": [
    "%%time\n",
    "species_richness = species_richness(ACMC, df2, grid, 'obis')"
   ]
  },
  {
   "cell_type": "markdown",
   "id": "022a035f",
   "metadata": {},
   "source": [
    "### Modulating Factors and MBU calculations"
   ]
  },
  {
   "cell_type": "markdown",
   "id": "e9fb9344",
   "metadata": {},
   "source": [
    "crs for Central America in meters: 31970\n",
    "\n",
    "https://epsg.io/31970"
   ]
  },
  {
   "cell_type": "markdown",
   "id": "f7b57bd2",
   "metadata": {},
   "source": [
    "**Biodiversity Score**"
   ]
  },
  {
   "cell_type": "code",
   "execution_count": null,
   "id": "48fac02e",
   "metadata": {},
   "outputs": [],
   "source": [
    "mbu_biodiversity_score = mbu_biodiversity_score(ACMC, df2, grid, 'abundance', 'obis', 31970)"
   ]
  },
  {
   "cell_type": "markdown",
   "id": "2b320335",
   "metadata": {},
   "source": [
    "**Species Richness**"
   ]
  },
  {
   "cell_type": "code",
   "execution_count": null,
   "id": "ef20ebda",
   "metadata": {},
   "outputs": [],
   "source": [
    "mbu_species_richness = mbu_species_richness(ACMC, df2, grid, 'obis', 31970)"
   ]
  },
  {
   "cell_type": "code",
   "execution_count": null,
   "id": "212da02c",
   "metadata": {},
   "outputs": [],
   "source": []
  },
  {
   "cell_type": "code",
   "execution_count": null,
   "id": "56809eb0",
   "metadata": {},
   "outputs": [],
   "source": []
  }
 ],
 "metadata": {
  "kernelspec": {
   "display_name": "Python 3 (ipykernel)",
   "language": "python",
   "name": "python3"
  },
  "language_info": {
   "codemirror_mode": {
    "name": "ipython",
    "version": 3
   },
   "file_extension": ".py",
   "mimetype": "text/x-python",
   "name": "python",
   "nbconvert_exporter": "python",
   "pygments_lexer": "ipython3",
   "version": "3.9.13"
  }
 },
 "nbformat": 4,
 "nbformat_minor": 5
}
