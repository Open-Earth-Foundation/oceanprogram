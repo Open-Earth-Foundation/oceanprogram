{
 "cells": [
  {
   "cell_type": "markdown",
   "id": "357c8c45-dc67-44ca-818c-26284bdde7b5",
   "metadata": {},
   "source": [
    "# Open Ocean\n",
    "# Open Earth Fundation"
   ]
  },
  {
   "cell_type": "markdown",
   "id": "df060b48-7429-4373-bb63-adb40c39d554",
   "metadata": {},
   "source": [
    "<h1> Step 2: calculate different metrics for each modulating factor </h1>\n",
    "    \n",
    "This notebook is the second part of the Step1_Curate_IUCN_RedList.ipynb\n",
    "\n",
    "<h2> Modulating Factor 5: Habitats' Survey  </h2>\n",
    "\n",
    "Marine ecosystems are home to a host of different species ranging from planktonic organisms that form the base of the marine food web to large marine mammals. Many species rely on marine ecosystems for both food and shelter from predators. So, a place with more habitat types has a high marine biodiversity value.\n",
    "\n",
    "From the [IUCN Global Ecosystem Typology 2.0](https://portals.iucn.org/library/sites/library/files/documents/2020-037-En.pdf) it has that the marine global realms have 3 biomes (components of a core or transitional realm united by one or a few common major ecological drivers that regulate major ecological functions):\n",
    "- M1: Marine shelf biome\n",
    "- M2: Pelagic ocean waters biome\n",
    "- M3: Deep sea floors biome\n",
    "\n",
    "The purpose of this notebook is count the number of Ecosystem Functional Groups (EFG) in ACMC."
   ]
  },
  {
   "cell_type": "markdown",
   "id": "83371bac",
   "metadata": {},
   "source": [
    "### Data sources\n",
    "The data needed for this project is available in the Ocean Program S3 Bucket in the following directions:\n",
    "\n",
    "This folder contains the layers needed to calculate the number of ecosystems in a grid:\n",
    "- IUCN Marine Ecosystem Typology: https://ocean-program.s3.amazonaws.com/data/raw/Ecosystems/\n",
    "\n",
    "Our Marine Protected Area of interest -> ACMC polygon: https://ocean-program.s3.amazonaws.com/data/raw/MPAs/ACMC.geojson\n",
    "\n",
    "**In point 2 you can find a way to access this data**"
   ]
  },
  {
   "cell_type": "markdown",
   "id": "3b27cadd-e86f-4a1a-9789-671c8485724a",
   "metadata": {},
   "source": [
    "### 1. Importing packages and libraries"
   ]
  },
  {
   "cell_type": "code",
   "execution_count": null,
   "id": "4c4bc8a0-3fca-4415-b7bd-6b41f655b657",
   "metadata": {},
   "outputs": [],
   "source": [
    "# load basic libraries\n",
    "import os\n",
    "import glob\n",
    "import boto3\n",
    "\n",
    "import math\n",
    "import numpy as np\n",
    "import pandas as pd\n",
    "\n",
    "# to plot\n",
    "import matplotlib.pyplot as plt\n",
    "\n",
    "# to manage shapefiles\n",
    "import shapely\n",
    "import geopandas as gpd\n",
    "from shapely.geometry import Polygon, Point, box"
   ]
  },
  {
   "cell_type": "code",
   "execution_count": null,
   "id": "be69a964",
   "metadata": {},
   "outputs": [],
   "source": [
    "import fiona; #help(fiona.open)"
   ]
  },
  {
   "cell_type": "code",
   "execution_count": null,
   "id": "664f9532-6bf8-473c-a94a-4d0d89f53fb7",
   "metadata": {},
   "outputs": [],
   "source": [
    "%load_ext autoreload"
   ]
  },
  {
   "cell_type": "code",
   "execution_count": null,
   "id": "552a3f4c-d68a-4052-bd79-c8b4d754a71d",
   "metadata": {},
   "outputs": [],
   "source": [
    "#Run this to reload the python file\n",
    "%autoreload 2\n",
    "from MBU_utils import *"
   ]
  },
  {
   "cell_type": "markdown",
   "id": "3848c753-be70-4919-bdd8-a4910e42db89",
   "metadata": {},
   "source": [
    "### 2. Accessing the data"
   ]
  },
  {
   "cell_type": "markdown",
   "id": "718373af",
   "metadata": {},
   "source": [
    "**EFG layers**\n",
    "\n",
    "The size of these layers is ~1.0 GB, sometimes try to access it from the public AWS S3 bucket 'directly' can be time consuming.\n",
    "\n",
    "Two options:\n",
    "1. Have patience and run it anyway\n",
    "2. Download the file in your computer and read it locally"
   ]
  },
  {
   "cell_type": "markdown",
   "id": "c3c2ce35",
   "metadata": {},
   "source": [
    "**Option 1**"
   ]
  },
  {
   "cell_type": "code",
   "execution_count": null,
   "id": "4ad416e6",
   "metadata": {},
   "outputs": [],
   "source": [
    "#To list the paths and names of the Ecosystem Functional Groups (EFG) files from AWS S3 bucket:\n",
    "\n",
    "s3 = boto3.resource('s3')\n",
    "bucket = s3.Bucket('ocean-program')\n",
    "\n",
    "eco_names = []\n",
    "\n",
    "for obj in bucket.objects.filter(Prefix='data/raw/Ecosystems/'):\n",
    "    name = obj.key[:]\n",
    "    eco_names.append(f'https://ocean-program.s3.amazonaws.com/{name}')"
   ]
  },
  {
   "cell_type": "markdown",
   "id": "7a972e67",
   "metadata": {},
   "source": [
    "**Option 2**"
   ]
  },
  {
   "cell_type": "code",
   "execution_count": null,
   "id": "b8956356",
   "metadata": {},
   "outputs": [],
   "source": [
    "# Initialize S3 client\n",
    "s3 = boto3.client('s3')\n",
    "\n",
    "# Set the name of the bucket and the path to the directory\n",
    "bucket_name = 'ocean-program'\n",
    "directory_path = 'data/raw/Ecosystems/'\n",
    "\n",
    "# List all files in the directory\n",
    "response = s3.list_objects_v2(Bucket=bucket_name, Prefix=directory_path)\n",
    "\n",
    "# Download each file\n",
    "for obj in response['Contents']:\n",
    "    # Skip directories\n",
    "    if obj['Key'].endswith('/'):\n",
    "        continue\n",
    "    \n",
    "    # Download the file\n",
    "    file_name = obj['Key'].split('/')[-1]\n",
    "    s3.download_file(bucket_name, obj['Key'], file_name)\n",
    "    print(f\"Downloaded file: {file_name}\")"
   ]
  },
  {
   "cell_type": "markdown",
   "id": "60837274",
   "metadata": {},
   "source": [
    "The downloaded files will be saved in the current working directory, so to list it:"
   ]
  },
  {
   "cell_type": "code",
   "execution_count": null,
   "id": "c162de74",
   "metadata": {},
   "outputs": [],
   "source": [
    "source_dir = './'\n",
    "eco_names = np.sort(glob.glob(source_dir + \"/*.json\"))"
   ]
  },
  {
   "cell_type": "markdown",
   "id": "b2f29c4a",
   "metadata": {},
   "source": [
    "**Import the entire marine protected area**\n",
    "\n",
    "ACMC is the acronyms for the entire conservation area: Cocos Marine Conservation Area"
   ]
  },
  {
   "cell_type": "code",
   "execution_count": null,
   "id": "6ccb5a79",
   "metadata": {},
   "outputs": [],
   "source": [
    "ACMC = gpd.read_file('https://ocean-program.s3.amazonaws.com/data/raw/MPAs/ACMC.geojson')"
   ]
  },
  {
   "cell_type": "code",
   "execution_count": null,
   "id": "81f247e5",
   "metadata": {},
   "outputs": [],
   "source": [
    "ACMC.crs"
   ]
  },
  {
   "cell_type": "markdown",
   "id": "e42aa8b3-d454-4ec4-974c-e77561b171a2",
   "metadata": {},
   "source": [
    "### 3. Data analysis"
   ]
  },
  {
   "cell_type": "markdown",
   "id": "324f2266-d7be-4480-a3c8-7617fd83f6d5",
   "metadata": {},
   "source": [
    "1. Making a geoDataFrame with all geometries within ACMC"
   ]
  },
  {
   "cell_type": "code",
   "execution_count": null,
   "id": "b9dbf878-a6c7-41b2-83a9-87fc6195bd9c",
   "metadata": {},
   "outputs": [],
   "source": [
    "%%time\n",
    "joined = Clip_EFG(eco_names, ACMC, 4326)"
   ]
  },
  {
   "cell_type": "markdown",
   "id": "b88160f2",
   "metadata": {},
   "source": [
    "**Plot of the geometries in ACMC**"
   ]
  },
  {
   "cell_type": "code",
   "execution_count": null,
   "id": "b69edfbe-8088-44e1-ab71-8d1d486e54eb",
   "metadata": {},
   "outputs": [],
   "source": [
    "fig, ax = plt.subplots(figsize = (8,8))\n",
    "\n",
    "ax.set_aspect('equal')\n",
    "\n",
    "joined.plot(ax=ax, alpha = 0.15, cmap = 'tab20', edgecolor = 'grey', linewidth = 0.01)\n",
    "gpd.GeoSeries(ACMC.geometry).plot(ax=ax, edgecolor='black', facecolor='none', label='ACMC')\n",
    "\n",
    "plt.legend()\n",
    "plt.show();"
   ]
  },
  {
   "cell_type": "markdown",
   "id": "09c61fde-f126-4421-bc27-d0687ff7eaca",
   "metadata": {},
   "source": [
    "2. Counting the overlapping geometries"
   ]
  },
  {
   "cell_type": "code",
   "execution_count": null,
   "id": "628b7275-2e59-4735-bd1c-8f5c596066a2",
   "metadata": {},
   "outputs": [],
   "source": [
    "overlap_geo = count_overlapping_geometries(joined)"
   ]
  },
  {
   "cell_type": "markdown",
   "id": "575913f4-4fef-40ee-a655-b1edd065c7c5",
   "metadata": {},
   "source": [
    "Making grids"
   ]
  },
  {
   "cell_type": "code",
   "execution_count": null,
   "id": "ad804e58-08d9-41f2-b537-fbf3fab8289a",
   "metadata": {},
   "outputs": [],
   "source": [
    "hexagon = create_grid(ACMC, \"hexagon\", 0.05)"
   ]
  },
  {
   "cell_type": "markdown",
   "id": "5df9732a-9cd7-4d9a-a958-669f2c06bf69",
   "metadata": {},
   "source": [
    "Obtaining the maximum number of habitats in a grid"
   ]
  },
  {
   "cell_type": "code",
   "execution_count": null,
   "id": "6864acc0-04f7-451c-beca-b9b8b43949b4",
   "metadata": {},
   "outputs": [],
   "source": [
    "#This is to count how many ecosystems are in each grid \n",
    "merged2 = gpd.sjoin(overlap_geo, hexagon, how='left')\n",
    "\n",
    "merged2['n_habitats']= overlap_geo['count_intersections']\n",
    "\n",
    "# Compute stats per grid cell\n",
    "dissolve = merged2.dissolve(by=\"index_right\", aggfunc={'n_habitats': 'max'})\n",
    "\n",
    "# put this into cell\n",
    "hexagon.loc[dissolve.index, 'Habitats_Survey'] = dissolve.n_habitats.values"
   ]
  },
  {
   "cell_type": "markdown",
   "id": "06e1b9e0-bf1a-4b7c-b3d3-2a618a05b988",
   "metadata": {},
   "source": [
    "### 4. Plot each grid color-coded to the number of habitats contained within it"
   ]
  },
  {
   "cell_type": "code",
   "execution_count": null,
   "id": "9e62d072-8a0e-4da7-b847-d47347d0dfa7",
   "metadata": {},
   "outputs": [],
   "source": [
    "fig, ax = plt.subplots(figsize = (8,8))\n",
    "\n",
    "ax.set_aspect('equal')\n",
    "hexagon.plot(ax = ax, column = 'Habitats_Survey', cmap = 'viridis', edgecolor = 'grey', linewidth = 0.01)\n",
    "\n",
    "plt.legend()\n",
    "plt.show()"
   ]
  },
  {
   "cell_type": "markdown",
   "id": "4342f84b-ec01-4857-85ce-0de125895c89",
   "metadata": {},
   "source": [
    "### 5. Calculation of Marine Biodiversity Units (MBUs)"
   ]
  },
  {
   "cell_type": "markdown",
   "id": "1b768631",
   "metadata": {},
   "source": [
    "**Formula**"
   ]
  },
  {
   "cell_type": "markdown",
   "id": "7c28d7c6",
   "metadata": {},
   "source": [
    "total MBUs = $\\text{Normalization Factor}\\times \\text{Total Area x Number} (\\text{ km}^2) \\times \\frac{1\\text{ Marine Biodiversity Unit}}{1 \\text {km}^2} $"
   ]
  },
  {
   "cell_type": "code",
   "execution_count": null,
   "id": "d52cd7cd",
   "metadata": {},
   "outputs": [],
   "source": [
    "def MBU_HS(local_value, value_to_normalize):\n",
    "    \n",
    "    normalized_fact = local_value / value_to_normalize\n",
    "    \n",
    "    #Selection of local number of habitats\n",
    "    new_hexagon = hexagon[hexagon['n_habitats'] == int(local_value)]\n",
    "    \n",
    "    #Area in sqkms\n",
    "    #crs=5367 description -> https://epsg.io/5367\n",
    "    total_area = np.sum(new_hexagon.to_crs(crs=5367).geometry.area*10**(-6))\n",
    "    \n",
    "    #Total MBUs\n",
    "    MBUs = normalized_fact * total_area\n",
    "    \n",
    "    return MBUs"
   ]
  },
  {
   "cell_type": "markdown",
   "id": "5c27dcac",
   "metadata": {},
   "source": [
    "**Assumption 1: Global Normalization**\n",
    "\n",
    "From the [IUCN Global Ecosystem Typology 2.0](https://portals.iucn.org/library/sites/library/files/documents/2020-037-En.pdf) it has that the marine global realms have 3 biomes (components of a core or transitional realm united by one or a few common major ecological drivers that regulate major ecological functions):\n",
    "- M1: Marine shelf biome (9)\n",
    "- M2: Pelagic ocean waters biome (5)\n",
    "- M3: Deep sea floors biome (7)\n",
    "\n",
    "TOTAL: 21 Ecosystem Functional Groups\n",
    "\n",
    "Note: The number in () is the number of Ecosystem Functional Groups (EFG) within the biomes"
   ]
  },
  {
   "cell_type": "markdown",
   "id": "f3cee252",
   "metadata": {},
   "source": [
    "So, the idea here is to have a `normalized global factor`, which means we are comparing the total number of ecosystem functional groups per square kilometer in ACMC to the total number of ecosystem functional groups in the global marine realms."
   ]
  },
  {
   "cell_type": "markdown",
   "id": "9aa91240",
   "metadata": {},
   "source": [
    "Normalization factor $ = \\frac{\\text{Total number of EFG in ACMC } \\text{ (local value)}}{\\text{Total number of EFG globally} \\text{ (max global value)}}) $\n",
    "\n",
    "total MBUs = $\\text{Normalization Factor}\\times \\text{Total Area x Number} (\\text{ km}^2) \\times \\frac{1\\text{ Marine Biodiversity Unit}}{1 \\text {km}^2} $"
   ]
  },
  {
   "cell_type": "code",
   "execution_count": null,
   "id": "1fdbb389",
   "metadata": {},
   "outputs": [],
   "source": [
    "sum_g = []\n",
    "for x in range(1,8):\n",
    "    \n",
    "    MBU = int(MBU_HS(x,21))\n",
    "    print('If the number of habitats is '+str(x))\n",
    "    print('The number of MBUs is: '+str(MBU))\n",
    "    print('---------------------------------------')\n",
    "    \n",
    "    sum_g.append(MBU)\n",
    "    \n",
    "print('The total number of MBUs for ACMC is: '+ str(np.sum(sum_g)))"
   ]
  },
  {
   "cell_type": "markdown",
   "id": "b2ab57ae",
   "metadata": {},
   "source": [
    "`Issues with this assumption:`\n",
    "\n",
    "To a global normalization, we need to know the maximun global number that we can find in a grid, it isn't the total number of EFG in the global marine realms\n",
    "\n",
    "To solve this:\n",
    "\n",
    "- We are doing some sampling test with different methodologies to find that global value to normalize. \n",
    "\n",
    "You can review our first test here:\n",
    "\n",
    "((add link for the notebook))"
   ]
  },
  {
   "cell_type": "markdown",
   "id": "c2026f7f",
   "metadata": {},
   "source": [
    "**Assumption 2: Local Normalization**"
   ]
  },
  {
   "cell_type": "markdown",
   "id": "76cdc9c2",
   "metadata": {},
   "source": [
    "Now, instead of counting globally, we're going to count locally. This means that in ACMC there are:\n",
    "- M1: Marine shelf biome (5)\n",
    "- M2: Pelagic ocean waters biome (4)\n",
    "- M3: Deep sea floors biome (4)\n",
    "\n",
    "TOTAL: 13 EFG\n",
    "\n",
    "Note: This information was obtained by overlaying each global EFG layer with the ACMC polygon."
   ]
  },
  {
   "cell_type": "code",
   "execution_count": null,
   "id": "b72690e2",
   "metadata": {},
   "outputs": [],
   "source": [
    "sum_l = []\n",
    "for x in range(1,8):\n",
    "    \n",
    "    MBU = int(MBU_HS(x,13))\n",
    "    print('If the number of habitats is '+str(x))\n",
    "    print('The number of MBUs is: '+str(MBU))\n",
    "    print('---------------------------------------')\n",
    "    \n",
    "    sum_l.append(MBU)\n",
    "    \n",
    "print('The total number of MBUs for ACMC is: '+ str(np.sum(sum_l)))"
   ]
  },
  {
   "cell_type": "markdown",
   "id": "ba8091ad",
   "metadata": {},
   "source": [
    "`Issues with this assumption:`\n",
    "\n",
    "To a local normalization, we need to know the maximun local number that we can find in a grid, it isn't the total number of EFG of global marine realms in that place"
   ]
  },
  {
   "cell_type": "markdown",
   "id": "6ed40c05",
   "metadata": {},
   "source": [
    "**Assumption 3: Sqkm Normalization**"
   ]
  },
  {
   "cell_type": "markdown",
   "id": "bdaac1dd",
   "metadata": {},
   "source": [
    "Finally, we are considering the maximum value found in a sqkm in ACMC to normalize.\n",
    "\n",
    "TOTAL: 6 EFG"
   ]
  },
  {
   "cell_type": "code",
   "execution_count": null,
   "id": "5cd4674c",
   "metadata": {},
   "outputs": [],
   "source": [
    "sum_s = []\n",
    "for x in range(1,7):\n",
    "    \n",
    "    MBU = int(MBU_HS(x,6))\n",
    "    print('If the number of habitats is '+str(x))\n",
    "    print('The number of MBUs is: '+str(MBU))\n",
    "    print('---------------------------------------')\n",
    "    \n",
    "    sum_s.append(MBU)\n",
    "    \n",
    "print('The total number of MBUs for ACMC is: '+ str(np.sum(sum_s)))"
   ]
  },
  {
   "cell_type": "markdown",
   "id": "ab576146",
   "metadata": {},
   "source": [
    "`Issues with this assumption:`\n",
    "\n",
    "Here, we are applying a specific local normalization (ACMC normalization) because the maximum value in a grid in the Costa Rican EEZ is not considered, it is only for ACMC."
   ]
  },
  {
   "cell_type": "markdown",
   "id": "ec223e05",
   "metadata": {},
   "source": [
    "**Next Step:**\n",
    "\n",
    "[x] Discuss with the team about these different assumptions\n",
    "\n",
    "Obtain a global normalization is a hard thing. So, the next step is make different sampling methodologies to search the maximun statistical number of habitats in a sqkm around the world\n",
    "\n",
    "[ ] 1. Random sampling\n",
    "\n",
    "[x] 2. MPA comparison sampling (started!)"
   ]
  }
 ],
 "metadata": {
  "kernelspec": {
   "display_name": "Python 3 (ipykernel)",
   "language": "python",
   "name": "python3"
  },
  "language_info": {
   "codemirror_mode": {
    "name": "ipython",
    "version": 3
   },
   "file_extension": ".py",
   "mimetype": "text/x-python",
   "name": "python",
   "nbconvert_exporter": "python",
   "pygments_lexer": "ipython3",
   "version": "3.9.13"
  }
 },
 "nbformat": 4,
 "nbformat_minor": 5
}
