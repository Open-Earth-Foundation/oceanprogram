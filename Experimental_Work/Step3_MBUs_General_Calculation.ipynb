{
 "cells": [
  {
   "cell_type": "markdown",
   "id": "fd68a188",
   "metadata": {},
   "source": [
    "# Open Ocean\n",
    "## Open Earth Fundation"
   ]
  },
  {
   "cell_type": "markdown",
   "id": "6b29a0a6",
   "metadata": {},
   "source": [
    "## Step 3: \n",
    "Calculate a final number of `Marine Biodiversity Units (MBUs)` based on the modulating factors score"
   ]
  },
  {
   "cell_type": "markdown",
   "id": "77b419cf",
   "metadata": {},
   "source": [
    "### Marine Biodiversity Units (MBUs)"
   ]
  },
  {
   "cell_type": "markdown",
   "id": "18a88ff0",
   "metadata": {},
   "source": [
    "We think that to develop a scalable system of marine biodiversity credits, we must first define what the credit unit is. To achieve this, we aim to develop a metric that incorporates the ecological values of the ecosystems within each acreage—or 1 km$^2$—of ocean protected. \n",
    "\n",
    "The number of MBUs assigned to each km$^2$ is modulated by different factors, which we call \"Modularing Factors\".\n",
    "\n",
    "These Modulating Factors are:\n",
    "1. Normalize Marine Biodiversity Score\n",
    "2. Species richness\n",
    "3. Species distribution area\n",
    "4. Endemism\n",
    "5. Habitats' Survey\n",
    "6. Vulnerability of species\n",
    "\n",
    "**Note:** Some of these factors do not have a defined methodology yet.\n",
    "\n",
    "Each Modulating Factor has a weight factor that it's define by (...)(?)"
   ]
  },
  {
   "cell_type": "markdown",
   "id": "68e853e6",
   "metadata": {},
   "source": [
    "**General Methodology**"
   ]
  },
  {
   "cell_type": "markdown",
   "id": "dc0ca1b7",
   "metadata": {},
   "source": [
    "- Per km$^2$:\n",
    "$$\n",
    "\\begin{align}\n",
    "MBUs_{sqdkm} = \\sum_{i=1}^{6} C_i\\times MBUs_i\n",
    "\\end{align}\n",
    "$$\n",
    "\n",
    "where i represent each modulating factor and $C_i$ represent the weight factor of that modulating factor\n",
    "\n",
    "This means that each km$^2$ is assigned a number of MBUs per modulating factor\n",
    "\n",
    "- For the entire MPA:\n",
    "$$\n",
    "\\begin{align}\n",
    "\\text{Total MBUs} = \\sum_{j=1}^{N} MBUs_{sqdkm}\n",
    "\\end{align}\n",
    "$$\n",
    "\n",
    "where N represents the total size of the MPA in km$^2$"
   ]
  },
  {
   "cell_type": "markdown",
   "id": "07ec4f99",
   "metadata": {},
   "source": [
    "## 3.1 Import Libraries"
   ]
  },
  {
   "cell_type": "code",
   "execution_count": 1,
   "id": "8612c3b9",
   "metadata": {},
   "outputs": [],
   "source": [
    "import os\n",
    "import glob\n",
    "import boto3\n",
    "\n",
    "import math\n",
    "import numpy as np\n",
    "import pandas as pd\n",
    "\n",
    "from pyobis import occurrences\n",
    "\n",
    "import matplotlib.pyplot as plt\n",
    "\n",
    "import shapely\n",
    "import geopandas as gpd\n",
    "from shapely.geometry import Polygon, Point, box\n",
    "from shapely.ops import linemerge, unary_union, polygonize"
   ]
  },
  {
   "cell_type": "code",
   "execution_count": 2,
   "id": "c0f85099",
   "metadata": {},
   "outputs": [],
   "source": [
    "import fiona; #help(fiona.open)"
   ]
  },
  {
   "cell_type": "markdown",
   "id": "7c5d169a",
   "metadata": {},
   "source": [
    "**OEF Functions**"
   ]
  },
  {
   "cell_type": "code",
   "execution_count": 3,
   "id": "314a68db",
   "metadata": {},
   "outputs": [],
   "source": [
    "%load_ext autoreload"
   ]
  },
  {
   "cell_type": "code",
   "execution_count": 30,
   "id": "92de119c",
   "metadata": {},
   "outputs": [],
   "source": [
    "#Run this to reload the python file\n",
    "%autoreload 2\n",
    "from MBU_utils import *"
   ]
  },
  {
   "cell_type": "markdown",
   "id": "e6b69257",
   "metadata": {},
   "source": [
    "## 3.2 Data Needed"
   ]
  },
  {
   "cell_type": "markdown",
   "id": "297c2ae8",
   "metadata": {},
   "source": [
    "**Import the entire marine protected area file**"
   ]
  },
  {
   "cell_type": "code",
   "execution_count": 5,
   "id": "7898fbe9",
   "metadata": {},
   "outputs": [],
   "source": [
    "ACMC = gpd.read_file('https://ocean-program.s3.amazonaws.com/data/raw/MPAs/ACMC.geojson')"
   ]
  },
  {
   "cell_type": "markdown",
   "id": "ad374205",
   "metadata": {},
   "source": [
    "Inspect the Coordinate Reference Systems (CRS)"
   ]
  },
  {
   "cell_type": "code",
   "execution_count": 6,
   "id": "33c14143",
   "metadata": {},
   "outputs": [
    {
     "data": {
      "text/plain": [
       "<Geographic 2D CRS: EPSG:4326>\n",
       "Name: WGS 84\n",
       "Axis Info [ellipsoidal]:\n",
       "- Lat[north]: Geodetic latitude (degree)\n",
       "- Lon[east]: Geodetic longitude (degree)\n",
       "Area of Use:\n",
       "- name: World.\n",
       "- bounds: (-180.0, -90.0, 180.0, 90.0)\n",
       "Datum: World Geodetic System 1984 ensemble\n",
       "- Ellipsoid: WGS 84\n",
       "- Prime Meridian: Greenwich"
      ]
     },
     "execution_count": 6,
     "metadata": {},
     "output_type": "execute_result"
    }
   ],
   "source": [
    "ACMC.crs"
   ]
  },
  {
   "cell_type": "markdown",
   "id": "622facdd",
   "metadata": {},
   "source": [
    "**Grid gdf**"
   ]
  },
  {
   "cell_type": "code",
   "execution_count": 7,
   "id": "9898f25f",
   "metadata": {},
   "outputs": [],
   "source": [
    "grid = create_grid(ACMC, grid_shape=\"hexagon\", grid_size_deg=1.)"
   ]
  },
  {
   "cell_type": "markdown",
   "id": "9ee37265",
   "metadata": {},
   "source": [
    "**Import the species information**\n",
    "\n",
    "The species information needed for this project is:\n",
    "\n",
    "- Species name\n",
    "- Polygons of distribution for each species in the list"
   ]
  },
  {
   "cell_type": "code",
   "execution_count": 8,
   "id": "6dc34f73",
   "metadata": {},
   "outputs": [],
   "source": [
    "#Locally\n",
    "df1 = gpd.read_file('/Users/maureenfonseca/Desktop/oceanprogram/Marine_Ecosystem_Credits/Marine_Biodiversity/MBU_Methodology/gdf_range_status_filtered_shortV.shp')"
   ]
  },
  {
   "cell_type": "markdown",
   "id": "2db27c40",
   "metadata": {},
   "source": [
    "Another source of species data is OBIS"
   ]
  },
  {
   "cell_type": "code",
   "execution_count": 9,
   "id": "b32cd768",
   "metadata": {},
   "outputs": [
    {
     "name": "stdout",
     "output_type": "stream",
     "text": [
      "Fetching: [████████████████████████████████████████████████████████████████████████████████████████████████████] 4216/4216\n",
      "Fetched 4216 records.\n"
     ]
    }
   ],
   "source": [
    "#create a polygon to access the OBIS data\n",
    "min_x, min_y, max_x, max_y = ACMC.total_bounds\n",
    "geometry = f\"POLYGON(({max_x} {min_y}, {min_x} {min_y}, {min_x} {max_y}, {max_x} {max_y}, {max_x} {min_y}))\"\n",
    "\n",
    "query = occurrences.search(geometry=geometry)\n",
    "query.execute()\n",
    "\n",
    "# Returns the data\n",
    "df2 = query.data "
   ]
  },
  {
   "cell_type": "markdown",
   "id": "b2a24382",
   "metadata": {},
   "source": [
    "The IUCN Red List and OBIS datasets don't have information on species abundance, to calculate some MF, that information will be randomly assigned for this moment."
   ]
  },
  {
   "cell_type": "code",
   "execution_count": 10,
   "id": "e60bc5ff",
   "metadata": {},
   "outputs": [
    {
     "name": "stderr",
     "output_type": "stream",
     "text": [
      "/var/folders/v8/b0fnjf9d4q31sfz_8q4h4zxm0000gn/T/ipykernel_52396/2025151207.py:7: PerformanceWarning: DataFrame is highly fragmented.  This is usually the result of calling `frame.insert` many times, which has poor performance.  Consider joining all columns at once using pd.concat(axis=1) instead. To get a de-fragmented frame, use `newframe = frame.copy()`\n",
      "  df2['abundance'] = fake_abundance2\n"
     ]
    }
   ],
   "source": [
    "import random\n",
    "\n",
    "fake_abundance1 = [random.randint(1, 100) for _ in range(len(df1))]\n",
    "df1['abundance'] = fake_abundance1\n",
    "\n",
    "fake_abundance2 = [random.randint(1, 100) for _ in range(len(df2))]\n",
    "df2['abundance'] = fake_abundance2"
   ]
  },
  {
   "cell_type": "markdown",
   "id": "5c625a96",
   "metadata": {},
   "source": [
    "**Import the habitats/ecosystems information**"
   ]
  },
  {
   "cell_type": "code",
   "execution_count": null,
   "id": "1330a09f",
   "metadata": {},
   "outputs": [],
   "source": [
    "#Locally\n",
    "source_dir = '/Users/maureenfonseca/Desktop/Data-Oceans/Ecosystem_Typology_IUCN/'\n",
    "eco_names = np.sort(glob.glob(source_dir + \"/*.json\"))"
   ]
  },
  {
   "cell_type": "markdown",
   "id": "01c5c215",
   "metadata": {},
   "source": [
    "**Weighted Factors**\n",
    "\n",
    "(To be define)"
   ]
  },
  {
   "cell_type": "markdown",
   "id": "0765ae18",
   "metadata": {},
   "source": [
    "## 3.3 Indices and metrics"
   ]
  },
  {
   "cell_type": "markdown",
   "id": "3eb8151b",
   "metadata": {},
   "source": [
    "**Shannon Index**"
   ]
  },
  {
   "cell_type": "code",
   "execution_count": null,
   "id": "07737545",
   "metadata": {},
   "outputs": [],
   "source": [
    "%%time\n",
    "shannon1 = shannon(ACMC, df1, grid, 'abundance', 'IUCN')"
   ]
  },
  {
   "cell_type": "code",
   "execution_count": 19,
   "id": "1a38a8fa",
   "metadata": {},
   "outputs": [
    {
     "name": "stdout",
     "output_type": "stream",
     "text": [
      "CPU times: user 409 ms, sys: 6.18 ms, total: 415 ms\n",
      "Wall time: 414 ms\n"
     ]
    }
   ],
   "source": [
    "%%time\n",
    "shannon2 = shannon(ACMC, df2, grid, 'abundance', 'obis')"
   ]
  },
  {
   "cell_type": "code",
   "execution_count": 20,
   "id": "c9d40ba8",
   "metadata": {},
   "outputs": [
    {
     "data": {
      "text/html": [
       "<div>\n",
       "<style scoped>\n",
       "    .dataframe tbody tr th:only-of-type {\n",
       "        vertical-align: middle;\n",
       "    }\n",
       "\n",
       "    .dataframe tbody tr th {\n",
       "        vertical-align: top;\n",
       "    }\n",
       "\n",
       "    .dataframe thead th {\n",
       "        text-align: right;\n",
       "    }\n",
       "</style>\n",
       "<table border=\"1\" class=\"dataframe\">\n",
       "  <thead>\n",
       "    <tr style=\"text-align: right;\">\n",
       "      <th></th>\n",
       "      <th>Grid_ID</th>\n",
       "      <th>shannon</th>\n",
       "      <th>geometry</th>\n",
       "    </tr>\n",
       "  </thead>\n",
       "  <tbody>\n",
       "    <tr>\n",
       "      <th>0</th>\n",
       "      <td>0</td>\n",
       "      <td>NaN</td>\n",
       "      <td>POLYGON ((-88.32201 2.15063, -88.82201 3.01666...</td>\n",
       "    </tr>\n",
       "    <tr>\n",
       "      <th>1</th>\n",
       "      <td>1</td>\n",
       "      <td>2.763614</td>\n",
       "      <td>POLYGON ((-88.32201 3.88268, -88.82201 4.74871...</td>\n",
       "    </tr>\n",
       "    <tr>\n",
       "      <th>2</th>\n",
       "      <td>2</td>\n",
       "      <td>3.602051</td>\n",
       "      <td>POLYGON ((-88.32201 5.61474, -88.82201 6.48076...</td>\n",
       "    </tr>\n",
       "    <tr>\n",
       "      <th>3</th>\n",
       "      <td>3</td>\n",
       "      <td>NaN</td>\n",
       "      <td>POLYGON ((-88.32201 7.34679, -88.82201 8.21281...</td>\n",
       "    </tr>\n",
       "    <tr>\n",
       "      <th>4</th>\n",
       "      <td>4</td>\n",
       "      <td>NaN</td>\n",
       "      <td>POLYGON ((-86.82201 1.28461, -87.32201 2.15063...</td>\n",
       "    </tr>\n",
       "    <tr>\n",
       "      <th>5</th>\n",
       "      <td>5</td>\n",
       "      <td>4.469206</td>\n",
       "      <td>POLYGON ((-86.82201 3.01666, -87.32201 3.88268...</td>\n",
       "    </tr>\n",
       "    <tr>\n",
       "      <th>6</th>\n",
       "      <td>6</td>\n",
       "      <td>6.287831</td>\n",
       "      <td>POLYGON ((-86.82201 4.74871, -87.32201 5.61474...</td>\n",
       "    </tr>\n",
       "    <tr>\n",
       "      <th>7</th>\n",
       "      <td>7</td>\n",
       "      <td>5.021810</td>\n",
       "      <td>POLYGON ((-86.82201 6.48076, -87.32201 7.34679...</td>\n",
       "    </tr>\n",
       "    <tr>\n",
       "      <th>8</th>\n",
       "      <td>8</td>\n",
       "      <td>NaN</td>\n",
       "      <td>POLYGON ((-86.82201 8.21281, -87.32201 9.07884...</td>\n",
       "    </tr>\n",
       "    <tr>\n",
       "      <th>9</th>\n",
       "      <td>9</td>\n",
       "      <td>3.246510</td>\n",
       "      <td>POLYGON ((-85.32201 2.15063, -85.82201 3.01666...</td>\n",
       "    </tr>\n",
       "    <tr>\n",
       "      <th>10</th>\n",
       "      <td>10</td>\n",
       "      <td>4.885488</td>\n",
       "      <td>POLYGON ((-85.32201 3.88268, -85.82201 4.74871...</td>\n",
       "    </tr>\n",
       "    <tr>\n",
       "      <th>11</th>\n",
       "      <td>11</td>\n",
       "      <td>7.778724</td>\n",
       "      <td>POLYGON ((-85.32201 5.61474, -85.82201 6.48076...</td>\n",
       "    </tr>\n",
       "    <tr>\n",
       "      <th>12</th>\n",
       "      <td>12</td>\n",
       "      <td>0.782321</td>\n",
       "      <td>POLYGON ((-85.32201 7.34679, -85.82201 8.21281...</td>\n",
       "    </tr>\n",
       "    <tr>\n",
       "      <th>13</th>\n",
       "      <td>13</td>\n",
       "      <td>NaN</td>\n",
       "      <td>POLYGON ((-83.82201 1.28461, -84.32201 2.15063...</td>\n",
       "    </tr>\n",
       "    <tr>\n",
       "      <th>14</th>\n",
       "      <td>14</td>\n",
       "      <td>NaN</td>\n",
       "      <td>POLYGON ((-83.82201 3.01666, -84.32201 3.88268...</td>\n",
       "    </tr>\n",
       "    <tr>\n",
       "      <th>15</th>\n",
       "      <td>15</td>\n",
       "      <td>NaN</td>\n",
       "      <td>POLYGON ((-83.82201 4.74871, -84.32201 5.61474...</td>\n",
       "    </tr>\n",
       "    <tr>\n",
       "      <th>16</th>\n",
       "      <td>16</td>\n",
       "      <td>NaN</td>\n",
       "      <td>POLYGON ((-83.82201 6.48076, -84.32201 7.34679...</td>\n",
       "    </tr>\n",
       "    <tr>\n",
       "      <th>17</th>\n",
       "      <td>17</td>\n",
       "      <td>NaN</td>\n",
       "      <td>POLYGON ((-83.82201 8.21281, -84.32201 9.07884...</td>\n",
       "    </tr>\n",
       "  </tbody>\n",
       "</table>\n",
       "</div>"
      ],
      "text/plain": [
       "    Grid_ID   shannon                                           geometry\n",
       "0         0       NaN  POLYGON ((-88.32201 2.15063, -88.82201 3.01666...\n",
       "1         1  2.763614  POLYGON ((-88.32201 3.88268, -88.82201 4.74871...\n",
       "2         2  3.602051  POLYGON ((-88.32201 5.61474, -88.82201 6.48076...\n",
       "3         3       NaN  POLYGON ((-88.32201 7.34679, -88.82201 8.21281...\n",
       "4         4       NaN  POLYGON ((-86.82201 1.28461, -87.32201 2.15063...\n",
       "5         5  4.469206  POLYGON ((-86.82201 3.01666, -87.32201 3.88268...\n",
       "6         6  6.287831  POLYGON ((-86.82201 4.74871, -87.32201 5.61474...\n",
       "7         7  5.021810  POLYGON ((-86.82201 6.48076, -87.32201 7.34679...\n",
       "8         8       NaN  POLYGON ((-86.82201 8.21281, -87.32201 9.07884...\n",
       "9         9  3.246510  POLYGON ((-85.32201 2.15063, -85.82201 3.01666...\n",
       "10       10  4.885488  POLYGON ((-85.32201 3.88268, -85.82201 4.74871...\n",
       "11       11  7.778724  POLYGON ((-85.32201 5.61474, -85.82201 6.48076...\n",
       "12       12  0.782321  POLYGON ((-85.32201 7.34679, -85.82201 8.21281...\n",
       "13       13       NaN  POLYGON ((-83.82201 1.28461, -84.32201 2.15063...\n",
       "14       14       NaN  POLYGON ((-83.82201 3.01666, -84.32201 3.88268...\n",
       "15       15       NaN  POLYGON ((-83.82201 4.74871, -84.32201 5.61474...\n",
       "16       16       NaN  POLYGON ((-83.82201 6.48076, -84.32201 7.34679...\n",
       "17       17       NaN  POLYGON ((-83.82201 8.21281, -84.32201 9.07884..."
      ]
     },
     "execution_count": 20,
     "metadata": {},
     "output_type": "execute_result"
    }
   ],
   "source": [
    "shannon2"
   ]
  },
  {
   "cell_type": "markdown",
   "id": "6a3e4879",
   "metadata": {},
   "source": [
    "**Simpson Index**"
   ]
  },
  {
   "cell_type": "code",
   "execution_count": null,
   "id": "04a8125c",
   "metadata": {},
   "outputs": [],
   "source": [
    "%%time\n",
    "simpson = simpson(ACMC, df1, grid, 'abundance', 'IUCN')"
   ]
  },
  {
   "cell_type": "code",
   "execution_count": null,
   "id": "3f80b859",
   "metadata": {},
   "outputs": [],
   "source": [
    "%%time\n",
    "simpson = simpson(ACMC, df2, grid, 'abundance', 'obis')"
   ]
  },
  {
   "cell_type": "markdown",
   "id": "a8a84582",
   "metadata": {},
   "source": [
    "**Species Richness**"
   ]
  },
  {
   "cell_type": "code",
   "execution_count": null,
   "id": "79839299",
   "metadata": {},
   "outputs": [],
   "source": [
    "%%time\n",
    "species_richness = species_richness(ACMC, df1, grid, 'IUCN')"
   ]
  },
  {
   "cell_type": "code",
   "execution_count": null,
   "id": "cac73234",
   "metadata": {},
   "outputs": [],
   "source": [
    "%%time\n",
    "species_richness = species_richness(ACMC, df2, grid, 'obis')"
   ]
  },
  {
   "cell_type": "markdown",
   "id": "e3816fbc",
   "metadata": {},
   "source": [
    "**Endemism**"
   ]
  },
  {
   "cell_type": "code",
   "execution_count": null,
   "id": "99742766",
   "metadata": {},
   "outputs": [],
   "source": [
    "%%time\n",
    "\n",
    "#For this metric, the polygons of species habitats are needed \n",
    "endemism = endemism(ACMC, df1, grid)"
   ]
  },
  {
   "cell_type": "markdown",
   "id": "a1e800a5",
   "metadata": {},
   "source": [
    "**WEGE**"
   ]
  },
  {
   "cell_type": "code",
   "execution_count": null,
   "id": "56873db5",
   "metadata": {},
   "outputs": [],
   "source": [
    "%%time\n",
    "\n",
    "#For this metric, the polygons of species habitats are needed \n",
    "wege = wege(ACMC, df1, grid)"
   ]
  },
  {
   "cell_type": "markdown",
   "id": "0c6f6f5e",
   "metadata": {},
   "source": [
    "**Habitats Survey**"
   ]
  },
  {
   "cell_type": "code",
   "execution_count": null,
   "id": "a605d469",
   "metadata": {},
   "outputs": [],
   "source": [
    "%%time\n",
    "habitats = habitats_survey(ACMC, grid, eco_names)"
   ]
  },
  {
   "cell_type": "code",
   "execution_count": null,
   "id": "3d4580d7",
   "metadata": {},
   "outputs": [],
   "source": [
    "habitats"
   ]
  },
  {
   "cell_type": "markdown",
   "id": "cff290b4",
   "metadata": {},
   "source": [
    "## 3.4 Modulating Factors and MBU calculations"
   ]
  },
  {
   "cell_type": "markdown",
   "id": "3355663e",
   "metadata": {},
   "source": [
    "crs for Central America in meters: 31970\n",
    "\n",
    "https://epsg.io/31970"
   ]
  },
  {
   "cell_type": "markdown",
   "id": "929baa1c",
   "metadata": {},
   "source": [
    "**Biodiversity Score**"
   ]
  },
  {
   "cell_type": "code",
   "execution_count": null,
   "id": "4297d302",
   "metadata": {},
   "outputs": [],
   "source": [
    "mbu_biodiversity_score = mbu_biodiversity_score(ACMC, df1, grid, 'abundance', 'IUCN', 31970)"
   ]
  },
  {
   "cell_type": "code",
   "execution_count": 23,
   "id": "4ea9a331",
   "metadata": {},
   "outputs": [],
   "source": [
    "mbu_biodiversity_score = mbu_biodiversity_score(ACMC, df2, grid, 'abundance', 'obis', 31970)"
   ]
  },
  {
   "cell_type": "code",
   "execution_count": 24,
   "id": "cedacfd2",
   "metadata": {},
   "outputs": [
    {
     "data": {
      "text/html": [
       "<div>\n",
       "<style scoped>\n",
       "    .dataframe tbody tr th:only-of-type {\n",
       "        vertical-align: middle;\n",
       "    }\n",
       "\n",
       "    .dataframe tbody tr th {\n",
       "        vertical-align: top;\n",
       "    }\n",
       "\n",
       "    .dataframe thead th {\n",
       "        text-align: right;\n",
       "    }\n",
       "</style>\n",
       "<table border=\"1\" class=\"dataframe\">\n",
       "  <thead>\n",
       "    <tr style=\"text-align: right;\">\n",
       "      <th></th>\n",
       "      <th>area_sqkm</th>\n",
       "      <th>shannon</th>\n",
       "      <th>simpson</th>\n",
       "      <th>mbu_biodiversity_score</th>\n",
       "    </tr>\n",
       "  </thead>\n",
       "  <tbody>\n",
       "    <tr>\n",
       "      <th>0</th>\n",
       "      <td>31986.471199</td>\n",
       "      <td>NaN</td>\n",
       "      <td>NaN</td>\n",
       "      <td>NaN</td>\n",
       "    </tr>\n",
       "    <tr>\n",
       "      <th>1</th>\n",
       "      <td>31936.727495</td>\n",
       "      <td>2.763614</td>\n",
       "      <td>17.933081</td>\n",
       "      <td>11544.538242</td>\n",
       "    </tr>\n",
       "    <tr>\n",
       "      <th>2</th>\n",
       "      <td>31858.465100</td>\n",
       "      <td>3.602051</td>\n",
       "      <td>42.970343</td>\n",
       "      <td>15226.053065</td>\n",
       "    </tr>\n",
       "    <tr>\n",
       "      <th>3</th>\n",
       "      <td>31751.740608</td>\n",
       "      <td>NaN</td>\n",
       "      <td>NaN</td>\n",
       "      <td>NaN</td>\n",
       "    </tr>\n",
       "    <tr>\n",
       "      <th>4</th>\n",
       "      <td>31954.393897</td>\n",
       "      <td>NaN</td>\n",
       "      <td>NaN</td>\n",
       "      <td>NaN</td>\n",
       "    </tr>\n",
       "    <tr>\n",
       "      <th>5</th>\n",
       "      <td>31919.081068</td>\n",
       "      <td>4.469206</td>\n",
       "      <td>104.987621</td>\n",
       "      <td>19498.015072</td>\n",
       "    </tr>\n",
       "    <tr>\n",
       "      <th>6</th>\n",
       "      <td>31855.354220</td>\n",
       "      <td>6.287831</td>\n",
       "      <td>650.997997</td>\n",
       "      <td>32923.079961</td>\n",
       "    </tr>\n",
       "    <tr>\n",
       "      <th>7</th>\n",
       "      <td>31763.257814</td>\n",
       "      <td>5.021810</td>\n",
       "      <td>185.992751</td>\n",
       "      <td>22549.301918</td>\n",
       "    </tr>\n",
       "    <tr>\n",
       "      <th>8</th>\n",
       "      <td>31642.856236</td>\n",
       "      <td>NaN</td>\n",
       "      <td>NaN</td>\n",
       "      <td>NaN</td>\n",
       "    </tr>\n",
       "    <tr>\n",
       "      <th>9</th>\n",
       "      <td>31938.178096</td>\n",
       "      <td>3.246510</td>\n",
       "      <td>32.954965</td>\n",
       "      <td>13693.709394</td>\n",
       "    </tr>\n",
       "    <tr>\n",
       "      <th>10</th>\n",
       "      <td>31888.663978</td>\n",
       "      <td>4.885488</td>\n",
       "      <td>164.991696</td>\n",
       "      <td>21847.832053</td>\n",
       "    </tr>\n",
       "    <tr>\n",
       "      <th>11</th>\n",
       "      <td>31810.761273</td>\n",
       "      <td>7.778724</td>\n",
       "      <td>2890.999547</td>\n",
       "      <td>63621.522547</td>\n",
       "    </tr>\n",
       "    <tr>\n",
       "      <th>12</th>\n",
       "      <td>31704.524296</td>\n",
       "      <td>0.782321</td>\n",
       "      <td>2.517752</td>\n",
       "      <td>3216.195908</td>\n",
       "    </tr>\n",
       "    <tr>\n",
       "      <th>13</th>\n",
       "      <td>31994.276768</td>\n",
       "      <td>NaN</td>\n",
       "      <td>NaN</td>\n",
       "      <td>NaN</td>\n",
       "    </tr>\n",
       "    <tr>\n",
       "      <th>14</th>\n",
       "      <td>31958.828748</td>\n",
       "      <td>NaN</td>\n",
       "      <td>NaN</td>\n",
       "      <td>NaN</td>\n",
       "    </tr>\n",
       "    <tr>\n",
       "      <th>15</th>\n",
       "      <td>31894.858731</td>\n",
       "      <td>NaN</td>\n",
       "      <td>NaN</td>\n",
       "      <td>NaN</td>\n",
       "    </tr>\n",
       "    <tr>\n",
       "      <th>16</th>\n",
       "      <td>31802.412720</td>\n",
       "      <td>NaN</td>\n",
       "      <td>NaN</td>\n",
       "      <td>NaN</td>\n",
       "    </tr>\n",
       "    <tr>\n",
       "      <th>17</th>\n",
       "      <td>31681.557317</td>\n",
       "      <td>NaN</td>\n",
       "      <td>NaN</td>\n",
       "      <td>NaN</td>\n",
       "    </tr>\n",
       "  </tbody>\n",
       "</table>\n",
       "</div>"
      ],
      "text/plain": [
       "       area_sqkm   shannon      simpson  mbu_biodiversity_score\n",
       "0   31986.471199       NaN          NaN                     NaN\n",
       "1   31936.727495  2.763614    17.933081            11544.538242\n",
       "2   31858.465100  3.602051    42.970343            15226.053065\n",
       "3   31751.740608       NaN          NaN                     NaN\n",
       "4   31954.393897       NaN          NaN                     NaN\n",
       "5   31919.081068  4.469206   104.987621            19498.015072\n",
       "6   31855.354220  6.287831   650.997997            32923.079961\n",
       "7   31763.257814  5.021810   185.992751            22549.301918\n",
       "8   31642.856236       NaN          NaN                     NaN\n",
       "9   31938.178096  3.246510    32.954965            13693.709394\n",
       "10  31888.663978  4.885488   164.991696            21847.832053\n",
       "11  31810.761273  7.778724  2890.999547            63621.522547\n",
       "12  31704.524296  0.782321     2.517752             3216.195908\n",
       "13  31994.276768       NaN          NaN                     NaN\n",
       "14  31958.828748       NaN          NaN                     NaN\n",
       "15  31894.858731       NaN          NaN                     NaN\n",
       "16  31802.412720       NaN          NaN                     NaN\n",
       "17  31681.557317       NaN          NaN                     NaN"
      ]
     },
     "execution_count": 24,
     "metadata": {},
     "output_type": "execute_result"
    }
   ],
   "source": [
    "mbu_biodiversity_score"
   ]
  },
  {
   "cell_type": "markdown",
   "id": "6edd3764",
   "metadata": {},
   "source": [
    "**Species Richness**"
   ]
  },
  {
   "cell_type": "code",
   "execution_count": null,
   "id": "420cf03b",
   "metadata": {},
   "outputs": [],
   "source": [
    "mbu_species_richness = mbu_species_richness(ACMC, df1, grid, 'IUCN', 31970)"
   ]
  },
  {
   "cell_type": "code",
   "execution_count": 31,
   "id": "b091ad2a",
   "metadata": {},
   "outputs": [],
   "source": [
    "mbu_species_richness = mbu_species_richness(ACMC, df2, grid, 'obis', 31970)"
   ]
  },
  {
   "cell_type": "markdown",
   "id": "b1dd89a0",
   "metadata": {},
   "source": [
    "**Endemism**"
   ]
  },
  {
   "cell_type": "code",
   "execution_count": null,
   "id": "4aadb0eb",
   "metadata": {},
   "outputs": [],
   "source": [
    "mbu_endemism = mbu_endemism(ACMC, df1, grid, 31970)"
   ]
  },
  {
   "cell_type": "markdown",
   "id": "cbb464e6",
   "metadata": {},
   "source": [
    "**Wege**"
   ]
  },
  {
   "cell_type": "code",
   "execution_count": null,
   "id": "bbb887ef",
   "metadata": {},
   "outputs": [],
   "source": [
    "mbu_wege = mbu_wege(ACMC, df1, grid, 31970)"
   ]
  },
  {
   "cell_type": "markdown",
   "id": "b511c47a",
   "metadata": {},
   "source": [
    "**Habitats Survey**"
   ]
  },
  {
   "cell_type": "code",
   "execution_count": null,
   "id": "9ec3cc11",
   "metadata": {},
   "outputs": [],
   "source": [
    "mbu_habitats_survey = mbu_habitats_survey(ACMC, grid, eco_names, 31970)"
   ]
  },
  {
   "cell_type": "code",
   "execution_count": null,
   "id": "53d1c933",
   "metadata": {},
   "outputs": [],
   "source": [
    "mbu_habitats_survey"
   ]
  },
  {
   "cell_type": "code",
   "execution_count": null,
   "id": "4e69a2da",
   "metadata": {},
   "outputs": [],
   "source": []
  }
 ],
 "metadata": {
  "kernelspec": {
   "display_name": "Python 3 (ipykernel)",
   "language": "python",
   "name": "python3"
  },
  "language_info": {
   "codemirror_mode": {
    "name": "ipython",
    "version": 3
   },
   "file_extension": ".py",
   "mimetype": "text/x-python",
   "name": "python",
   "nbconvert_exporter": "python",
   "pygments_lexer": "ipython3",
   "version": "3.9.13"
  }
 },
 "nbformat": 4,
 "nbformat_minor": 5
}
