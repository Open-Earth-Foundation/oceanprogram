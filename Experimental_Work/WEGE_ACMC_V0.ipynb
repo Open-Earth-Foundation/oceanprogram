{
 "cells": [
  {
   "cell_type": "markdown",
   "id": "09b345e8-fe28-4e06-95a5-82f958d040f1",
   "metadata": {},
   "source": [
    "# WEGE index\n",
    "This notebook provides code for the Weighted Endemism including Global Endangerment (WEGE) index as it is described in [Farooq et al. (2020)](https://onlinelibrary.wiley.com/doi/full/10.1111/ddi.13148). WEGE is calculated like this:\n",
    "\n",
    "$$\\text{WEGE} = \\sum_{i=1}^\\text{N} \\sqrt{WE_i}\\times ER_i$$\n",
    "\n",
    "- $WE_i$ weighted endemism for species $i$ (See [Crisp et al. (2002)](https://biology-assets.anu.edu.au/hosted_sites/Crisp/pdfs/Crisp2001_endemism.pdf))\n",
    "- $ER_i$: probability of extinction of species $i$ (Using the IUCN50 transformation for the ER from [Davis et al. (2008)](https://www.pnas.org/doi/10.1073/pnas.1804906115))\n",
    "\n",
    "### Weighted Endemism (WE)\n",
    "[Crisp et al. (2002)](https://biology-assets.anu.edu.au/hosted_sites/Crisp/pdfs/Crisp2001_endemism.pdf)) describes weighted endemism in terms of grid cells, stating:\n",
    "> ...a single-cell endemic\n",
    "has the maximum weight of 1, a species occurring in two\n",
    "cells has a weight of 0.5, and a species occurring in 100 cells\n",
    "has a weight of 0.01. **To obtain an endemism score for a cell,\n",
    "these weights are summed for all species occurring in the\n",
    "cell. We term this measure *weighted endemism*.**\n",
    "\n",
    "Instead of counting grid cells, we can define the endemism weight for each species as a ratio of areas:\n",
    "\n",
    "$$WE_i = \\frac{\\text{\"Area where species i is found within the target area\"}}{\\text{\"Target area\"}}$$\n",
    "\n",
    "\n",
    "### Extinction Probability (ER)\n",
    "[Farooq et al. (2020)](https://onlinelibrary.wiley.com/doi/full/10.1111/ddi.13148) base the extinction probability on the species IUCN Red List categeory, using the transformation from [Davis et al. (2008)](https://www.pnas.org/doi/10.1073/pnas.1804906115). Other transformations exist in the literature, such as [Moors et al. (2008)](https://www.sfu.ca/~amooers/papers/Mooers_etal_PLoSOne08.pdf). Here, I follow [Farooq et al. (2020)](https://onlinelibrary.wiley.com/doi/full/10.1111/ddi.13148) and use the [Davis et al. (2008)](https://www.pnas.org/doi/10.1073/pnas.1804906115) transformation. In addition, also following [Farooq et al. (2020)](https://onlinelibrary.wiley.com/doi/full/10.1111/ddi.13148), I set the extinction probabilty of data deficient (DD) species to the extinction probability of \"vulnerable\" species following [Bland et al. (2015)](https://conbio.onlinelibrary.wiley.com/doi/10.1111/cobi.12372). This is based on the idea that DD species may be more threatened than some data-sufficient species ([Bland et al., 2015](https://conbio.onlinelibrary.wiley.com/doi/10.1111/cobi.12372), [Borgelt et al., 2022](https://www.nature.com/articles/s42003-022-03638-9))\n",
    "\n",
    "Here the transformation used for each [IUCN Red List category](https://www.iucnredlist.org/resources/categories-and-criteria):\n",
    "\n",
    "$$(DD, LC, NT, VU, EN, CR, EW, EX) \\mapsto (0.0513, 0.0009, 0.0071, 0.0513, 0.4276, 0.9688, 1.0, 1.0)$$\n",
    "\n",
    "Where:     \n",
    "- DD = \"Data Deficient\"\n",
    "- LC = \"Least Concern\"\n",
    "- NT = \"Near Threatened\"\n",
    "- VU = \"Vulnerable\"\n",
    "- EN = \"Endangered\"\n",
    "- CR = \"Critically Endangered\"\n",
    "- EW = \"Extinct In The Wild\"\n",
    "- EX = \"Extinct\"\n",
    "\n",
    "### Notes\n",
    "- square root transformation used to improve normality of $WE$ data. Could test whether this transformation is necessary by making historgram of $WE$ and seeing if it is skewed and if square root actually improves normality. \n",
    "- which mapping from IUCN category to extinction probability should we use?\n",
    "- What should the probability of extinction be for \"data deficient\" species? [Bland et al. (2015)](https://conbio.onlinelibrary.wiley.com/doi/10.1111/cobi.12372) and [Borgelt et al. (2022)](https://www.nature.com/articles/s42003-022-03638-9) suggest DD species may be more threatened than data-sufficient species."
   ]
  },
  {
   "cell_type": "code",
   "execution_count": null,
   "id": "ae817a27-ca1f-4ba1-9df9-ac61f4642882",
   "metadata": {},
   "outputs": [],
   "source": [
    "def extinction_risk(cat: str = None) -> float:\n",
    "    '''calculates extinction risk (ER) for species \n",
    "    following Farooq et al. (2020)\n",
    "    we assign probability of extinction for each IUCN category\n",
    "    using extinction probabilities \n",
    "    from Table S2 in supplemental material of Davis et al (2018).\n",
    "    Here we use use IUCN50 values, same as Farooq et al. (2020).\n",
    "    \n",
    "    Extinction risk for data deficiient (DD) category is assigned\n",
    "    the vulnerable (VU) probability,\n",
    "    see Bland et al. (2015) for explanation.\n",
    "    \n",
    "    Args:\n",
    "        cat (str): IUCN category\n",
    "            - DD = Data Deficient\n",
    "            - LC = Least Concern\n",
    "            - NT = Near Threatened\n",
    "            - VU = Vulnerable\n",
    "            - EN = Endangered\n",
    "            - CR = Critically Endangered\n",
    "            - EW = Extinct in the wild \n",
    "            - EX = Extinct\n",
    "        \n",
    "    Returns:\n",
    "        float: probability of extinction\n",
    "        \n",
    "    References:\n",
    "        Bland et al. (2015) \"Predicting the conservation status of data-deficient species\" \n",
    "            https://doi.org/10.1111/cobi.12372\n",
    "        Davis et al. (2018) \"Mammal diversity will take millions of years to recover from the current biodiversity crisis\"\n",
    "            https://doi.org/10.1073/pnas.1804906115\n",
    "        Farooq et al. (2020) \"WEGE: A new metric for ranking locations for biodiversity conservation\" \n",
    "            https://doi.org/10.1111/ddi.13148\n",
    "    '''\n",
    "    cat_to_risk = dict(\n",
    "        DD=0.0513, # using Bland et al. (2015) assumption\n",
    "        LC=0.0009,\n",
    "        NT=0.0071,\n",
    "        VU=0.0513,\n",
    "        EN=0.4276,\n",
    "        CR=0.9688,\n",
    "        EW=1.0,\n",
    "        EX=1.0\n",
    "    )\n",
    "\n",
    "    if cat_to_risk.get(cat) is None:\n",
    "        raise ValueError(\"Invalid value for 'cat', expected one of 'DD', 'LC', 'NT', 'VU', 'EN', 'CR', EW', 'EX'\")\n",
    "    \n",
    "    return cat_to_risk.get(cat)"
   ]
  },
  {
   "cell_type": "code",
   "execution_count": null,
   "id": "424652f9-f595-4e48-8bfc-922dee590b4d",
   "metadata": {},
   "outputs": [],
   "source": [
    "def weighted_endemism(species_area: float=None, total_area: float=None, power: float=None) -> float:\n",
    "    '''calculates the endemism score for a single species\n",
    "    following Crisp et al. (2002) and using the scaling power of 0.5\n",
    "    from Farooq et al. (2020).\n",
    "    \n",
    "    `(\"area species is found\" / \"total area\")^(power)`\n",
    "    \n",
    "    Args:\n",
    "        species_area (float): amount of area within the total where species is found\n",
    "        total_area (float): total area where searching for species\n",
    "        power(float): raise each endemism value to this power[default: 0.5]\n",
    "        \n",
    "    Returns:\n",
    "        float: endemism score for the species\n",
    "    \n",
    "    References:\n",
    "        Crisp et al. (2002) \"Endemism in the Australian flora\"\n",
    "            https://onlinelibrary.wiley.com/doi/abs/10.1046/j.1365-2699.2001.00524.x\n",
    "        Farooq et al. (2020) \"WEGE: A new metric for ranking locations for biodiversity conservation\" \n",
    "            https://doi.org/10.1111/ddi.13148\n",
    "    '''\n",
    "    power = 0.5 if power is None else power # see Farooq et al. (2020)\n",
    "    \n",
    "    if not isinstance(species_area, (int, float)):\n",
    "        raise TypeError(\"species_area must be a number\")\n",
    "        \n",
    "    if species_area < 0:\n",
    "        raise ValueError(\"species_area must be positive\")\n",
    "\n",
    "    if not isinstance(total_area, (int, float)):\n",
    "        raise TypeError(\"total_area must be a number\")\n",
    "        \n",
    "    if total_area <= 0:\n",
    "        raise ValueError(\"total_area must be positive and non-zero\")\n",
    "    \n",
    "    return (species_area/total_area)**power"
   ]
  },
  {
   "cell_type": "markdown",
   "id": "ebf4e2e1-4ba9-48f6-a00e-8f0e50428575",
   "metadata": {
    "tags": []
   },
   "source": [
    "\n",
    "calculate WEGE from lists of `species_area`, `total_area`, and IUCN `categories`\n",
    "\n",
    "```\n",
    "WEGE = sum(\n",
    "    [endemism(sp_area, tot_area) * extinction_risk(cat) \n",
    "     for sp_area, tot_area, cat \n",
    "     in zip(species_area, total_area, category)]\n",
    ")\n",
    "```"
   ]
  },
  {
   "cell_type": "markdown",
   "id": "627deed8-8924-423f-abc7-60019f4c370e",
   "metadata": {},
   "source": [
    "# 1. Read data"
   ]
  },
  {
   "cell_type": "code",
   "execution_count": null,
   "id": "9a194b97-af11-483f-a67d-bfcf4008b6b5",
   "metadata": {},
   "outputs": [],
   "source": [
    "import geopandas as gpd\n",
    "import numpy as np\n",
    "from shapely.ops import linemerge, unary_union, polygonize"
   ]
  },
  {
   "cell_type": "code",
   "execution_count": null,
   "id": "b983c3e5",
   "metadata": {},
   "outputs": [],
   "source": [
    "from MBU_utils import *"
   ]
  },
  {
   "cell_type": "markdown",
   "id": "4ca719d6-e259-41fc-bccb-c6f5a0418047",
   "metadata": {},
   "source": [
    "## 1.1 IUCN Redlist\n",
    "**Note:** this takes a couple minutes to load. Takes longer, and requires AWS account, if loading directly from S3 bucket."
   ]
  },
  {
   "cell_type": "code",
   "execution_count": null,
   "id": "d08fe96a-27f9-4aef-8036-d81541ee016d",
   "metadata": {},
   "outputs": [],
   "source": [
    "%%time\n",
    "df_redlist = gpd.read_file('s3://ocean-program/data/processed/ACMC_IUCN_RedList/')"
   ]
  },
  {
   "cell_type": "code",
   "execution_count": null,
   "id": "ad5173b9",
   "metadata": {},
   "outputs": [],
   "source": [
    "df_redlist = gpd.read_file('/Users/maureenfonseca/Desktop/Data-Oceans/ACMC_IUCN_data/gdf_ACMC_IUCN_range_status_filtered.shp')"
   ]
  },
  {
   "cell_type": "code",
   "execution_count": null,
   "id": "f742f710-79ec-4599-93e1-a63878c730f2",
   "metadata": {},
   "outputs": [],
   "source": [
    "# replaces long RedList name with two-letter code\n",
    "long_to_short = {\n",
    "    'Data Deficient':'DD',\n",
    "    'Least Concern':'LC',\n",
    "    'Near Threatened':'NT',\n",
    "    'Vulnerable':'VU',\n",
    "    'Endangered':'EN',\n",
    "    'Critically Endangered':'CR',\n",
    "    'Extinct In The Wild':'EW',\n",
    "    'Extinct':'EX'\n",
    "}\n",
    "\n",
    "df_redlist['redlistCat'] = df_redlist['redlistCat'].replace(long_to_short)"
   ]
  },
  {
   "cell_type": "markdown",
   "id": "7cc86a3c-56d2-4679-ae23-7aa444330f17",
   "metadata": {
    "tags": []
   },
   "source": [
    "## 1.2 Coco Marine Conservation Area\n",
    "- The Coco Marine Conservation Area (ACMC)\n",
    "- the Bicentennial Marine Management Area (AMMB)\n",
    "- Cocos Island National Park (PNIC)"
   ]
  },
  {
   "cell_type": "code",
   "execution_count": null,
   "id": "41c9d321-04ee-4855-9a36-21390eeb4260",
   "metadata": {},
   "outputs": [],
   "source": [
    "%%time\n",
    "df_acmc = gpd.read_file('s3://ocean-program/data/processed/geospatial/')"
   ]
  },
  {
   "cell_type": "markdown",
   "id": "d6d75bda-fe49-4763-a374-da3869ef35c6",
   "metadata": {},
   "source": [
    "# 2. Calculate WEGE"
   ]
  },
  {
   "cell_type": "code",
   "execution_count": null,
   "id": "8cfe9d99-a360-406b-8238-382957f986ed",
   "metadata": {},
   "outputs": [],
   "source": [
    "# set coord. references system\n",
    "# https://geopandas.org/en/stable/docs/reference/api/geopandas.GeoDataFrame.set_crs.html\n",
    "df_redlist = df_redlist.set_crs('epsg:4326', allow_override=True)\n",
    "df_acmc = df_acmc.set_crs('epsg:4326', allow_override=True)"
   ]
  },
  {
   "cell_type": "code",
   "execution_count": null,
   "id": "9d4eff18-6be2-4e96-8828-b41aaa40222a",
   "metadata": {},
   "outputs": [],
   "source": [
    "df_redlist.crs = {\"init\":\"epsg:4326\"}\n",
    "df_acmc.crs = {\"init\":\"epsg:4326\"}"
   ]
  },
  {
   "cell_type": "code",
   "execution_count": null,
   "id": "797d8e3b-a740-4e6d-9d79-4a1c260ee892",
   "metadata": {},
   "outputs": [],
   "source": [
    "# area of ACMC\n",
    "acmc_area = df_acmc.area[0]"
   ]
  },
  {
   "cell_type": "code",
   "execution_count": null,
   "id": "eb1fcc1d-d549-45e6-aa25-2fe9989e2ef8",
   "metadata": {},
   "outputs": [],
   "source": [
    "# create list of weighted endemism to specified power for each species\n",
    "# hiding warnings for now\n",
    "\n",
    "import warnings\n",
    "\n",
    "with warnings.catch_warnings(record=True):\n",
    "    power = 0.5\n",
    "    WE_list = []\n",
    "    for _, row in df_redlist.iterrows():\n",
    "        df_intersect = df_redlist.loc[df_redlist.BINOMIAL==row.BINOMIAL].intersection(df_acmc)\n",
    "        species_area_within_acmc = df_intersect.area\n",
    "        species_redlist_area = df_redlist[df_redlist.BINOMIAL==row.BINOMIAL].area\n",
    "        WE_tmp = ((species_area_within_acmc/acmc_area).sum())**power\n",
    "        WE_list.append(WE_tmp)"
   ]
  },
  {
   "cell_type": "code",
   "execution_count": null,
   "id": "86b6198c-312b-4a23-8aff-69dd5bd8c53b",
   "metadata": {},
   "outputs": [],
   "source": [
    "# list of extinction probabilities for each species\n",
    "ER_list = [extinction_risk(cat) for cat in df_redlist['redlistCat']]"
   ]
  },
  {
   "cell_type": "code",
   "execution_count": null,
   "id": "17bf12e5-84b3-411f-8432-5a891fbe845f",
   "metadata": {},
   "outputs": [],
   "source": [
    "# calculate WEGE index\n",
    "WEGE = sum([WE * ER for WE, ER in zip(WE_list, ER_list)])"
   ]
  },
  {
   "cell_type": "markdown",
   "id": "4bc27c1c",
   "metadata": {},
   "source": [
    "**Next Steps**\n",
    "- Calculate the WEGE index per grid (sqkm)"
   ]
  },
  {
   "cell_type": "code",
   "execution_count": null,
   "id": "20cd8ff6",
   "metadata": {},
   "outputs": [],
   "source": [
    "df_redlist = gpd.clip(df_redlist.set_crs(epsg=4326, allow_override=True), df_acmc)"
   ]
  },
  {
   "cell_type": "code",
   "execution_count": null,
   "id": "12bc1679",
   "metadata": {},
   "outputs": [],
   "source": [
    "we = np.round(df_redlist.area/acmc_area, decimals=4, out=None)\n",
    "sq_we = we**(0.5)"
   ]
  },
  {
   "cell_type": "code",
   "execution_count": null,
   "id": "d70617a3",
   "metadata": {},
   "outputs": [],
   "source": [
    "df_redlist['we'] = we\n",
    "df_redlist['sq_we'] = sq_we"
   ]
  },
  {
   "cell_type": "code",
   "execution_count": null,
   "id": "07426383",
   "metadata": {},
   "outputs": [],
   "source": [
    "# list of extinction probabilities for each species\n",
    "df_redlist['ER'] = [extinction_risk(cat) for cat in df_redlist['redlistCat']]"
   ]
  },
  {
   "cell_type": "code",
   "execution_count": null,
   "id": "8997f640",
   "metadata": {},
   "outputs": [],
   "source": [
    "df_redlist['wege_i'] = df_redlist['sq_we']*df_redlist['ER']"
   ]
  },
  {
   "cell_type": "code",
   "execution_count": null,
   "id": "587f68bc",
   "metadata": {},
   "outputs": [],
   "source": [
    "def sum_values(gdf):\n",
    "    #main source: https://stackoverflow.com/questions/65073549/combine-and-sum-values-of-overlapping-polygons-in-geopandas\n",
    "\n",
    "    #The explode() method converts each element of the specified column(s) into a row\n",
    "    #This is useful if there are multipolygons\n",
    "    new_gdf = gdf.explode('geometry')\n",
    "\n",
    "    #convert all polygons to lines and perform union\n",
    "    lines = unary_union(linemerge([geom.exterior for geom in new_gdf.geometry]))\n",
    "\n",
    "    #convert again to (smaller) intersecting polygons and to geodataframe\n",
    "    polygons = list(polygonize(lines))\n",
    "    intersects = gpd.GeoDataFrame({'geometry': polygons}, crs=\"EPSG:4326\")\n",
    "    \n",
    "    #to fix invalid geometries\n",
    "    intersects['geometry'] = intersects['geometry'].buffer(0)\n",
    "\n",
    "    #Perform sjoin with original geoframe to get overlapping polygons.\n",
    "    #Afterwards group per intersecting polygon to perform (arbitrary) aggregation\n",
    "    intersects['sum_overlaps'] = (intersects\n",
    "                            .sjoin(new_gdf, predicate='within')\n",
    "                            .reset_index()\n",
    "                            .groupby(['level_0', 'index_right0'])\n",
    "                            .head(1)\n",
    "                            .groupby('level_0')\n",
    "                            .wege_i.sum())\n",
    "    return intersects"
   ]
  },
  {
   "cell_type": "code",
   "execution_count": null,
   "id": "df2aef12",
   "metadata": {},
   "outputs": [],
   "source": [
    "df_redlist = df_redlist[0:200]"
   ]
  },
  {
   "cell_type": "code",
   "execution_count": null,
   "id": "00ca271e",
   "metadata": {},
   "outputs": [],
   "source": [
    "overlap_wege_v = sum_values(df_redlist)"
   ]
  },
  {
   "cell_type": "code",
   "execution_count": null,
   "id": "03cde078",
   "metadata": {},
   "outputs": [],
   "source": [
    "grid = create_grid(df_acmc, grid_shape=\"hexagon\", grid_size_deg=1.)"
   ]
  },
  {
   "cell_type": "code",
   "execution_count": null,
   "id": "0e76bf6c",
   "metadata": {},
   "outputs": [],
   "source": [
    "merged = gpd.sjoin(overlap_wege_v, grid, how='left')\n",
    "\n",
    "# make a simple count variable that we can sum\n",
    "merged['n_value']= overlap_wege_v['sum_overlaps']\n",
    "\n",
    "# Compute stats per grid cell\n",
    "dissolve = merged.dissolve(by=\"index_right\", aggfunc=\"sum\")\n",
    "\n",
    "# put this into cell\n",
    "grid.loc[dissolve.index, 'n_value'] = dissolve.n_value.values\n",
    "    \n",
    "#https://epsg.io/31970\n",
    "grid['area_sqkm'] = (grid.to_crs(crs=31970).area)*10**(-6)\n",
    "\n",
    "grid['mbu_wege'] = grid['n_value']*grid['area_sqkm']"
   ]
  }
 ],
 "metadata": {
  "kernelspec": {
   "display_name": "Python 3 (ipykernel)",
   "language": "python",
   "name": "python3"
  },
  "language_info": {
   "codemirror_mode": {
    "name": "ipython",
    "version": 3
   },
   "file_extension": ".py",
   "mimetype": "text/x-python",
   "name": "python",
   "nbconvert_exporter": "python",
   "pygments_lexer": "ipython3",
   "version": "3.9.13"
  }
 },
 "nbformat": 4,
 "nbformat_minor": 5
}
