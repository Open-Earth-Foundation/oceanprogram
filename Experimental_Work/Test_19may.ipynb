{
 "cells": [
  {
   "cell_type": "code",
   "execution_count": 1,
   "id": "db947163",
   "metadata": {},
   "outputs": [],
   "source": [
    "import os\n",
    "import glob\n",
    "import boto3\n",
    "\n",
    "import math\n",
    "import numpy as np\n",
    "import pandas as pd\n",
    "\n",
    "import matplotlib.pyplot as plt\n",
    "\n",
    "import shapely\n",
    "import geopandas as gpd\n",
    "from shapely.geometry import Polygon, Point, box\n",
    "from shapely.ops import linemerge, unary_union, polygonize"
   ]
  },
  {
   "cell_type": "code",
   "execution_count": 2,
   "id": "cac876bf",
   "metadata": {},
   "outputs": [],
   "source": [
    "import fiona; #help(fiona.open)"
   ]
  },
  {
   "cell_type": "code",
   "execution_count": 3,
   "id": "dca1427a",
   "metadata": {},
   "outputs": [],
   "source": [
    "%load_ext autoreload"
   ]
  },
  {
   "cell_type": "code",
   "execution_count": 32,
   "id": "31330c47",
   "metadata": {},
   "outputs": [],
   "source": [
    "#Run this to reload the python file\n",
    "%autoreload 2\n",
    "from MBU_utils import *"
   ]
  },
  {
   "cell_type": "markdown",
   "id": "481bf23c",
   "metadata": {},
   "source": [
    "## Accessing OBIS data"
   ]
  },
  {
   "cell_type": "markdown",
   "id": "97590c13",
   "metadata": {},
   "source": [
    "Obis data contains species information and points of observation"
   ]
  },
  {
   "cell_type": "code",
   "execution_count": 5,
   "id": "2e291ca0",
   "metadata": {},
   "outputs": [],
   "source": [
    "from pyobis import occurrences"
   ]
  },
  {
   "cell_type": "code",
   "execution_count": 7,
   "id": "a9c735f3",
   "metadata": {},
   "outputs": [],
   "source": [
    "# MPA file\n",
    "ACMC = gpd.read_file('https://ocean-program.s3.amazonaws.com/data/raw/MPAs/ACMC.geojson')"
   ]
  },
  {
   "cell_type": "code",
   "execution_count": 8,
   "id": "f736360b",
   "metadata": {},
   "outputs": [
    {
     "name": "stdout",
     "output_type": "stream",
     "text": [
      "Fetching: [████████████████████████████████████████████████████████████████████████████████████████████████████] 4216/4216\n",
      "Fetched 4216 records.\n"
     ]
    }
   ],
   "source": [
    "#create a polygon to access the OBIS data\n",
    "min_x, min_y, max_x, max_y = ACMC.total_bounds\n",
    "geometry = f\"POLYGON(({max_x} {min_y}, {min_x} {min_y}, {min_x} {max_y}, {max_x} {max_y}, {max_x} {min_y}))\"\n",
    "\n",
    "query = occurrences.search(geometry=geometry)\n",
    "query.execute()\n",
    "\n",
    "# Returns the data\n",
    "df2 = query.data "
   ]
  },
  {
   "cell_type": "code",
   "execution_count": 10,
   "id": "ff61f6f7",
   "metadata": {},
   "outputs": [],
   "source": [
    "# convert OBIS dataframe to geodataframe\n",
    "# making point with the lat and lon information\n",
    "df2 = gpd.GeoDataFrame(df2, geometry=gpd.points_from_xy(df2.decimalLongitude, df2.decimalLatitude))"
   ]
  },
  {
   "cell_type": "markdown",
   "id": "e93e5437",
   "metadata": {},
   "source": [
    "## Calculation of each modulation factor separately"
   ]
  },
  {
   "cell_type": "markdown",
   "id": "f0ae3839",
   "metadata": {},
   "source": [
    "General settings that are needed for all modulating factors"
   ]
  },
  {
   "cell_type": "code",
   "execution_count": 11,
   "id": "092b42a1",
   "metadata": {},
   "outputs": [],
   "source": [
    "# Making a grid geoDataFrame\n",
    "grid = create_grid(ACMC, grid_shape=\"hexagon\", grid_size_deg=1.)"
   ]
  },
  {
   "cell_type": "code",
   "execution_count": 13,
   "id": "533ccc56",
   "metadata": {},
   "outputs": [
    {
     "name": "stderr",
     "output_type": "stream",
     "text": [
      "/Users/maureenfonseca/opt/anaconda3/lib/python3.9/site-packages/pandas/core/arraylike.py:396: RuntimeWarning: divide by zero encountered in log\n",
      "  result = getattr(ufunc, method)(*inputs, **kwargs)\n"
     ]
    }
   ],
   "source": [
    "MF1 = mbu_biodiversity_score(ACMC, df2, grid, 'OBIS', 31970)"
   ]
  },
  {
   "cell_type": "code",
   "execution_count": 14,
   "id": "c6ffb521",
   "metadata": {},
   "outputs": [
    {
     "data": {
      "text/html": [
       "<div>\n",
       "<style scoped>\n",
       "    .dataframe tbody tr th:only-of-type {\n",
       "        vertical-align: middle;\n",
       "    }\n",
       "\n",
       "    .dataframe tbody tr th {\n",
       "        vertical-align: top;\n",
       "    }\n",
       "\n",
       "    .dataframe thead th {\n",
       "        text-align: right;\n",
       "    }\n",
       "</style>\n",
       "<table border=\"1\" class=\"dataframe\">\n",
       "  <thead>\n",
       "    <tr style=\"text-align: right;\">\n",
       "      <th></th>\n",
       "      <th>Grid_ID</th>\n",
       "      <th>shannon</th>\n",
       "      <th>geometry</th>\n",
       "      <th>area_sqkm</th>\n",
       "      <th>simpson</th>\n",
       "      <th>mbu_biodiversity_score</th>\n",
       "    </tr>\n",
       "  </thead>\n",
       "  <tbody>\n",
       "    <tr>\n",
       "      <th>0</th>\n",
       "      <td>0</td>\n",
       "      <td>NaN</td>\n",
       "      <td>POLYGON ((-88.32201 2.15063, -88.82201 3.01666...</td>\n",
       "      <td>31986.471199</td>\n",
       "      <td>NaN</td>\n",
       "      <td>NaN</td>\n",
       "    </tr>\n",
       "    <tr>\n",
       "      <th>1</th>\n",
       "      <td>1</td>\n",
       "      <td>1.879731</td>\n",
       "      <td>POLYGON ((-88.32201 3.88268, -88.82201 4.74871...</td>\n",
       "      <td>31936.727495</td>\n",
       "      <td>10.825138</td>\n",
       "      <td>12017.475862</td>\n",
       "    </tr>\n",
       "    <tr>\n",
       "      <th>2</th>\n",
       "      <td>2</td>\n",
       "      <td>1.932157</td>\n",
       "      <td>POLYGON ((-88.32201 5.61474, -88.82201 6.48076...</td>\n",
       "      <td>31858.465100</td>\n",
       "      <td>23.733809</td>\n",
       "      <td>12772.136942</td>\n",
       "    </tr>\n",
       "    <tr>\n",
       "      <th>3</th>\n",
       "      <td>3</td>\n",
       "      <td>NaN</td>\n",
       "      <td>POLYGON ((-88.32201 7.34679, -88.82201 8.21281...</td>\n",
       "      <td>31751.740608</td>\n",
       "      <td>NaN</td>\n",
       "      <td>NaN</td>\n",
       "    </tr>\n",
       "    <tr>\n",
       "      <th>4</th>\n",
       "      <td>4</td>\n",
       "      <td>NaN</td>\n",
       "      <td>POLYGON ((-86.82201 1.28461, -87.32201 2.15063...</td>\n",
       "      <td>31954.393897</td>\n",
       "      <td>NaN</td>\n",
       "      <td>NaN</td>\n",
       "    </tr>\n",
       "  </tbody>\n",
       "</table>\n",
       "</div>"
      ],
      "text/plain": [
       "   Grid_ID   shannon                                           geometry   \n",
       "0        0       NaN  POLYGON ((-88.32201 2.15063, -88.82201 3.01666...  \\\n",
       "1        1  1.879731  POLYGON ((-88.32201 3.88268, -88.82201 4.74871...   \n",
       "2        2  1.932157  POLYGON ((-88.32201 5.61474, -88.82201 6.48076...   \n",
       "3        3       NaN  POLYGON ((-88.32201 7.34679, -88.82201 8.21281...   \n",
       "4        4       NaN  POLYGON ((-86.82201 1.28461, -87.32201 2.15063...   \n",
       "\n",
       "      area_sqkm    simpson  mbu_biodiversity_score  \n",
       "0  31986.471199        NaN                     NaN  \n",
       "1  31936.727495  10.825138            12017.475862  \n",
       "2  31858.465100  23.733809            12772.136942  \n",
       "3  31751.740608        NaN                     NaN  \n",
       "4  31954.393897        NaN                     NaN  "
      ]
     },
     "execution_count": 14,
     "metadata": {},
     "output_type": "execute_result"
    }
   ],
   "source": [
    "MF1.head()"
   ]
  },
  {
   "cell_type": "code",
   "execution_count": 15,
   "id": "f80ec961",
   "metadata": {},
   "outputs": [
    {
     "data": {
      "text/plain": [
       "<AxesSubplot:>"
      ]
     },
     "execution_count": 15,
     "metadata": {},
     "output_type": "execute_result"
    },
    {
     "data": {
      "image/png": "[encoded data removed]",
      "text/plain": [
       "<Figure size 400x400 with 2 Axes>"
      ]
     },
     "metadata": {},
     "output_type": "display_data"
    }
   ],
   "source": [
    "MF1 = gpd.clip(MF1.set_crs(epsg=4326, allow_override=True), ACMC.set_crs(epsg=4326, allow_override=True))\n",
    "ax = MF1.plot(column='mbu_biodiversity_score', figsize=(4, 4), cmap='viridis', edgecolor=\"grey\", legend = True)\n",
    "\n",
    "gpd.GeoSeries(ACMC.geometry).plot(ax=ax, edgecolor='black', facecolor='none', label='ACMC')"
   ]
  },
  {
   "cell_type": "code",
   "execution_count": 16,
   "id": "fa3c0b08",
   "metadata": {},
   "outputs": [],
   "source": [
    "MF2 = mbu_species_richness(ACMC, df2, grid, 31970)"
   ]
  },
  {
   "cell_type": "code",
   "execution_count": 17,
   "id": "902c367e",
   "metadata": {},
   "outputs": [
    {
     "data": {
      "text/html": [
       "<div>\n",
       "<style scoped>\n",
       "    .dataframe tbody tr th:only-of-type {\n",
       "        vertical-align: middle;\n",
       "    }\n",
       "\n",
       "    .dataframe tbody tr th {\n",
       "        vertical-align: top;\n",
       "    }\n",
       "\n",
       "    .dataframe thead th {\n",
       "        text-align: right;\n",
       "    }\n",
       "</style>\n",
       "<table border=\"1\" class=\"dataframe\">\n",
       "  <thead>\n",
       "    <tr style=\"text-align: right;\">\n",
       "      <th></th>\n",
       "      <th>geometry</th>\n",
       "      <th>Grid_ID</th>\n",
       "      <th>species_richness</th>\n",
       "      <th>area_sqkm</th>\n",
       "      <th>mbu_species_richness</th>\n",
       "    </tr>\n",
       "  </thead>\n",
       "  <tbody>\n",
       "    <tr>\n",
       "      <th>0</th>\n",
       "      <td>POLYGON ((-88.32201 2.15063, -88.82201 3.01666...</td>\n",
       "      <td>0</td>\n",
       "      <td>1</td>\n",
       "      <td>31986.471199</td>\n",
       "      <td>11.064155</td>\n",
       "    </tr>\n",
       "    <tr>\n",
       "      <th>1</th>\n",
       "      <td>POLYGON ((-88.32201 3.88268, -88.82201 4.74871...</td>\n",
       "      <td>1</td>\n",
       "      <td>18</td>\n",
       "      <td>31936.727495</td>\n",
       "      <td>198.845069</td>\n",
       "    </tr>\n",
       "    <tr>\n",
       "      <th>2</th>\n",
       "      <td>POLYGON ((-88.32201 5.61474, -88.82201 6.48076...</td>\n",
       "      <td>2</td>\n",
       "      <td>43</td>\n",
       "      <td>31858.465100</td>\n",
       "      <td>473.854721</td>\n",
       "    </tr>\n",
       "    <tr>\n",
       "      <th>3</th>\n",
       "      <td>POLYGON ((-88.32201 7.34679, -88.82201 8.21281...</td>\n",
       "      <td>3</td>\n",
       "      <td>1</td>\n",
       "      <td>31751.740608</td>\n",
       "      <td>10.982961</td>\n",
       "    </tr>\n",
       "    <tr>\n",
       "      <th>4</th>\n",
       "      <td>POLYGON ((-86.82201 1.28461, -87.32201 2.15063...</td>\n",
       "      <td>4</td>\n",
       "      <td>1</td>\n",
       "      <td>31954.393897</td>\n",
       "      <td>11.053059</td>\n",
       "    </tr>\n",
       "  </tbody>\n",
       "</table>\n",
       "</div>"
      ],
      "text/plain": [
       "                                            geometry  Grid_ID   \n",
       "0  POLYGON ((-88.32201 2.15063, -88.82201 3.01666...        0  \\\n",
       "1  POLYGON ((-88.32201 3.88268, -88.82201 4.74871...        1   \n",
       "2  POLYGON ((-88.32201 5.61474, -88.82201 6.48076...        2   \n",
       "3  POLYGON ((-88.32201 7.34679, -88.82201 8.21281...        3   \n",
       "4  POLYGON ((-86.82201 1.28461, -87.32201 2.15063...        4   \n",
       "\n",
       "   species_richness     area_sqkm  mbu_species_richness  \n",
       "0                 1  31986.471199             11.064155  \n",
       "1                18  31936.727495            198.845069  \n",
       "2                43  31858.465100            473.854721  \n",
       "3                 1  31751.740608             10.982961  \n",
       "4                 1  31954.393897             11.053059  "
      ]
     },
     "execution_count": 17,
     "metadata": {},
     "output_type": "execute_result"
    }
   ],
   "source": [
    "MF2.head()"
   ]
  },
  {
   "cell_type": "code",
   "execution_count": 18,
   "id": "425338f8",
   "metadata": {},
   "outputs": [
    {
     "data": {
      "text/plain": [
       "<AxesSubplot:>"
      ]
     },
     "execution_count": 18,
     "metadata": {},
     "output_type": "execute_result"
    },
    {
     "data": {
      "image/png": "[encoded data removed]",
      "text/plain": [
       "<Figure size 400x400 with 2 Axes>"
      ]
     },
     "metadata": {},
     "output_type": "display_data"
    }
   ],
   "source": [
    "MF2 = gpd.clip(MF2.set_crs(epsg=4326, allow_override=True), ACMC.set_crs(epsg=4326, allow_override=True))\n",
    "ax = MF2.plot(column='mbu_species_richness', figsize=(4, 4), cmap='viridis', edgecolor=\"grey\", legend = True)\n",
    "\n",
    "gpd.GeoSeries(ACMC.geometry).plot(ax=ax, edgecolor='black', facecolor='none', label='ACMC')"
   ]
  },
  {
   "cell_type": "code",
   "execution_count": 19,
   "id": "dbbe1a80",
   "metadata": {},
   "outputs": [
    {
     "name": "stdout",
     "output_type": "stream",
     "text": [
      "Endemic Modulating Factor is not available to OBIS data\n"
     ]
    },
    {
     "ename": "UnboundLocalError",
     "evalue": "local variable 'df1' referenced before assignment",
     "output_type": "error",
     "traceback": [
      "\u001b[0;31m---------------------------------------------------------------------------\u001b[0m",
      "\u001b[0;31mUnboundLocalError\u001b[0m                         Traceback (most recent call last)",
      "\u001b[0;32m/var/folders/v8/b0fnjf9d4q31sfz_8q4h4zxm0000gn/T/ipykernel_8572/78323253.py\u001b[0m in \u001b[0;36m<module>\u001b[0;34m\u001b[0m\n\u001b[0;32m----> 1\u001b[0;31m \u001b[0mMF3\u001b[0m \u001b[0;34m=\u001b[0m \u001b[0mmbu_endemism\u001b[0m\u001b[0;34m(\u001b[0m\u001b[0mACMC\u001b[0m\u001b[0;34m,\u001b[0m \u001b[0mdf2\u001b[0m\u001b[0;34m,\u001b[0m \u001b[0mgrid\u001b[0m\u001b[0;34m,\u001b[0m \u001b[0;34m'OBIS'\u001b[0m\u001b[0;34m,\u001b[0m \u001b[0;36m31970\u001b[0m\u001b[0;34m)\u001b[0m\u001b[0;34m\u001b[0m\u001b[0;34m\u001b[0m\u001b[0m\n\u001b[0m",
      "\u001b[0;32m~/Desktop/oceanprogram/Experimental_Work/MBU_utils.py\u001b[0m in \u001b[0;36mmbu_endemism\u001b[0;34m(MPA, gdf, grid_gdf, source, crs_transformation_kms)\u001b[0m\n\u001b[1;32m    778\u001b[0m \u001b[0;34m\u001b[0m\u001b[0m\n\u001b[1;32m    779\u001b[0m         \u001b[0;31m#Calculate the MBUS from this MF\u001b[0m\u001b[0;34m\u001b[0m\u001b[0;34m\u001b[0m\u001b[0m\n\u001b[0;32m--> 780\u001b[0;31m         \u001b[0mdf1\u001b[0m\u001b[0;34m[\u001b[0m\u001b[0;34m'mbu_endemism'\u001b[0m\u001b[0;34m]\u001b[0m \u001b[0;34m=\u001b[0m \u001b[0;36m0\u001b[0m\u001b[0;34m\u001b[0m\u001b[0;34m\u001b[0m\u001b[0m\n\u001b[0m\u001b[1;32m    781\u001b[0m \u001b[0;34m\u001b[0m\u001b[0m\n\u001b[1;32m    782\u001b[0m     \u001b[0;32melif\u001b[0m \u001b[0msource\u001b[0m \u001b[0;34m==\u001b[0m \u001b[0;34m'IUCN'\u001b[0m\u001b[0;34m:\u001b[0m\u001b[0;34m\u001b[0m\u001b[0;34m\u001b[0m\u001b[0m\n",
      "\u001b[0;31mUnboundLocalError\u001b[0m: local variable 'df1' referenced before assignment"
     ]
    }
   ],
   "source": [
    "MF3 = mbu_endemism(ACMC, df2, grid, 'OBIS', 31970)"
   ]
  },
  {
   "cell_type": "code",
   "execution_count": 20,
   "id": "a2a4d6b5",
   "metadata": {},
   "outputs": [
    {
     "name": "stdout",
     "output_type": "stream",
     "text": [
      "WEGE Modulating Factor is not available to OBIS data\n"
     ]
    },
    {
     "ename": "UnboundLocalError",
     "evalue": "local variable 'df1' referenced before assignment",
     "output_type": "error",
     "traceback": [
      "\u001b[0;31m---------------------------------------------------------------------------\u001b[0m",
      "\u001b[0;31mUnboundLocalError\u001b[0m                         Traceback (most recent call last)",
      "\u001b[0;32m/var/folders/v8/b0fnjf9d4q31sfz_8q4h4zxm0000gn/T/ipykernel_8572/4109420683.py\u001b[0m in \u001b[0;36m<module>\u001b[0;34m\u001b[0m\n\u001b[0;32m----> 1\u001b[0;31m \u001b[0mMF4\u001b[0m \u001b[0;34m=\u001b[0m \u001b[0mmbu_wege\u001b[0m\u001b[0;34m(\u001b[0m\u001b[0mACMC\u001b[0m\u001b[0;34m,\u001b[0m \u001b[0mdf2\u001b[0m\u001b[0;34m,\u001b[0m \u001b[0mgrid\u001b[0m\u001b[0;34m,\u001b[0m \u001b[0;34m'OBIS'\u001b[0m\u001b[0;34m,\u001b[0m \u001b[0;36m31970\u001b[0m\u001b[0;34m)\u001b[0m\u001b[0;34m\u001b[0m\u001b[0;34m\u001b[0m\u001b[0m\n\u001b[0m",
      "\u001b[0;32m~/Desktop/oceanprogram/Experimental_Work/MBU_utils.py\u001b[0m in \u001b[0;36mmbu_wege\u001b[0;34m(MPA, gdf, grid_gdf, source, crs_transformation_kms)\u001b[0m\n\u001b[1;32m    825\u001b[0m \u001b[0;34m\u001b[0m\u001b[0m\n\u001b[1;32m    826\u001b[0m         \u001b[0;31m#Calculate the MBUS from this MF\u001b[0m\u001b[0;34m\u001b[0m\u001b[0;34m\u001b[0m\u001b[0m\n\u001b[0;32m--> 827\u001b[0;31m         \u001b[0mdf1\u001b[0m\u001b[0;34m[\u001b[0m\u001b[0;34m'mbu_endemism'\u001b[0m\u001b[0;34m]\u001b[0m \u001b[0;34m=\u001b[0m \u001b[0;36m0\u001b[0m\u001b[0;34m\u001b[0m\u001b[0;34m\u001b[0m\u001b[0m\n\u001b[0m\u001b[1;32m    828\u001b[0m \u001b[0;34m\u001b[0m\u001b[0m\n\u001b[1;32m    829\u001b[0m     \u001b[0;32melif\u001b[0m \u001b[0msource\u001b[0m \u001b[0;34m==\u001b[0m \u001b[0;34m'IUCN'\u001b[0m\u001b[0;34m:\u001b[0m\u001b[0;34m\u001b[0m\u001b[0;34m\u001b[0m\u001b[0m\n",
      "\u001b[0;31mUnboundLocalError\u001b[0m: local variable 'df1' referenced before assignment"
     ]
    }
   ],
   "source": [
    "MF4 = mbu_wege(ACMC, df2, grid, 'OBIS', 31970)"
   ]
  },
  {
   "cell_type": "markdown",
   "id": "a3d31160",
   "metadata": {},
   "source": [
    "Habitats survey require a list of paths where the EFG files are."
   ]
  },
  {
   "cell_type": "code",
   "execution_count": 21,
   "id": "24b8c187",
   "metadata": {},
   "outputs": [],
   "source": [
    "# locally\n",
    "source_dir = '/Users/maureenfonseca/Desktop/Data-Oceans/Ecosystem_Typology_IUCN/'\n",
    "eco_names = np.sort(glob.glob(source_dir + \"/*.json\"))"
   ]
  },
  {
   "cell_type": "code",
   "execution_count": 22,
   "id": "0b7816c2",
   "metadata": {},
   "outputs": [
    {
     "name": "stderr",
     "output_type": "stream",
     "text": [
      "/Users/maureenfonseca/Desktop/oceanprogram/Experimental_Work/MBU_utils.py:143: ShapelyDeprecationWarning: The 'type' attribute is deprecated, and will be removed in the future. You can use the 'geom_type' attribute instead.\n",
      "  if this_row_boundary.type[:len('multi')].lower() == 'multi':\n",
      "/Users/maureenfonseca/Desktop/oceanprogram/Experimental_Work/MBU_utils.py:164: UserWarning: Geometry is in a geographic CRS. Results from 'centroid' are likely incorrect. Use 'GeoSeries.to_crs()' to re-project geometries to a projected CRS before this operation.\n",
      "\n",
      "  new_gdf['geom_centroid'] = new_gdf.centroid\n"
     ]
    }
   ],
   "source": [
    "MF5 = mbu_habitats_survey(ACMC, grid, eco_names, 31970)"
   ]
  },
  {
   "cell_type": "markdown",
   "id": "d74e1325",
   "metadata": {},
   "source": [
    "## Calculation of a total number of MBUs from all MFs"
   ]
  },
  {
   "cell_type": "markdown",
   "id": "e055a2dd",
   "metadata": {},
   "source": [
    "Let's choose which MF to calculate:"
   ]
  },
  {
   "cell_type": "code",
   "execution_count": 30,
   "id": "a80aa31c",
   "metadata": {},
   "outputs": [],
   "source": [
    "# Modulating factors list\n",
    "MF = ['biodiversity_score', 'species_richness', 'endemism', 'wege', 'habitats_survey']"
   ]
  },
  {
   "cell_type": "code",
   "execution_count": 36,
   "id": "57f3c291",
   "metadata": {},
   "outputs": [
    {
     "name": "stderr",
     "output_type": "stream",
     "text": [
      "/Users/maureenfonseca/opt/anaconda3/lib/python3.9/site-packages/pandas/core/arraylike.py:396: RuntimeWarning: divide by zero encountered in log\n",
      "  result = getattr(ufunc, method)(*inputs, **kwargs)\n",
      "/Users/maureenfonseca/Desktop/oceanprogram/Experimental_Work/MBU_utils.py:143: ShapelyDeprecationWarning: The 'type' attribute is deprecated, and will be removed in the future. You can use the 'geom_type' attribute instead.\n",
      "  if this_row_boundary.type[:len('multi')].lower() == 'multi':\n",
      "/Users/maureenfonseca/Desktop/oceanprogram/Experimental_Work/MBU_utils.py:164: UserWarning: Geometry is in a geographic CRS. Results from 'centroid' are likely incorrect. Use 'GeoSeries.to_crs()' to re-project geometries to a projected CRS before this operation.\n",
      "\n",
      "  new_gdf['geom_centroid'] = new_gdf.centroid\n"
     ]
    }
   ],
   "source": [
    "test = give_mbu_score(MF, ACMC, df2, 'hexagon', 1, eco_names, 'OBIS', 31970)"
   ]
  },
  {
   "cell_type": "code",
   "execution_count": 37,
   "id": "1b989f0a",
   "metadata": {},
   "outputs": [
    {
     "data": {
      "text/plain": [
       "<AxesSubplot:>"
      ]
     },
     "execution_count": 37,
     "metadata": {},
     "output_type": "execute_result"
    },
    {
     "data": {
      "image/png": "[encoded data removed]",
      "text/plain": [
       "<Figure size 400x400 with 2 Axes>"
      ]
     },
     "metadata": {},
     "output_type": "display_data"
    }
   ],
   "source": [
    "test = gpd.clip(test.set_crs(epsg=4326, allow_override=True), ACMC.set_crs(epsg=4326, allow_override=True))\n",
    "ax = test.plot(column='Total_MBUs', figsize=(4, 4), cmap='viridis', edgecolor=\"grey\", legend = True)\n",
    "\n",
    "gpd.GeoSeries(ACMC.geometry).plot(ax=ax, edgecolor='black', facecolor='none', label='ACMC')"
   ]
  }
 ],
 "metadata": {
  "kernelspec": {
   "display_name": "Python 3 (ipykernel)",
   "language": "python",
   "name": "python3"
  },
  "language_info": {
   "codemirror_mode": {
    "name": "ipython",
    "version": 3
   },
   "file_extension": ".py",
   "mimetype": "text/x-python",
   "name": "python",
   "nbconvert_exporter": "python",
   "pygments_lexer": "ipython3",
   "version": "3.9.13"
  }
 },
 "nbformat": 4,
 "nbformat_minor": 5
}
