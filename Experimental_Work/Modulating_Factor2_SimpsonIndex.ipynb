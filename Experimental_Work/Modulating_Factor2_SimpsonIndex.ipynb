{
 "cells": [
  {
   "cell_type": "markdown",
   "metadata": {},
   "source": [
    "# Open Ocean\n",
    "# Open Earth Fundation"
   ]
  },
  {
   "cell_type": "markdown",
   "metadata": {},
   "source": [
    "<h1> Step 2: calculate different metrics for each modulating factor </h1>\n",
    "\n",
    "This notebook is the second part of the `Step1_Curate_IUCN_RedList.ipynb`\n",
    "\n",
    "<h2> Modulating Factor 1: Normalize Biodiversity Score </h2>\n",
    "\n",
    "Species diversity refers to the variety of different species present in a given area, as well as their abundance and distribution. This includes the number of species, their relative abundances, and how evenly or unevenly distributed they are.\n",
    "Our proposal is: apply the Simpson and Shannon Index to obtain a local value of the MPA and normalize each sqd km value"
   ]
  },
  {
   "cell_type": "markdown",
   "metadata": {},
   "source": [
    "### Data needed for this project\n",
    "\n",
    "- Species names\n",
    "- Species abundance\n",
    "- Species distribution\n",
    "\n",
    "Next Steps:\n",
    "\n",
    "1. Find a database or datasets with abundance and distribution information for the entire ACMC\n",
    "2. If it isn't reallistic, try to simulate that data\n",
    "\n",
    "Options:\n",
    "1. IUCN RED List and simulate abundance information\n",
    "2. GBIF species information and simulate abundance and distribution information"
   ]
  },
  {
   "cell_type": "markdown",
   "metadata": {},
   "source": [
    "### 1. Importing libraries."
   ]
  },
  {
   "cell_type": "code",
   "execution_count": 3,
   "metadata": {},
   "outputs": [],
   "source": [
    "# load basic libraries\n",
    "import os\n",
    "import glob\n",
    "import boto3\n",
    "\n",
    "import math\n",
    "import numpy as np\n",
    "import pandas as pd\n",
    "\n",
    "# to plot\n",
    "import matplotlib.pyplot as plt\n",
    "\n",
    "# to manage shapefiles\n",
    "import shapely\n",
    "import geopandas as gpd\n",
    "from shapely.geometry import Polygon, Point, box\n",
    "from shapely.ops import linemerge, unary_union, polygonize"
   ]
  },
  {
   "cell_type": "code",
   "execution_count": 4,
   "metadata": {},
   "outputs": [],
   "source": [
    "import fiona; #help(fiona.open)"
   ]
  },
  {
   "cell_type": "markdown",
   "metadata": {},
   "source": [
    "**Import OEF functions**"
   ]
  },
  {
   "cell_type": "code",
   "execution_count": 5,
   "metadata": {},
   "outputs": [],
   "source": [
    "%load_ext autoreload"
   ]
  },
  {
   "cell_type": "code",
   "execution_count": 6,
   "metadata": {},
   "outputs": [],
   "source": [
    "#Run this to reload the python file\n",
    "%autoreload 2\n",
    "from MBU_utils import *"
   ]
  },
  {
   "cell_type": "markdown",
   "metadata": {},
   "source": [
    "### 2. Load data"
   ]
  },
  {
   "cell_type": "code",
   "execution_count": 7,
   "metadata": {},
   "outputs": [],
   "source": [
    "ACMC = gpd.read_file('https://ocean-program.s3.amazonaws.com/data/raw/MPAs/ACMC.geojson')"
   ]
  },
  {
   "cell_type": "code",
   "execution_count": null,
   "metadata": {},
   "outputs": [],
   "source": [
    "%%time\n",
    "df = gpd.read_file('https://ocean-program.s3.amazonaws.com/data/processed/ACMC_IUCN_RedList/gdf_ACMC_IUCN_range_status_filtered.shp')"
   ]
  },
  {
   "cell_type": "code",
   "execution_count": 7,
   "metadata": {},
   "outputs": [
    {
     "name": "stdout",
     "output_type": "stream",
     "text": [
      "CPU times: user 7.42 s, sys: 106 ms, total: 7.52 s\n",
      "Wall time: 7.59 s\n"
     ]
    }
   ],
   "source": [
    "%%time\n",
    "#Locally\n",
    "df = gpd.read_file('/Users/maureenfonseca/Desktop/oceanprogram/Marine_Ecosystem_Credits/Marine_Biodiversity/MBU_Methodology/gdf_range_status_filtered_shortV.shp')"
   ]
  },
  {
   "cell_type": "code",
   "execution_count": 8,
   "metadata": {},
   "outputs": [],
   "source": [
    "grid = create_grid(ACMC, grid_shape=\"hexagon\", grid_size_deg=0.5)"
   ]
  },
  {
   "cell_type": "markdown",
   "metadata": {},
   "source": [
    "### 3. Preliminary calculations\n"
   ]
  },
  {
   "cell_type": "code",
   "execution_count": 9,
   "metadata": {},
   "outputs": [],
   "source": [
    "df = df[0:100]"
   ]
  },
  {
   "cell_type": "code",
   "execution_count": 10,
   "metadata": {},
   "outputs": [],
   "source": [
    "fake_abundance = np.random.randint(50, size = (len(df)))"
   ]
  },
  {
   "cell_type": "code",
   "execution_count": 11,
   "metadata": {},
   "outputs": [],
   "source": [
    "df['abundance'] = fake_abundance"
   ]
  },
  {
   "cell_type": "markdown",
   "metadata": {},
   "source": [
    "**Simpson Index**\n",
    "\n",
    "$\\text{D} = 1-(\\frac{\\sum{n(n-1)}}{N(N-1)})$\n",
    "\n",
    "n = the total number of organisms of a particular species\n",
    "\n",
    "N = the total number of organisms of all species\n",
    "\n",
    "The value of ***D*** ranges between 0 and 1. With this index, 1 represents infinite diversity and 0, no diversity."
   ]
  },
  {
   "cell_type": "code",
   "execution_count": 9,
   "metadata": {},
   "outputs": [],
   "source": [
    "def simpson(gdf_abundance_col):\n",
    "    \"\"\"\n",
    "    Calculates the value of D using the given values of abundance.\n",
    "    \n",
    "    Parameters:\n",
    "        - n (int): The sum of n(n-1)\n",
    "        - N (int): The total number of elements\n",
    "        \n",
    "    Returns:\n",
    "        - D (float): The calculated value of D\n",
    "    \"\"\"\n",
    "    \n",
    "    abundance = np.array(gdf_abundance_col)\n",
    "    N = np.sum(abundance)\n",
    "    \n",
    "    numerator = sum([n*(n-1) for n in abundance])\n",
    "    denominator = N * (N - 1)\n",
    "    \n",
    "    D = 1 - (numerator / denominator)\n",
    "    \n",
    "    return D"
   ]
  },
  {
   "cell_type": "code",
   "execution_count": 12,
   "metadata": {},
   "outputs": [],
   "source": [
    "def simpson(roi, gdf, grid_gdf, gdf_col_name):\n",
    "    \"\"\"\n",
    "    This function calculates the Simpson Index per grid cell and its corresponding MBU value\n",
    "    \n",
    "    input(s):\n",
    "    roi <shapely polygon in CRS WGS84:EPSG 4326>: region of interest or the total project area\n",
    "    gdf <geopandas dataframe>: contains at least the name of the species, the distribution polygons of each of them \n",
    "                             :and their abundance\n",
    "    grid_gdf <geopandas dataframe>: consists of polygons of grids typically generated by the gridding function\n",
    "                                  : containts at least a geometry column and a unique grid_id\n",
    "    gdf_col_name <string>: corresponds to the name of the abundance information column in the gdf\n",
    "    \n",
    "    output(s):\n",
    "    gdf <geopandas dataframe>: with an additional column ('mbu_habitat_survey') containing the number\n",
    "                             : of units for that grid or geometry\n",
    "    \"\"\"\n",
    "    \n",
    "    #Join in a gdf all the geometries within ROI\n",
    "    gdf = gpd.clip(gdf.set_crs(epsg=4326, allow_override=True), roi)\n",
    "\n",
    "    #This function calculates the sum of all abundances of overlapping species\n",
    "    overlap = map_algebra(gdf, gdf_col_name, 'sum')\n",
    "\n",
    "    #Merged the overlap values of overlapping geometries with the grid gdf\n",
    "    merged = gpd.sjoin(overlap, grid_gdf, how='left')\n",
    "    merged['n_value'] = overlap['algebra_overlaps']\n",
    "    \n",
    "    #Calculate the numerator and denominator needed per row\n",
    "    num = merged['n_value']*(merged['n_value']-1)\n",
    "    den = np.sum(merged['n_value'])*(np.sum(merged['n_value'])-1)\n",
    "    merged['num'] = num\n",
    "\n",
    "    #Dissolve the DataFrame by 'index_right' and aggregate using the calculated Shannon entropy\n",
    "    dissolve = merged.dissolve(by=\"index_right\", aggfunc={'num': 'sum'})\n",
    "    \n",
    "    #Calculate the Shannon index per grid\n",
    "    dissolve['simpson'] = 1-(dissolve['num']/den)\n",
    "\n",
    "    #Put this into cell\n",
    "    grid_gdf.loc[dissolve.index, 'Simpson'] = dissolve.simpson.values\n",
    "\n",
    "    #Normalization factor\n",
    "    Norm_factor = grid_gdf['Simpson']/grid_gdf['Simpson'].max()\n",
    "    \n",
    "    return grid_gdf"
   ]
  },
  {
   "cell_type": "code",
   "execution_count": 14,
   "metadata": {},
   "outputs": [
    {
     "name": "stderr",
     "output_type": "stream",
     "text": [
      "/Users/maureenfonseca/Desktop/oceanprogram/Marine_Ecosystem_Credits/Marine_Biodiversity/MBU_Methodology/MBU_utils.py:198: FutureWarning: Currently, index_parts defaults to True, but in the future, it will default to False to be consistent with Pandas. Use `index_parts=True` to keep the current behavior and True/False to silence the warning.\n",
      "  new_gdf = gdf.explode('geometry')\n"
     ]
    }
   ],
   "source": [
    "Simpson = simpson(ACMC, df, grid, 'abundance')"
   ]
  },
  {
   "cell_type": "code",
   "execution_count": 16,
   "metadata": {},
   "outputs": [
    {
     "data": {
      "image/png": "[encoded data removed]",
      "text/plain": [
       "<Figure size 800x800 with 1 Axes>"
      ]
     },
     "metadata": {},
     "output_type": "display_data"
    }
   ],
   "source": [
    "fig, ax = plt.subplots(figsize = (8,8))\n",
    "\n",
    "ax.set_aspect('equal')\n",
    "Simpson.plot(ax = ax, column = 'Simpson', cmap = 'viridis', edgecolor = 'grey', linewidth = 0.01)\n",
    "\n",
    "plt.show()"
   ]
  },
  {
   "cell_type": "markdown",
   "metadata": {},
   "source": [
    "**OBIS data**"
   ]
  },
  {
   "cell_type": "code",
   "execution_count": 1,
   "metadata": {},
   "outputs": [],
   "source": [
    "from pyobis import occurrences"
   ]
  },
  {
   "cell_type": "code",
   "execution_count": 9,
   "metadata": {},
   "outputs": [],
   "source": [
    "#create a polygon to access the OBIS data\n",
    "min_x, min_y, max_x, max_y = ACMC.total_bounds\n",
    "geometry = f\"POLYGON(({max_x} {min_y}, {min_x} {min_y}, {min_x} {max_y}, {max_x} {max_y}, {max_x} {min_y}))\""
   ]
  },
  {
   "cell_type": "code",
   "execution_count": 10,
   "metadata": {},
   "outputs": [
    {
     "name": "stdout",
     "output_type": "stream",
     "text": [
      "Fetching: [████████████████████████████████████████████████████████████████████████████████████████████████████] 4216/4216\n",
      "Fetched 4216 records.\n"
     ]
    },
    {
     "data": {
      "text/html": [
       "<div>\n",
       "<style scoped>\n",
       "    .dataframe tbody tr th:only-of-type {\n",
       "        vertical-align: middle;\n",
       "    }\n",
       "\n",
       "    .dataframe tbody tr th {\n",
       "        vertical-align: top;\n",
       "    }\n",
       "\n",
       "    .dataframe thead th {\n",
       "        text-align: right;\n",
       "    }\n",
       "</style>\n",
       "<table border=\"1\" class=\"dataframe\">\n",
       "  <thead>\n",
       "    <tr style=\"text-align: right;\">\n",
       "      <th></th>\n",
       "      <th>rightsHolder</th>\n",
       "      <th>infraphylum</th>\n",
       "      <th>country</th>\n",
       "      <th>date_year</th>\n",
       "      <th>scientificNameID</th>\n",
       "      <th>scientificName</th>\n",
       "      <th>individualCount</th>\n",
       "      <th>dropped</th>\n",
       "      <th>gigaclassid</th>\n",
       "      <th>aphiaID</th>\n",
       "      <th>...</th>\n",
       "      <th>sectionid</th>\n",
       "      <th>subsectionid</th>\n",
       "      <th>minimumElevationInMeters</th>\n",
       "      <th>maximumElevationInMeters</th>\n",
       "      <th>hab</th>\n",
       "      <th>varietyid</th>\n",
       "      <th>variety</th>\n",
       "      <th>parvorder</th>\n",
       "      <th>parvorderid</th>\n",
       "      <th>associatedMedia</th>\n",
       "    </tr>\n",
       "  </thead>\n",
       "  <tbody>\n",
       "    <tr>\n",
       "      <th>0</th>\n",
       "      <td>CAS</td>\n",
       "      <td>Gnathostomata</td>\n",
       "      <td>Costa Rica</td>\n",
       "      <td>1998.0</td>\n",
       "      <td>urn:lsid:marinespecies.org:taxname:293586</td>\n",
       "      <td>Doryrhamphus excisus excisus</td>\n",
       "      <td>1</td>\n",
       "      <td>False</td>\n",
       "      <td>10194.0</td>\n",
       "      <td>293586</td>\n",
       "      <td>...</td>\n",
       "      <td>NaN</td>\n",
       "      <td>NaN</td>\n",
       "      <td>NaN</td>\n",
       "      <td>NaN</td>\n",
       "      <td>NaN</td>\n",
       "      <td>NaN</td>\n",
       "      <td>NaN</td>\n",
       "      <td>NaN</td>\n",
       "      <td>NaN</td>\n",
       "      <td>NaN</td>\n",
       "    </tr>\n",
       "    <tr>\n",
       "      <th>1</th>\n",
       "      <td>SIO</td>\n",
       "      <td>Gnathostomata</td>\n",
       "      <td>NaN</td>\n",
       "      <td>1967.0</td>\n",
       "      <td>urn:lsid:marinespecies.org:taxname:306621</td>\n",
       "      <td>Scopelogadus bispinosus</td>\n",
       "      <td>NaN</td>\n",
       "      <td>False</td>\n",
       "      <td>10194.0</td>\n",
       "      <td>306621</td>\n",
       "      <td>...</td>\n",
       "      <td>NaN</td>\n",
       "      <td>NaN</td>\n",
       "      <td>NaN</td>\n",
       "      <td>NaN</td>\n",
       "      <td>NaN</td>\n",
       "      <td>NaN</td>\n",
       "      <td>NaN</td>\n",
       "      <td>NaN</td>\n",
       "      <td>NaN</td>\n",
       "      <td>NaN</td>\n",
       "    </tr>\n",
       "    <tr>\n",
       "      <th>2</th>\n",
       "      <td>KU</td>\n",
       "      <td>Gnathostomata</td>\n",
       "      <td>Costa Rica</td>\n",
       "      <td>1954.0</td>\n",
       "      <td>urn:lsid:marinespecies.org:taxname:125636</td>\n",
       "      <td>Gymnothorax</td>\n",
       "      <td>NaN</td>\n",
       "      <td>False</td>\n",
       "      <td>10194.0</td>\n",
       "      <td>125636</td>\n",
       "      <td>...</td>\n",
       "      <td>NaN</td>\n",
       "      <td>NaN</td>\n",
       "      <td>NaN</td>\n",
       "      <td>NaN</td>\n",
       "      <td>NaN</td>\n",
       "      <td>NaN</td>\n",
       "      <td>NaN</td>\n",
       "      <td>NaN</td>\n",
       "      <td>NaN</td>\n",
       "      <td>NaN</td>\n",
       "    </tr>\n",
       "    <tr>\n",
       "      <th>3</th>\n",
       "      <td>NaN</td>\n",
       "      <td>Gnathostomata</td>\n",
       "      <td>NaN</td>\n",
       "      <td>NaN</td>\n",
       "      <td>urn:lsid:marinespecies.org:taxname:105857</td>\n",
       "      <td>Mobula birostris</td>\n",
       "      <td>NaN</td>\n",
       "      <td>False</td>\n",
       "      <td>NaN</td>\n",
       "      <td>1026118</td>\n",
       "      <td>...</td>\n",
       "      <td>NaN</td>\n",
       "      <td>NaN</td>\n",
       "      <td>NaN</td>\n",
       "      <td>NaN</td>\n",
       "      <td>NaN</td>\n",
       "      <td>NaN</td>\n",
       "      <td>NaN</td>\n",
       "      <td>NaN</td>\n",
       "      <td>NaN</td>\n",
       "      <td>NaN</td>\n",
       "    </tr>\n",
       "    <tr>\n",
       "      <th>4</th>\n",
       "      <td>CAS</td>\n",
       "      <td>Gnathostomata</td>\n",
       "      <td>Panama</td>\n",
       "      <td>1956.0</td>\n",
       "      <td>urn:lsid:marinespecies.org:taxname:276587</td>\n",
       "      <td>Polydactylus approximans</td>\n",
       "      <td>2</td>\n",
       "      <td>False</td>\n",
       "      <td>10194.0</td>\n",
       "      <td>276587</td>\n",
       "      <td>...</td>\n",
       "      <td>NaN</td>\n",
       "      <td>NaN</td>\n",
       "      <td>NaN</td>\n",
       "      <td>NaN</td>\n",
       "      <td>NaN</td>\n",
       "      <td>NaN</td>\n",
       "      <td>NaN</td>\n",
       "      <td>NaN</td>\n",
       "      <td>NaN</td>\n",
       "      <td>NaN</td>\n",
       "    </tr>\n",
       "    <tr>\n",
       "      <th>...</th>\n",
       "      <td>...</td>\n",
       "      <td>...</td>\n",
       "      <td>...</td>\n",
       "      <td>...</td>\n",
       "      <td>...</td>\n",
       "      <td>...</td>\n",
       "      <td>...</td>\n",
       "      <td>...</td>\n",
       "      <td>...</td>\n",
       "      <td>...</td>\n",
       "      <td>...</td>\n",
       "      <td>...</td>\n",
       "      <td>...</td>\n",
       "      <td>...</td>\n",
       "      <td>...</td>\n",
       "      <td>...</td>\n",
       "      <td>...</td>\n",
       "      <td>...</td>\n",
       "      <td>...</td>\n",
       "      <td>...</td>\n",
       "      <td>...</td>\n",
       "    </tr>\n",
       "    <tr>\n",
       "      <th>4211</th>\n",
       "      <td>NaN</td>\n",
       "      <td>Gnathostomata</td>\n",
       "      <td>Costa Rica</td>\n",
       "      <td>1975.0</td>\n",
       "      <td>urn:lsid:marinespecies.org:taxname:276587</td>\n",
       "      <td>Polydactylus approximans</td>\n",
       "      <td>NaN</td>\n",
       "      <td>False</td>\n",
       "      <td>10194.0</td>\n",
       "      <td>276587</td>\n",
       "      <td>...</td>\n",
       "      <td>NaN</td>\n",
       "      <td>NaN</td>\n",
       "      <td>NaN</td>\n",
       "      <td>NaN</td>\n",
       "      <td>NaN</td>\n",
       "      <td>NaN</td>\n",
       "      <td>NaN</td>\n",
       "      <td>NaN</td>\n",
       "      <td>NaN</td>\n",
       "      <td>NaN</td>\n",
       "    </tr>\n",
       "    <tr>\n",
       "      <th>4212</th>\n",
       "      <td>NaN</td>\n",
       "      <td>Gnathostomata</td>\n",
       "      <td>NaN</td>\n",
       "      <td>NaN</td>\n",
       "      <td>urn:lsid:marinespecies.org:taxname:127401</td>\n",
       "      <td>Diodon eydouxii</td>\n",
       "      <td>NaN</td>\n",
       "      <td>False</td>\n",
       "      <td>10194.0</td>\n",
       "      <td>127401</td>\n",
       "      <td>...</td>\n",
       "      <td>NaN</td>\n",
       "      <td>NaN</td>\n",
       "      <td>NaN</td>\n",
       "      <td>NaN</td>\n",
       "      <td>NaN</td>\n",
       "      <td>NaN</td>\n",
       "      <td>NaN</td>\n",
       "      <td>NaN</td>\n",
       "      <td>NaN</td>\n",
       "      <td>NaN</td>\n",
       "    </tr>\n",
       "    <tr>\n",
       "      <th>4213</th>\n",
       "      <td>LACM</td>\n",
       "      <td>Gnathostomata</td>\n",
       "      <td>Costa Rica</td>\n",
       "      <td>1964.0</td>\n",
       "      <td>urn:lsid:marinespecies.org:taxname:276400</td>\n",
       "      <td>Dactyloscopus lacteus</td>\n",
       "      <td>1</td>\n",
       "      <td>False</td>\n",
       "      <td>10194.0</td>\n",
       "      <td>276400</td>\n",
       "      <td>...</td>\n",
       "      <td>NaN</td>\n",
       "      <td>NaN</td>\n",
       "      <td>NaN</td>\n",
       "      <td>NaN</td>\n",
       "      <td>NaN</td>\n",
       "      <td>NaN</td>\n",
       "      <td>NaN</td>\n",
       "      <td>NaN</td>\n",
       "      <td>NaN</td>\n",
       "      <td>NaN</td>\n",
       "    </tr>\n",
       "    <tr>\n",
       "      <th>4214</th>\n",
       "      <td>NaN</td>\n",
       "      <td>Gnathostomata</td>\n",
       "      <td>NaN</td>\n",
       "      <td>1925.0</td>\n",
       "      <td>NaN</td>\n",
       "      <td>Idiacanthus antrostomus</td>\n",
       "      <td>1</td>\n",
       "      <td>False</td>\n",
       "      <td>10194.0</td>\n",
       "      <td>275151</td>\n",
       "      <td>...</td>\n",
       "      <td>NaN</td>\n",
       "      <td>NaN</td>\n",
       "      <td>NaN</td>\n",
       "      <td>NaN</td>\n",
       "      <td>NaN</td>\n",
       "      <td>NaN</td>\n",
       "      <td>NaN</td>\n",
       "      <td>NaN</td>\n",
       "      <td>NaN</td>\n",
       "      <td>NaN</td>\n",
       "    </tr>\n",
       "    <tr>\n",
       "      <th>4215</th>\n",
       "      <td>NaN</td>\n",
       "      <td>Gnathostomata</td>\n",
       "      <td>NaN</td>\n",
       "      <td>1925.0</td>\n",
       "      <td>NaN</td>\n",
       "      <td>Oneirodes luetkeni</td>\n",
       "      <td>1</td>\n",
       "      <td>False</td>\n",
       "      <td>10194.0</td>\n",
       "      <td>272631</td>\n",
       "      <td>...</td>\n",
       "      <td>NaN</td>\n",
       "      <td>NaN</td>\n",
       "      <td>NaN</td>\n",
       "      <td>NaN</td>\n",
       "      <td>NaN</td>\n",
       "      <td>NaN</td>\n",
       "      <td>NaN</td>\n",
       "      <td>NaN</td>\n",
       "      <td>NaN</td>\n",
       "      <td>NaN</td>\n",
       "    </tr>\n",
       "  </tbody>\n",
       "</table>\n",
       "<p>4216 rows × 190 columns</p>\n",
       "</div>"
      ],
      "text/plain": [
       "     rightsHolder    infraphylum     country  date_year  \\\n",
       "0             CAS  Gnathostomata  Costa Rica     1998.0   \n",
       "1             SIO  Gnathostomata         NaN     1967.0   \n",
       "2              KU  Gnathostomata  Costa Rica     1954.0   \n",
       "3             NaN  Gnathostomata         NaN        NaN   \n",
       "4             CAS  Gnathostomata      Panama     1956.0   \n",
       "...           ...            ...         ...        ...   \n",
       "4211          NaN  Gnathostomata  Costa Rica     1975.0   \n",
       "4212          NaN  Gnathostomata         NaN        NaN   \n",
       "4213         LACM  Gnathostomata  Costa Rica     1964.0   \n",
       "4214          NaN  Gnathostomata         NaN     1925.0   \n",
       "4215          NaN  Gnathostomata         NaN     1925.0   \n",
       "\n",
       "                               scientificNameID                scientificName  \\\n",
       "0     urn:lsid:marinespecies.org:taxname:293586  Doryrhamphus excisus excisus   \n",
       "1     urn:lsid:marinespecies.org:taxname:306621       Scopelogadus bispinosus   \n",
       "2     urn:lsid:marinespecies.org:taxname:125636                   Gymnothorax   \n",
       "3     urn:lsid:marinespecies.org:taxname:105857              Mobula birostris   \n",
       "4     urn:lsid:marinespecies.org:taxname:276587      Polydactylus approximans   \n",
       "...                                         ...                           ...   \n",
       "4211  urn:lsid:marinespecies.org:taxname:276587      Polydactylus approximans   \n",
       "4212  urn:lsid:marinespecies.org:taxname:127401               Diodon eydouxii   \n",
       "4213  urn:lsid:marinespecies.org:taxname:276400         Dactyloscopus lacteus   \n",
       "4214                                        NaN       Idiacanthus antrostomus   \n",
       "4215                                        NaN            Oneirodes luetkeni   \n",
       "\n",
       "     individualCount dropped  gigaclassid  aphiaID  ...  sectionid  \\\n",
       "0                  1   False      10194.0   293586  ...        NaN   \n",
       "1                NaN   False      10194.0   306621  ...        NaN   \n",
       "2                NaN   False      10194.0   125636  ...        NaN   \n",
       "3                NaN   False          NaN  1026118  ...        NaN   \n",
       "4                  2   False      10194.0   276587  ...        NaN   \n",
       "...              ...     ...          ...      ...  ...        ...   \n",
       "4211             NaN   False      10194.0   276587  ...        NaN   \n",
       "4212             NaN   False      10194.0   127401  ...        NaN   \n",
       "4213               1   False      10194.0   276400  ...        NaN   \n",
       "4214               1   False      10194.0   275151  ...        NaN   \n",
       "4215               1   False      10194.0   272631  ...        NaN   \n",
       "\n",
       "      subsectionid minimumElevationInMeters maximumElevationInMeters  hab  \\\n",
       "0              NaN                      NaN                      NaN  NaN   \n",
       "1              NaN                      NaN                      NaN  NaN   \n",
       "2              NaN                      NaN                      NaN  NaN   \n",
       "3              NaN                      NaN                      NaN  NaN   \n",
       "4              NaN                      NaN                      NaN  NaN   \n",
       "...            ...                      ...                      ...  ...   \n",
       "4211           NaN                      NaN                      NaN  NaN   \n",
       "4212           NaN                      NaN                      NaN  NaN   \n",
       "4213           NaN                      NaN                      NaN  NaN   \n",
       "4214           NaN                      NaN                      NaN  NaN   \n",
       "4215           NaN                      NaN                      NaN  NaN   \n",
       "\n",
       "      varietyid  variety parvorder parvorderid associatedMedia  \n",
       "0           NaN      NaN       NaN         NaN             NaN  \n",
       "1           NaN      NaN       NaN         NaN             NaN  \n",
       "2           NaN      NaN       NaN         NaN             NaN  \n",
       "3           NaN      NaN       NaN         NaN             NaN  \n",
       "4           NaN      NaN       NaN         NaN             NaN  \n",
       "...         ...      ...       ...         ...             ...  \n",
       "4211        NaN      NaN       NaN         NaN             NaN  \n",
       "4212        NaN      NaN       NaN         NaN             NaN  \n",
       "4213        NaN      NaN       NaN         NaN             NaN  \n",
       "4214        NaN      NaN       NaN         NaN             NaN  \n",
       "4215        NaN      NaN       NaN         NaN             NaN  \n",
       "\n",
       "[4216 rows x 190 columns]"
      ]
     },
     "execution_count": 10,
     "metadata": {},
     "output_type": "execute_result"
    }
   ],
   "source": [
    "query = occurrences.search(geometry=geometry)\n",
    "query.execute()"
   ]
  },
  {
   "cell_type": "code",
   "execution_count": 11,
   "metadata": {},
   "outputs": [],
   "source": [
    "# Returns the data\n",
    "obis = query.data "
   ]
  },
  {
   "cell_type": "code",
   "execution_count": 15,
   "metadata": {},
   "outputs": [],
   "source": [
    "# convert OBIS dataframe to geodataframe\n",
    "obis = gpd.GeoDataFrame(obis, \n",
    "                       geometry=gpd.points_from_xy(obis.decimalLongitude, \n",
    "                                          obis.decimalLatitude))"
   ]
  },
  {
   "cell_type": "code",
   "execution_count": 16,
   "metadata": {},
   "outputs": [],
   "source": [
    "import random\n",
    "\n",
    "fake_abundance = [random.randint(1, 100) for _ in range(len(obis))]\n",
    "obis['abundance'] = fake_abundance"
   ]
  },
  {
   "cell_type": "code",
   "execution_count": 17,
   "metadata": {},
   "outputs": [
    {
     "data": {
      "text/plain": [
       "<AxesSubplot:>"
      ]
     },
     "execution_count": 17,
     "metadata": {},
     "output_type": "execute_result"
    },
    {
     "data": {
      "image/png": "[encoded data removed]",
      "text/plain": [
       "<Figure size 640x480 with 1 Axes>"
      ]
     },
     "metadata": {},
     "output_type": "display_data"
    }
   ],
   "source": [
    "# plot protected area with marine species\n",
    "# select column name to plot\n",
    "column_name = 'scientificName'\n",
    "ax = ACMC.boundary.plot()\n",
    "obis.plot(ax=ax, markersize=5, column=column_name, \n",
    "        antialiased=False, legend_kwds={'bbox_to_anchor': (1, 1)})"
   ]
  },
  {
   "cell_type": "code",
   "execution_count": 18,
   "metadata": {},
   "outputs": [],
   "source": [
    "#Join in a gdf all the geometries within ACMC\n",
    "df2 = gpd.clip(obis.set_crs(epsg=4326, allow_override=True), ACMC)"
   ]
  },
  {
   "cell_type": "code",
   "execution_count": 19,
   "metadata": {},
   "outputs": [],
   "source": [
    "#Spatial join of gdf and grid_gdf\n",
    "pointInPolys = sjoin(df2, grid, how='inner')"
   ]
  },
  {
   "cell_type": "code",
   "execution_count": 23,
   "metadata": {},
   "outputs": [],
   "source": [
    "#where num = n(n-1)\n",
    "pointInPolys['num'] = pointInPolys['abundance']*(pointInPolys['abundance']-1)"
   ]
  },
  {
   "cell_type": "code",
   "execution_count": 21,
   "metadata": {},
   "outputs": [],
   "source": [
    "#To count the total abundance number from all the species in a grid\n",
    "N = pd.DataFrame()\n",
    "N['N'] = pointInPolys.groupby('Grid_ID').apply(lambda x: x['abundance'].sum())"
   ]
  },
  {
   "cell_type": "code",
   "execution_count": 26,
   "metadata": {},
   "outputs": [],
   "source": [
    "#Merge the datasets based on the Grid_ID\n",
    "new = pd.merge(pointInPolys, N, on='Grid_ID')"
   ]
  },
  {
   "cell_type": "code",
   "execution_count": 34,
   "metadata": {},
   "outputs": [],
   "source": [
    "new['simpson'] = 1-((new['num'])/(new['N']*(new['N']-1)))"
   ]
  },
  {
   "cell_type": "code",
   "execution_count": null,
   "metadata": {},
   "outputs": [],
   "source": []
  }
 ],
 "metadata": {
  "kernelspec": {
   "display_name": "Python 3 (ipykernel)",
   "language": "python",
   "name": "python3"
  },
  "language_info": {
   "codemirror_mode": {
    "name": "ipython",
    "version": 3
   },
   "file_extension": ".py",
   "mimetype": "text/x-python",
   "name": "python",
   "nbconvert_exporter": "python",
   "pygments_lexer": "ipython3",
   "version": "3.9.13"
  }
 },
 "nbformat": 4,
 "nbformat_minor": 4
}
