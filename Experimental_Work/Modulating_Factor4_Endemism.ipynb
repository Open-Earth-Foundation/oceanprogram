{
 "cells": [
  {
   "cell_type": "markdown",
   "metadata": {},
   "source": [
    "# Open Ocean\n",
    "# Open Earth Fundation"
   ]
  },
  {
   "cell_type": "markdown",
   "metadata": {},
   "source": [
    "<h1> Step 2: calculate different metrics for each modulating factor </h1>\n",
    "    \n",
    "This notebook is the second part of the Step1_Curate_IUCN_RedList.ipynb\n",
    "\n",
    "<h2> Modulating Factor 3.1: Endemic Species  </h2>\n",
    "\n",
    "Endemic species are those that are exclusively found in a particular geographic region and nowhere else in the world. It is crucial to understand endemic species in order to maintain the planet's biodiversity, inform conservation efforts, advance our knowledge of evolutionary processes, and recognize the cultural and economic significance of these species. Endemic species in the ocean are difficult to find because they have more freedom of movement than species on land. Consequently, endemism is an important factor to consider when evaluating the importance of protecting a specific place in the ocean. "
   ]
  },
  {
   "cell_type": "markdown",
   "metadata": {},
   "source": [
    "### Data needed for this project\n",
    "\n",
    "The data was output by `Step1_Curate_IUCN_RedList.ipynb` and are accessed through the Oceans Program s3 public bucket\n",
    "\n",
    "- IUCN Red List dataset for ACMC:\n",
    "1. s3://ocean-program/data/processed/ACMC_IUCN_RedList/gdf_ACMC_IUCN_range_status_filtered.shp\n",
    "2. https://ocean-program.s3.amazonaws.com/data/processed/ACMC_IUCN_RedList/gdf_ACMC_IUCN_range_status_filtered.shp\n",
    "\n",
    "\n",
    "- Our Marine Protected Area of interest -> ACMC polygon:\n",
    "\n",
    "https://ocean-program.s3.amazonaws.com/data/raw/MPAs/ACMC.geojson"
   ]
  },
  {
   "cell_type": "markdown",
   "metadata": {},
   "source": [
    "### 1. Importing libraries"
   ]
  },
  {
   "cell_type": "code",
   "execution_count": 3,
   "metadata": {},
   "outputs": [],
   "source": [
    "import os\n",
    "import boto3\n",
    "\n",
    "import numpy as np\n",
    "import pandas as pd\n",
    "import geopandas as gpd\n",
    "\n",
    "import matplotlib.pyplot as plt\n",
    "from shapely.geometry import Polygon, Point"
   ]
  },
  {
   "cell_type": "code",
   "execution_count": 4,
   "metadata": {},
   "outputs": [],
   "source": [
    "import fiona; #help(fiona.open)"
   ]
  },
  {
   "cell_type": "markdown",
   "metadata": {},
   "source": [
    "OEF functions"
   ]
  },
  {
   "cell_type": "code",
   "execution_count": 5,
   "metadata": {},
   "outputs": [],
   "source": [
    "from MBU_utils import *"
   ]
  },
  {
   "cell_type": "markdown",
   "metadata": {},
   "source": [
    "### 2. Load data\n",
    "\n",
    "**Get the conservation area**\n",
    "\n",
    "Mostly for plotting."
   ]
  },
  {
   "cell_type": "markdown",
   "metadata": {},
   "source": [
    "**Coordinates for Cocos Island**\n",
    "\n",
    "Cocos Island is located at 05°31′41″N; 87°03′40″W"
   ]
  },
  {
   "cell_type": "code",
   "execution_count": null,
   "metadata": {},
   "outputs": [],
   "source": [
    "Cocos_lat = 5+31/60+41/3600\n",
    "Cocos_lon = -(87+3/60+40/3600)\n",
    "Cocos = Point(Cocos_lon, Cocos_lat)"
   ]
  },
  {
   "cell_type": "markdown",
   "metadata": {},
   "source": [
    "**Import the entire marine protected area**"
   ]
  },
  {
   "cell_type": "markdown",
   "metadata": {},
   "source": [
    "ACMC is the acronyms for the entire conservation area: Cocos Marine Conservation Area"
   ]
  },
  {
   "cell_type": "code",
   "execution_count": 6,
   "metadata": {},
   "outputs": [],
   "source": [
    "ACMC = gpd.read_file('https://ocean-program.s3.amazonaws.com/data/raw/MPAs/ACMC.geojson')"
   ]
  },
  {
   "cell_type": "code",
   "execution_count": 7,
   "metadata": {},
   "outputs": [
    {
     "data": {
      "text/plain": [
       "<Geographic 2D CRS: EPSG:4326>\n",
       "Name: WGS 84\n",
       "Axis Info [ellipsoidal]:\n",
       "- Lat[north]: Geodetic latitude (degree)\n",
       "- Lon[east]: Geodetic longitude (degree)\n",
       "Area of Use:\n",
       "- name: World.\n",
       "- bounds: (-180.0, -90.0, 180.0, 90.0)\n",
       "Datum: World Geodetic System 1984 ensemble\n",
       "- Ellipsoid: WGS 84\n",
       "- Prime Meridian: Greenwich"
      ]
     },
     "execution_count": 7,
     "metadata": {},
     "output_type": "execute_result"
    }
   ],
   "source": [
    "ACMC.crs"
   ]
  },
  {
   "cell_type": "markdown",
   "metadata": {},
   "source": [
    "**Get the species data**"
   ]
  },
  {
   "cell_type": "markdown",
   "metadata": {},
   "source": [
    "This is the outcome from [Step1_Curate_IUCN_RedList.ipynb](https://github.com/Open-Earth-Foundation/oceanprogram/blob/main/Marine%20Biodiversity%20Unit%20Methodology/Step1_Curate_IUCN_RedList.ipynb)"
   ]
  },
  {
   "cell_type": "markdown",
   "metadata": {},
   "source": [
    "The species information file is large (~2.1 GB), so trying to access it from the public AWS S3 bucket 'directly' can be time consuming.\n",
    "\n",
    "Two options:\n",
    "1. Have patience and run it anyway\n",
    "2. Download the file in your computer and read it locally"
   ]
  },
  {
   "cell_type": "markdown",
   "metadata": {},
   "source": [
    "**Option 1**"
   ]
  },
  {
   "cell_type": "code",
   "execution_count": null,
   "metadata": {},
   "outputs": [],
   "source": [
    "%%time\n",
    "df = gpd.read_file('s3://ocean-program/data/processed/ACMC_IUCN_RedList/gdf_ACMC_IUCN_range_status_filtered.shp') "
   ]
  },
  {
   "cell_type": "markdown",
   "metadata": {},
   "source": [
    "**Option 2**"
   ]
  },
  {
   "cell_type": "code",
   "execution_count": null,
   "metadata": {},
   "outputs": [],
   "source": [
    "# Initialize S3 client\n",
    "s3 = boto3.client('s3')\n",
    "\n",
    "# Set the name of the bucket and the path to the directory\n",
    "bucket_name = 'ocean-program'\n",
    "directory_path = 'data/processed/ACMC_IUCN_RedList/'\n",
    "\n",
    "# List all files in the directory\n",
    "response = s3.list_objects_v2(Bucket=bucket_name, Prefix=directory_path)\n",
    "\n",
    "# Download each file\n",
    "for obj in response['Contents']:\n",
    "    # Skip directories\n",
    "    if obj['Key'].endswith('/'):\n",
    "        continue\n",
    "    \n",
    "    # Download the file\n",
    "    file_name = obj['Key'].split('/')[-1]\n",
    "    s3.download_file(ocean-program, obj['Key'], file_name)\n",
    "    print(f\"Downloaded file: {file_name}\")"
   ]
  },
  {
   "cell_type": "markdown",
   "metadata": {},
   "source": [
    "The downloaded files will be saved in the current working directory, so to read it:"
   ]
  },
  {
   "cell_type": "code",
   "execution_count": null,
   "metadata": {},
   "outputs": [],
   "source": [
    "%%time\n",
    "df = gpd.read_file('./gdf_ACMC_IUCN_range_status_filtered.shp') "
   ]
  },
  {
   "cell_type": "markdown",
   "metadata": {},
   "source": [
    "### 3. Preliminary calculations"
   ]
  },
  {
   "cell_type": "code",
   "execution_count": null,
   "metadata": {},
   "outputs": [],
   "source": [
    "area_of_conservation = ACMC.geometry.item()"
   ]
  },
  {
   "cell_type": "code",
   "execution_count": null,
   "metadata": {},
   "outputs": [],
   "source": [
    "area_of_conservation"
   ]
  },
  {
   "cell_type": "markdown",
   "metadata": {},
   "source": [
    "Note: Maybe this modulating factor can have another name, because we can obtain more information from it, as local species or migratory species."
   ]
  },
  {
   "cell_type": "markdown",
   "metadata": {},
   "source": [
    "**Distribution Ratio #2**"
   ]
  },
  {
   "cell_type": "markdown",
   "metadata": {},
   "source": [
    "Let's to define a distribution ratio based on the distribution area within total conservation area and the total distribution area for each species:"
   ]
  },
  {
   "cell_type": "markdown",
   "metadata": {},
   "source": [
    "DistRatio 2 = $\\frac{\\text{distribution area within total conservation area}}{\\text{total distribution area}}$"
   ]
  },
  {
   "cell_type": "markdown",
   "metadata": {},
   "source": [
    "**Analysis - Scenarios**"
   ]
  },
  {
   "cell_type": "markdown",
   "metadata": {},
   "source": [
    "Here we can have 3 scenarios:\n",
    "\n",
    "1. `Distribution Ratio 2 > 1`\n",
    "- This does not make sense because it implies that the range of the species within the total conservation area is greater than its total range.\n",
    "2. `Distribution Ratio 2 = 1` \n",
    "- This implies that both areas are the same, so that the species is endemic to the conservation area.\n",
    "3. `Distribution Ratio 2 < 1` \n",
    "\n",
    "    3.1 When Distribution `Ratio 2 is close to 1`: \n",
    "- This means that these species are not endemic to the conservation area, but could be considered local species (for example, the Eastern Central Pacific).\n",
    "\n",
    "    3.2 When Distribution `Ratio 2 << 1`: \n",
    "- These species are migratory\n",
    "- They might visit the conservation area seasonally and they can travel long distances\n",
    "- You can find them in other parts of the ocean around the world"
   ]
  },
  {
   "cell_type": "markdown",
   "metadata": {},
   "source": [
    "Maps examples: https://towardsdatascience.com/plot-choropleth-maps-with-shapefiles-using-geopandas-a6bf6ade0a49\n",
    "https://stackoverflow.com/questions/65507374/plotting-a-geopandas-dataframe-using-plotly"
   ]
  },
  {
   "cell_type": "markdown",
   "metadata": {},
   "source": [
    "**Removing all the geometries outside ACMC**"
   ]
  },
  {
   "cell_type": "code",
   "execution_count": 26,
   "metadata": {},
   "outputs": [],
   "source": [
    "df = df[0:100]"
   ]
  },
  {
   "cell_type": "code",
   "execution_count": null,
   "metadata": {},
   "outputs": [],
   "source": [
    "df2 = gpd.clip(df.set_crs(epsg=4326, allow_override=True), ACMC)"
   ]
  },
  {
   "cell_type": "code",
   "execution_count": 13,
   "metadata": {},
   "outputs": [],
   "source": [
    "#Grid geo Dataframe\n",
    "grid = create_grid(ACMC, 'hexagon', 1)"
   ]
  },
  {
   "cell_type": "code",
   "execution_count": 20,
   "metadata": {},
   "outputs": [],
   "source": [
    "def mbu_endemism(roi, gdf, grid_gdf, transform=\"log\"):\n",
    "    \"\"\"\n",
    "    inputs:\n",
    "    roi <shapely polygon in CRS WGS84:EPSG 4326>: region of interest or the total project area\n",
    "    gdf <geopandas dataframe>: contains at least the name of the species and the distribution polygons of each of them\n",
    "    grid_gdf <geopandas dataframe>: consists of polygons of grids typically generated by the gridding function\n",
    "                                  : containts atleast a geometry column and a unique grid_id\n",
    "    transform <str>: either \"none\" or \"square-root\" or \"log\"\n",
    "                   : if \"square-root\" then it is square-rooted\n",
    "                   : else 1/(-Log2(score))\n",
    "               \n",
    "    output(s):\n",
    "    gdf <geopandas dataframe>: with an additional column ('mbu_endemism') containing the number\n",
    "                             :of units for that grid or geometry\n",
    "    \"\"\"\n",
    "    \n",
    "    #Polygons of species distribution to be clipped to roi\n",
    "    df2 = gpd.clip(gdf.set_crs(epsg=4326, allow_override=True), roi)\n",
    "    \n",
    "    #Calculate the portion of the area covered by each species in roi with respect to its global distribution\n",
    "    dist_ratio2 = np.round(df2.area/gdf.area, decimals=4, out=None)\n",
    "    \n",
    "    if transform == \"none\":\n",
    "        \n",
    "        #Add these values into the new gdf\n",
    "        df2[\"dist_ratio2\"] = dist_ratio2\n",
    "        \n",
    "        #Function that calculates the sum of the individual log_dist2 values of all species of overlapping geometries\n",
    "        overlap_endemic_v = sum_values(df2,'dist_ratio2')\n",
    "        \n",
    "    elif transform == \"log\":\n",
    "        \n",
    "        #Calculate the log of that ratio\n",
    "        log_dist2 = 1/(-np.log2(dist_ratio2)+0.1)\n",
    "    \n",
    "        #Add these values into the new gdf\n",
    "        df2[\"log_dist2\"] = log_dist2\n",
    "    \n",
    "        #Function that calculates the sum of the individual log_dist2 values of all species of overlapping geometries\n",
    "        overlap_endemic_v = sum_values(df2,'log_dist2')\n",
    "        \n",
    "    elif transform == \"square-root\":\n",
    "            \n",
    "        #Calculate the log of that ratio\n",
    "        sqroot_dist2 = dist_ratio2**0.5\n",
    "    \n",
    "        #Add these values into the new gdf\n",
    "        df2[\"sqroot_dist2\"] = sqroot_dist2\n",
    "    \n",
    "        #Function that calculates the sum of the individual log_dist2 values of all species of overlapping geometries\n",
    "        overlap_endemic_v = sum_values(df2,'sqroot_dist2')       \n",
    "        \n",
    "    else:\n",
    "        raise Exception(\"Specify a none, log or square as the transformation.\")\n",
    "    \n",
    "    #Merged the log_dist2 values of overlapping geometries with the grid gdf\n",
    "    merged = gpd.sjoin(overlap_endemic_v, grid_gdf, how='left')\n",
    "    merged['n_value']= overlap_endemic_v['sum_overlaps']\n",
    "\n",
    "    # Compute stats per grid cell\n",
    "    #aggfunc: sum the values of all the geometries that dissolve\n",
    "    dissolve = merged.dissolve(by=\"index_right\", aggfunc={'n_value': 'sum'})\n",
    "\n",
    "    #Put this into cell\n",
    "    grid_gdf.loc[dissolve.index, 'endemism'] = dissolve.n_value.values\n",
    "    \n",
    "    return grid_gdf"
   ]
  },
  {
   "cell_type": "code",
   "execution_count": 17,
   "metadata": {},
   "outputs": [
    {
     "name": "stderr",
     "output_type": "stream",
     "text": [
      "/var/folders/v8/b0fnjf9d4q31sfz_8q4h4zxm0000gn/T/ipykernel_35547/481667131.py:21: UserWarning: Geometry is in a geographic CRS. Results from 'area' are likely incorrect. Use 'GeoSeries.to_crs()' to re-project geometries to a projected CRS before this operation.\n",
      "\n",
      "  dist_ratio2 = np.round(df2.area/gdf.area, decimals=4, out=None)\n",
      "/Users/maureenfonseca/opt/anaconda3/lib/python3.9/site-packages/pandas/core/arraylike.py:397: RuntimeWarning: divide by zero encountered in log2\n",
      "  result = getattr(ufunc, method)(*inputs, **kwargs)\n",
      "/Users/maureenfonseca/Desktop/oceanprogram/Marine_Ecosystem_Credits/Marine_Biodiversity/MBU_Methodology/MBU_utils.py:196: FutureWarning: Currently, index_parts defaults to True, but in the future, it will default to False to be consistent with Pandas. Use `index_parts=True` to keep the current behavior and True/False to silence the warning.\n",
      "  new_gdf = gdf.explode('geometry')\n"
     ]
    },
    {
     "data": {
      "text/html": [
       "<div>\n",
       "<style scoped>\n",
       "    .dataframe tbody tr th:only-of-type {\n",
       "        vertical-align: middle;\n",
       "    }\n",
       "\n",
       "    .dataframe tbody tr th {\n",
       "        vertical-align: top;\n",
       "    }\n",
       "\n",
       "    .dataframe thead th {\n",
       "        text-align: right;\n",
       "    }\n",
       "</style>\n",
       "<table border=\"1\" class=\"dataframe\">\n",
       "  <thead>\n",
       "    <tr style=\"text-align: right;\">\n",
       "      <th></th>\n",
       "      <th>geometry</th>\n",
       "      <th>Grid_ID</th>\n",
       "      <th>endemism</th>\n",
       "    </tr>\n",
       "  </thead>\n",
       "  <tbody>\n",
       "    <tr>\n",
       "      <th>0</th>\n",
       "      <td>POLYGON ((-88.32201 2.15063, -88.82201 3.01666...</td>\n",
       "      <td>0</td>\n",
       "      <td>NaN</td>\n",
       "    </tr>\n",
       "    <tr>\n",
       "      <th>1</th>\n",
       "      <td>POLYGON ((-88.32201 3.88268, -88.82201 4.74871...</td>\n",
       "      <td>1</td>\n",
       "      <td>0.000000</td>\n",
       "    </tr>\n",
       "    <tr>\n",
       "      <th>2</th>\n",
       "      <td>POLYGON ((-88.32201 5.61474, -88.82201 6.48076...</td>\n",
       "      <td>2</td>\n",
       "      <td>0.000000</td>\n",
       "    </tr>\n",
       "    <tr>\n",
       "      <th>3</th>\n",
       "      <td>POLYGON ((-88.32201 7.34679, -88.82201 8.21281...</td>\n",
       "      <td>3</td>\n",
       "      <td>0.000000</td>\n",
       "    </tr>\n",
       "    <tr>\n",
       "      <th>4</th>\n",
       "      <td>POLYGON ((-86.82201 1.28461, -87.32201 2.15063...</td>\n",
       "      <td>4</td>\n",
       "      <td>NaN</td>\n",
       "    </tr>\n",
       "    <tr>\n",
       "      <th>5</th>\n",
       "      <td>POLYGON ((-86.82201 3.01666, -87.32201 3.88268...</td>\n",
       "      <td>5</td>\n",
       "      <td>0.000000</td>\n",
       "    </tr>\n",
       "    <tr>\n",
       "      <th>6</th>\n",
       "      <td>POLYGON ((-86.82201 4.74871, -87.32201 5.61474...</td>\n",
       "      <td>6</td>\n",
       "      <td>11952.095261</td>\n",
       "    </tr>\n",
       "    <tr>\n",
       "      <th>7</th>\n",
       "      <td>POLYGON ((-86.82201 6.48076, -87.32201 7.34679...</td>\n",
       "      <td>7</td>\n",
       "      <td>14479.794850</td>\n",
       "    </tr>\n",
       "    <tr>\n",
       "      <th>8</th>\n",
       "      <td>POLYGON ((-86.82201 8.21281, -87.32201 9.07884...</td>\n",
       "      <td>8</td>\n",
       "      <td>NaN</td>\n",
       "    </tr>\n",
       "    <tr>\n",
       "      <th>9</th>\n",
       "      <td>POLYGON ((-85.32201 2.15063, -85.82201 3.01666...</td>\n",
       "      <td>9</td>\n",
       "      <td>0.000000</td>\n",
       "    </tr>\n",
       "    <tr>\n",
       "      <th>10</th>\n",
       "      <td>POLYGON ((-85.32201 3.88268, -85.82201 4.74871...</td>\n",
       "      <td>10</td>\n",
       "      <td>2501.337605</td>\n",
       "    </tr>\n",
       "    <tr>\n",
       "      <th>11</th>\n",
       "      <td>POLYGON ((-85.32201 5.61474, -85.82201 6.48076...</td>\n",
       "      <td>11</td>\n",
       "      <td>20497.674516</td>\n",
       "    </tr>\n",
       "    <tr>\n",
       "      <th>12</th>\n",
       "      <td>POLYGON ((-85.32201 7.34679, -85.82201 8.21281...</td>\n",
       "      <td>12</td>\n",
       "      <td>0.000000</td>\n",
       "    </tr>\n",
       "    <tr>\n",
       "      <th>13</th>\n",
       "      <td>POLYGON ((-83.82201 1.28461, -84.32201 2.15063...</td>\n",
       "      <td>13</td>\n",
       "      <td>NaN</td>\n",
       "    </tr>\n",
       "    <tr>\n",
       "      <th>14</th>\n",
       "      <td>POLYGON ((-83.82201 3.01666, -84.32201 3.88268...</td>\n",
       "      <td>14</td>\n",
       "      <td>NaN</td>\n",
       "    </tr>\n",
       "    <tr>\n",
       "      <th>15</th>\n",
       "      <td>POLYGON ((-83.82201 4.74871, -84.32201 5.61474...</td>\n",
       "      <td>15</td>\n",
       "      <td>NaN</td>\n",
       "    </tr>\n",
       "    <tr>\n",
       "      <th>16</th>\n",
       "      <td>POLYGON ((-83.82201 6.48076, -84.32201 7.34679...</td>\n",
       "      <td>16</td>\n",
       "      <td>NaN</td>\n",
       "    </tr>\n",
       "    <tr>\n",
       "      <th>17</th>\n",
       "      <td>POLYGON ((-83.82201 8.21281, -84.32201 9.07884...</td>\n",
       "      <td>17</td>\n",
       "      <td>NaN</td>\n",
       "    </tr>\n",
       "  </tbody>\n",
       "</table>\n",
       "</div>"
      ],
      "text/plain": [
       "                                             geometry  Grid_ID      endemism\n",
       "0   POLYGON ((-88.32201 2.15063, -88.82201 3.01666...        0           NaN\n",
       "1   POLYGON ((-88.32201 3.88268, -88.82201 4.74871...        1      0.000000\n",
       "2   POLYGON ((-88.32201 5.61474, -88.82201 6.48076...        2      0.000000\n",
       "3   POLYGON ((-88.32201 7.34679, -88.82201 8.21281...        3      0.000000\n",
       "4   POLYGON ((-86.82201 1.28461, -87.32201 2.15063...        4           NaN\n",
       "5   POLYGON ((-86.82201 3.01666, -87.32201 3.88268...        5      0.000000\n",
       "6   POLYGON ((-86.82201 4.74871, -87.32201 5.61474...        6  11952.095261\n",
       "7   POLYGON ((-86.82201 6.48076, -87.32201 7.34679...        7  14479.794850\n",
       "8   POLYGON ((-86.82201 8.21281, -87.32201 9.07884...        8           NaN\n",
       "9   POLYGON ((-85.32201 2.15063, -85.82201 3.01666...        9      0.000000\n",
       "10  POLYGON ((-85.32201 3.88268, -85.82201 4.74871...       10   2501.337605\n",
       "11  POLYGON ((-85.32201 5.61474, -85.82201 6.48076...       11  20497.674516\n",
       "12  POLYGON ((-85.32201 7.34679, -85.82201 8.21281...       12      0.000000\n",
       "13  POLYGON ((-83.82201 1.28461, -84.32201 2.15063...       13           NaN\n",
       "14  POLYGON ((-83.82201 3.01666, -84.32201 3.88268...       14           NaN\n",
       "15  POLYGON ((-83.82201 4.74871, -84.32201 5.61474...       15           NaN\n",
       "16  POLYGON ((-83.82201 6.48076, -84.32201 7.34679...       16           NaN\n",
       "17  POLYGON ((-83.82201 8.21281, -84.32201 9.07884...       17           NaN"
      ]
     },
     "execution_count": 17,
     "metadata": {},
     "output_type": "execute_result"
    }
   ],
   "source": [
    "mbu_endemism(ACMC, df, grid, transform=\"log\")"
   ]
  },
  {
   "cell_type": "code",
   "execution_count": 21,
   "metadata": {},
   "outputs": [
    {
     "name": "stderr",
     "output_type": "stream",
     "text": [
      "/var/folders/v8/b0fnjf9d4q31sfz_8q4h4zxm0000gn/T/ipykernel_35547/3952723412.py:21: UserWarning: Geometry is in a geographic CRS. Results from 'area' are likely incorrect. Use 'GeoSeries.to_crs()' to re-project geometries to a projected CRS before this operation.\n",
      "\n",
      "  dist_ratio2 = np.round(df2.area/gdf.area, decimals=4, out=None)\n",
      "/Users/maureenfonseca/Desktop/oceanprogram/Marine_Ecosystem_Credits/Marine_Biodiversity/MBU_Methodology/MBU_utils.py:196: FutureWarning: Currently, index_parts defaults to True, but in the future, it will default to False to be consistent with Pandas. Use `index_parts=True` to keep the current behavior and True/False to silence the warning.\n",
      "  new_gdf = gdf.explode('geometry')\n"
     ]
    },
    {
     "data": {
      "text/html": [
       "<div>\n",
       "<style scoped>\n",
       "    .dataframe tbody tr th:only-of-type {\n",
       "        vertical-align: middle;\n",
       "    }\n",
       "\n",
       "    .dataframe tbody tr th {\n",
       "        vertical-align: top;\n",
       "    }\n",
       "\n",
       "    .dataframe thead th {\n",
       "        text-align: right;\n",
       "    }\n",
       "</style>\n",
       "<table border=\"1\" class=\"dataframe\">\n",
       "  <thead>\n",
       "    <tr style=\"text-align: right;\">\n",
       "      <th></th>\n",
       "      <th>geometry</th>\n",
       "      <th>Grid_ID</th>\n",
       "      <th>endemism</th>\n",
       "    </tr>\n",
       "  </thead>\n",
       "  <tbody>\n",
       "    <tr>\n",
       "      <th>0</th>\n",
       "      <td>POLYGON ((-88.32201 2.15063, -88.82201 3.01666...</td>\n",
       "      <td>0</td>\n",
       "      <td>NaN</td>\n",
       "    </tr>\n",
       "    <tr>\n",
       "      <th>1</th>\n",
       "      <td>POLYGON ((-88.32201 3.88268, -88.82201 4.74871...</td>\n",
       "      <td>1</td>\n",
       "      <td>0.0000</td>\n",
       "    </tr>\n",
       "    <tr>\n",
       "      <th>2</th>\n",
       "      <td>POLYGON ((-88.32201 5.61474, -88.82201 6.48076...</td>\n",
       "      <td>2</td>\n",
       "      <td>0.0000</td>\n",
       "    </tr>\n",
       "    <tr>\n",
       "      <th>3</th>\n",
       "      <td>POLYGON ((-88.32201 7.34679, -88.82201 8.21281...</td>\n",
       "      <td>3</td>\n",
       "      <td>0.0000</td>\n",
       "    </tr>\n",
       "    <tr>\n",
       "      <th>4</th>\n",
       "      <td>POLYGON ((-86.82201 1.28461, -87.32201 2.15063...</td>\n",
       "      <td>4</td>\n",
       "      <td>NaN</td>\n",
       "    </tr>\n",
       "    <tr>\n",
       "      <th>5</th>\n",
       "      <td>POLYGON ((-86.82201 3.01666, -87.32201 3.88268...</td>\n",
       "      <td>5</td>\n",
       "      <td>0.0000</td>\n",
       "    </tr>\n",
       "    <tr>\n",
       "      <th>6</th>\n",
       "      <td>POLYGON ((-86.82201 4.74871, -87.32201 5.61474...</td>\n",
       "      <td>6</td>\n",
       "      <td>3406.6474</td>\n",
       "    </tr>\n",
       "    <tr>\n",
       "      <th>7</th>\n",
       "      <td>POLYGON ((-86.82201 6.48076, -87.32201 7.34679...</td>\n",
       "      <td>7</td>\n",
       "      <td>4068.8618</td>\n",
       "    </tr>\n",
       "    <tr>\n",
       "      <th>8</th>\n",
       "      <td>POLYGON ((-86.82201 8.21281, -87.32201 9.07884...</td>\n",
       "      <td>8</td>\n",
       "      <td>NaN</td>\n",
       "    </tr>\n",
       "    <tr>\n",
       "      <th>9</th>\n",
       "      <td>POLYGON ((-85.32201 2.15063, -85.82201 3.01666...</td>\n",
       "      <td>9</td>\n",
       "      <td>0.0000</td>\n",
       "    </tr>\n",
       "    <tr>\n",
       "      <th>10</th>\n",
       "      <td>POLYGON ((-85.32201 3.88268, -85.82201 4.74871...</td>\n",
       "      <td>10</td>\n",
       "      <td>682.0349</td>\n",
       "    </tr>\n",
       "    <tr>\n",
       "      <th>11</th>\n",
       "      <td>POLYGON ((-85.32201 5.61474, -85.82201 6.48076...</td>\n",
       "      <td>11</td>\n",
       "      <td>5854.0490</td>\n",
       "    </tr>\n",
       "    <tr>\n",
       "      <th>12</th>\n",
       "      <td>POLYGON ((-85.32201 7.34679, -85.82201 8.21281...</td>\n",
       "      <td>12</td>\n",
       "      <td>0.0000</td>\n",
       "    </tr>\n",
       "    <tr>\n",
       "      <th>13</th>\n",
       "      <td>POLYGON ((-83.82201 1.28461, -84.32201 2.15063...</td>\n",
       "      <td>13</td>\n",
       "      <td>NaN</td>\n",
       "    </tr>\n",
       "    <tr>\n",
       "      <th>14</th>\n",
       "      <td>POLYGON ((-83.82201 3.01666, -84.32201 3.88268...</td>\n",
       "      <td>14</td>\n",
       "      <td>NaN</td>\n",
       "    </tr>\n",
       "    <tr>\n",
       "      <th>15</th>\n",
       "      <td>POLYGON ((-83.82201 4.74871, -84.32201 5.61474...</td>\n",
       "      <td>15</td>\n",
       "      <td>NaN</td>\n",
       "    </tr>\n",
       "    <tr>\n",
       "      <th>16</th>\n",
       "      <td>POLYGON ((-83.82201 6.48076, -84.32201 7.34679...</td>\n",
       "      <td>16</td>\n",
       "      <td>NaN</td>\n",
       "    </tr>\n",
       "    <tr>\n",
       "      <th>17</th>\n",
       "      <td>POLYGON ((-83.82201 8.21281, -84.32201 9.07884...</td>\n",
       "      <td>17</td>\n",
       "      <td>NaN</td>\n",
       "    </tr>\n",
       "  </tbody>\n",
       "</table>\n",
       "</div>"
      ],
      "text/plain": [
       "                                             geometry  Grid_ID   endemism\n",
       "0   POLYGON ((-88.32201 2.15063, -88.82201 3.01666...        0        NaN\n",
       "1   POLYGON ((-88.32201 3.88268, -88.82201 4.74871...        1     0.0000\n",
       "2   POLYGON ((-88.32201 5.61474, -88.82201 6.48076...        2     0.0000\n",
       "3   POLYGON ((-88.32201 7.34679, -88.82201 8.21281...        3     0.0000\n",
       "4   POLYGON ((-86.82201 1.28461, -87.32201 2.15063...        4        NaN\n",
       "5   POLYGON ((-86.82201 3.01666, -87.32201 3.88268...        5     0.0000\n",
       "6   POLYGON ((-86.82201 4.74871, -87.32201 5.61474...        6  3406.6474\n",
       "7   POLYGON ((-86.82201 6.48076, -87.32201 7.34679...        7  4068.8618\n",
       "8   POLYGON ((-86.82201 8.21281, -87.32201 9.07884...        8        NaN\n",
       "9   POLYGON ((-85.32201 2.15063, -85.82201 3.01666...        9     0.0000\n",
       "10  POLYGON ((-85.32201 3.88268, -85.82201 4.74871...       10   682.0349\n",
       "11  POLYGON ((-85.32201 5.61474, -85.82201 6.48076...       11  5854.0490\n",
       "12  POLYGON ((-85.32201 7.34679, -85.82201 8.21281...       12     0.0000\n",
       "13  POLYGON ((-83.82201 1.28461, -84.32201 2.15063...       13        NaN\n",
       "14  POLYGON ((-83.82201 3.01666, -84.32201 3.88268...       14        NaN\n",
       "15  POLYGON ((-83.82201 4.74871, -84.32201 5.61474...       15        NaN\n",
       "16  POLYGON ((-83.82201 6.48076, -84.32201 7.34679...       16        NaN\n",
       "17  POLYGON ((-83.82201 8.21281, -84.32201 9.07884...       17        NaN"
      ]
     },
     "execution_count": 21,
     "metadata": {},
     "output_type": "execute_result"
    }
   ],
   "source": [
    "mbu_endemism(ACMC, df, grid, transform=\"none\")"
   ]
  },
  {
   "cell_type": "code",
   "execution_count": 22,
   "metadata": {},
   "outputs": [
    {
     "name": "stderr",
     "output_type": "stream",
     "text": [
      "/var/folders/v8/b0fnjf9d4q31sfz_8q4h4zxm0000gn/T/ipykernel_35547/3952723412.py:21: UserWarning: Geometry is in a geographic CRS. Results from 'area' are likely incorrect. Use 'GeoSeries.to_crs()' to re-project geometries to a projected CRS before this operation.\n",
      "\n",
      "  dist_ratio2 = np.round(df2.area/gdf.area, decimals=4, out=None)\n",
      "/Users/maureenfonseca/Desktop/oceanprogram/Marine_Ecosystem_Credits/Marine_Biodiversity/MBU_Methodology/MBU_utils.py:196: FutureWarning: Currently, index_parts defaults to True, but in the future, it will default to False to be consistent with Pandas. Use `index_parts=True` to keep the current behavior and True/False to silence the warning.\n",
      "  new_gdf = gdf.explode('geometry')\n"
     ]
    }
   ],
   "source": [
    "test = mbu_endemism(ACMC, df, grid, transform=\"square-root\")"
   ]
  },
  {
   "cell_type": "code",
   "execution_count": 25,
   "metadata": {},
   "outputs": [
    {
     "data": {
      "text/plain": [
       "(-90.57200586479142, -85.07200586479142, 0.9381984227004798, 8.55922197600354)"
      ]
     },
     "execution_count": 25,
     "metadata": {},
     "output_type": "execute_result"
    },
    {
     "data": {
      "image/png": "[encoded data removed]",
      "text/plain": [
       "<Figure size 600x600 with 2 Axes>"
      ]
     },
     "metadata": {},
     "output_type": "display_data"
    }
   ],
   "source": [
    "ax = test.plot(column='endemism', figsize=(6, 6), cmap='viridis', edgecolor=\"grey\", legend = True)\n",
    "#plt.autoscale(False)\n",
    "\n",
    "gpd.GeoSeries(ACMC.geometry).plot(ax=ax, edgecolor='black', facecolor='none', label='ACMC')\n",
    "ax.axis('off')"
   ]
  },
  {
   "cell_type": "markdown",
   "metadata": {},
   "source": [
    "**OBIS data**"
   ]
  },
  {
   "cell_type": "code",
   "execution_count": 1,
   "metadata": {},
   "outputs": [],
   "source": [
    "from pyobis import occurrences"
   ]
  },
  {
   "cell_type": "code",
   "execution_count": 8,
   "metadata": {},
   "outputs": [],
   "source": [
    "#create a polygon to access the OBIS data\n",
    "min_x, min_y, max_x, max_y = ACMC.total_bounds\n",
    "geometry = f\"POLYGON(({max_x} {min_y}, {min_x} {min_y}, {min_x} {max_y}, {max_x} {max_y}, {max_x} {min_y}))\""
   ]
  },
  {
   "cell_type": "code",
   "execution_count": 9,
   "metadata": {},
   "outputs": [],
   "source": [
    "#Grid geo Dataframe\n",
    "grid = create_grid(ACMC, 'hexagon', 1)"
   ]
  },
  {
   "cell_type": "code",
   "execution_count": 10,
   "metadata": {},
   "outputs": [
    {
     "name": "stdout",
     "output_type": "stream",
     "text": [
      "Fetching: [████████████████████████████████████████████████████████████████████████████████████████████████████] 4216/4216\n",
      "Fetched 4216 records.\n"
     ]
    },
    {
     "data": {
      "text/html": [
       "<div>\n",
       "<style scoped>\n",
       "    .dataframe tbody tr th:only-of-type {\n",
       "        vertical-align: middle;\n",
       "    }\n",
       "\n",
       "    .dataframe tbody tr th {\n",
       "        vertical-align: top;\n",
       "    }\n",
       "\n",
       "    .dataframe thead th {\n",
       "        text-align: right;\n",
       "    }\n",
       "</style>\n",
       "<table border=\"1\" class=\"dataframe\">\n",
       "  <thead>\n",
       "    <tr style=\"text-align: right;\">\n",
       "      <th></th>\n",
       "      <th>rightsHolder</th>\n",
       "      <th>infraphylum</th>\n",
       "      <th>country</th>\n",
       "      <th>date_year</th>\n",
       "      <th>scientificNameID</th>\n",
       "      <th>scientificName</th>\n",
       "      <th>individualCount</th>\n",
       "      <th>dropped</th>\n",
       "      <th>gigaclassid</th>\n",
       "      <th>aphiaID</th>\n",
       "      <th>...</th>\n",
       "      <th>sectionid</th>\n",
       "      <th>subsectionid</th>\n",
       "      <th>minimumElevationInMeters</th>\n",
       "      <th>maximumElevationInMeters</th>\n",
       "      <th>hab</th>\n",
       "      <th>varietyid</th>\n",
       "      <th>variety</th>\n",
       "      <th>parvorder</th>\n",
       "      <th>parvorderid</th>\n",
       "      <th>associatedMedia</th>\n",
       "    </tr>\n",
       "  </thead>\n",
       "  <tbody>\n",
       "    <tr>\n",
       "      <th>0</th>\n",
       "      <td>CAS</td>\n",
       "      <td>Gnathostomata</td>\n",
       "      <td>Costa Rica</td>\n",
       "      <td>1998.0</td>\n",
       "      <td>urn:lsid:marinespecies.org:taxname:293586</td>\n",
       "      <td>Doryrhamphus excisus excisus</td>\n",
       "      <td>1</td>\n",
       "      <td>False</td>\n",
       "      <td>10194.0</td>\n",
       "      <td>293586</td>\n",
       "      <td>...</td>\n",
       "      <td>NaN</td>\n",
       "      <td>NaN</td>\n",
       "      <td>NaN</td>\n",
       "      <td>NaN</td>\n",
       "      <td>NaN</td>\n",
       "      <td>NaN</td>\n",
       "      <td>NaN</td>\n",
       "      <td>NaN</td>\n",
       "      <td>NaN</td>\n",
       "      <td>NaN</td>\n",
       "    </tr>\n",
       "    <tr>\n",
       "      <th>1</th>\n",
       "      <td>SIO</td>\n",
       "      <td>Gnathostomata</td>\n",
       "      <td>NaN</td>\n",
       "      <td>1967.0</td>\n",
       "      <td>urn:lsid:marinespecies.org:taxname:306621</td>\n",
       "      <td>Scopelogadus bispinosus</td>\n",
       "      <td>NaN</td>\n",
       "      <td>False</td>\n",
       "      <td>10194.0</td>\n",
       "      <td>306621</td>\n",
       "      <td>...</td>\n",
       "      <td>NaN</td>\n",
       "      <td>NaN</td>\n",
       "      <td>NaN</td>\n",
       "      <td>NaN</td>\n",
       "      <td>NaN</td>\n",
       "      <td>NaN</td>\n",
       "      <td>NaN</td>\n",
       "      <td>NaN</td>\n",
       "      <td>NaN</td>\n",
       "      <td>NaN</td>\n",
       "    </tr>\n",
       "    <tr>\n",
       "      <th>2</th>\n",
       "      <td>KU</td>\n",
       "      <td>Gnathostomata</td>\n",
       "      <td>Costa Rica</td>\n",
       "      <td>1954.0</td>\n",
       "      <td>urn:lsid:marinespecies.org:taxname:125636</td>\n",
       "      <td>Gymnothorax</td>\n",
       "      <td>NaN</td>\n",
       "      <td>False</td>\n",
       "      <td>10194.0</td>\n",
       "      <td>125636</td>\n",
       "      <td>...</td>\n",
       "      <td>NaN</td>\n",
       "      <td>NaN</td>\n",
       "      <td>NaN</td>\n",
       "      <td>NaN</td>\n",
       "      <td>NaN</td>\n",
       "      <td>NaN</td>\n",
       "      <td>NaN</td>\n",
       "      <td>NaN</td>\n",
       "      <td>NaN</td>\n",
       "      <td>NaN</td>\n",
       "    </tr>\n",
       "    <tr>\n",
       "      <th>3</th>\n",
       "      <td>NaN</td>\n",
       "      <td>Gnathostomata</td>\n",
       "      <td>NaN</td>\n",
       "      <td>NaN</td>\n",
       "      <td>urn:lsid:marinespecies.org:taxname:105857</td>\n",
       "      <td>Mobula birostris</td>\n",
       "      <td>NaN</td>\n",
       "      <td>False</td>\n",
       "      <td>NaN</td>\n",
       "      <td>1026118</td>\n",
       "      <td>...</td>\n",
       "      <td>NaN</td>\n",
       "      <td>NaN</td>\n",
       "      <td>NaN</td>\n",
       "      <td>NaN</td>\n",
       "      <td>NaN</td>\n",
       "      <td>NaN</td>\n",
       "      <td>NaN</td>\n",
       "      <td>NaN</td>\n",
       "      <td>NaN</td>\n",
       "      <td>NaN</td>\n",
       "    </tr>\n",
       "    <tr>\n",
       "      <th>4</th>\n",
       "      <td>CAS</td>\n",
       "      <td>Gnathostomata</td>\n",
       "      <td>Panama</td>\n",
       "      <td>1956.0</td>\n",
       "      <td>urn:lsid:marinespecies.org:taxname:276587</td>\n",
       "      <td>Polydactylus approximans</td>\n",
       "      <td>2</td>\n",
       "      <td>False</td>\n",
       "      <td>10194.0</td>\n",
       "      <td>276587</td>\n",
       "      <td>...</td>\n",
       "      <td>NaN</td>\n",
       "      <td>NaN</td>\n",
       "      <td>NaN</td>\n",
       "      <td>NaN</td>\n",
       "      <td>NaN</td>\n",
       "      <td>NaN</td>\n",
       "      <td>NaN</td>\n",
       "      <td>NaN</td>\n",
       "      <td>NaN</td>\n",
       "      <td>NaN</td>\n",
       "    </tr>\n",
       "    <tr>\n",
       "      <th>...</th>\n",
       "      <td>...</td>\n",
       "      <td>...</td>\n",
       "      <td>...</td>\n",
       "      <td>...</td>\n",
       "      <td>...</td>\n",
       "      <td>...</td>\n",
       "      <td>...</td>\n",
       "      <td>...</td>\n",
       "      <td>...</td>\n",
       "      <td>...</td>\n",
       "      <td>...</td>\n",
       "      <td>...</td>\n",
       "      <td>...</td>\n",
       "      <td>...</td>\n",
       "      <td>...</td>\n",
       "      <td>...</td>\n",
       "      <td>...</td>\n",
       "      <td>...</td>\n",
       "      <td>...</td>\n",
       "      <td>...</td>\n",
       "      <td>...</td>\n",
       "    </tr>\n",
       "    <tr>\n",
       "      <th>4211</th>\n",
       "      <td>NaN</td>\n",
       "      <td>Gnathostomata</td>\n",
       "      <td>Costa Rica</td>\n",
       "      <td>1975.0</td>\n",
       "      <td>urn:lsid:marinespecies.org:taxname:276587</td>\n",
       "      <td>Polydactylus approximans</td>\n",
       "      <td>NaN</td>\n",
       "      <td>False</td>\n",
       "      <td>10194.0</td>\n",
       "      <td>276587</td>\n",
       "      <td>...</td>\n",
       "      <td>NaN</td>\n",
       "      <td>NaN</td>\n",
       "      <td>NaN</td>\n",
       "      <td>NaN</td>\n",
       "      <td>NaN</td>\n",
       "      <td>NaN</td>\n",
       "      <td>NaN</td>\n",
       "      <td>NaN</td>\n",
       "      <td>NaN</td>\n",
       "      <td>NaN</td>\n",
       "    </tr>\n",
       "    <tr>\n",
       "      <th>4212</th>\n",
       "      <td>NaN</td>\n",
       "      <td>Gnathostomata</td>\n",
       "      <td>NaN</td>\n",
       "      <td>NaN</td>\n",
       "      <td>urn:lsid:marinespecies.org:taxname:127401</td>\n",
       "      <td>Diodon eydouxii</td>\n",
       "      <td>NaN</td>\n",
       "      <td>False</td>\n",
       "      <td>10194.0</td>\n",
       "      <td>127401</td>\n",
       "      <td>...</td>\n",
       "      <td>NaN</td>\n",
       "      <td>NaN</td>\n",
       "      <td>NaN</td>\n",
       "      <td>NaN</td>\n",
       "      <td>NaN</td>\n",
       "      <td>NaN</td>\n",
       "      <td>NaN</td>\n",
       "      <td>NaN</td>\n",
       "      <td>NaN</td>\n",
       "      <td>NaN</td>\n",
       "    </tr>\n",
       "    <tr>\n",
       "      <th>4213</th>\n",
       "      <td>LACM</td>\n",
       "      <td>Gnathostomata</td>\n",
       "      <td>Costa Rica</td>\n",
       "      <td>1964.0</td>\n",
       "      <td>urn:lsid:marinespecies.org:taxname:276400</td>\n",
       "      <td>Dactyloscopus lacteus</td>\n",
       "      <td>1</td>\n",
       "      <td>False</td>\n",
       "      <td>10194.0</td>\n",
       "      <td>276400</td>\n",
       "      <td>...</td>\n",
       "      <td>NaN</td>\n",
       "      <td>NaN</td>\n",
       "      <td>NaN</td>\n",
       "      <td>NaN</td>\n",
       "      <td>NaN</td>\n",
       "      <td>NaN</td>\n",
       "      <td>NaN</td>\n",
       "      <td>NaN</td>\n",
       "      <td>NaN</td>\n",
       "      <td>NaN</td>\n",
       "    </tr>\n",
       "    <tr>\n",
       "      <th>4214</th>\n",
       "      <td>NaN</td>\n",
       "      <td>Gnathostomata</td>\n",
       "      <td>NaN</td>\n",
       "      <td>1925.0</td>\n",
       "      <td>NaN</td>\n",
       "      <td>Idiacanthus antrostomus</td>\n",
       "      <td>1</td>\n",
       "      <td>False</td>\n",
       "      <td>10194.0</td>\n",
       "      <td>275151</td>\n",
       "      <td>...</td>\n",
       "      <td>NaN</td>\n",
       "      <td>NaN</td>\n",
       "      <td>NaN</td>\n",
       "      <td>NaN</td>\n",
       "      <td>NaN</td>\n",
       "      <td>NaN</td>\n",
       "      <td>NaN</td>\n",
       "      <td>NaN</td>\n",
       "      <td>NaN</td>\n",
       "      <td>NaN</td>\n",
       "    </tr>\n",
       "    <tr>\n",
       "      <th>4215</th>\n",
       "      <td>NaN</td>\n",
       "      <td>Gnathostomata</td>\n",
       "      <td>NaN</td>\n",
       "      <td>1925.0</td>\n",
       "      <td>NaN</td>\n",
       "      <td>Oneirodes luetkeni</td>\n",
       "      <td>1</td>\n",
       "      <td>False</td>\n",
       "      <td>10194.0</td>\n",
       "      <td>272631</td>\n",
       "      <td>...</td>\n",
       "      <td>NaN</td>\n",
       "      <td>NaN</td>\n",
       "      <td>NaN</td>\n",
       "      <td>NaN</td>\n",
       "      <td>NaN</td>\n",
       "      <td>NaN</td>\n",
       "      <td>NaN</td>\n",
       "      <td>NaN</td>\n",
       "      <td>NaN</td>\n",
       "      <td>NaN</td>\n",
       "    </tr>\n",
       "  </tbody>\n",
       "</table>\n",
       "<p>4216 rows × 190 columns</p>\n",
       "</div>"
      ],
      "text/plain": [
       "     rightsHolder    infraphylum     country  date_year  \\\n",
       "0             CAS  Gnathostomata  Costa Rica     1998.0   \n",
       "1             SIO  Gnathostomata         NaN     1967.0   \n",
       "2              KU  Gnathostomata  Costa Rica     1954.0   \n",
       "3             NaN  Gnathostomata         NaN        NaN   \n",
       "4             CAS  Gnathostomata      Panama     1956.0   \n",
       "...           ...            ...         ...        ...   \n",
       "4211          NaN  Gnathostomata  Costa Rica     1975.0   \n",
       "4212          NaN  Gnathostomata         NaN        NaN   \n",
       "4213         LACM  Gnathostomata  Costa Rica     1964.0   \n",
       "4214          NaN  Gnathostomata         NaN     1925.0   \n",
       "4215          NaN  Gnathostomata         NaN     1925.0   \n",
       "\n",
       "                               scientificNameID                scientificName  \\\n",
       "0     urn:lsid:marinespecies.org:taxname:293586  Doryrhamphus excisus excisus   \n",
       "1     urn:lsid:marinespecies.org:taxname:306621       Scopelogadus bispinosus   \n",
       "2     urn:lsid:marinespecies.org:taxname:125636                   Gymnothorax   \n",
       "3     urn:lsid:marinespecies.org:taxname:105857              Mobula birostris   \n",
       "4     urn:lsid:marinespecies.org:taxname:276587      Polydactylus approximans   \n",
       "...                                         ...                           ...   \n",
       "4211  urn:lsid:marinespecies.org:taxname:276587      Polydactylus approximans   \n",
       "4212  urn:lsid:marinespecies.org:taxname:127401               Diodon eydouxii   \n",
       "4213  urn:lsid:marinespecies.org:taxname:276400         Dactyloscopus lacteus   \n",
       "4214                                        NaN       Idiacanthus antrostomus   \n",
       "4215                                        NaN            Oneirodes luetkeni   \n",
       "\n",
       "     individualCount dropped  gigaclassid  aphiaID  ...  sectionid  \\\n",
       "0                  1   False      10194.0   293586  ...        NaN   \n",
       "1                NaN   False      10194.0   306621  ...        NaN   \n",
       "2                NaN   False      10194.0   125636  ...        NaN   \n",
       "3                NaN   False          NaN  1026118  ...        NaN   \n",
       "4                  2   False      10194.0   276587  ...        NaN   \n",
       "...              ...     ...          ...      ...  ...        ...   \n",
       "4211             NaN   False      10194.0   276587  ...        NaN   \n",
       "4212             NaN   False      10194.0   127401  ...        NaN   \n",
       "4213               1   False      10194.0   276400  ...        NaN   \n",
       "4214               1   False      10194.0   275151  ...        NaN   \n",
       "4215               1   False      10194.0   272631  ...        NaN   \n",
       "\n",
       "      subsectionid minimumElevationInMeters maximumElevationInMeters  hab  \\\n",
       "0              NaN                      NaN                      NaN  NaN   \n",
       "1              NaN                      NaN                      NaN  NaN   \n",
       "2              NaN                      NaN                      NaN  NaN   \n",
       "3              NaN                      NaN                      NaN  NaN   \n",
       "4              NaN                      NaN                      NaN  NaN   \n",
       "...            ...                      ...                      ...  ...   \n",
       "4211           NaN                      NaN                      NaN  NaN   \n",
       "4212           NaN                      NaN                      NaN  NaN   \n",
       "4213           NaN                      NaN                      NaN  NaN   \n",
       "4214           NaN                      NaN                      NaN  NaN   \n",
       "4215           NaN                      NaN                      NaN  NaN   \n",
       "\n",
       "      varietyid  variety parvorder parvorderid associatedMedia  \n",
       "0           NaN      NaN       NaN         NaN             NaN  \n",
       "1           NaN      NaN       NaN         NaN             NaN  \n",
       "2           NaN      NaN       NaN         NaN             NaN  \n",
       "3           NaN      NaN       NaN         NaN             NaN  \n",
       "4           NaN      NaN       NaN         NaN             NaN  \n",
       "...         ...      ...       ...         ...             ...  \n",
       "4211        NaN      NaN       NaN         NaN             NaN  \n",
       "4212        NaN      NaN       NaN         NaN             NaN  \n",
       "4213        NaN      NaN       NaN         NaN             NaN  \n",
       "4214        NaN      NaN       NaN         NaN             NaN  \n",
       "4215        NaN      NaN       NaN         NaN             NaN  \n",
       "\n",
       "[4216 rows x 190 columns]"
      ]
     },
     "execution_count": 10,
     "metadata": {},
     "output_type": "execute_result"
    }
   ],
   "source": [
    "query = occurrences.search(geometry=geometry)\n",
    "query.execute()"
   ]
  },
  {
   "cell_type": "code",
   "execution_count": 11,
   "metadata": {},
   "outputs": [],
   "source": [
    "# Returns the data\n",
    "obis = query.data "
   ]
  },
  {
   "cell_type": "code",
   "execution_count": 13,
   "metadata": {},
   "outputs": [],
   "source": [
    "# convert OBIS dataframe to geodataframe\n",
    "obis = gpd.GeoDataFrame(obis, \n",
    "                       geometry=gpd.points_from_xy(obis.decimalLongitude, \n",
    "                                          obis.decimalLatitude))"
   ]
  },
  {
   "cell_type": "code",
   "execution_count": 15,
   "metadata": {},
   "outputs": [],
   "source": [
    "import random\n",
    "\n",
    "fake_abundance = [random.randint(1, 100) for _ in range(len(obis))]\n",
    "obis['abundance'] = fake_abundance"
   ]
  },
  {
   "cell_type": "code",
   "execution_count": 16,
   "metadata": {},
   "outputs": [
    {
     "data": {
      "text/plain": [
       "<AxesSubplot:>"
      ]
     },
     "execution_count": 16,
     "metadata": {},
     "output_type": "execute_result"
    },
    {
     "data": {
      "image/png": "[encoded data removed]",
      "text/plain": [
       "<Figure size 640x480 with 1 Axes>"
      ]
     },
     "metadata": {},
     "output_type": "display_data"
    }
   ],
   "source": [
    "# plot protected area with marine species\n",
    "# select column name to plot\n",
    "column_name = 'scientificName'\n",
    "ax = ACMC.boundary.plot()\n",
    "obis.plot(ax=ax, markersize=5, column=column_name, \n",
    "        antialiased=False, legend_kwds={'bbox_to_anchor': (1, 1)})"
   ]
  },
  {
   "cell_type": "code",
   "execution_count": 17,
   "metadata": {},
   "outputs": [],
   "source": [
    "#Join in a gdf all the geometries within ACMC\n",
    "df2 = gpd.clip(obis.set_crs(epsg=4326, allow_override=True), ACMC)"
   ]
  },
  {
   "cell_type": "code",
   "execution_count": null,
   "metadata": {},
   "outputs": [],
   "source": []
  },
  {
   "cell_type": "code",
   "execution_count": null,
   "metadata": {},
   "outputs": [],
   "source": []
  },
  {
   "cell_type": "code",
   "execution_count": null,
   "metadata": {},
   "outputs": [],
   "source": []
  },
  {
   "cell_type": "code",
   "execution_count": null,
   "metadata": {},
   "outputs": [],
   "source": []
  },
  {
   "cell_type": "code",
   "execution_count": null,
   "metadata": {},
   "outputs": [],
   "source": []
  }
 ],
 "metadata": {
  "kernelspec": {
   "display_name": "Python 3 (ipykernel)",
   "language": "python",
   "name": "python3"
  },
  "language_info": {
   "codemirror_mode": {
    "name": "ipython",
    "version": 3
   },
   "file_extension": ".py",
   "mimetype": "text/x-python",
   "name": "python",
   "nbconvert_exporter": "python",
   "pygments_lexer": "ipython3",
   "version": "3.9.13"
  }
 },
 "nbformat": 4,
 "nbformat_minor": 4
}
