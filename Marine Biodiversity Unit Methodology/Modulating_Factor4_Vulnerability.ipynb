{
 "cells": [
  {
   "cell_type": "markdown",
   "metadata": {},
   "source": [
    "# Open Ocean\n",
    "# Open Earth Fundation\n",
    "---------------------------------------------------------------------------------------------------------------------\n",
    "Authors: Margaux Filippi & Maureen Fonseca\n",
    "\n",
    "---------------------------------------------------------------------------------------------------------------------"
   ]
  },
  {
   "cell_type": "markdown",
   "metadata": {},
   "source": [
    "<h1> Step 2: calculate different metrics for each modulating factor </h1>\n",
    "    \n",
    "This notebook is the second part of the Step1_Curate_IUCN_RedList.ipynb\n",
    "\n",
    "<h2> Modulating Factor 4: Vulnerability of Species  <h2>"
   ]
  },
  {
   "cell_type": "markdown",
   "metadata": {},
   "source": [
    "<h2> Data needed for this project </h2>\n",
    "\n",
    "The data was output by `Step1_Curate_IUCN_RedList.ipynb` and can be found under [IUCN_RedList](https://drive.google.com/drive/folders/1waEAtfQwErhBKH3GkTHZXIlbadzH3HYu?usp=share_link) under a temporary folder that accompagnies the GitHub repository: \n",
    "\n",
    "`Ocean Program > data > data_processed > ACMC_IUCN_RedList`"
   ]
  },
  {
   "cell_type": "markdown",
   "metadata": {},
   "source": [
    "### Analyzing UICN data for marine species in the Eastern Tropical Pacific."
   ]
  },
  {
   "cell_type": "code",
   "execution_count": 1,
   "metadata": {},
   "outputs": [
    {
     "name": "stderr",
     "output_type": "stream",
     "text": [
      "/Users/maureenfonseca/opt/anaconda3/lib/python3.9/site-packages/geopandas/_compat.py:111: UserWarning: The Shapely GEOS version (3.8.0-CAPI-1.13.1 ) is incompatible with the GEOS version PyGEOS was compiled with (3.10.1-CAPI-1.16.0). Conversions between both will be slow.\n",
      "  warnings.warn(\n"
     ]
    }
   ],
   "source": [
    "import geopandas as gpd"
   ]
  },
  {
   "cell_type": "code",
   "execution_count": 2,
   "metadata": {},
   "outputs": [],
   "source": [
    "import numpy as np\n",
    "import pandas as pd"
   ]
  },
  {
   "cell_type": "code",
   "execution_count": 3,
   "metadata": {},
   "outputs": [],
   "source": [
    "import os\n",
    "import glob"
   ]
  },
  {
   "cell_type": "code",
   "execution_count": 4,
   "metadata": {},
   "outputs": [],
   "source": [
    "from shapely.geometry import Polygon, Point"
   ]
  },
  {
   "cell_type": "code",
   "execution_count": 5,
   "metadata": {},
   "outputs": [],
   "source": [
    "import fiona; #help(fiona.open)"
   ]
  },
  {
   "cell_type": "code",
   "execution_count": 6,
   "metadata": {},
   "outputs": [],
   "source": [
    "import matplotlib.pyplot as plt\n",
    "import seaborn as sns"
   ]
  },
  {
   "cell_type": "code",
   "execution_count": 7,
   "metadata": {},
   "outputs": [],
   "source": [
    "import timeit"
   ]
  },
  {
   "cell_type": "code",
   "execution_count": 8,
   "metadata": {},
   "outputs": [],
   "source": [
    "from netCDF4 import Dataset\n",
    "import cmocean\n",
    "import geopandas as gpd\n",
    "from matplotlib.ticker import LinearLocator\n",
    "from mpl_toolkits.axes_grid1 import make_axes_locatable"
   ]
  },
  {
   "cell_type": "markdown",
   "metadata": {},
   "source": [
    "OEF functions"
   ]
  },
  {
   "cell_type": "code",
   "execution_count": 9,
   "metadata": {},
   "outputs": [],
   "source": [
    "from marinebiodiversity_utils import *"
   ]
  },
  {
   "cell_type": "markdown",
   "metadata": {},
   "source": [
    "<h1> 2.1. Load data </h1>\n",
    "\n",
    "<h2> 2.1.1 Get the conservation area</h2>\n",
    "\n",
    "Mostly for plotting."
   ]
  },
  {
   "cell_type": "markdown",
   "metadata": {},
   "source": [
    "<h3> Coordinates for Cocos Island </h3>\n",
    "\n",
    "Cocos Island is located at 05°31′41″N; 87°03′40″W"
   ]
  },
  {
   "cell_type": "code",
   "execution_count": 10,
   "metadata": {},
   "outputs": [],
   "source": [
    "Cocos_lat = 5+31/60+41/3600\n",
    "Cocos_lon = -(87+3/60+40/3600)\n",
    "Cocos = Point(Cocos_lon, Cocos_lat)"
   ]
  },
  {
   "cell_type": "markdown",
   "metadata": {},
   "source": [
    "<h3> Import entire AMMB and PNIC </h3>"
   ]
  },
  {
   "cell_type": "code",
   "execution_count": 11,
   "metadata": {},
   "outputs": [],
   "source": [
    "ACMC = gpd.read_file('../../Geospatial_ACMC/ACMC.shp')\n",
    "AMMB = gpd.read_file('../../Geospatial_ACMC/AMMB.shp')\n",
    "PNIC = gpd.read_file('../../Geospatial_ACMC/PNIC.shp')"
   ]
  },
  {
   "cell_type": "markdown",
   "metadata": {},
   "source": [
    "Inspect the Coordinate Reference Systems (CRS)."
   ]
  },
  {
   "cell_type": "code",
   "execution_count": 12,
   "metadata": {},
   "outputs": [
    {
     "data": {
      "text/plain": [
       "<Derived Projected CRS: EPSG:5367>\n",
       "Name: CR05 / CRTM05\n",
       "Axis Info [cartesian]:\n",
       "- N[north]: Northing (metre)\n",
       "- E[east]: Easting (metre)\n",
       "Area of Use:\n",
       "- name: Costa Rica - onshore and offshore east of 86°30'W.\n",
       "- bounds: (-86.5, 2.21, -81.43, 11.77)\n",
       "Coordinate Operation:\n",
       "- name: Costa Rica TM 2005\n",
       "- method: Transverse Mercator\n",
       "Datum: Costa Rica 2005\n",
       "- Ellipsoid: WGS 84\n",
       "- Prime Meridian: Greenwich"
      ]
     },
     "execution_count": 12,
     "metadata": {},
     "output_type": "execute_result"
    }
   ],
   "source": [
    "AMMB.crs"
   ]
  },
  {
   "cell_type": "code",
   "execution_count": 13,
   "metadata": {},
   "outputs": [
    {
     "data": {
      "text/plain": [
       "<Derived Projected CRS: EPSG:5367>\n",
       "Name: CR05 / CRTM05\n",
       "Axis Info [cartesian]:\n",
       "- N[north]: Northing (metre)\n",
       "- E[east]: Easting (metre)\n",
       "Area of Use:\n",
       "- name: Costa Rica - onshore and offshore east of 86°30'W.\n",
       "- bounds: (-86.5, 2.21, -81.43, 11.77)\n",
       "Coordinate Operation:\n",
       "- name: Costa Rica TM 2005\n",
       "- method: Transverse Mercator\n",
       "Datum: Costa Rica 2005\n",
       "- Ellipsoid: WGS 84\n",
       "- Prime Meridian: Greenwich"
      ]
     },
     "execution_count": 13,
     "metadata": {},
     "output_type": "execute_result"
    }
   ],
   "source": [
    "PNIC.crs"
   ]
  },
  {
   "cell_type": "code",
   "execution_count": 14,
   "metadata": {},
   "outputs": [],
   "source": [
    "AMMB_WGS84 = AMMB.to_crs(crs=4326)\n",
    "PNIC_WGS84 = PNIC.to_crs(crs=4326)\n",
    "ACMC = ACMC.set_crs(epsg=4326, allow_override=True)"
   ]
  },
  {
   "cell_type": "markdown",
   "metadata": {},
   "source": [
    "Get area information."
   ]
  },
  {
   "cell_type": "code",
   "execution_count": 16,
   "metadata": {},
   "outputs": [
    {
     "name": "stdout",
     "output_type": "stream",
     "text": [
      "Area, PNIC:\n",
      "4.47 sqdeg.\n",
      "54,799.50 sqkm in CRS 31970.\n",
      "\n",
      "Area, AMMB:\n",
      "8.66 sqdeg.\n",
      "106,243.90 sqkm in CRS 31970.\n",
      "\n",
      "Total Area, ACMC:\n",
      "13.13 sqdeg.\n",
      "161,043.41 sqkm in CRS 31970.\n"
     ]
    },
    {
     "name": "stderr",
     "output_type": "stream",
     "text": [
      "/var/folders/v8/b0fnjf9d4q31sfz_8q4h4zxm0000gn/T/ipykernel_52320/2915868912.py:2: UserWarning: Geometry is in a geographic CRS. Results from 'area' are likely incorrect. Use 'GeoSeries.to_crs()' to re-project geometries to a projected CRS before this operation.\n",
      "\n",
      "  print(\"{:0.2f}\".format(PNIC_WGS84.area.item()) + \" sqdeg.\")\n",
      "/var/folders/v8/b0fnjf9d4q31sfz_8q4h4zxm0000gn/T/ipykernel_52320/2915868912.py:6: UserWarning: Geometry is in a geographic CRS. Results from 'area' are likely incorrect. Use 'GeoSeries.to_crs()' to re-project geometries to a projected CRS before this operation.\n",
      "\n",
      "  print(\"{:0.2f}\".format(AMMB_WGS84.area.item()) + \" sqdeg.\")\n",
      "/var/folders/v8/b0fnjf9d4q31sfz_8q4h4zxm0000gn/T/ipykernel_52320/2915868912.py:10: UserWarning: Geometry is in a geographic CRS. Results from 'area' are likely incorrect. Use 'GeoSeries.to_crs()' to re-project geometries to a projected CRS before this operation.\n",
      "\n",
      "  print(\"{:0.2f}\".format(AMMB_WGS84.area.item() + PNIC_WGS84.area.item()) + \" sqdeg.\")\n"
     ]
    }
   ],
   "source": [
    "print(\"Area, PNIC:\")\n",
    "print(\"{:0.2f}\".format(PNIC_WGS84.area.item()) + \" sqdeg.\")\n",
    "print(\"{:,.2f}\".format(PNIC_WGS84.to_crs(crs=31970).area.item()*10**(-6)) + \" sqkm in CRS 31970.\")\n",
    "\n",
    "print(\"\\nArea, AMMB:\")\n",
    "print(\"{:0.2f}\".format(AMMB_WGS84.area.item()) + \" sqdeg.\")\n",
    "print(\"{:,.2f}\".format(AMMB_WGS84.to_crs(crs=31970).area.item()*10**(-6)) + \" sqkm in CRS 31970.\")\n",
    "\n",
    "print(\"\\nTotal Area, ACMC:\")\n",
    "print(\"{:0.2f}\".format(AMMB_WGS84.area.item() + PNIC_WGS84.area.item()) + \" sqdeg.\")\n",
    "print(\"{:,.2f}\".format(AMMB_WGS84.to_crs(crs=31970).area.item()*10**(-6) + PNIC_WGS84.to_crs(crs=31970).area.item()*10**(-6)) + \" sqkm in CRS 31970.\")"
   ]
  },
  {
   "cell_type": "markdown",
   "metadata": {},
   "source": [
    "<h2> 2.1.2 Get the species data </h2>"
   ]
  },
  {
   "cell_type": "markdown",
   "metadata": {},
   "source": [
    "This is the outcome from `AMMB_IUCN_step1_curatedata.ipynb`."
   ]
  },
  {
   "cell_type": "code",
   "execution_count": 17,
   "metadata": {},
   "outputs": [],
   "source": [
    "df = gpd.read_file('../../ACMC_IUCN_data/gdf_ACMC_IUCN_range_status_filtered.shp') "
   ]
  },
  {
   "cell_type": "code",
   "execution_count": 18,
   "metadata": {},
   "outputs": [
    {
     "data": {
      "text/html": [
       "<div>\n",
       "<style scoped>\n",
       "    .dataframe tbody tr th:only-of-type {\n",
       "        vertical-align: middle;\n",
       "    }\n",
       "\n",
       "    .dataframe tbody tr th {\n",
       "        vertical-align: top;\n",
       "    }\n",
       "\n",
       "    .dataframe thead th {\n",
       "        text-align: right;\n",
       "    }\n",
       "</style>\n",
       "<table border=\"1\" class=\"dataframe\">\n",
       "  <thead>\n",
       "    <tr style=\"text-align: right;\">\n",
       "      <th></th>\n",
       "      <th>index</th>\n",
       "      <th>ASSESSMENT</th>\n",
       "      <th>ID_NO</th>\n",
       "      <th>BINOMIAL</th>\n",
       "      <th>PRESENCE</th>\n",
       "      <th>ORIGIN</th>\n",
       "      <th>SEASONAL</th>\n",
       "      <th>COMPILER</th>\n",
       "      <th>YEAR</th>\n",
       "      <th>CITATION</th>\n",
       "      <th>LEGEND</th>\n",
       "      <th>SUBSPECIES</th>\n",
       "      <th>SUBPOP</th>\n",
       "      <th>DIST_COMM</th>\n",
       "      <th>ISLAND</th>\n",
       "      <th>TAX_COMM</th>\n",
       "      <th>redlistCat</th>\n",
       "      <th>scientific</th>\n",
       "      <th>geometry</th>\n",
       "    </tr>\n",
       "  </thead>\n",
       "  <tbody>\n",
       "    <tr>\n",
       "      <th>0</th>\n",
       "      <td>13</td>\n",
       "      <td>1504292</td>\n",
       "      <td>177964</td>\n",
       "      <td>Ctenochaetus marginatus</td>\n",
       "      <td>1</td>\n",
       "      <td>1</td>\n",
       "      <td>1</td>\n",
       "      <td>Jonnell Sanciangco</td>\n",
       "      <td>2010</td>\n",
       "      <td>International Union for Conservation of Nature...</td>\n",
       "      <td>Extant (resident)</td>\n",
       "      <td>None</td>\n",
       "      <td>None</td>\n",
       "      <td>None</td>\n",
       "      <td>None</td>\n",
       "      <td>None</td>\n",
       "      <td>Least Concern</td>\n",
       "      <td>Ctenochaetus marginatus</td>\n",
       "      <td>MULTIPOLYGON (((173.90343 3.44131, 173.90535 3...</td>\n",
       "    </tr>\n",
       "    <tr>\n",
       "      <th>1</th>\n",
       "      <td>62</td>\n",
       "      <td>1604964</td>\n",
       "      <td>180245</td>\n",
       "      <td>Holothuria kefersteinii</td>\n",
       "      <td>1</td>\n",
       "      <td>1</td>\n",
       "      <td>1</td>\n",
       "      <td>IUCN</td>\n",
       "      <td>2012</td>\n",
       "      <td>International Union for Conservation of Nature</td>\n",
       "      <td>Extant (resident)</td>\n",
       "      <td>None</td>\n",
       "      <td>None</td>\n",
       "      <td>None</td>\n",
       "      <td>None</td>\n",
       "      <td>None</td>\n",
       "      <td>Data Deficient</td>\n",
       "      <td>Holothuria kefersteinii</td>\n",
       "      <td>MULTIPOLYGON (((-117.10683 32.44577, -117.1034...</td>\n",
       "    </tr>\n",
       "    <tr>\n",
       "      <th>2</th>\n",
       "      <td>69</td>\n",
       "      <td>1614313</td>\n",
       "      <td>180318</td>\n",
       "      <td>Holothuria imitans</td>\n",
       "      <td>1</td>\n",
       "      <td>1</td>\n",
       "      <td>1</td>\n",
       "      <td>IUCN</td>\n",
       "      <td>2012</td>\n",
       "      <td>International Union for Conservation of Nature</td>\n",
       "      <td>Extant (resident)</td>\n",
       "      <td>None</td>\n",
       "      <td>None</td>\n",
       "      <td>None</td>\n",
       "      <td>None</td>\n",
       "      <td>None</td>\n",
       "      <td>Least Concern</td>\n",
       "      <td>Holothuria imitans</td>\n",
       "      <td>MULTIPOLYGON (((132.11722 -2.12133, 132.11264 ...</td>\n",
       "    </tr>\n",
       "    <tr>\n",
       "      <th>3</th>\n",
       "      <td>76</td>\n",
       "      <td>1621878</td>\n",
       "      <td>180373</td>\n",
       "      <td>Isostichopus fuscus</td>\n",
       "      <td>1</td>\n",
       "      <td>1</td>\n",
       "      <td>1</td>\n",
       "      <td>IUCN</td>\n",
       "      <td>2012</td>\n",
       "      <td>International Union for Conservation of Nature</td>\n",
       "      <td>Extant (resident)</td>\n",
       "      <td>None</td>\n",
       "      <td>None</td>\n",
       "      <td>None</td>\n",
       "      <td>None</td>\n",
       "      <td>None</td>\n",
       "      <td>Endangered</td>\n",
       "      <td>Isostichopus fuscus</td>\n",
       "      <td>MULTIPOLYGON (((-114.81055 31.82298, -114.7885...</td>\n",
       "    </tr>\n",
       "    <tr>\n",
       "      <th>4</th>\n",
       "      <td>95</td>\n",
       "      <td>1735660</td>\n",
       "      <td>183294</td>\n",
       "      <td>Strongylura exilis</td>\n",
       "      <td>1</td>\n",
       "      <td>1</td>\n",
       "      <td>1</td>\n",
       "      <td>IUCN</td>\n",
       "      <td>2018</td>\n",
       "      <td>IUCN (International Union for Conservation of ...</td>\n",
       "      <td>Extant (resident)</td>\n",
       "      <td>None</td>\n",
       "      <td>None</td>\n",
       "      <td>None</td>\n",
       "      <td>None</td>\n",
       "      <td>None</td>\n",
       "      <td>Least Concern</td>\n",
       "      <td>Strongylura exilis</td>\n",
       "      <td>MULTIPOLYGON (((-91.24865 -0.67985, -91.24889 ...</td>\n",
       "    </tr>\n",
       "  </tbody>\n",
       "</table>\n",
       "</div>"
      ],
      "text/plain": [
       "   index ASSESSMENT   ID_NO                 BINOMIAL PRESENCE ORIGIN SEASONAL  \\\n",
       "0     13    1504292  177964  Ctenochaetus marginatus        1      1        1   \n",
       "1     62    1604964  180245  Holothuria kefersteinii        1      1        1   \n",
       "2     69    1614313  180318       Holothuria imitans        1      1        1   \n",
       "3     76    1621878  180373      Isostichopus fuscus        1      1        1   \n",
       "4     95    1735660  183294       Strongylura exilis        1      1        1   \n",
       "\n",
       "             COMPILER  YEAR  \\\n",
       "0  Jonnell Sanciangco  2010   \n",
       "1                IUCN  2012   \n",
       "2                IUCN  2012   \n",
       "3                IUCN  2012   \n",
       "4                IUCN  2018   \n",
       "\n",
       "                                            CITATION             LEGEND  \\\n",
       "0  International Union for Conservation of Nature...  Extant (resident)   \n",
       "1     International Union for Conservation of Nature  Extant (resident)   \n",
       "2     International Union for Conservation of Nature  Extant (resident)   \n",
       "3     International Union for Conservation of Nature  Extant (resident)   \n",
       "4  IUCN (International Union for Conservation of ...  Extant (resident)   \n",
       "\n",
       "  SUBSPECIES SUBPOP DIST_COMM ISLAND TAX_COMM      redlistCat  \\\n",
       "0       None   None      None   None     None   Least Concern   \n",
       "1       None   None      None   None     None  Data Deficient   \n",
       "2       None   None      None   None     None   Least Concern   \n",
       "3       None   None      None   None     None      Endangered   \n",
       "4       None   None      None   None     None   Least Concern   \n",
       "\n",
       "                scientific                                           geometry  \n",
       "0  Ctenochaetus marginatus  MULTIPOLYGON (((173.90343 3.44131, 173.90535 3...  \n",
       "1  Holothuria kefersteinii  MULTIPOLYGON (((-117.10683 32.44577, -117.1034...  \n",
       "2       Holothuria imitans  MULTIPOLYGON (((132.11722 -2.12133, 132.11264 ...  \n",
       "3      Isostichopus fuscus  MULTIPOLYGON (((-114.81055 31.82298, -114.7885...  \n",
       "4       Strongylura exilis  MULTIPOLYGON (((-91.24865 -0.67985, -91.24889 ...  "
      ]
     },
     "execution_count": 18,
     "metadata": {},
     "output_type": "execute_result"
    }
   ],
   "source": [
    "df.head()"
   ]
  },
  {
   "cell_type": "markdown",
   "metadata": {},
   "source": [
    "With the first version data from Margaux, the data set had 164 unique species, now:"
   ]
  },
  {
   "cell_type": "code",
   "execution_count": 20,
   "metadata": {
    "scrolled": true
   },
   "outputs": [
    {
     "name": "stdout",
     "output_type": "stream",
     "text": [
      "There are 640 unique species in this dataset.\n"
     ]
    }
   ],
   "source": [
    "print(\"There are \" + str(len(df)) + \" unique species in this dataset.\")"
   ]
  },
  {
   "cell_type": "code",
   "execution_count": 21,
   "metadata": {},
   "outputs": [
    {
     "name": "stdout",
     "output_type": "stream",
     "text": [
      "The columns are:\n",
      "Index(['index', 'ASSESSMENT', 'ID_NO', 'BINOMIAL', 'PRESENCE', 'ORIGIN',\n",
      "       'SEASONAL', 'COMPILER', 'YEAR', 'CITATION', 'LEGEND', 'SUBSPECIES',\n",
      "       'SUBPOP', 'DIST_COMM', 'ISLAND', 'TAX_COMM', 'redlistCat', 'scientific',\n",
      "       'geometry'],\n",
      "      dtype='object')\n"
     ]
    }
   ],
   "source": [
    "print(\"The columns are:\")\n",
    "print(df.columns)"
   ]
  },
  {
   "cell_type": "markdown",
   "metadata": {},
   "source": [
    "Super annoying ESRI note: the column headers are cropped to 10 characters.\n",
    "\n",
    "`redlistCat` = `redlistCategory`\n",
    "\n",
    "`scientific` = `scientificName`"
   ]
  },
  {
   "cell_type": "markdown",
   "metadata": {},
   "source": [
    "<h1> 2.2. Preliminary calculations </h1> "
   ]
  },
  {
   "cell_type": "code",
   "execution_count": 27,
   "metadata": {},
   "outputs": [],
   "source": [
    "area_of_conservation = ACMC.geometry.item()"
   ]
  },
  {
   "cell_type": "code",
   "execution_count": 28,
   "metadata": {},
   "outputs": [
    {
     "data": {
      "image/svg+xml": [
       "<svg xmlns=\"http://www.w3.org/2000/svg\" xmlns:xlink=\"http://www.w3.org/1999/xlink\" width=\"100.0\" height=\"100.0\" viewBox=\"-89.4988210631326 1.9738187896575243 3.6436306308410735 4.77401035521158\" preserveAspectRatio=\"xMinYMin meet\"><g transform=\"matrix(1,0,0,-1,0,8.72164793452663)\"><path fill-rule=\"evenodd\" fill=\"#66cc99\" stroke=\"#555555\" stroke-width=\"0.0954802071042316\" opacity=\"0.6\" d=\"M -86.0320056306327,6.571011315565231 L -86.03400907686711,2.316907726361919 L -86.04533803274306,2.3130971124457163 L -86.1077050528298,2.2934731614890964 L -86.17044107091725,2.2750802112949695 L -86.23352208844275,2.257924260808183 L -86.2969231054031,2.2420133109858176 L -86.36062112111928,2.227353361061635 L -86.42459113501114,2.213948412255013 L -86.48880914882774,2.2018044629012805 L -86.55325016120555,2.190926514622532 L -86.61789017335173,2.181318566315083 L -86.68270518370258,2.172984617565676 L -86.74766819319416,2.165926669356771 L -86.8127562014655,2.1601487214014843 L -86.87794320979333,2.155652773498366 L -86.94320621596543,2.1524398259037 L -87.14513223002524,2.150633987998694 L -89.31500691639735,3.3753084597252565 L -89.32200586479142,6.571013946527935 L -86.0320056306327,6.571011315565231 z\" /></g></svg>"
      ],
      "text/plain": [
       "<shapely.geometry.polygon.Polygon at 0x7fbd38a566a0>"
      ]
     },
     "execution_count": 28,
     "metadata": {},
     "output_type": "execute_result"
    }
   ],
   "source": [
    "area_of_conservation"
   ]
  },
  {
   "cell_type": "markdown",
   "metadata": {},
   "source": [
    "***We have the following conservation statuses:***"
   ]
  },
  {
   "cell_type": "code",
   "execution_count": 23,
   "metadata": {},
   "outputs": [
    {
     "name": "stdout",
     "output_type": "stream",
     "text": [
      "There are the following conservation statuses:\n",
      "['Least Concern' 'Vulnerable' 'Data Deficient' 'Near Threatened'\n",
      " 'Endangered' 'Critically Endangered']\n"
     ]
    }
   ],
   "source": [
    "print(\"There are the following conservation statuses:\")\n",
    "print(df.redlistCat.unique())"
   ]
  },
  {
   "cell_type": "code",
   "execution_count": 24,
   "metadata": {},
   "outputs": [
    {
     "name": "stdout",
     "output_type": "stream",
     "text": [
      "There are 531 species with the status Least Concern\n",
      "There are 46 species with the status Vulnerable\n",
      "There are 34 species with the status Data Deficient\n",
      "There are 10 species with the status Near Threatened\n",
      "There are 16 species with the status Endangered\n",
      "There are 3 species with the status Critically Endangered\n"
     ]
    }
   ],
   "source": [
    "for status in df.redlistCat.unique():\n",
    "    print(\"There are \" + str(len(df[df.redlistCat==status])) + \\\n",
    "          \" species with the status \" + status)"
   ]
  },
  {
   "cell_type": "code",
   "execution_count": 37,
   "metadata": {},
   "outputs": [
    {
     "data": {
      "text/plain": [
       "Text(0.5, 1.0, 'Plot 1: Species Status')"
      ]
     },
     "execution_count": 37,
     "metadata": {},
     "output_type": "execute_result"
    },
    {
     "data": {
      "image/png": "[encoded data removed]",
      "text/plain": [
       "<Figure size 864x576 with 1 Axes>"
      ]
     },
     "metadata": {
      "needs_background": "light"
     },
     "output_type": "display_data"
    }
   ],
   "source": [
    "plt.figure(figsize=(12,8))\n",
    "plt.hist(df.redlistCat)\n",
    "plt.title('Plot 1: Species Status')"
   ]
  },
  {
   "cell_type": "code",
   "execution_count": 26,
   "metadata": {},
   "outputs": [
    {
     "name": "stdout",
     "output_type": "stream",
     "text": [
      "The species with the status Critically Endangered are :\n",
      "566    Carcharhinus longimanus\n",
      "573     Eretmochelys imbricata\n",
      "631            Pristis pristis\n",
      "Name: BINOMIAL, dtype: object\n"
     ]
    }
   ],
   "source": [
    "print(\"The species with the status Critically Endangered are :\")\n",
    "print(df[df.redlistCat=='Critically Endangered'].BINOMIAL)"
   ]
  },
  {
   "cell_type": "markdown",
   "metadata": {},
   "source": [
    "- *Carcharhinus longimanus* is Oceanic whitetip shark\n",
    "- *Eretmochelys imbricata* is Hawksbill sea turtle\n",
    "- *Pristis pristis* is Largetooth sawfish"
   ]
  },
  {
   "cell_type": "markdown",
   "metadata": {},
   "source": [
    "TO BE COMPLETED!"
   ]
  },
  {
   "cell_type": "code",
   "execution_count": null,
   "metadata": {},
   "outputs": [],
   "source": []
  },
  {
   "cell_type": "code",
   "execution_count": null,
   "metadata": {},
   "outputs": [],
   "source": []
  },
  {
   "cell_type": "code",
   "execution_count": null,
   "metadata": {},
   "outputs": [],
   "source": []
  },
  {
   "cell_type": "code",
   "execution_count": null,
   "metadata": {},
   "outputs": [],
   "source": []
  }
 ],
 "metadata": {
  "kernelspec": {
   "display_name": "Python 3 (ipykernel)",
   "language": "python",
   "name": "python3"
  },
  "language_info": {
   "codemirror_mode": {
    "name": "ipython",
    "version": 3
   },
   "file_extension": ".py",
   "mimetype": "text/x-python",
   "name": "python",
   "nbconvert_exporter": "python",
   "pygments_lexer": "ipython3",
   "version": "3.9.12"
  }
 },
 "nbformat": 4,
 "nbformat_minor": 4
}
