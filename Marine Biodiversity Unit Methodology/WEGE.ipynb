{
 "cells": [
  {
   "cell_type": "markdown",
   "id": "09b345e8-fe28-4e06-95a5-82f958d040f1",
   "metadata": {},
   "source": [
    "# WEGE index\n",
    "This notebook provides code for the Weighted Endemism including Global Endangerment (WEGE) index as it is described in [Farooq et al. (2020)](https://onlinelibrary.wiley.com/doi/full/10.1111/ddi.13148). WEGE is calculated like this:\n",
    "\n",
    "$$\\text{WEGE} = \\sum_{i=1}^\\text{N} \\sqrt{WE_i}\\times ER_i$$\n",
    "\n",
    "- $WE_i$ weighted endemism for species $i$ (See [Crisp et al. (2002)](https://biology-assets.anu.edu.au/hosted_sites/Crisp/pdfs/Crisp2001_endemism.pdf))\n",
    "- $ER_i$: probability of extinction of species $i$ (Using the IUCN50 transformation for the ER from [Davis et al. (2008)](https://www.pnas.org/doi/10.1073/pnas.1804906115))\n",
    "\n",
    "### Weighted Endemism (WE)\n",
    "[Crisp et al. (2002)](https://biology-assets.anu.edu.au/hosted_sites/Crisp/pdfs/Crisp2001_endemism.pdf)) describes weighted endemism in terms of grid cells, stating:\n",
    "> ...a single-cell endemic\n",
    "has the maximum weight of 1, a species occurring in two\n",
    "cells has a weight of 0.5, and a species occurring in 100 cells\n",
    "has a weight of 0.01. **To obtain an endemism score for a cell,\n",
    "these weights are summed for all species occurring in the\n",
    "cell. We term this measure *weighted endemism*.**\n",
    "\n",
    "Instead of counting grid cells, we can define the endemism weight for each species as a ratio of areas:\n",
    "\n",
    "$$WE_i = \\frac{\\text{\"Area where species i is found within the target area\"}}{\\text{\"Target area\"}}$$\n",
    "\n",
    "\n",
    "### Extinction Probability (ER)\n",
    "[Farooq et al. (2020)](https://onlinelibrary.wiley.com/doi/full/10.1111/ddi.13148) base the extinction probability on the species IUCN Red List categeory, using the transformation from [Davis et al. (2008)](https://www.pnas.org/doi/10.1073/pnas.1804906115). Other transformations exist in the literature, such as [Moors et al. (2008)](https://www.sfu.ca/~amooers/papers/Mooers_etal_PLoSOne08.pdf). Here, I follow [Farooq et al. (2020)](https://onlinelibrary.wiley.com/doi/full/10.1111/ddi.13148) and use the [Davis et al. (2008)](https://www.pnas.org/doi/10.1073/pnas.1804906115) transformation. In addition, also following [Farooq et al. (2020)](https://onlinelibrary.wiley.com/doi/full/10.1111/ddi.13148), I set the extinction probabilty of data deficient (DD) species to the extinction probability of \"vulnerable\" species following [Bland et al. (2015)](https://conbio.onlinelibrary.wiley.com/doi/10.1111/cobi.12372). This is based on the idea that DD species may be more threatened than some data-sufficient species ([Bland et al., 2015](https://conbio.onlinelibrary.wiley.com/doi/10.1111/cobi.12372), [Borgelt et al., 2022](https://www.nature.com/articles/s42003-022-03638-9))\n",
    "\n",
    "Here the transformation used for each [IUCN Red List category](https://www.iucnredlist.org/resources/categories-and-criteria):\n",
    "\n",
    "$$(DD, LC, NT, VU, EN, CR, EW, EX) \\mapsto (0.0513, 0.0009, 0.0071, 0.0513, 0.4276, 0.9688, 1.0, 1.0)$$\n",
    "\n",
    "Where:     \n",
    "- DD = \"Data Deficient\"\n",
    "- LC = \"Least Concern\"\n",
    "- NT = \"Near Threatened\"\n",
    "- VU = \"Vulnerable\"\n",
    "- EN = \"Endangered\"\n",
    "- CR = \"Critically Endangered\"\n",
    "- EW = \"Extinct In The Wild\"\n",
    "- EX = \"Extinct\"\n",
    "\n",
    "### Notes\n",
    "- square root transformation used to improve normality of $WE$ data. Could test whether this transformation is necessary by making historgram of $WE$ and seeing if it is skewed and if square root actually improves normality. \n",
    "- which mapping from IUCN category to extinction probability should we use?\n",
    "- What should the probability of extinction be for \"data deficient\" species? [Bland et al. (2015)](https://conbio.onlinelibrary.wiley.com/doi/10.1111/cobi.12372) and [Borgelt et al. (2022)](https://www.nature.com/articles/s42003-022-03638-9) suggest DD species may be more threatened than data-sufficient species."
   ]
  },
  {
   "cell_type": "code",
   "execution_count": 1,
   "id": "ae817a27-ca1f-4ba1-9df9-ac61f4642882",
   "metadata": {},
   "outputs": [],
   "source": [
    "def extinction_risk(cat: str = None) -> float:\n",
    "    '''calculates extinction risk (ER) for species \n",
    "    following Farooq et al. (2020)\n",
    "    we assign probability of extinction for each IUCN category\n",
    "    using extinction probabilities \n",
    "    from Table S2 in supplemental material of Davis et al (2018).\n",
    "    Here we use use IUCN50 values, same as Farooq et al. (2020).\n",
    "    \n",
    "    Extinction risk for data deficiient (DD) category is assigned\n",
    "    the vulnerable (VU) probability,\n",
    "    see Bland et al. (2015) for explanation.\n",
    "    \n",
    "    Args:\n",
    "        cat (str): IUCN category\n",
    "            - DD = Data Deficient\n",
    "            - LC = Least Concern\n",
    "            - NT = Near Threatened\n",
    "            - VU = Vulnerable\n",
    "            - EN = Endangered\n",
    "            - CR = Critically Endangered\n",
    "            - EW = Extinct in the wild \n",
    "            - EX = Extinct\n",
    "        \n",
    "    Returns:\n",
    "        float: probability of extinction\n",
    "        \n",
    "    References:\n",
    "        Bland et al. (2015) \"Predicting the conservation status of data-deficient species\" \n",
    "            https://doi.org/10.1111/cobi.12372\n",
    "        Davis et al. (2018) \"Mammal diversity will take millions of years to recover from the current biodiversity crisis\"\n",
    "            https://doi.org/10.1073/pnas.1804906115\n",
    "        Farooq et al. (2020) \"WEGE: A new metric for ranking locations for biodiversity conservation\" \n",
    "            https://doi.org/10.1111/ddi.13148\n",
    "    '''\n",
    "    cat_to_risk = dict(\n",
    "        DD=0.0513, # using Bland et al. (2015) assumption\n",
    "        LC=0.0009,\n",
    "        NT=0.0071,\n",
    "        VU=0.0513,\n",
    "        EN=0.4276,\n",
    "        CR=0.9688,\n",
    "        EW=1.0,\n",
    "        EX=1.0\n",
    "    )\n",
    "\n",
    "    if cat_to_risk.get(cat) is None:\n",
    "        raise ValueError(\"Invalid value for 'cat', expected one of 'DD', 'LC', 'NT', 'VU', 'EN', 'CR', EW', 'EX'\")\n",
    "    \n",
    "    return cat_to_risk.get(cat)"
   ]
  },
  {
   "cell_type": "code",
   "execution_count": 2,
   "id": "424652f9-f595-4e48-8bfc-922dee590b4d",
   "metadata": {},
   "outputs": [],
   "source": [
    "def weighted_endemism(species_area: float=None, total_area: float=None, power: float=None) -> float:\n",
    "    '''calculates the endemism score for a single species\n",
    "    following Crisp et al. (2002) and using the scaling power of 0.5\n",
    "    from Farooq et al. (2020).\n",
    "    \n",
    "    `(\"area species is found\" / \"total area\")^(power)`\n",
    "    \n",
    "    Args:\n",
    "        species_area (float): amount of area within the total where species is found\n",
    "        total_area (float): total area where searching for species\n",
    "        power(float): raise each endemism value to this power[default: 0.5]\n",
    "        \n",
    "    Returns:\n",
    "        float: endemism score for the species\n",
    "    \n",
    "    References:\n",
    "        Crisp et al. (2002) \"Endemism in the Australian flora\"\n",
    "            https://onlinelibrary.wiley.com/doi/abs/10.1046/j.1365-2699.2001.00524.x\n",
    "        Farooq et al. (2020) \"WEGE: A new metric for ranking locations for biodiversity conservation\" \n",
    "            https://doi.org/10.1111/ddi.13148\n",
    "    '''\n",
    "    power = 0.5 if power is None else power # see Farooq et al. (2020)\n",
    "    \n",
    "    if not isinstance(species_area, (int, float)):\n",
    "        raise TypeError(\"species_area must be a number\")\n",
    "        \n",
    "    if species_area < 0:\n",
    "        raise ValueError(\"species_area must be positive\")\n",
    "\n",
    "    if not isinstance(total_area, (int, float)):\n",
    "        raise TypeError(\"total_area must be a number\")\n",
    "        \n",
    "    if total_area <= 0:\n",
    "        raise ValueError(\"total_area must be positive and non-zero\")\n",
    "    \n",
    "    return (species_area/total_area)**power"
   ]
  },
  {
   "cell_type": "markdown",
   "id": "ebf4e2e1-4ba9-48f6-a00e-8f0e50428575",
   "metadata": {
    "tags": []
   },
   "source": [
    "\n",
    "calculate WEGE from lists of `species_area`, `total_area`, and IUCN `categories`\n",
    "\n",
    "```\n",
    "WEGE = sum(\n",
    "    [endemism(sp_area, tot_area) * extinction_risk(cat) \n",
    "     for sp_area, tot_area, cat \n",
    "     in zip(species_area, total_area, category)]\n",
    ")\n",
    "```"
   ]
  },
  {
   "cell_type": "markdown",
   "id": "627deed8-8924-423f-abc7-60019f4c370e",
   "metadata": {},
   "source": [
    "# 1. Read data"
   ]
  },
  {
   "cell_type": "code",
   "execution_count": 3,
   "id": "9a194b97-af11-483f-a67d-bfcf4008b6b5",
   "metadata": {},
   "outputs": [],
   "source": [
    "import geopandas as gpd"
   ]
  },
  {
   "cell_type": "markdown",
   "id": "4ca719d6-e259-41fc-bccb-c6f5a0418047",
   "metadata": {},
   "source": [
    "## 1.1 IUCN Redlist\n",
    "**Note:** this takes a couple minutes to load. Takes longer, and requires AWS account, if loading directly from S3 bucket."
   ]
  },
  {
   "cell_type": "code",
   "execution_count": 11,
   "id": "d08fe96a-27f9-4aef-8036-d81541ee016d",
   "metadata": {},
   "outputs": [
    {
     "name": "stdout",
     "output_type": "stream",
     "text": [
      "CPU times: user 3min 32s, sys: 8.56 s, total: 3min 41s\n",
      "Wall time: 6min 17s\n"
     ]
    }
   ],
   "source": [
    "%%time\n",
    "df_redlist = gpd.read_file('s3://ocean-program/data/processed/ACMC_IUCN_RedList/')"
   ]
  },
  {
   "cell_type": "code",
   "execution_count": 13,
   "id": "ece65bed-96da-4ddc-b510-9b3031133e1a",
   "metadata": {},
   "outputs": [
    {
     "data": {
      "text/html": [
       "<div>\n",
       "<style scoped>\n",
       "    .dataframe tbody tr th:only-of-type {\n",
       "        vertical-align: middle;\n",
       "    }\n",
       "\n",
       "    .dataframe tbody tr th {\n",
       "        vertical-align: top;\n",
       "    }\n",
       "\n",
       "    .dataframe thead th {\n",
       "        text-align: right;\n",
       "    }\n",
       "</style>\n",
       "<table border=\"1\" class=\"dataframe\">\n",
       "  <thead>\n",
       "    <tr style=\"text-align: right;\">\n",
       "      <th></th>\n",
       "      <th>index</th>\n",
       "      <th>ASSESSMENT</th>\n",
       "      <th>ID_NO</th>\n",
       "      <th>BINOMIAL</th>\n",
       "      <th>PRESENCE</th>\n",
       "      <th>ORIGIN</th>\n",
       "      <th>SEASONAL</th>\n",
       "      <th>COMPILER</th>\n",
       "      <th>YEAR</th>\n",
       "      <th>CITATION</th>\n",
       "      <th>LEGEND</th>\n",
       "      <th>SUBSPECIES</th>\n",
       "      <th>SUBPOP</th>\n",
       "      <th>DIST_COMM</th>\n",
       "      <th>ISLAND</th>\n",
       "      <th>TAX_COMM</th>\n",
       "      <th>redlistCat</th>\n",
       "      <th>scientific</th>\n",
       "      <th>geometry</th>\n",
       "    </tr>\n",
       "  </thead>\n",
       "  <tbody>\n",
       "    <tr>\n",
       "      <th>0</th>\n",
       "      <td>3</td>\n",
       "      <td>1506081</td>\n",
       "      <td>177969.0</td>\n",
       "      <td>Acanthurus nigricans</td>\n",
       "      <td>1</td>\n",
       "      <td>1</td>\n",
       "      <td>1</td>\n",
       "      <td>Jonnell Sanciangco</td>\n",
       "      <td>2010</td>\n",
       "      <td>International Union for Conservation of Nature...</td>\n",
       "      <td>Extant (resident)</td>\n",
       "      <td>NaN</td>\n",
       "      <td>NaN</td>\n",
       "      <td>NaN</td>\n",
       "      <td>NaN</td>\n",
       "      <td>NaN</td>\n",
       "      <td>Least Concern</td>\n",
       "      <td>Acanthurus nigricans</td>\n",
       "      <td>MULTIPOLYGON (((109.79501 6.13966, 109.89836 6...</td>\n",
       "    </tr>\n",
       "    <tr>\n",
       "      <th>1</th>\n",
       "      <td>10</td>\n",
       "      <td>1512439</td>\n",
       "      <td>177988.0</td>\n",
       "      <td>Naso annulatus</td>\n",
       "      <td>1</td>\n",
       "      <td>1</td>\n",
       "      <td>1</td>\n",
       "      <td>Jonnell Sanciangco</td>\n",
       "      <td>2010</td>\n",
       "      <td>International Union for Conservation of Nature...</td>\n",
       "      <td>Extant (resident)</td>\n",
       "      <td>NaN</td>\n",
       "      <td>NaN</td>\n",
       "      <td>NaN</td>\n",
       "      <td>NaN</td>\n",
       "      <td>NaN</td>\n",
       "      <td>Least Concern</td>\n",
       "      <td>Naso annulatus</td>\n",
       "      <td>MULTIPOLYGON (((109.79501 6.13966, 109.89836 6...</td>\n",
       "    </tr>\n",
       "    <tr>\n",
       "      <th>2</th>\n",
       "      <td>13</td>\n",
       "      <td>1517273</td>\n",
       "      <td>178002.0</td>\n",
       "      <td>Naso hexacanthus</td>\n",
       "      <td>1</td>\n",
       "      <td>1</td>\n",
       "      <td>1</td>\n",
       "      <td>Jonnell Sanciangco</td>\n",
       "      <td>2010</td>\n",
       "      <td>International Union for Conservation of Nature...</td>\n",
       "      <td>Extant (resident)</td>\n",
       "      <td>NaN</td>\n",
       "      <td>NaN</td>\n",
       "      <td>NaN</td>\n",
       "      <td>NaN</td>\n",
       "      <td>NaN</td>\n",
       "      <td>Least Concern</td>\n",
       "      <td>Naso hexacanthus</td>\n",
       "      <td>MULTIPOLYGON (((99.07516 7.94581, 99.07794 7.9...</td>\n",
       "    </tr>\n",
       "    <tr>\n",
       "      <th>3</th>\n",
       "      <td>97</td>\n",
       "      <td>2412930</td>\n",
       "      <td>195754.0</td>\n",
       "      <td>Gymnothorax meleagris</td>\n",
       "      <td>1</td>\n",
       "      <td>1</td>\n",
       "      <td>1</td>\n",
       "      <td>IUCN Marine Biodiversity Unit/GMSA</td>\n",
       "      <td>2018</td>\n",
       "      <td>IUCN Marine Biodiversity Unit/GMSA</td>\n",
       "      <td>Extant (resident)</td>\n",
       "      <td>NaN</td>\n",
       "      <td>NaN</td>\n",
       "      <td>NaN</td>\n",
       "      <td>NaN</td>\n",
       "      <td>NaN</td>\n",
       "      <td>Least Concern</td>\n",
       "      <td>Gymnothorax meleagris</td>\n",
       "      <td>MULTIPOLYGON (((144.23853 -3.82053, 144.24330 ...</td>\n",
       "    </tr>\n",
       "    <tr>\n",
       "      <th>4</th>\n",
       "      <td>102</td>\n",
       "      <td>2423479</td>\n",
       "      <td>195824.0</td>\n",
       "      <td>Uropterygius macrocephalus</td>\n",
       "      <td>1</td>\n",
       "      <td>1</td>\n",
       "      <td>1</td>\n",
       "      <td>IUCN Marine Biodiversity Unit/GMSA</td>\n",
       "      <td>2018</td>\n",
       "      <td>IUCN Marine Biodiversity Unit/GMSA</td>\n",
       "      <td>Extant (resident)</td>\n",
       "      <td>NaN</td>\n",
       "      <td>NaN</td>\n",
       "      <td>NaN</td>\n",
       "      <td>NaN</td>\n",
       "      <td>NaN</td>\n",
       "      <td>Least Concern</td>\n",
       "      <td>Uropterygius macrocephalus</td>\n",
       "      <td>MULTIPOLYGON (((144.23853 -3.82053, 144.24330 ...</td>\n",
       "    </tr>\n",
       "  </tbody>\n",
       "</table>\n",
       "</div>"
      ],
      "text/plain": [
       "   index ASSESSMENT     ID_NO                    BINOMIAL PRESENCE ORIGIN  \\\n",
       "0      3    1506081  177969.0        Acanthurus nigricans        1      1   \n",
       "1     10    1512439  177988.0              Naso annulatus        1      1   \n",
       "2     13    1517273  178002.0            Naso hexacanthus        1      1   \n",
       "3     97    2412930  195754.0       Gymnothorax meleagris        1      1   \n",
       "4    102    2423479  195824.0  Uropterygius macrocephalus        1      1   \n",
       "\n",
       "  SEASONAL                            COMPILER  YEAR  \\\n",
       "0        1                  Jonnell Sanciangco  2010   \n",
       "1        1                  Jonnell Sanciangco  2010   \n",
       "2        1                  Jonnell Sanciangco  2010   \n",
       "3        1  IUCN Marine Biodiversity Unit/GMSA  2018   \n",
       "4        1  IUCN Marine Biodiversity Unit/GMSA  2018   \n",
       "\n",
       "                                            CITATION             LEGEND  \\\n",
       "0  International Union for Conservation of Nature...  Extant (resident)   \n",
       "1  International Union for Conservation of Nature...  Extant (resident)   \n",
       "2  International Union for Conservation of Nature...  Extant (resident)   \n",
       "3                 IUCN Marine Biodiversity Unit/GMSA  Extant (resident)   \n",
       "4                 IUCN Marine Biodiversity Unit/GMSA  Extant (resident)   \n",
       "\n",
       "   SUBSPECIES SUBPOP  DIST_COMM  ISLAND TAX_COMM     redlistCat  \\\n",
       "0         NaN    NaN        NaN     NaN      NaN  Least Concern   \n",
       "1         NaN    NaN        NaN     NaN      NaN  Least Concern   \n",
       "2         NaN    NaN        NaN     NaN      NaN  Least Concern   \n",
       "3         NaN    NaN        NaN     NaN      NaN  Least Concern   \n",
       "4         NaN    NaN        NaN     NaN      NaN  Least Concern   \n",
       "\n",
       "                   scientific  \\\n",
       "0        Acanthurus nigricans   \n",
       "1              Naso annulatus   \n",
       "2            Naso hexacanthus   \n",
       "3       Gymnothorax meleagris   \n",
       "4  Uropterygius macrocephalus   \n",
       "\n",
       "                                            geometry  \n",
       "0  MULTIPOLYGON (((109.79501 6.13966, 109.89836 6...  \n",
       "1  MULTIPOLYGON (((109.79501 6.13966, 109.89836 6...  \n",
       "2  MULTIPOLYGON (((99.07516 7.94581, 99.07794 7.9...  \n",
       "3  MULTIPOLYGON (((144.23853 -3.82053, 144.24330 ...  \n",
       "4  MULTIPOLYGON (((144.23853 -3.82053, 144.24330 ...  "
      ]
     },
     "execution_count": 13,
     "metadata": {},
     "output_type": "execute_result"
    }
   ],
   "source": [
    "df_redlist.head()"
   ]
  },
  {
   "cell_type": "code",
   "execution_count": 14,
   "id": "f742f710-79ec-4599-93e1-a63878c730f2",
   "metadata": {},
   "outputs": [],
   "source": [
    "# replaces long RedList name with two-letter code\n",
    "long_to_short = {\n",
    "    'Data Deficient':'DD',\n",
    "    'Least Concern':'LC',\n",
    "    'Near Threatened':'NT',\n",
    "    'Vulnerable':'VU',\n",
    "    'Endangered':'EN',\n",
    "    'Critically Endangered':'CR',\n",
    "    'Extinct In The Wild':'EW',\n",
    "    'Extinct':'EX'\n",
    "}\n",
    "\n",
    "df_redlist['redlistCat'] = df_redlist['redlistCat'].replace(long_to_short)"
   ]
  },
  {
   "cell_type": "markdown",
   "id": "7cc86a3c-56d2-4679-ae23-7aa444330f17",
   "metadata": {
    "tags": []
   },
   "source": [
    "## 1.2 Coco Marine Conservation Area\n",
    "- The Coco Marine Conservation Area (ACMC)\n",
    "- the Bicentennial Marine Management Area (AMMB)\n",
    "- Cocos Island National Park (PNIC)"
   ]
  },
  {
   "cell_type": "code",
   "execution_count": 16,
   "id": "41c9d321-04ee-4855-9a36-21390eeb4260",
   "metadata": {},
   "outputs": [
    {
     "name": "stdout",
     "output_type": "stream",
     "text": [
      "CPU times: user 37.3 ms, sys: 27.7 ms, total: 65 ms\n",
      "Wall time: 1.1 s\n"
     ]
    }
   ],
   "source": [
    "%%time\n",
    "df_acmc = gpd.read_file('s3://ocean-program/data/processed/geospatial/')"
   ]
  },
  {
   "cell_type": "markdown",
   "id": "d6d75bda-fe49-4763-a374-da3869ef35c6",
   "metadata": {},
   "source": [
    "# 2. Calculate WEGE"
   ]
  },
  {
   "cell_type": "code",
   "execution_count": 17,
   "id": "8cfe9d99-a360-406b-8238-382957f986ed",
   "metadata": {},
   "outputs": [],
   "source": [
    "# set coord. references system\n",
    "# https://geopandas.org/en/stable/docs/reference/api/geopandas.GeoDataFrame.set_crs.html\n",
    "df_redlist = df_redlist.set_crs('epsg:4326', allow_override=True)\n",
    "df_acmc = df_acmc.set_crs('epsg:4326', allow_override=True)"
   ]
  },
  {
   "cell_type": "code",
   "execution_count": 18,
   "id": "9d4eff18-6be2-4e96-8828-b41aaa40222a",
   "metadata": {},
   "outputs": [
    {
     "name": "stderr",
     "output_type": "stream",
     "text": [
      "/opt/homebrew/Caskroom/miniconda/base/envs/ocean/lib/python3.11/site-packages/pyproj/crs/crs.py:141: FutureWarning: '+init=<authority>:<code>' syntax is deprecated. '<authority>:<code>' is the preferred initialization method. When making the change, be mindful of axis order changes: https://pyproj4.github.io/pyproj/stable/gotchas.html#axis-order-changes-in-proj-6\n",
      "  in_crs_string = _prepare_from_proj_string(in_crs_string)\n"
     ]
    }
   ],
   "source": [
    "df_redlist.crs = {\"init\":\"epsg:4326\"}\n",
    "df_acmc.crs = {\"init\":\"epsg:4326\"}"
   ]
  },
  {
   "cell_type": "code",
   "execution_count": 30,
   "id": "797d8e3b-a740-4e6d-9d79-4a1c260ee892",
   "metadata": {},
   "outputs": [
    {
     "name": "stderr",
     "output_type": "stream",
     "text": [
      "/var/folders/g0/rt7kg75d1bq_ptpk0lzn3m5h0000gn/T/ipykernel_60979/390391726.py:2: UserWarning: Geometry is in a geographic CRS. Results from 'area' are likely incorrect. Use 'GeoSeries.to_crs()' to re-project geometries to a projected CRS before this operation.\n",
      "\n",
      "  acmc_area = df_acmc.area\n"
     ]
    }
   ],
   "source": [
    "# area of ACMC\n",
    "acmc_area = df_acmc.area"
   ]
  },
  {
   "cell_type": "code",
   "execution_count": 35,
   "id": "eb1fcc1d-d549-45e6-aa25-2fe9989e2ef8",
   "metadata": {},
   "outputs": [],
   "source": [
    "# create list of weighted endemism to specified power for each species\n",
    "# hiding warnings for now\n",
    "\n",
    "import warnings\n",
    "\n",
    "with warnings.catch_warnings(record=True):\n",
    "    power = 0.5\n",
    "    WE_list = []\n",
    "    for _, row in df_redlist.iterrows():\n",
    "        df_intersect = df_redlist.loc[df_redlist.BINOMIAL==row.BINOMIAL].intersection(df_acmc)\n",
    "        species_area_within_acmc = df_intersect.area\n",
    "        species_redlist_area = df_redlist[df_redlist.BINOMIAL==row.BINOMIAL].area\n",
    "        WE_tmp = ((species_area_within_acmc/acmc_area).sum())**power\n",
    "        WE_list.append(WE_tmp)"
   ]
  },
  {
   "cell_type": "code",
   "execution_count": 43,
   "id": "86b6198c-312b-4a23-8aff-69dd5bd8c53b",
   "metadata": {},
   "outputs": [],
   "source": [
    "# list of extinction probabilities for each species\n",
    "ER_list = [extinction_risk(cat) for cat in df_redlist['redlistCat']]"
   ]
  },
  {
   "cell_type": "code",
   "execution_count": 49,
   "id": "17bf12e5-84b3-411f-8432-5a891fbe845f",
   "metadata": {},
   "outputs": [
    {
     "data": {
      "text/plain": [
       "0.0008425635868365434"
      ]
     },
     "execution_count": 49,
     "metadata": {},
     "output_type": "execute_result"
    }
   ],
   "source": [
    "# calculate WEGE index\n",
    "WEGE = sum([WE * ER for WE, ER in zip(WE_list, ER_list)])"
   ]
  }
 ],
 "metadata": {
  "kernelspec": {
   "display_name": "“ocean”",
   "language": "python",
   "name": "ocean"
  },
  "language_info": {
   "codemirror_mode": {
    "name": "ipython",
    "version": 3
   },
   "file_extension": ".py",
   "mimetype": "text/x-python",
   "name": "python",
   "nbconvert_exporter": "python",
   "pygments_lexer": "ipython3",
   "version": "3.11.0"
  }
 },
 "nbformat": 4,
 "nbformat_minor": 5
}
