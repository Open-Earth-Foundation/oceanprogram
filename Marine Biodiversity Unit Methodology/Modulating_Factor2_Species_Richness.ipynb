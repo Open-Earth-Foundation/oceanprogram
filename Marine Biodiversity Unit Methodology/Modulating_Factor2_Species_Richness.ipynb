{
 "cells": [
  {
   "cell_type": "markdown",
   "metadata": {},
   "source": [
    "# Open Ocean\n",
    "# Open Earth Fundation\n",
    "---------------------------------------------------------------------------------------------------------------------\n",
    "Authors: Margaux Filippi & Maureen Fonseca\n",
    "\n",
    "---------------------------------------------------------------------------------------------------------------------"
   ]
  },
  {
   "cell_type": "markdown",
   "metadata": {},
   "source": [
    "<h1> Step 2: calculate different metrics for each modulating factor </h1>\n",
    "\n",
    "This notebook is the second part of the `Step1_Curate_IUCN_RedList.ipynb`\n",
    "\n",
    "<h2> Modulating Factor 2: Species Richness </h2>"
   ]
  },
  {
   "cell_type": "markdown",
   "metadata": {},
   "source": [
    "<h2> Data needed for this project </h2>\n",
    "\n",
    "The data was output by `Step1_Curate_IUCN_RedList.ipynb` and can be found under [IUCN_RedList](https://drive.google.com/drive/folders/1nkw8VK9mPdthjyDOSsnljqCo_b7lMdP4?usp=sharing) under a temporary folder that accompagnies the GitHub repository: \n",
    "\n",
    "`Ocean Program > data > data_processed > gdf_ACMC_IUCN_range_status_filtered`"
   ]
  },
  {
   "cell_type": "markdown",
   "metadata": {},
   "source": [
    "### Analyzing UICN data for marine species in the Eastern Tropical Pacific."
   ]
  },
  {
   "cell_type": "code",
   "execution_count": 1,
   "metadata": {},
   "outputs": [
    {
     "name": "stderr",
     "output_type": "stream",
     "text": [
      "/Users/maureenfonseca/opt/anaconda3/lib/python3.9/site-packages/geopandas/_compat.py:111: UserWarning: The Shapely GEOS version (3.8.0-CAPI-1.13.1 ) is incompatible with the GEOS version PyGEOS was compiled with (3.10.1-CAPI-1.16.0). Conversions between both will be slow.\n",
      "  warnings.warn(\n"
     ]
    }
   ],
   "source": [
    "import geopandas as gpd"
   ]
  },
  {
   "cell_type": "code",
   "execution_count": 2,
   "metadata": {},
   "outputs": [],
   "source": [
    "import numpy as np\n",
    "import pandas as pd"
   ]
  },
  {
   "cell_type": "code",
   "execution_count": 3,
   "metadata": {},
   "outputs": [],
   "source": [
    "import os\n",
    "import glob"
   ]
  },
  {
   "cell_type": "code",
   "execution_count": 4,
   "metadata": {},
   "outputs": [],
   "source": [
    "from shapely.geometry import Polygon, Point"
   ]
  },
  {
   "cell_type": "code",
   "execution_count": 5,
   "metadata": {},
   "outputs": [],
   "source": [
    "import fiona; #help(fiona.open)"
   ]
  },
  {
   "cell_type": "code",
   "execution_count": 6,
   "metadata": {},
   "outputs": [],
   "source": [
    "import matplotlib.pyplot as plt\n",
    "import seaborn as sns"
   ]
  },
  {
   "cell_type": "code",
   "execution_count": 7,
   "metadata": {},
   "outputs": [],
   "source": [
    "import timeit"
   ]
  },
  {
   "cell_type": "code",
   "execution_count": 129,
   "metadata": {},
   "outputs": [],
   "source": [
    "from netCDF4 import Dataset\n",
    "import cmocean\n",
    "import geopandas as gpd\n",
    "from matplotlib.ticker import LinearLocator\n",
    "from mpl_toolkits.axes_grid1 import make_axes_locatable"
   ]
  },
  {
   "cell_type": "markdown",
   "metadata": {},
   "source": [
    "OEF functions"
   ]
  },
  {
   "cell_type": "code",
   "execution_count": 8,
   "metadata": {},
   "outputs": [],
   "source": [
    "from marinebiodiversity_utils import *"
   ]
  },
  {
   "cell_type": "markdown",
   "metadata": {},
   "source": [
    "<h1> 2.1. Load data </h1>\n",
    "\n",
    "<h2> 2.1.1 Get the conservation area</h2>\n",
    "\n",
    "Mostly for plotting."
   ]
  },
  {
   "cell_type": "markdown",
   "metadata": {},
   "source": [
    "<h3> Coordinates for Cocos Island </h3>\n",
    "\n",
    "Cocos Island is located at 05°31′41″N; 87°03′40″W"
   ]
  },
  {
   "cell_type": "code",
   "execution_count": 9,
   "metadata": {},
   "outputs": [],
   "source": [
    "Cocos_lat = 5+31/60+41/3600\n",
    "Cocos_lon = -(87+3/60+40/3600)\n",
    "Cocos = Point(Cocos_lon, Cocos_lat)"
   ]
  },
  {
   "cell_type": "markdown",
   "metadata": {},
   "source": [
    "<h3> Import entire AMMB and PNIC </h3>"
   ]
  },
  {
   "cell_type": "code",
   "execution_count": 10,
   "metadata": {},
   "outputs": [],
   "source": [
    "ACMC = gpd.read_file('../../Geospatial_ACMC/ACMC.shp')\n",
    "AMMB = gpd.read_file('../../Geospatial_ACMC/AMMB.shp')\n",
    "PNIC = gpd.read_file('../../Geospatial_ACMC/PNIC.shp')"
   ]
  },
  {
   "cell_type": "markdown",
   "metadata": {},
   "source": [
    "Inspect the Coordinate Reference Systems (CRS)."
   ]
  },
  {
   "cell_type": "code",
   "execution_count": 11,
   "metadata": {},
   "outputs": [
    {
     "data": {
      "text/plain": [
       "<Derived Projected CRS: EPSG:5367>\n",
       "Name: CR05 / CRTM05\n",
       "Axis Info [cartesian]:\n",
       "- N[north]: Northing (metre)\n",
       "- E[east]: Easting (metre)\n",
       "Area of Use:\n",
       "- name: Costa Rica - onshore and offshore east of 86°30'W.\n",
       "- bounds: (-86.5, 2.21, -81.43, 11.77)\n",
       "Coordinate Operation:\n",
       "- name: Costa Rica TM 2005\n",
       "- method: Transverse Mercator\n",
       "Datum: Costa Rica 2005\n",
       "- Ellipsoid: WGS 84\n",
       "- Prime Meridian: Greenwich"
      ]
     },
     "execution_count": 11,
     "metadata": {},
     "output_type": "execute_result"
    }
   ],
   "source": [
    "AMMB.crs"
   ]
  },
  {
   "cell_type": "code",
   "execution_count": 12,
   "metadata": {},
   "outputs": [
    {
     "data": {
      "text/plain": [
       "<Derived Projected CRS: EPSG:5367>\n",
       "Name: CR05 / CRTM05\n",
       "Axis Info [cartesian]:\n",
       "- N[north]: Northing (metre)\n",
       "- E[east]: Easting (metre)\n",
       "Area of Use:\n",
       "- name: Costa Rica - onshore and offshore east of 86°30'W.\n",
       "- bounds: (-86.5, 2.21, -81.43, 11.77)\n",
       "Coordinate Operation:\n",
       "- name: Costa Rica TM 2005\n",
       "- method: Transverse Mercator\n",
       "Datum: Costa Rica 2005\n",
       "- Ellipsoid: WGS 84\n",
       "- Prime Meridian: Greenwich"
      ]
     },
     "execution_count": 12,
     "metadata": {},
     "output_type": "execute_result"
    }
   ],
   "source": [
    "PNIC.crs"
   ]
  },
  {
   "cell_type": "code",
   "execution_count": 13,
   "metadata": {},
   "outputs": [],
   "source": [
    "AMMB_WGS84 = AMMB.to_crs(crs=4326)\n",
    "PNIC_WGS84 = PNIC.to_crs(crs=4326)\n",
    "ACMC = ACMC.set_crs(epsg=4326, allow_override=True)"
   ]
  },
  {
   "cell_type": "code",
   "execution_count": 14,
   "metadata": {},
   "outputs": [
    {
     "data": {
      "text/plain": [
       "0    1.062837e+07\n",
       "Name: area, dtype: float64"
      ]
     },
     "execution_count": 14,
     "metadata": {},
     "output_type": "execute_result"
    }
   ],
   "source": [
    "ACMC['area']"
   ]
  },
  {
   "cell_type": "markdown",
   "metadata": {},
   "source": [
    "Get area information."
   ]
  },
  {
   "cell_type": "code",
   "execution_count": 15,
   "metadata": {},
   "outputs": [
    {
     "name": "stdout",
     "output_type": "stream",
     "text": [
      "Area, PNIC:\n",
      "4.47 sqdeg.\n",
      "54,799.50 sqkm in CRS 31970.\n",
      "\n",
      "Area, AMMB:\n",
      "8.66 sqdeg.\n",
      "106,243.90 sqkm in CRS 31970.\n",
      "\n",
      "Total Area, ACMC:\n",
      "13.13 sqdeg.\n",
      "161,043.41 sqkm in CRS 31970.\n"
     ]
    },
    {
     "name": "stderr",
     "output_type": "stream",
     "text": [
      "/var/folders/v8/b0fnjf9d4q31sfz_8q4h4zxm0000gn/T/ipykernel_9053/2915868912.py:2: UserWarning: Geometry is in a geographic CRS. Results from 'area' are likely incorrect. Use 'GeoSeries.to_crs()' to re-project geometries to a projected CRS before this operation.\n",
      "\n",
      "  print(\"{:0.2f}\".format(PNIC_WGS84.area.item()) + \" sqdeg.\")\n",
      "/var/folders/v8/b0fnjf9d4q31sfz_8q4h4zxm0000gn/T/ipykernel_9053/2915868912.py:6: UserWarning: Geometry is in a geographic CRS. Results from 'area' are likely incorrect. Use 'GeoSeries.to_crs()' to re-project geometries to a projected CRS before this operation.\n",
      "\n",
      "  print(\"{:0.2f}\".format(AMMB_WGS84.area.item()) + \" sqdeg.\")\n",
      "/var/folders/v8/b0fnjf9d4q31sfz_8q4h4zxm0000gn/T/ipykernel_9053/2915868912.py:10: UserWarning: Geometry is in a geographic CRS. Results from 'area' are likely incorrect. Use 'GeoSeries.to_crs()' to re-project geometries to a projected CRS before this operation.\n",
      "\n",
      "  print(\"{:0.2f}\".format(AMMB_WGS84.area.item() + PNIC_WGS84.area.item()) + \" sqdeg.\")\n"
     ]
    }
   ],
   "source": [
    "print(\"Area, PNIC:\")\n",
    "print(\"{:0.2f}\".format(PNIC_WGS84.area.item()) + \" sqdeg.\")\n",
    "print(\"{:,.2f}\".format(PNIC_WGS84.to_crs(crs=31970).area.item()*10**(-6)) + \" sqkm in CRS 31970.\")\n",
    "\n",
    "print(\"\\nArea, AMMB:\")\n",
    "print(\"{:0.2f}\".format(AMMB_WGS84.area.item()) + \" sqdeg.\")\n",
    "print(\"{:,.2f}\".format(AMMB_WGS84.to_crs(crs=31970).area.item()*10**(-6)) + \" sqkm in CRS 31970.\")\n",
    "\n",
    "print(\"\\nTotal Area, ACMC:\")\n",
    "print(\"{:0.2f}\".format(AMMB_WGS84.area.item() + PNIC_WGS84.area.item()) + \" sqdeg.\")\n",
    "print(\"{:,.2f}\".format(AMMB_WGS84.to_crs(crs=31970).area.item()*10**(-6) + PNIC_WGS84.to_crs(crs=31970).area.item()*10**(-6)) + \" sqkm in CRS 31970.\")"
   ]
  },
  {
   "cell_type": "markdown",
   "metadata": {},
   "source": [
    "<h2> 2.1.2 Get the species data </h2>"
   ]
  },
  {
   "cell_type": "markdown",
   "metadata": {},
   "source": [
    "This is the outcome from `Step1_Curate_IUCN_RedList.ipynb`."
   ]
  },
  {
   "cell_type": "code",
   "execution_count": 16,
   "metadata": {},
   "outputs": [],
   "source": [
    "df = gpd.read_file('../../ACMC_IUCN_data/gdf_ACMC_IUCN_range_status_filtered.shp') "
   ]
  },
  {
   "cell_type": "code",
   "execution_count": 17,
   "metadata": {},
   "outputs": [
    {
     "data": {
      "text/html": [
       "<div>\n",
       "<style scoped>\n",
       "    .dataframe tbody tr th:only-of-type {\n",
       "        vertical-align: middle;\n",
       "    }\n",
       "\n",
       "    .dataframe tbody tr th {\n",
       "        vertical-align: top;\n",
       "    }\n",
       "\n",
       "    .dataframe thead th {\n",
       "        text-align: right;\n",
       "    }\n",
       "</style>\n",
       "<table border=\"1\" class=\"dataframe\">\n",
       "  <thead>\n",
       "    <tr style=\"text-align: right;\">\n",
       "      <th></th>\n",
       "      <th>index</th>\n",
       "      <th>ASSESSMENT</th>\n",
       "      <th>ID_NO</th>\n",
       "      <th>BINOMIAL</th>\n",
       "      <th>PRESENCE</th>\n",
       "      <th>ORIGIN</th>\n",
       "      <th>SEASONAL</th>\n",
       "      <th>COMPILER</th>\n",
       "      <th>YEAR</th>\n",
       "      <th>CITATION</th>\n",
       "      <th>LEGEND</th>\n",
       "      <th>SUBSPECIES</th>\n",
       "      <th>SUBPOP</th>\n",
       "      <th>DIST_COMM</th>\n",
       "      <th>ISLAND</th>\n",
       "      <th>TAX_COMM</th>\n",
       "      <th>redlistCat</th>\n",
       "      <th>scientific</th>\n",
       "      <th>geometry</th>\n",
       "    </tr>\n",
       "  </thead>\n",
       "  <tbody>\n",
       "    <tr>\n",
       "      <th>0</th>\n",
       "      <td>3</td>\n",
       "      <td>1506081</td>\n",
       "      <td>177969.0</td>\n",
       "      <td>Acanthurus nigricans</td>\n",
       "      <td>1</td>\n",
       "      <td>1</td>\n",
       "      <td>1</td>\n",
       "      <td>Jonnell Sanciangco</td>\n",
       "      <td>2010</td>\n",
       "      <td>International Union for Conservation of Nature...</td>\n",
       "      <td>Extant (resident)</td>\n",
       "      <td>None</td>\n",
       "      <td>None</td>\n",
       "      <td>None</td>\n",
       "      <td>None</td>\n",
       "      <td>None</td>\n",
       "      <td>Least Concern</td>\n",
       "      <td>Acanthurus nigricans</td>\n",
       "      <td>MULTIPOLYGON (((109.79501 6.13966, 109.89836 6...</td>\n",
       "    </tr>\n",
       "    <tr>\n",
       "      <th>1</th>\n",
       "      <td>10</td>\n",
       "      <td>1512439</td>\n",
       "      <td>177988.0</td>\n",
       "      <td>Naso annulatus</td>\n",
       "      <td>1</td>\n",
       "      <td>1</td>\n",
       "      <td>1</td>\n",
       "      <td>Jonnell Sanciangco</td>\n",
       "      <td>2010</td>\n",
       "      <td>International Union for Conservation of Nature...</td>\n",
       "      <td>Extant (resident)</td>\n",
       "      <td>None</td>\n",
       "      <td>None</td>\n",
       "      <td>None</td>\n",
       "      <td>None</td>\n",
       "      <td>None</td>\n",
       "      <td>Least Concern</td>\n",
       "      <td>Naso annulatus</td>\n",
       "      <td>MULTIPOLYGON (((109.79501 6.13966, 109.89836 6...</td>\n",
       "    </tr>\n",
       "    <tr>\n",
       "      <th>2</th>\n",
       "      <td>13</td>\n",
       "      <td>1517273</td>\n",
       "      <td>178002.0</td>\n",
       "      <td>Naso hexacanthus</td>\n",
       "      <td>1</td>\n",
       "      <td>1</td>\n",
       "      <td>1</td>\n",
       "      <td>Jonnell Sanciangco</td>\n",
       "      <td>2010</td>\n",
       "      <td>International Union for Conservation of Nature...</td>\n",
       "      <td>Extant (resident)</td>\n",
       "      <td>None</td>\n",
       "      <td>None</td>\n",
       "      <td>None</td>\n",
       "      <td>None</td>\n",
       "      <td>None</td>\n",
       "      <td>Least Concern</td>\n",
       "      <td>Naso hexacanthus</td>\n",
       "      <td>MULTIPOLYGON (((99.07516 7.94581, 99.07794 7.9...</td>\n",
       "    </tr>\n",
       "    <tr>\n",
       "      <th>3</th>\n",
       "      <td>97</td>\n",
       "      <td>2412930</td>\n",
       "      <td>195754.0</td>\n",
       "      <td>Gymnothorax meleagris</td>\n",
       "      <td>1</td>\n",
       "      <td>1</td>\n",
       "      <td>1</td>\n",
       "      <td>IUCN Marine Biodiversity Unit/GMSA</td>\n",
       "      <td>2018</td>\n",
       "      <td>IUCN Marine Biodiversity Unit/GMSA</td>\n",
       "      <td>Extant (resident)</td>\n",
       "      <td>None</td>\n",
       "      <td>None</td>\n",
       "      <td>None</td>\n",
       "      <td>None</td>\n",
       "      <td>None</td>\n",
       "      <td>Least Concern</td>\n",
       "      <td>Gymnothorax meleagris</td>\n",
       "      <td>MULTIPOLYGON (((144.23853 -3.82053, 144.24330 ...</td>\n",
       "    </tr>\n",
       "    <tr>\n",
       "      <th>4</th>\n",
       "      <td>102</td>\n",
       "      <td>2423479</td>\n",
       "      <td>195824.0</td>\n",
       "      <td>Uropterygius macrocephalus</td>\n",
       "      <td>1</td>\n",
       "      <td>1</td>\n",
       "      <td>1</td>\n",
       "      <td>IUCN Marine Biodiversity Unit/GMSA</td>\n",
       "      <td>2018</td>\n",
       "      <td>IUCN Marine Biodiversity Unit/GMSA</td>\n",
       "      <td>Extant (resident)</td>\n",
       "      <td>None</td>\n",
       "      <td>None</td>\n",
       "      <td>None</td>\n",
       "      <td>None</td>\n",
       "      <td>None</td>\n",
       "      <td>Least Concern</td>\n",
       "      <td>Uropterygius macrocephalus</td>\n",
       "      <td>MULTIPOLYGON (((144.23853 -3.82053, 144.24330 ...</td>\n",
       "    </tr>\n",
       "  </tbody>\n",
       "</table>\n",
       "</div>"
      ],
      "text/plain": [
       "   index ASSESSMENT     ID_NO                    BINOMIAL PRESENCE ORIGIN  \\\n",
       "0      3    1506081  177969.0        Acanthurus nigricans        1      1   \n",
       "1     10    1512439  177988.0              Naso annulatus        1      1   \n",
       "2     13    1517273  178002.0            Naso hexacanthus        1      1   \n",
       "3     97    2412930  195754.0       Gymnothorax meleagris        1      1   \n",
       "4    102    2423479  195824.0  Uropterygius macrocephalus        1      1   \n",
       "\n",
       "  SEASONAL                            COMPILER  YEAR  \\\n",
       "0        1                  Jonnell Sanciangco  2010   \n",
       "1        1                  Jonnell Sanciangco  2010   \n",
       "2        1                  Jonnell Sanciangco  2010   \n",
       "3        1  IUCN Marine Biodiversity Unit/GMSA  2018   \n",
       "4        1  IUCN Marine Biodiversity Unit/GMSA  2018   \n",
       "\n",
       "                                            CITATION             LEGEND  \\\n",
       "0  International Union for Conservation of Nature...  Extant (resident)   \n",
       "1  International Union for Conservation of Nature...  Extant (resident)   \n",
       "2  International Union for Conservation of Nature...  Extant (resident)   \n",
       "3                 IUCN Marine Biodiversity Unit/GMSA  Extant (resident)   \n",
       "4                 IUCN Marine Biodiversity Unit/GMSA  Extant (resident)   \n",
       "\n",
       "  SUBSPECIES SUBPOP DIST_COMM ISLAND TAX_COMM     redlistCat  \\\n",
       "0       None   None      None   None     None  Least Concern   \n",
       "1       None   None      None   None     None  Least Concern   \n",
       "2       None   None      None   None     None  Least Concern   \n",
       "3       None   None      None   None     None  Least Concern   \n",
       "4       None   None      None   None     None  Least Concern   \n",
       "\n",
       "                   scientific  \\\n",
       "0        Acanthurus nigricans   \n",
       "1              Naso annulatus   \n",
       "2            Naso hexacanthus   \n",
       "3       Gymnothorax meleagris   \n",
       "4  Uropterygius macrocephalus   \n",
       "\n",
       "                                            geometry  \n",
       "0  MULTIPOLYGON (((109.79501 6.13966, 109.89836 6...  \n",
       "1  MULTIPOLYGON (((109.79501 6.13966, 109.89836 6...  \n",
       "2  MULTIPOLYGON (((99.07516 7.94581, 99.07794 7.9...  \n",
       "3  MULTIPOLYGON (((144.23853 -3.82053, 144.24330 ...  \n",
       "4  MULTIPOLYGON (((144.23853 -3.82053, 144.24330 ...  "
      ]
     },
     "execution_count": 17,
     "metadata": {},
     "output_type": "execute_result"
    }
   ],
   "source": [
    "df.head()"
   ]
  },
  {
   "cell_type": "markdown",
   "metadata": {},
   "source": [
    "With the first version data from Margaux, the data set had 164 unique species, now:"
   ]
  },
  {
   "cell_type": "code",
   "execution_count": 20,
   "metadata": {
    "scrolled": true
   },
   "outputs": [
    {
     "name": "stdout",
     "output_type": "stream",
     "text": [
      "There are 640 unique species in this dataset.\n"
     ]
    }
   ],
   "source": [
    "print(\"There are \" + str(len(df)) + \" unique species in this dataset.\")"
   ]
  },
  {
   "cell_type": "markdown",
   "metadata": {},
   "source": [
    "<h1> 2.2. Preliminary calculations </h1> "
   ]
  },
  {
   "cell_type": "code",
   "execution_count": 27,
   "metadata": {},
   "outputs": [],
   "source": [
    "area_of_conservation = ACMC.geometry.item()"
   ]
  },
  {
   "cell_type": "code",
   "execution_count": 28,
   "metadata": {},
   "outputs": [
    {
     "data": {
      "image/svg+xml": [
       "<svg xmlns=\"http://www.w3.org/2000/svg\" xmlns:xlink=\"http://www.w3.org/1999/xlink\" width=\"100.0\" height=\"100.0\" viewBox=\"-89.4988210631326 1.9738187896575243 3.6436306308410735 4.77401035521158\" preserveAspectRatio=\"xMinYMin meet\"><g transform=\"matrix(1,0,0,-1,0,8.72164793452663)\"><path fill-rule=\"evenodd\" fill=\"#66cc99\" stroke=\"#555555\" stroke-width=\"0.0954802071042316\" opacity=\"0.6\" d=\"M -86.0320056306327,6.571011315565231 L -86.03400907686711,2.316907726361919 L -86.04533803274306,2.3130971124457163 L -86.1077050528298,2.2934731614890964 L -86.17044107091725,2.2750802112949695 L -86.23352208844275,2.257924260808183 L -86.2969231054031,2.2420133109858176 L -86.36062112111928,2.227353361061635 L -86.42459113501114,2.213948412255013 L -86.48880914882774,2.2018044629012805 L -86.55325016120555,2.190926514622532 L -86.61789017335173,2.181318566315083 L -86.68270518370258,2.172984617565676 L -86.74766819319416,2.165926669356771 L -86.8127562014655,2.1601487214014843 L -86.87794320979333,2.155652773498366 L -86.94320621596543,2.1524398259037 L -87.14513223002524,2.150633987998694 L -89.31500691639735,3.3753084597252565 L -89.32200586479142,6.571013946527935 L -86.0320056306327,6.571011315565231 z\" /></g></svg>"
      ],
      "text/plain": [
       "<shapely.geometry.polygon.Polygon at 0x7fbd38a566a0>"
      ]
     },
     "execution_count": 28,
     "metadata": {},
     "output_type": "execute_result"
    }
   ],
   "source": [
    "area_of_conservation"
   ]
  },
  {
   "cell_type": "markdown",
   "metadata": {},
   "source": [
    "Species Richness: use the total number of species within the area of interest to get the base credit."
   ]
  },
  {
   "cell_type": "markdown",
   "metadata": {},
   "source": [
    "Info from SINAC, link to [Google Drive](https://drive.google.com/file/d/1Bztf55bKgZi7X9nJPbWGdOUtW7Zv0-3_/view?usp=sharing) document\n",
    "```\n",
    "The CINP is home to 1688 species of marine fauna, of which\n",
    "45 are endemic. This represents 47,4 % of the endemism in\n",
    "Costa Rica. In other words, the CINP contributes half of the\n",
    "country’s unique biological richness.\n",
    "```\n",
    "SINAC (Sistema Nacional de Áreas de Conservación). 2018. Importancia de los ecosistemas y las poblaciones del sitio de interés: Parque Nacional Isla del Coco (PNIC), Área Marina de Manejo Montes Submarinos (AMM MS) y aguas adyacentes. Área de Conservación Marina Cocos. San José, Costa Rica. 68 p."
   ]
  },
  {
   "cell_type": "markdown",
   "metadata": {},
   "source": [
    "Note: this was the old park\n",
    "```\n",
    "The CINP, created in 1978, is located 342 miles (500 km) southeast of Costa Rica’s Pacific coast and covers an area of 785 sq miles (2034 km2). The island comprises an area of about 9 sq miles (23 km2) and the marine area covers the remaining 776 sq miles (2011 km2). The SMMA was created in 2011 and was the first protected wildlife area in this category in Costa Rica. It encompasses 3725 sq miles (9649 km2) of the Pacific Ocean waters around the CINP (Figure 1).\n",
    "```"
   ]
  },
  {
   "cell_type": "markdown",
   "metadata": {},
   "source": [
    "Note: World Register of Marine Species (WoRMS)  contains 243,000 species in its inventory.\n",
    "\n",
    "https://en.wikipedia.org/wiki/Marine_life#/media/File:Marine_animal_biodiversity.png shows 201,004.\n",
    "\n",
    "https://en.wikipedia.org/wiki/Species_richness shows species richness in terms of km? or per sq km?\n",
    "\n",
    "https://www.researchgate.net/figure/Global-marine-species-richness-for-all-taxa-Source-Titterson-et-al-2010_fig2_305636318\n",
    "this is at a coarse resolution, but we can use this to normalize marine richness?\n",
    "\n",
    "According to: https://www.researchgate.net/publication/45406822_Global_patterns_and_predictors_of_marine_biodiversity_across_taxa\n",
    "we have: \n",
    "11,567 total - 60 seagrasses - 32 mangroves - 39 foraminifera"
   ]
  },
  {
   "cell_type": "markdown",
   "metadata": {},
   "source": [
    "**Marine biodiversity Assumption 1**\n",
    "\n",
    "Assuming a total number of species of marine fauna of $N_\\text{total}$ (here `N_species_fauna_total`)"
   ]
  },
  {
   "cell_type": "code",
   "execution_count": 80,
   "metadata": {},
   "outputs": [
    {
     "name": "stdout",
     "output_type": "stream",
     "text": [
      "11436\n"
     ]
    }
   ],
   "source": [
    "N_species_fauna_total = 11567 - 60 - 32 - 39\n",
    "print(N_species_fauna_total)"
   ]
  },
  {
   "cell_type": "markdown",
   "metadata": {},
   "source": [
    "**Marine biodiversity Assumption 2**\n",
    "\n",
    "Assuming a number of species of marine fauna within the area of interest of $N_\\text{local}$ (here `N_species_fauna`). This is extrapolating the number of species given by SINAC to the entire ACMC area."
   ]
  },
  {
   "cell_type": "code",
   "execution_count": 81,
   "metadata": {},
   "outputs": [],
   "source": [
    "N_species_fauna = 1688"
   ]
  },
  {
   "cell_type": "markdown",
   "metadata": {},
   "source": [
    "**Marine biodiversity Assumption 3**\n",
    "\n",
    "The marine fauna is uniformely distributed accross the ACMC... here because we don't have:\n",
    "- $N_\\text{local}$(square kilometer 1)\n",
    "- $N_\\text{local}$(square kilometer 2)\n",
    "- ...\n",
    "- $N_\\text{local}$(square kilometer  N)\n",
    "\n",
    "Thus our \"base unit\" for credits is homogeneous throughout ACMC. \n",
    "\n",
    "Note 1: this is for illustrative purposes and this is a WRONG assumption! but we do not have a heat map of marine fauna!\n",
    "\n",
    "Note 2: another approach can be that the representativeness of biodiversity in ACMC with respect to the world total. Value that can be penalized for the lack of data in ACMC."
   ]
  },
  {
   "cell_type": "code",
   "execution_count": 85,
   "metadata": {},
   "outputs": [
    {
     "name": "stdout",
     "output_type": "stream",
     "text": [
      "1.1590538866455768\n"
     ]
    }
   ],
   "source": [
    "N_units_base = np.exp(N_species_fauna/N_species_fauna_total)\n",
    "print(N_units_base)"
   ]
  },
  {
   "cell_type": "markdown",
   "metadata": {},
   "source": [
    "Assuming we had the maximum species richness of $N_\\text{total}$ = 2,555 (here `N_species_fauna_total`):"
   ]
  },
  {
   "cell_type": "code",
   "execution_count": 86,
   "metadata": {},
   "outputs": [
    {
     "data": {
      "text/plain": [
       "1.2503422061517109"
      ]
     },
     "execution_count": 86,
     "metadata": {},
     "output_type": "execute_result"
    }
   ],
   "source": [
    "np.exp(2555/N_species_fauna_total)"
   ]
  },
  {
   "cell_type": "markdown",
   "metadata": {},
   "source": [
    "That's the \"maximum base unit\" per this logic."
   ]
  },
  {
   "cell_type": "markdown",
   "metadata": {},
   "source": [
    "Assuming we have very little species richness, e.g. $N_\\text{total}$ = 10 (here `N_species_fauna_total` means there are only 10 species of fish, crabs, whatever):"
   ]
  },
  {
   "cell_type": "code",
   "execution_count": 87,
   "metadata": {},
   "outputs": [
    {
     "data": {
      "text/plain": [
       "1.0008748140462365"
      ]
     },
     "execution_count": 87,
     "metadata": {},
     "output_type": "execute_result"
    }
   ],
   "source": [
    "np.exp(10/N_species_fauna_total)"
   ]
  },
  {
   "cell_type": "markdown",
   "metadata": {},
   "source": [
    "That's a lower bound for the \"base unit\" per this logic."
   ]
  },
  {
   "cell_type": "markdown",
   "metadata": {},
   "source": [
    "It is a very narrow range that does not reward high biodiversity this much. \n",
    "\n",
    "Is it \"good\" or \"bad\"? \n",
    "\n",
    "Note: \n",
    "\n",
    "Well, the advantages are as follows:\n",
    "   * it minimizes the impact of measurements errors and uncertainty. Given that measuring marine biodiversity is difficult, this may actually be a good thing.\n",
    "    \n",
    "   * it increases the influence of modulating factors, such as:\n",
    "        - vulnerable species\n",
    "        - endemism\n",
    "        - habitat type\n",
    "        - etc."
   ]
  },
  {
   "cell_type": "markdown",
   "metadata": {},
   "source": [
    "That gives the baseline. To be completed. \n",
    "\n",
    "Note: we CANNOT get the Shannon index just from IUCN data. We need the number of specimens for each species."
   ]
  }
 ],
 "metadata": {
  "kernelspec": {
   "display_name": "Python 3 (ipykernel)",
   "language": "python",
   "name": "python3"
  },
  "language_info": {
   "codemirror_mode": {
    "name": "ipython",
    "version": 3
   },
   "file_extension": ".py",
   "mimetype": "text/x-python",
   "name": "python",
   "nbconvert_exporter": "python",
   "pygments_lexer": "ipython3",
   "version": "3.9.12"
  }
 },
 "nbformat": 4,
 "nbformat_minor": 4
}
