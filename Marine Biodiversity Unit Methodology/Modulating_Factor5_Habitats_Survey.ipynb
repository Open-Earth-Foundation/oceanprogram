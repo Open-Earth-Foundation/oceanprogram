{
 "cells": [
  {
   "cell_type": "markdown",
   "metadata": {},
   "source": [
    "# Open Ocean\n",
    "# Open Earth Fundation\n",
    "---------------------------------------------------------------------------------------------------------------------\n",
    "Authors: Margaux Filippi & Maureen Fonseca\n",
    "\n",
    "---------------------------------------------------------------------------------------------------------------------"
   ]
  },
  {
   "cell_type": "markdown",
   "metadata": {},
   "source": [
    "<h1> Step 2: calculate different metrics for each modulating factor </h1>\n",
    "    \n",
    "This notebook is the second part of the Step1_Curate_IUCN_RedList.ipynb\n",
    "\n",
    "<h2> Modulating Factor 5: Habitats' Survey  <h2>"
   ]
  },
  {
   "cell_type": "markdown",
   "metadata": {},
   "source": [
    "<h2> Data needed for this project </h2>\n",
    "\n",
    "The data was output by:\n",
    "- Manual selection in [GEBCO](https://www.gebco.net/) \n",
    "- Overlap of [IUCN Ecosystem Typology](https://zenodo.org/record/5090419) with [ACMC shapefile](https://drive.google.com/drive/folders/11aaQs_R-jCE2ZwVBZVLjTAlleaJdOa_I?usp=share_link)\n",
    "\n",
    "Under: \n",
    "\n",
    "`Ocean Program > data > data_processed > Bathymetry`\n",
    "\n",
    "`Ocean Program > data > data_processed > Typology_ACMC V0`"
   ]
  },
  {
   "cell_type": "markdown",
   "metadata": {},
   "source": [
    "### Importing libraries"
   ]
  },
  {
   "cell_type": "code",
   "execution_count": 1,
   "metadata": {},
   "outputs": [],
   "source": [
    "import geopandas as gpd"
   ]
  },
  {
   "cell_type": "code",
   "execution_count": 2,
   "metadata": {},
   "outputs": [],
   "source": [
    "import numpy as np\n",
    "import pandas as pd"
   ]
  },
  {
   "cell_type": "code",
   "execution_count": 3,
   "metadata": {},
   "outputs": [],
   "source": [
    "import os\n",
    "import glob"
   ]
  },
  {
   "cell_type": "code",
   "execution_count": 4,
   "metadata": {},
   "outputs": [],
   "source": [
    "import shapely\n",
    "from shapely.geometry import Polygon, Point"
   ]
  },
  {
   "cell_type": "code",
   "execution_count": 5,
   "metadata": {},
   "outputs": [],
   "source": [
    "import fiona; #help(fiona.open)"
   ]
  },
  {
   "cell_type": "code",
   "execution_count": 6,
   "metadata": {},
   "outputs": [],
   "source": [
    "import matplotlib.pyplot as plt\n",
    "import seaborn as sns"
   ]
  },
  {
   "cell_type": "code",
   "execution_count": 7,
   "metadata": {},
   "outputs": [],
   "source": [
    "import timeit"
   ]
  },
  {
   "cell_type": "code",
   "execution_count": 8,
   "metadata": {},
   "outputs": [],
   "source": [
    "from netCDF4 import Dataset\n",
    "import cmocean\n",
    "import geopandas as gpd\n",
    "from matplotlib.ticker import LinearLocator\n",
    "from mpl_toolkits.axes_grid1 import make_axes_locatable"
   ]
  },
  {
   "cell_type": "markdown",
   "metadata": {},
   "source": [
    "OEF functions"
   ]
  },
  {
   "cell_type": "code",
   "execution_count": 9,
   "metadata": {},
   "outputs": [],
   "source": [
    "from marinebiodiversity_utils import *"
   ]
  },
  {
   "cell_type": "markdown",
   "metadata": {},
   "source": [
    "<h1> 2.1. Load data </h1>\n",
    "\n",
    "<h2> 2.1.1 Get the conservation area</h2>\n",
    "\n",
    "Mostly for plotting."
   ]
  },
  {
   "cell_type": "markdown",
   "metadata": {},
   "source": [
    "<h3> Import ACMC </h3>"
   ]
  },
  {
   "cell_type": "code",
   "execution_count": 10,
   "metadata": {},
   "outputs": [],
   "source": [
    "ACMC = gpd.read_file('../Data/Geospatial_ACMC/ACMC.shp')"
   ]
  },
  {
   "cell_type": "markdown",
   "metadata": {},
   "source": [
    "Inspect the Coordinate Reference Systems (CRS)."
   ]
  },
  {
   "cell_type": "code",
   "execution_count": 11,
   "metadata": {},
   "outputs": [
    {
     "name": "stdout",
     "output_type": "stream",
     "text": [
      "None\n"
     ]
    }
   ],
   "source": [
    "print(ACMC.crs)"
   ]
  },
  {
   "cell_type": "code",
   "execution_count": 12,
   "metadata": {},
   "outputs": [],
   "source": [
    "ACMC = ACMC.set_crs(epsg=4326, allow_override=True)"
   ]
  },
  {
   "cell_type": "code",
   "execution_count": 13,
   "metadata": {},
   "outputs": [
    {
     "name": "stdout",
     "output_type": "stream",
     "text": [
      "epsg:4326\n"
     ]
    }
   ],
   "source": [
    "print(ACMC.crs)"
   ]
  },
  {
   "cell_type": "markdown",
   "metadata": {},
   "source": [
    "### Import Ecological Habitats data"
   ]
  },
  {
   "cell_type": "code",
   "execution_count": 14,
   "metadata": {},
   "outputs": [
    {
     "name": "stdout",
     "output_type": "stream",
     "text": [
      "['../Data/EcosystemTypology/M1_3_Photic_coral_reefs_ACMC.shp'\n",
      " '../Data/EcosystemTypology/M1_5_Marine_animal_forests_ACMC.shp'\n",
      " '../Data/EcosystemTypology/M1_6_Subtidal_rock_reefs_ACMC.shp'\n",
      " '../Data/EcosystemTypology/M1_7_Subtidal_sand_beds_ACMC.shp'\n",
      " '../Data/EcosystemTypology/M1_8_Subtidal_mud_plains_ACMC.shp'\n",
      " '../Data/EcosystemTypology/M2_1_Epipelagic_waters_ACMC.shp'\n",
      " '../Data/EcosystemTypology/M2_2_Mesopelagic_ocean_waters_ACMC.shp'\n",
      " '../Data/EcosystemTypology/M2_3_Bathypelagic_ocean_waters_ACMC.shp'\n",
      " '../Data/EcosystemTypology/M2_4_Abyssopelagic_ocean_waters_ACMC.shp'\n",
      " '../Data/EcosystemTypology/M3_1_Continental_slopes_ACMC.shp'\n",
      " '../Data/EcosystemTypology/M3_3_Abyssal_plains_ACMC.shp'\n",
      " '../Data/EcosystemTypology/M3_4_Seamounts_ACMC.shp'\n",
      " '../Data/EcosystemTypology/M3_5_Deepwater_biogenic_beds_ACMC.shp']\n"
     ]
    }
   ],
   "source": [
    "source_dir = '../Data/EcosystemTypology/'\n",
    "fnames = np.sort(glob.glob(source_dir + \"/*.shp\"))\n",
    "print(fnames)"
   ]
  },
  {
   "cell_type": "markdown",
   "metadata": {
    "jp-MarkdownHeadingCollapsed": true,
    "tags": []
   },
   "source": [
    "### Import Physical Habitats data"
   ]
  },
  {
   "cell_type": "code",
   "execution_count": null,
   "metadata": {},
   "outputs": [],
   "source": [
    "fname = \"../../Bathymetry/Cocos.nc\"\n",
    "fh = Dataset(fname, 'r')"
   ]
  },
  {
   "cell_type": "markdown",
   "metadata": {},
   "source": [
    "Import the specific variables."
   ]
  },
  {
   "cell_type": "code",
   "execution_count": 20,
   "metadata": {},
   "outputs": [
    {
     "ename": "NameError",
     "evalue": "name 'fh' is not defined",
     "output_type": "error",
     "traceback": [
      "\u001b[0;31m---------------------------------------------------------------------------\u001b[0m",
      "\u001b[0;31mNameError\u001b[0m                                 Traceback (most recent call last)",
      "Cell \u001b[0;32mIn [20], line 1\u001b[0m\n\u001b[0;32m----> 1\u001b[0m Z \u001b[38;5;241m=\u001b[39m \u001b[43mfh\u001b[49m\u001b[38;5;241m.\u001b[39mvariables[\u001b[38;5;124m\"\u001b[39m\u001b[38;5;124melevation\u001b[39m\u001b[38;5;124m\"\u001b[39m][:]\u001b[38;5;241m.\u001b[39mdata\n\u001b[1;32m      2\u001b[0m lon \u001b[38;5;241m=\u001b[39m fh\u001b[38;5;241m.\u001b[39mvariables[\u001b[38;5;124m\"\u001b[39m\u001b[38;5;124mlon\u001b[39m\u001b[38;5;124m\"\u001b[39m][:]\u001b[38;5;241m.\u001b[39mdata\n\u001b[1;32m      3\u001b[0m lat \u001b[38;5;241m=\u001b[39m fh\u001b[38;5;241m.\u001b[39mvariables[\u001b[38;5;124m\"\u001b[39m\u001b[38;5;124mlat\u001b[39m\u001b[38;5;124m\"\u001b[39m][:]\u001b[38;5;241m.\u001b[39mdata\n",
      "\u001b[0;31mNameError\u001b[0m: name 'fh' is not defined"
     ]
    }
   ],
   "source": [
    "Z = fh.variables[\"elevation\"][:].data\n",
    "lon = fh.variables[\"lon\"][:].data\n",
    "lat = fh.variables[\"lat\"][:].data"
   ]
  },
  {
   "cell_type": "markdown",
   "metadata": {},
   "source": [
    "<h1> 2.2. Preliminary calculations </h1> "
   ]
  },
  {
   "cell_type": "markdown",
   "metadata": {
    "jp-MarkdownHeadingCollapsed": true,
    "tags": []
   },
   "source": [
    "### 2.2.1 Physical habitat types\n",
    "\n",
    "Depth-defined marine ecological habitats\n",
    "- epipelagic: 0-200m\n",
    "- mesopelagic: 200-1000m\n",
    "- bathypelagic: 1000-4000m\n",
    "- abyssipelagic: 4000-6000m"
   ]
  },
  {
   "cell_type": "code",
   "execution_count": null,
   "metadata": {},
   "outputs": [],
   "source": [
    "area_of_conservation = ACMC.geometry.item()"
   ]
  },
  {
   "cell_type": "code",
   "execution_count": null,
   "metadata": {},
   "outputs": [],
   "source": [
    "area_of_conservation"
   ]
  },
  {
   "cell_type": "markdown",
   "metadata": {},
   "source": [
    "Grid longitude and latitude for pcolor plot."
   ]
  },
  {
   "cell_type": "code",
   "execution_count": null,
   "metadata": {},
   "outputs": [],
   "source": [
    "Lon, Lat = np.meshgrid(lon, lat)"
   ]
  },
  {
   "cell_type": "markdown",
   "metadata": {},
   "source": [
    "The idea here is eliminate all the value > 0, i.e, we want to have only values for the ocean"
   ]
  },
  {
   "cell_type": "code",
   "execution_count": null,
   "metadata": {},
   "outputs": [],
   "source": [
    "ocean = np.multiply(Z,np.multiply(Z<=0, Z>np.min(Z)))\n",
    "bathymetry = np.where(ocean==0, np.nan, ocean)"
   ]
  },
  {
   "cell_type": "markdown",
   "metadata": {},
   "source": [
    "Let's go to make a function that calculates the different physical habitats\n",
    "\n",
    "where z_0 is the shallowest depth"
   ]
  },
  {
   "cell_type": "code",
   "execution_count": null,
   "metadata": {},
   "outputs": [],
   "source": [
    "def physicalHabitat(z_0,z_1,z):\n",
    "    Filter = np.multiply(z,np.multiply(z<=z_0, z>z_1))\n",
    "    habitat = np.where(Filter==0, np.nan, Filter)\n",
    "    return habitat"
   ]
  },
  {
   "cell_type": "code",
   "execution_count": null,
   "metadata": {},
   "outputs": [],
   "source": [
    "epipelagic = physicalHabitat(0,-200,bathymetry)\n",
    "mesopelagic = physicalHabitat(-200,-1000,bathymetry)\n",
    "bathypelagic = physicalHabitat(-1000,-4000,bathymetry)\n",
    "abyssopelagic = physicalHabitat(-4000,-6000,bathymetry)"
   ]
  },
  {
   "cell_type": "markdown",
   "metadata": {},
   "source": [
    "**Plots**"
   ]
  },
  {
   "cell_type": "code",
   "execution_count": null,
   "metadata": {},
   "outputs": [],
   "source": [
    "fig, ax = plt.subplots(figsize=(10,10))\n",
    "\n",
    "pcol = ax.pcolor(Lon, Lat, epipelagic, cmap = cmocean.cm.deep_r);\n",
    "cbar = fig.colorbar(pcol, ax=ax, shrink=0.5)\n",
    "\n",
    "ACMC.plot(ax=ax, alpha = 1, edgecolor='purple', facecolor=\"none\")\n",
    "\n",
    "ax.set_xlabel(\"Longitude\")\n",
    "ax.set_ylabel(\"Latitude\")\n",
    "ax.set_aspect('equal')\n",
    "ax.set_title('Marine Ecological Habitat: Epipelagic', fontweight='bold', fontsize=14, loc='left')\n",
    "ax.set_title('ACMC', fontsize=12, loc='right')"
   ]
  },
  {
   "cell_type": "code",
   "execution_count": null,
   "metadata": {},
   "outputs": [],
   "source": [
    "fig, ax = plt.subplots(figsize=(10,10))\n",
    "\n",
    "pcol = ax.pcolor(Lon, Lat, mesopelagic, cmap = cmocean.cm.deep_r);\n",
    "cbar = fig.colorbar(pcol, ax=ax, shrink=0.5)\n",
    "\n",
    "ACMC.plot(ax=ax, alpha = 1, edgecolor='purple', facecolor=\"none\")\n",
    "\n",
    "ax.set_xlabel(\"Longitude\")\n",
    "ax.set_ylabel(\"Latitude\")\n",
    "ax.set_aspect('equal')\n",
    "ax.set_title('Marine Ecological Habitat: Mesopelagic', fontweight='bold', fontsize=14, loc='left')\n",
    "ax.set_title('ACMC', fontsize=12, loc='right')"
   ]
  },
  {
   "cell_type": "code",
   "execution_count": null,
   "metadata": {},
   "outputs": [],
   "source": [
    "fig, ax = plt.subplots(figsize=(10,10))\n",
    "\n",
    "pcol = ax.pcolor(Lon, Lat, bathypelagic, cmap = cmocean.cm.deep_r);\n",
    "cbar = fig.colorbar(pcol, ax=ax, shrink=0.5)\n",
    "\n",
    "ACMC.plot(ax=ax, alpha = 1, edgecolor='purple', facecolor=\"none\")\n",
    "\n",
    "ax.set_xlabel(\"Longitude\")\n",
    "ax.set_ylabel(\"Latitude\")\n",
    "ax.set_aspect('equal')\n",
    "ax.set_title('Marine Ecological Habitat: Bathypelagic', fontweight='bold', fontsize=14, loc='left')\n",
    "ax.set_title('ACMC', fontsize=12, loc='right')"
   ]
  },
  {
   "cell_type": "code",
   "execution_count": null,
   "metadata": {},
   "outputs": [],
   "source": [
    "fig, ax = plt.subplots(figsize=(10,10))\n",
    "\n",
    "pcol = ax.pcolor(Lon, Lat, abyssopelagic, cmap = cmocean.cm.deep_r);\n",
    "cbar = fig.colorbar(pcol, ax=ax, shrink=0.5)\n",
    "\n",
    "ACMC.plot(ax=ax, alpha = 1, edgecolor='purple', facecolor=\"none\")\n",
    "\n",
    "ax.set_xlabel(\"Longitude\")\n",
    "ax.set_ylabel(\"Latitude\")\n",
    "ax.set_aspect('equal')\n",
    "ax.set_title('Marine Ecological Habitat: Abyssopelagic', fontweight='bold', fontsize=14, loc='left')\n",
    "ax.set_title('ACMC', fontsize=12, loc='right')"
   ]
  },
  {
   "cell_type": "markdown",
   "metadata": {},
   "source": [
    "So, with the lasts plots we can see the physical habitats in ACMC, where the open ocean predomin."
   ]
  },
  {
   "cell_type": "markdown",
   "metadata": {},
   "source": [
    "### 2.2.2 Ecological Habitats: Ecosystem Typology from IUCN"
   ]
  },
  {
   "cell_type": "code",
   "execution_count": null,
   "metadata": {},
   "outputs": [],
   "source": []
  },
  {
   "cell_type": "code",
   "execution_count": 15,
   "metadata": {},
   "outputs": [],
   "source": [
    "EcoTypo = []\n",
    "Geometry = []\n",
    "\n",
    "for x in range(len(fnames)):\n",
    "    gdf = gpd.read_file(fnames[x])\n",
    "    geo = gdf.geometry\n",
    "    name = str(fnames[x][26:-4])\n",
    "    \n",
    "    EcoTypo.append(name)\n",
    "    Geometry.append(geo)"
   ]
  },
  {
   "cell_type": "code",
   "execution_count": 16,
   "metadata": {},
   "outputs": [],
   "source": [
    "joined = gpd.GeoDataFrame(pd.concat(Geometry, ignore_index=True))"
   ]
  },
  {
   "cell_type": "code",
   "execution_count": 21,
   "metadata": {},
   "outputs": [
    {
     "data": {
      "text/plain": [
       "[0, 1, 2, 3, 4, 5, 6, 7, 8, 9, 10, 11]"
      ]
     },
     "execution_count": 21,
     "metadata": {},
     "output_type": "execute_result"
    }
   ],
   "source": []
  },
  {
   "cell_type": "code",
   "execution_count": 24,
   "metadata": {},
   "outputs": [],
   "source": [
    "joined['Name'] = EcoTypo\n",
    "joined['ID'] = list(range(0,13))"
   ]
  },
  {
   "cell_type": "code",
   "execution_count": 25,
   "metadata": {},
   "outputs": [
    {
     "data": {
      "text/html": [
       "<div>\n",
       "<style scoped>\n",
       "    .dataframe tbody tr th:only-of-type {\n",
       "        vertical-align: middle;\n",
       "    }\n",
       "\n",
       "    .dataframe tbody tr th {\n",
       "        vertical-align: top;\n",
       "    }\n",
       "\n",
       "    .dataframe thead th {\n",
       "        text-align: right;\n",
       "    }\n",
       "</style>\n",
       "<table border=\"1\" class=\"dataframe\">\n",
       "  <thead>\n",
       "    <tr style=\"text-align: right;\">\n",
       "      <th></th>\n",
       "      <th>geometry</th>\n",
       "      <th>Name</th>\n",
       "      <th>ID</th>\n",
       "    </tr>\n",
       "  </thead>\n",
       "  <tbody>\n",
       "    <tr>\n",
       "      <th>0</th>\n",
       "      <td>POLYGON ((-87.25000 5.60000, -87.25000 5.63333...</td>\n",
       "      <td>M1_3_Photic_coral_reefs_ACMC</td>\n",
       "      <td>0</td>\n",
       "    </tr>\n",
       "    <tr>\n",
       "      <th>1</th>\n",
       "      <td>POLYGON ((-86.97022 5.52314, -86.97623 5.51723...</td>\n",
       "      <td>M1_5_Marine_animal_forests_ACMC</td>\n",
       "      <td>1</td>\n",
       "    </tr>\n",
       "    <tr>\n",
       "      <th>2</th>\n",
       "      <td>POLYGON ((-86.97022 5.52314, -86.97623 5.51723...</td>\n",
       "      <td>M1_6_Subtidal_rock_reefs_ACMC</td>\n",
       "      <td>2</td>\n",
       "    </tr>\n",
       "    <tr>\n",
       "      <th>3</th>\n",
       "      <td>POLYGON ((-86.97022 5.52314, -86.97623 5.51723...</td>\n",
       "      <td>M1_7_Subtidal_sand_beds_ACMC</td>\n",
       "      <td>3</td>\n",
       "    </tr>\n",
       "    <tr>\n",
       "      <th>4</th>\n",
       "      <td>POLYGON ((-86.97022 5.52314, -86.97623 5.51723...</td>\n",
       "      <td>M1_8_Subtidal_mud_plains_ACMC</td>\n",
       "      <td>4</td>\n",
       "    </tr>\n",
       "    <tr>\n",
       "      <th>5</th>\n",
       "      <td>POLYGON ((-86.03401 2.31691, -86.04534 2.31310...</td>\n",
       "      <td>M2_1_Epipelagic_waters_ACMC</td>\n",
       "      <td>5</td>\n",
       "    </tr>\n",
       "    <tr>\n",
       "      <th>6</th>\n",
       "      <td>POLYGON ((-86.03401 2.31691, -86.04534 2.31310...</td>\n",
       "      <td>M2_2_Mesopelagic_ocean_waters_ACMC</td>\n",
       "      <td>6</td>\n",
       "    </tr>\n",
       "    <tr>\n",
       "      <th>7</th>\n",
       "      <td>MULTIPOLYGON (((-86.90000 5.68333, -86.90000 5...</td>\n",
       "      <td>M2_3_Bathypelagic_ocean_waters_ACMC</td>\n",
       "      <td>7</td>\n",
       "    </tr>\n",
       "    <tr>\n",
       "      <th>8</th>\n",
       "      <td>MULTIPOLYGON (((-87.03333 6.51667, -87.10000 6...</td>\n",
       "      <td>M2_4_Abyssopelagic_ocean_waters_ACMC</td>\n",
       "      <td>8</td>\n",
       "    </tr>\n",
       "    <tr>\n",
       "      <th>9</th>\n",
       "      <td>POLYGON ((-86.91932 5.45154, -86.93833 5.39093...</td>\n",
       "      <td>M3_1_Continental_slopes_ACMC</td>\n",
       "      <td>9</td>\n",
       "    </tr>\n",
       "    <tr>\n",
       "      <th>10</th>\n",
       "      <td>MULTIPOLYGON (((-86.38408 6.55348, -86.44567 6...</td>\n",
       "      <td>M3_3_Abyssal_plains_ACMC</td>\n",
       "      <td>10</td>\n",
       "    </tr>\n",
       "    <tr>\n",
       "      <th>11</th>\n",
       "      <td>MULTIPOLYGON (((-89.23760 5.51326, -89.23549 5...</td>\n",
       "      <td>M3_4_Seamounts_ACMC</td>\n",
       "      <td>11</td>\n",
       "    </tr>\n",
       "    <tr>\n",
       "      <th>12</th>\n",
       "      <td>POLYGON ((-89.31258 5.95425, -89.25463 5.96556...</td>\n",
       "      <td>M3_5_Deepwater_biogenic_beds_ACMC</td>\n",
       "      <td>12</td>\n",
       "    </tr>\n",
       "  </tbody>\n",
       "</table>\n",
       "</div>"
      ],
      "text/plain": [
       "                                             geometry  \\\n",
       "0   POLYGON ((-87.25000 5.60000, -87.25000 5.63333...   \n",
       "1   POLYGON ((-86.97022 5.52314, -86.97623 5.51723...   \n",
       "2   POLYGON ((-86.97022 5.52314, -86.97623 5.51723...   \n",
       "3   POLYGON ((-86.97022 5.52314, -86.97623 5.51723...   \n",
       "4   POLYGON ((-86.97022 5.52314, -86.97623 5.51723...   \n",
       "5   POLYGON ((-86.03401 2.31691, -86.04534 2.31310...   \n",
       "6   POLYGON ((-86.03401 2.31691, -86.04534 2.31310...   \n",
       "7   MULTIPOLYGON (((-86.90000 5.68333, -86.90000 5...   \n",
       "8   MULTIPOLYGON (((-87.03333 6.51667, -87.10000 6...   \n",
       "9   POLYGON ((-86.91932 5.45154, -86.93833 5.39093...   \n",
       "10  MULTIPOLYGON (((-86.38408 6.55348, -86.44567 6...   \n",
       "11  MULTIPOLYGON (((-89.23760 5.51326, -89.23549 5...   \n",
       "12  POLYGON ((-89.31258 5.95425, -89.25463 5.96556...   \n",
       "\n",
       "                                    Name  ID  \n",
       "0           M1_3_Photic_coral_reefs_ACMC   0  \n",
       "1        M1_5_Marine_animal_forests_ACMC   1  \n",
       "2          M1_6_Subtidal_rock_reefs_ACMC   2  \n",
       "3           M1_7_Subtidal_sand_beds_ACMC   3  \n",
       "4          M1_8_Subtidal_mud_plains_ACMC   4  \n",
       "5            M2_1_Epipelagic_waters_ACMC   5  \n",
       "6     M2_2_Mesopelagic_ocean_waters_ACMC   6  \n",
       "7    M2_3_Bathypelagic_ocean_waters_ACMC   7  \n",
       "8   M2_4_Abyssopelagic_ocean_waters_ACMC   8  \n",
       "9           M3_1_Continental_slopes_ACMC   9  \n",
       "10              M3_3_Abyssal_plains_ACMC  10  \n",
       "11                   M3_4_Seamounts_ACMC  11  \n",
       "12     M3_5_Deepwater_biogenic_beds_ACMC  12  "
      ]
     },
     "execution_count": 25,
     "metadata": {},
     "output_type": "execute_result"
    }
   ],
   "source": [
    "joined"
   ]
  },
  {
   "cell_type": "code",
   "execution_count": 26,
   "metadata": {},
   "outputs": [
    {
     "data": {
      "image/png": "[encoded data removed]",
      "text/plain": [
       "<Figure size 800x800 with 1 Axes>"
      ]
     },
     "metadata": {},
     "output_type": "display_data"
    }
   ],
   "source": [
    "fig, ax = plt.subplots(figsize = (8,8))\n",
    "\n",
    "ax.set_aspect('equal')\n",
    "\n",
    "x, y = ACMC.geometry.item().exterior.xy\n",
    "plt.plot(x,y, c = 'purple', label = 'ACMC')\n",
    "\n",
    "#joined.plot(ax=ax, alpha = 0.15, column = 'Name',cmap = 'tab20', edgecolor = 'grey', linewidth = 0.01, legend = True)\n",
    "joined.plot(ax=ax, alpha = 0.15,cmap = 'tab20', edgecolor = 'grey', linewidth = 0.01)\n",
    "\n",
    "plt.legend()\n",
    "plt.show();"
   ]
  },
  {
   "cell_type": "code",
   "execution_count": 28,
   "metadata": {},
   "outputs": [],
   "source": [
    "def count_overlapping_features(in_gdf):\n",
    "    \n",
    "    # Get the name of the column containing the geometries\n",
    "    geom_col = in_gdf.geometry.name\n",
    "    \n",
    "    # Setting up a single piece that will be split later\n",
    "    input_parts = [in_gdf.unary_union.buffer(0)]\n",
    "    \n",
    "    # Finding all the \"cutting\" boundaries. Note: if the input GDF has \n",
    "    # MultiPolygons, it will treat each of the geometry's parts as individual\n",
    "    # pieces.\n",
    "    cutting_boundaries = []\n",
    "    for i, row in in_gdf.iterrows():\n",
    "        this_row_geom = row[geom_col]\n",
    "        this_row_boundary = this_row_geom.boundary\n",
    "        if this_row_boundary.type[:len('multi')].lower() == 'multi':\n",
    "            cutting_boundaries = cutting_boundaries + list(this_row_boundary.geoms)\n",
    "        else:\n",
    "            cutting_boundaries.append(this_row_boundary)\n",
    "    \n",
    "    \n",
    "    # Split the big input geometry using each and every cutting boundary\n",
    "    for boundary in cutting_boundaries:\n",
    "        splitting_results = []\n",
    "        for j,part in enumerate(input_parts):\n",
    "            new_parts = list(shapely.ops.split(part, boundary).geoms)\n",
    "            splitting_results = splitting_results + new_parts\n",
    "        input_parts = splitting_results\n",
    "    \n",
    "    # After generating all of the split pieces, create a new GeoDataFrame\n",
    "    new_gdf = gpd.GeoDataFrame({'id':range(len(splitting_results)),\n",
    "                                geom_col:splitting_results,\n",
    "                                },\n",
    "                               crs=in_gdf.crs,\n",
    "                               geometry=geom_col)\n",
    "    \n",
    "    # Find the new centroids.\n",
    "    new_gdf['geom_centroid'] = new_gdf.centroid\n",
    "    \n",
    "    # Starting the count at zero\n",
    "    new_gdf['count_intersections'] = 0\n",
    "    \n",
    "    # For each of the `new_gdf`'s rows, find how many overlapping features \n",
    "    # there are from the input GDF.\n",
    "    for i,row in new_gdf.iterrows():\n",
    "        new_gdf.loc[i,'count_intersections'] = in_gdf.intersects(row['geom_centroid']).astype(int).sum()\n",
    "        pass\n",
    "    \n",
    "    # Dropping the column containing the centroids\n",
    "    new_gdf = new_gdf.drop(columns=['geom_centroid'])[['id','count_intersections',geom_col]]\n",
    "    \n",
    "    return new_gdf"
   ]
  },
  {
   "cell_type": "code",
   "execution_count": 35,
   "metadata": {},
   "outputs": [
    {
     "name": "stderr",
     "output_type": "stream",
     "text": [
      "/tmp/ipykernel_371/687748030.py:38: UserWarning: Geometry is in a geographic CRS. Results from 'centroid' are likely incorrect. Use 'GeoSeries.to_crs()' to re-project geometries to a projected CRS before this operation.\n",
      "\n",
      "  new_gdf['geom_centroid'] = new_gdf.centroid\n"
     ]
    },
    {
     "data": {
      "text/plain": [
       "<AxesSubplot:>"
      ]
     },
     "execution_count": 35,
     "metadata": {},
     "output_type": "execute_result"
    },
    {
     "data": {
      "image/png": "[encoded data removed]",
      "text/plain": [
       "<Figure size 640x480 with 2 Axes>"
      ]
     },
     "metadata": {},
     "output_type": "display_data"
    }
   ],
   "source": [
    "# Applying the function to the input data\n",
    "out_df = count_overlapping_features(joined)\n",
    "out_df.plot(alpha=0.5, column='count_intersections', legend = True)"
   ]
  },
  {
   "cell_type": "code",
   "execution_count": 32,
   "metadata": {},
   "outputs": [
    {
     "data": {
      "text/html": [
       "<div>\n",
       "<style scoped>\n",
       "    .dataframe tbody tr th:only-of-type {\n",
       "        vertical-align: middle;\n",
       "    }\n",
       "\n",
       "    .dataframe tbody tr th {\n",
       "        vertical-align: top;\n",
       "    }\n",
       "\n",
       "    .dataframe thead th {\n",
       "        text-align: right;\n",
       "    }\n",
       "</style>\n",
       "<table border=\"1\" class=\"dataframe\">\n",
       "  <thead>\n",
       "    <tr style=\"text-align: right;\">\n",
       "      <th></th>\n",
       "      <th>id</th>\n",
       "      <th>count_intersections</th>\n",
       "      <th>geometry</th>\n",
       "    </tr>\n",
       "  </thead>\n",
       "  <tbody>\n",
       "    <tr>\n",
       "      <th>0</th>\n",
       "      <td>0</td>\n",
       "      <td>4</td>\n",
       "      <td>POLYGON ((-89.09926 3.25354, -89.09926 3.25354...</td>\n",
       "    </tr>\n",
       "    <tr>\n",
       "      <th>1</th>\n",
       "      <td>1</td>\n",
       "      <td>5</td>\n",
       "      <td>POLYGON ((-89.15366 3.28424, -89.15366 3.28424...</td>\n",
       "    </tr>\n",
       "    <tr>\n",
       "      <th>2</th>\n",
       "      <td>2</td>\n",
       "      <td>5</td>\n",
       "      <td>POLYGON ((-89.24382 3.34456, -89.26566 3.35694...</td>\n",
       "    </tr>\n",
       "    <tr>\n",
       "      <th>3</th>\n",
       "      <td>3</td>\n",
       "      <td>5</td>\n",
       "      <td>POLYGON ((-89.26714 3.35848, -89.28253 3.37450...</td>\n",
       "    </tr>\n",
       "    <tr>\n",
       "      <th>4</th>\n",
       "      <td>4</td>\n",
       "      <td>4</td>\n",
       "      <td>POLYGON ((-89.29575 3.43006, -89.29575 3.43006...</td>\n",
       "    </tr>\n",
       "    <tr>\n",
       "      <th>...</th>\n",
       "      <td>...</td>\n",
       "      <td>...</td>\n",
       "      <td>...</td>\n",
       "    </tr>\n",
       "    <tr>\n",
       "      <th>519</th>\n",
       "      <td>519</td>\n",
       "      <td>2</td>\n",
       "      <td>POLYGON ((-87.06667 5.55142, -87.06667 5.55000...</td>\n",
       "    </tr>\n",
       "    <tr>\n",
       "      <th>520</th>\n",
       "      <td>520</td>\n",
       "      <td>4</td>\n",
       "      <td>POLYGON ((-87.04001 5.51667, -87.03333 5.52271...</td>\n",
       "    </tr>\n",
       "    <tr>\n",
       "      <th>521</th>\n",
       "      <td>521</td>\n",
       "      <td>4</td>\n",
       "      <td>POLYGON ((-87.03333 5.55400, -87.03675 5.55689...</td>\n",
       "    </tr>\n",
       "    <tr>\n",
       "      <th>522</th>\n",
       "      <td>522</td>\n",
       "      <td>4</td>\n",
       "      <td>POLYGON ((-87.06931 5.55000, -87.08189 5.54325...</td>\n",
       "    </tr>\n",
       "    <tr>\n",
       "      <th>523</th>\n",
       "      <td>523</td>\n",
       "      <td>1</td>\n",
       "      <td>POLYGON ((-87.08619 5.55000, -87.08696 5.54908...</td>\n",
       "    </tr>\n",
       "  </tbody>\n",
       "</table>\n",
       "<p>524 rows × 3 columns</p>\n",
       "</div>"
      ],
      "text/plain": [
       "      id  count_intersections  \\\n",
       "0      0                    4   \n",
       "1      1                    5   \n",
       "2      2                    5   \n",
       "3      3                    5   \n",
       "4      4                    4   \n",
       "..   ...                  ...   \n",
       "519  519                    2   \n",
       "520  520                    4   \n",
       "521  521                    4   \n",
       "522  522                    4   \n",
       "523  523                    1   \n",
       "\n",
       "                                              geometry  \n",
       "0    POLYGON ((-89.09926 3.25354, -89.09926 3.25354...  \n",
       "1    POLYGON ((-89.15366 3.28424, -89.15366 3.28424...  \n",
       "2    POLYGON ((-89.24382 3.34456, -89.26566 3.35694...  \n",
       "3    POLYGON ((-89.26714 3.35848, -89.28253 3.37450...  \n",
       "4    POLYGON ((-89.29575 3.43006, -89.29575 3.43006...  \n",
       "..                                                 ...  \n",
       "519  POLYGON ((-87.06667 5.55142, -87.06667 5.55000...  \n",
       "520  POLYGON ((-87.04001 5.51667, -87.03333 5.52271...  \n",
       "521  POLYGON ((-87.03333 5.55400, -87.03675 5.55689...  \n",
       "522  POLYGON ((-87.06931 5.55000, -87.08189 5.54325...  \n",
       "523  POLYGON ((-87.08619 5.55000, -87.08696 5.54908...  \n",
       "\n",
       "[524 rows x 3 columns]"
      ]
     },
     "execution_count": 32,
     "metadata": {},
     "output_type": "execute_result"
    }
   ],
   "source": [
    "out_df"
   ]
  },
  {
   "cell_type": "markdown",
   "metadata": {},
   "source": [
    "TO BE COMPLETED!!!"
   ]
  }
 ],
 "metadata": {
  "kernelspec": {
   "display_name": "Python 3 (ipykernel)",
   "language": "python",
   "name": "python3"
  },
  "language_info": {
   "codemirror_mode": {
    "name": "ipython",
    "version": 3
   },
   "file_extension": ".py",
   "mimetype": "text/x-python",
   "name": "python",
   "nbconvert_exporter": "python",
   "pygments_lexer": "ipython3",
   "version": "3.10.6"
  },
  "toc-autonumbering": false
 },
 "nbformat": 4,
 "nbformat_minor": 4
}
