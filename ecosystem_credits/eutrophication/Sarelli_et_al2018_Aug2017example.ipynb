{
 "cells": [
  {
   "cell_type": "markdown",
   "id": "31497e57",
   "metadata": {},
   "source": [
    "<h1> Recreating the ICEP from Sarelli et al (2018) </h1>\n",
    "\n",
    "<h2> Introduction </h2>\n",
    "\n",
    "<h3> Overview </h3> \n",
    "\n",
    "This notebook aims to reproduce the results in [Sarelli et al (2018)](http://doi.org/10.1117/12.2326160): creating an Index of Coastal Eutrophication (ICEP) using the Copernicus Marine Environment Monitoring Service (CMEMS). The authors developped an automated methodology to estimate ICEP from the environmental variables:\n",
    "- nitrate concentrations\n",
    "- phosphate concentrations\n",
    "- silica concentrations\n",
    "- chlorophyll concentrations\n",
    "- the euphotic zone depth\n",
    "\n",
    "<h3> Motivations </h3> \n",
    "\n",
    "One of the United Nations (UN) Sustainable Development Goal (SDG) is focuses on the oceans: \"SDG 14 - Conserve and sustainably use the oceans, seas and marine resources for sustainable development\". The very first of its 10 targets is \"Indicator 14.1.1: Index of coastal eutrophication and floating plastic debris density\". The ICEP is however not precisely defined and Sarelli et al (2018), among others, have proposed methodologies to estimate ICEP from Earth Observation (EO) systems like Copernicus' Marine Service.\n",
    "\n",
    "The Index for Coastal Eutrophication Potential (ICEP) is an indicator for the potential of riverine nutrient export to sustain new production of non-diatoms phytoplankton biomass, including Harmful Algal Blooms. It uses nitrogen (N), phosphorus (P) and silica (Si) values of riverine loadings.\n",
    "\n",
    "\n",
    "Another reference is “3.10 Coastal Eutrophication Potential” in Hofste et al, 2019 (World Resources Institute).\n",
    "\n",
    "Note that the Copernicus data is only available at a resolution of 1/12$^\\circ$: it is too coarse to quantity most conservation efforts (unless they are at the oceanic mesoscale, which is rare). It is however a great approach to obtain a baseline ICEP for a region.\n",
    "\n",
    "<h3> Workflow </h3>\n",
    "\n",
    "**01 Retrieving the CMEMS data**\n",
    "\n",
    "First we retrieved the CMEMS data: this was manually downloaded via [CMEMS My Ocean Viewer](http://myocean.marine.copernicus.eu/data?view=viewer&crs=epsg%3A4326&t=1648036800000&z=0&center=-3.77839%2C42.61418&zoom=11.42&layers=W3siaWQiOiJjMCIsImxheWVySWQiOiJJQklfQU5BTFlTSVNGT1JFQ0FTVF9CR0NfMDA1XzAwNC9jbWVtc19tb2RfaWJpX2JnY19hbmZjXzAuMDI3ZGVnLTNEX1AxRC1tL2NobCIsInpJbmRleCI6MTAwLCJsb2dTY2FsZSI6dHJ1ZSwiaXNIaWRkZW4iOnRydWV9LHsiaWQiOiJjMSIsImxheWVySWQiOiJJQklfQU5BTFlTSVNGT1JFQ0FTVF9CR0NfMDA1XzAwNC9jbWVtc19tb2RfaWJpX2JnY19hbmZjXzAuMDI3ZGVnLTNEX1AxRC1tL25vMyIsInpJbmRleCI6MTEwLCJsb2dTY2FsZSI6dHJ1ZSwiaXNIaWRkZW4iOnRydWV9LHsiaWQiOiJjMiIsImxheWVySWQiOiJJQklfQU5BTFlTSVNGT1JFQ0FTVF9CR0NfMDA1XzAwNC9jbWVtc19tb2RfaWJpX2JnY19hbmZjXzAuMDI3ZGVnLTNEX1AxRC1tL3BvNCIsInpJbmRleCI6MTIwLCJsb2dTY2FsZSI6dHJ1ZSwiaXNIaWRkZW4iOnRydWUsImNvbG9ybWFwIjoiYW1wIn0seyJpZCI6ImMzIiwibGF5ZXJJZCI6IklCSV9BTkFMWVNJU0ZPUkVDQVNUX0JHQ18wMDVfMDA0L2NtZW1zX21vZF9pYmlfYmdjX2FuZmNfMC4wMjdkZWctM0RfUDFELW0vc2kiLCJ6SW5kZXgiOjEzMCwibG9nU2NhbGUiOnRydWUsImlzSGlkZGVuIjp0cnVlfSx7ImlkIjoiYzQiLCJsYXllcklkIjoiSUJJX0FOQUxZU0lTRk9SRUNBU1RfQkdDXzAwNV8wMDQvY21lbXNfbW9kX2liaV9iZ2NfYW5mY18wLjAyN2RlZy0zRF9QMUQtbS96ZXUiLCJ6SW5kZXgiOjE0MCwibG9nU2NhbGUiOmZhbHNlLCJpc0hpZGRlbiI6dHJ1ZSwiY29sb3JtYXAiOiJ0ZW1wbyJ9LHsiaWQiOiJjNSIsImxheWVySWQiOiJJQklfQU5BTFlTSVNGT1JFQ0FTVF9CR0NfMDA1XzAwNC9jbWVtc19tb2RfaWJpX2JnY19hbmZjXzAuMDI3ZGVnLTNEX1AxRC1tL28yIiwiekluZGV4IjoxNTAsImxvZ1NjYWxlIjpmYWxzZSwiY29sb3JtYXAiOiJ0ZW1wbyIsImlzSGlkZGVuIjp0cnVlfV0%3D&objects=W3siaWQiOiJjMCIsImNycyI6ImVwc2c6NDMyNiIsImNvbXBsZXRlIjp0cnVlLCJncmFwaElkcyI6W10sInR5cGUiOiJhb2kiLCJjb29yZHMiOltbLTcuMDA1NjY1NTUxNTI0ODAwNSw1NS45ODQzMzM3NzcwNDY2NV0sWy03LjAwNTY2NTU1MTUyNDgwMDUsNDkuNTI5Nzc1NDMxOTUwNTldLFszLjU5ODI1MTcyOTcwNDQ0MjUsNDkuNTI5Nzc1NDMxOTUwNTldLFszLjU5ODI1MTcyOTcwNDQ0MjUsNTUuOTg0MzMzNzc3MDQ2NjVdXSwiaXNCYm94Ijp0cnVlfV0%3D&initial=1) using the “Atlantic-Iberian Biscay Irish- Ocean Biogeochemical Analysis and Forecast” product. \n",
    "This is the product page:  [NON ASSIMILATIVE Hindcast - IBI_MULTIYEAR_BGC_005_003](https://resources.marine.copernicus.eu/product-detail/IBI_MULTIYEAR_BGC_005_003/INFORMATION).\n",
    "- To do: fix the code to retrieve the data automatically using the Copernicus API through the Motu client.\n",
    "\n",
    "**02 Calculating the indices**\n",
    "\n",
    "Then we calculate the indices for nutrients, chlorophyll and euphotic depth, and sum them, following Sarelli et al (2018). This is done using `eutrophication_utils.py`.\n",
    "\n",
    "\n",
    "__\n",
    "\n",
    "<h3> References</h3>\n",
    "\n",
    "Anastasia Sarelli, Dimitris Sykas, Milto Miltiadou, Dimitris Bliziotis, Yiota Spastra, Maria Ieronymaki. \"A novel automated methodology that estimates the United Nations (UN) Sustainable Development Goal (SDG) 14.1.1.: index of coastal eutrophication using the Copernicus Marine Environment Monitoring Service (CMEMS)\". *Proc. SPIE 10773, Sixth International Conference on Remote Sensing and Geoinformation of the Environment (RSCy2018)*, 1077302 (6 August 2018); [doi:10.1117/12.2326160](http://doi.org/10.1117/12.2326160)\n",
    "\n",
    "Hofste, R., S. Kuzma, S. Walker, E.H. Sutanudjaja, et. al. 2019. “Aqueduct 3.0: Updated DecisionRelevant Global Water Risk Indicators.” Technical Note. Washington, DC: World Resources Institute. Available online at: https://www.wri.org/publication/aqueduct-30."
   ]
  },
  {
   "cell_type": "code",
   "execution_count": null,
   "id": "ba06a463",
   "metadata": {},
   "outputs": [],
   "source": [
    "# computations packages\n",
    "import numpy as np\n",
    "import xarray as xr"
   ]
  },
  {
   "cell_type": "code",
   "execution_count": null,
   "id": "3f43419a",
   "metadata": {},
   "outputs": [],
   "source": [
    "# utilities packages\n",
    "import datetime\n",
    "from netCDF4 import Dataset\n",
    "import os\n",
    "import pandas as pd"
   ]
  },
  {
   "cell_type": "code",
   "execution_count": null,
   "id": "91d35499",
   "metadata": {},
   "outputs": [],
   "source": [
    "# plotting packages\n",
    "import matplotlib.pyplot as plt\n",
    "from matplotlib.lines import Line2D\n",
    "import cmocean\n",
    "import seaborn as sns\n",
    "import cartopy.crs as ccrs\n",
    "import cartopy.feature as cfeature"
   ]
  },
  {
   "cell_type": "markdown",
   "id": "0d1c7596",
   "metadata": {},
   "source": [
    "<h3> ICEP calculations definitions</h3>"
   ]
  },
  {
   "cell_type": "code",
   "execution_count": null,
   "id": "5991e519",
   "metadata": {},
   "outputs": [],
   "source": [
    "from eutrophication_utils import *"
   ]
  },
  {
   "cell_type": "markdown",
   "id": "4c1e3688",
   "metadata": {},
   "source": [
    "<h2>I/O considerations </h2>"
   ]
  },
  {
   "cell_type": "code",
   "execution_count": null,
   "id": "042826b2",
   "metadata": {},
   "outputs": [],
   "source": [
    "year = 2017"
   ]
  },
  {
   "cell_type": "markdown",
   "id": "27e264fb",
   "metadata": {},
   "source": [
    "<h3> Source directory for CMEMS </h3>"
   ]
  },
  {
   "cell_type": "code",
   "execution_count": null,
   "id": "1bb9e39b",
   "metadata": {},
   "outputs": [],
   "source": [
    "source_dir = \"/Users/margaux/OpenEarth/out_dir/20170803-20170810/\""
   ]
  },
  {
   "cell_type": "markdown",
   "id": "6dc999b6",
   "metadata": {},
   "source": [
    "<h3> Out directory to save results </h3>"
   ]
  },
  {
   "cell_type": "code",
   "execution_count": null,
   "id": "d7e2fbbf",
   "metadata": {},
   "outputs": [],
   "source": [
    "out_dir = \"Sarelli_et_al2018_Aug\" + str(year) + \"_example_out\"\n",
    "if not os.path.exists(out_dir):\n",
    "    os.mkdir(out_dir)"
   ]
  },
  {
   "cell_type": "code",
   "execution_count": null,
   "id": "08868db9",
   "metadata": {},
   "outputs": [],
   "source": [
    "save_plot = False # saves plots to out_dir\n",
    "show_all = True # show all the plots, at all steps"
   ]
  },
  {
   "cell_type": "markdown",
   "id": "ba15ffca",
   "metadata": {},
   "source": [
    "<h1> Workflow </h1>"
   ]
  },
  {
   "cell_type": "markdown",
   "id": "ef107b27",
   "metadata": {},
   "source": [
    "<h2> 01 Retrieving the CMEMS data </h2>"
   ]
  },
  {
   "cell_type": "markdown",
   "id": "20b0068f",
   "metadata": {},
   "source": [
    "Import local data from `source_dir`."
   ]
  },
  {
   "cell_type": "code",
   "execution_count": null,
   "id": "472cf95d",
   "metadata": {},
   "outputs": [],
   "source": [
    "fnames = os.listdir(source_dir)"
   ]
  },
  {
   "cell_type": "markdown",
   "id": "2a87774c",
   "metadata": {},
   "source": [
    "We want to import all the variables from all the files automatically. We know that `latitude`, `longitude`, `depth` and `time` will be recurrent independent variables. We want to import the data as \"the variables that are NOT these independent variables\"."
   ]
  },
  {
   "cell_type": "code",
   "execution_count": null,
   "id": "35dcf872",
   "metadata": {},
   "outputs": [],
   "source": [
    "indep_var = [\"depth\", \"latitude\", \"time\", \"longitude\"]"
   ]
  },
  {
   "cell_type": "markdown",
   "id": "e8b4169b",
   "metadata": {},
   "source": [
    "We loop through the files, then loop through the netCDF4 variables, find the variable of interest and make a dictionary out of it. Note: in a netCDF4 file with Python, we can get all the variables names with `fh.variables.keys()`. Same for `dimensions`."
   ]
  },
  {
   "cell_type": "code",
   "execution_count": null,
   "id": "50da85e6",
   "metadata": {},
   "outputs": [],
   "source": [
    "for fname in fnames:\n",
    "    \n",
    "    # load the netCDF4 file\n",
    "    fh = Dataset(os.path.join(source_dir,fname), 'r')\n",
    "    \n",
    "    # now we loop through individual variables\n",
    "    for variable in fh.variables.keys():\n",
    "        \n",
    "        # if this is the variable (eg chlorophyll, nitrate)\n",
    "        if variable not in indep_var:\n",
    "            # transform the dict_keys intro attributes with a 'variable\" dictionary\n",
    "            exec(variable+' = xr.open_dataset(os.path.join(source_dir,fname))')\n",
    "            print(\"The variable \" + variable + \" was imported.\")"
   ]
  },
  {
   "cell_type": "code",
   "execution_count": null,
   "id": "5613fc84",
   "metadata": {},
   "outputs": [],
   "source": [
    "print(\"The resolution is: \")\n",
    "print(\"* \" + \"{:.4f}\".format((chl.latitude[1]-chl.latitude[0]).data) + \" degrees of latitude;\")\n",
    "print(\"* \" + \"{:.4f}\".format(((chl.latitude[1]-chl.latitude[0]).data)*111) + \" km;\")\n",
    "print(\"* \" + \"{:.4f}\".format(((chl.latitude[1]-chl.latitude[0]).data)*111*0.6213712) + \" mi.\")"
   ]
  },
  {
   "cell_type": "code",
   "execution_count": null,
   "id": "033420ea",
   "metadata": {},
   "outputs": [],
   "source": [
    "# This is helpful in e.g. case po4.latitude.shape != chl.latitude.shape\n",
    "# dims = fh.dimensions\n",
    "# # now we get individual dimensions\n",
    "# for dim in dims.keys():\n",
    "#     temp_dim = fh.dimensions[dim].name\n",
    "#     temp_num = fh.dimensions[dim].size\n",
    "#     exec('N'+temp_dim + '= ' + str(temp_num))\n",
    "#     print(dim)"
   ]
  },
  {
   "cell_type": "markdown",
   "id": "79563b8b",
   "metadata": {},
   "source": [
    "<h2> 02 Water Area Classification Workflow </h2>\n",
    "\n",
    "\"The first step of the methodology contains the normalization of all the products to the parameters used in the\n",
    "algorithm. Concentration of chlorophyll-a and nutrients (silica, phosphate and nitrates) are provided directly from\n",
    "the CMEMS product. For the calculation of Secchi Depth (SD) as a measure of water transparency, a formula that\n",
    "combines euphotic zone depth with the SD of a water region is used according to the equations\""
   ]
  },
  {
   "cell_type": "markdown",
   "id": "1b2d045c",
   "metadata": {},
   "source": [
    "For the euphotic zone depth ($Z_{eu}$) and the Secchi Depth ($Z_{SD}$) in meters as a measure of water transparency:"
   ]
  },
  {
   "cell_type": "code",
   "execution_count": null,
   "id": "64d8ea85",
   "metadata": {},
   "outputs": [],
   "source": [
    "linear_fn = True"
   ]
  },
  {
   "cell_type": "markdown",
   "id": "a5570685",
   "metadata": {},
   "source": [
    "<h3> 2.1 Get index for nitrate, phosphorus, silicate concentrations </h3>\n",
    "\n",
    "The concentrations of nitrogen N ($C_N$), of silica Si ($C_{Si}$) and of phosphorus ($C_P$) are in mmol/m$^3$."
   ]
  },
  {
   "cell_type": "code",
   "execution_count": null,
   "id": "02b9a28c",
   "metadata": {},
   "outputs": [],
   "source": [
    "print(po4.po4.long_name + \": \" + po4.po4.units)\n",
    "print(no3.no3.long_name + \": \" + no3.no3.units)\n",
    "print(si.si.long_name + \": \" + si.si.units)"
   ]
  },
  {
   "cell_type": "markdown",
   "id": "320467d1",
   "metadata": {},
   "source": [
    "We now verify that the coordinates are the same. We can inspect visually with `plt.plot` or just use boolean."
   ]
  },
  {
   "cell_type": "code",
   "execution_count": null,
   "id": "ddeb1ee2",
   "metadata": {},
   "outputs": [],
   "source": [
    "if (po4.longitude == no3.longitude).any() & (po4.longitude == si.longitude).any(): \n",
    "    print(\"The longitude coordinates are compatible!\")\n",
    "else:\n",
    "    print(\"Issues with longitude compatibility. Check out https://docs.xarray.dev/en/stable/generated/xarray.combine_by_coords.html to auto-magically combine the datasets!\")\n",
    "\n",
    "if (po4.latitude == no3.latitude).any() & (po4.latitude == si.latitude).any():\n",
    "    print(\"The latitude coordinates are compatible!\")\n",
    "else:\n",
    "    print(\"Issues with latitude compatibility. Check out https://docs.xarray.dev/en/stable/generated/xarray.combine_by_coords.html to auto-magically combine the datasets!\")\n",
    "    \n",
    "if (po4.depth == no3.depth).any() & (po4.depth == si.depth).any():\n",
    "    print(\"The depth coordinates are compatible!\")\n",
    "else:\n",
    "    print(\"Issues with depth coordinate compatibility. Check out https://docs.xarray.dev/en/stable/generated/xarray.combine_by_coords.html to auto-magically combine the datasets!\")"
   ]
  },
  {
   "cell_type": "code",
   "execution_count": null,
   "id": "796ff598",
   "metadata": {
    "scrolled": true
   },
   "outputs": [],
   "source": [
    "ind_N = get_indN(no3.no3.isel(depth = 0, time=0), \n",
    "                 si.si.isel(depth = 0, time=0),\n",
    "                po4.po4.isel(depth = 0, time=0))"
   ]
  },
  {
   "cell_type": "markdown",
   "id": "8565223c",
   "metadata": {},
   "source": [
    "<h3> 2.2 Get index for chlorophyll</h3>"
   ]
  },
  {
   "cell_type": "markdown",
   "id": "dcc9e5ec",
   "metadata": {},
   "source": [
    "Mass concentration of chlorophyll ($chl$) in mg/m$^3$."
   ]
  },
  {
   "cell_type": "code",
   "execution_count": null,
   "id": "7d97187a",
   "metadata": {},
   "outputs": [],
   "source": [
    "print(chl.chl.long_name + \": \" + chl.chl.units)"
   ]
  },
  {
   "cell_type": "code",
   "execution_count": null,
   "id": "fd660560",
   "metadata": {},
   "outputs": [],
   "source": [
    "ind_chl = get_ind_chl(chl.chl.isel(depth = 0, time=0))"
   ]
  },
  {
   "cell_type": "markdown",
   "id": "f11decb9",
   "metadata": {},
   "source": [
    "<h3> 2.3 Get index for Secchi Depth </h3>"
   ]
  },
  {
   "cell_type": "markdown",
   "id": "feb01c42",
   "metadata": {},
   "source": [
    "First we get the Secchi Depth from the Euphotic Zone Depth."
   ]
  },
  {
   "cell_type": "code",
   "execution_count": null,
   "id": "b945b4f0",
   "metadata": {},
   "outputs": [],
   "source": [
    "Z_SD = get_Z_SD(zeu);"
   ]
  },
  {
   "cell_type": "markdown",
   "id": "a9ddcd85",
   "metadata": {},
   "source": [
    "It is likely that this is the main source of discrepancy between our results and the plots from Sarelli et al (2018)."
   ]
  },
  {
   "cell_type": "code",
   "execution_count": null,
   "id": "d98f29c6",
   "metadata": {},
   "outputs": [],
   "source": [
    "ind_Z_SD = get_ind_ZSD(Z_SD.zeu.isel(time=0))"
   ]
  },
  {
   "cell_type": "markdown",
   "id": "f6639a54",
   "metadata": {},
   "source": [
    "<h2> Get eutrophication index </h2>"
   ]
  },
  {
   "cell_type": "code",
   "execution_count": null,
   "id": "eab92025",
   "metadata": {},
   "outputs": [],
   "source": [
    "index_eutroph = get_index(ind_N, ind_chl, ind_Z_SD)"
   ]
  },
  {
   "cell_type": "markdown",
   "id": "73fa1f80",
   "metadata": {},
   "source": [
    "Save output to `out_dir`."
   ]
  },
  {
   "cell_type": "code",
   "execution_count": null,
   "id": "503e2000",
   "metadata": {},
   "outputs": [],
   "source": [
    "index_eutroph.to_netcdf(out_dir + \"/\" + \"index_eutroph_\" + str(year) + \".nc\")"
   ]
  },
  {
   "cell_type": "markdown",
   "id": "676b899c",
   "metadata": {},
   "source": [
    "<h1> Plots </h1>"
   ]
  },
  {
   "cell_type": "markdown",
   "id": "d537c90b",
   "metadata": {},
   "source": [
    "Create longitude, latitude, datetime arrays etc. for ease of plotting."
   ]
  },
  {
   "cell_type": "code",
   "execution_count": null,
   "id": "029215eb",
   "metadata": {},
   "outputs": [],
   "source": [
    "Lon, Lat = np.meshgrid(zeu.longitude, zeu.latitude)"
   ]
  },
  {
   "cell_type": "code",
   "execution_count": null,
   "id": "76c1b29c",
   "metadata": {},
   "outputs": [],
   "source": [
    "ts = pd.to_datetime(str(zeu.time[0].time.data)) "
   ]
  },
  {
   "cell_type": "code",
   "execution_count": null,
   "id": "36292dd8",
   "metadata": {},
   "outputs": [],
   "source": [
    "d = ts.strftime('%Y-%m-%d')"
   ]
  },
  {
   "cell_type": "markdown",
   "id": "ceca8657",
   "metadata": {},
   "source": [
    "<h2> Plots of input variables</h2>\n",
    "\n",
    "Discover the beauty of `xarray`."
   ]
  },
  {
   "cell_type": "code",
   "execution_count": null,
   "id": "e1ae0e03",
   "metadata": {},
   "outputs": [],
   "source": [
    "if show_all:\n",
    "    po4.po4.isel(depth = 0).plot(cmap = cmocean.cm.amp, col=\"time\", col_wrap=4);"
   ]
  },
  {
   "cell_type": "code",
   "execution_count": null,
   "id": "c73199b3",
   "metadata": {},
   "outputs": [],
   "source": [
    "if show_all:\n",
    "    no3.no3.isel(depth = 0).plot(cmap = cmocean.cm.matter, col=\"time\", col_wrap=4, vmax = 50);"
   ]
  },
  {
   "cell_type": "code",
   "execution_count": null,
   "id": "0076b436",
   "metadata": {
    "scrolled": false
   },
   "outputs": [],
   "source": [
    "if show_all:\n",
    "    si.si.isel(depth = 0).plot(cmap = cmocean.cm.turbid, col=\"time\", col_wrap=4);"
   ]
  },
  {
   "cell_type": "code",
   "execution_count": null,
   "id": "77067c65",
   "metadata": {},
   "outputs": [],
   "source": [
    "if show_all:\n",
    "    chl.chl.isel(depth = 0).plot(cmap = cmocean.cm.algae, col=\"time\", col_wrap=4);"
   ]
  },
  {
   "cell_type": "code",
   "execution_count": null,
   "id": "6e70cec1",
   "metadata": {},
   "outputs": [],
   "source": [
    "if show_all:\n",
    "    zeu.zeu.plot(cmap = sns.cubehelix_palette(start=.5, rot=-.75, as_cmap=True), col=\"time\", col_wrap=4);"
   ]
  },
  {
   "cell_type": "code",
   "execution_count": null,
   "id": "2a2c7ab9",
   "metadata": {},
   "outputs": [],
   "source": [
    "if show_all:\n",
    "    Z_SD.zeu.plot(cmap = sns.cubehelix_palette(start=.5, rot=-.75, as_cmap=True), col=\"time\", col_wrap=4);"
   ]
  },
  {
   "cell_type": "markdown",
   "id": "491ca9c6",
   "metadata": {},
   "source": [
    "<h2> Plots of the different indices </h2>"
   ]
  },
  {
   "cell_type": "code",
   "execution_count": null,
   "id": "a4534100",
   "metadata": {},
   "outputs": [],
   "source": [
    "plt.pcolor(ind_N, cmap = sns.cubehelix_palette(as_cmap=True))\n",
    "plt.gca().set_aspect('equal', adjustable='box')\n",
    "plt.colorbar()\n",
    "plt.tight_layout()\n",
    "plt.title(\"2.1 Index for nutrients\", fontsize = 20);"
   ]
  },
  {
   "cell_type": "code",
   "execution_count": null,
   "id": "0908112b",
   "metadata": {
    "scrolled": true
   },
   "outputs": [],
   "source": [
    "plt.pcolor(ind_chl, cmap = sns.cubehelix_palette(start=2, rot=0, dark=0, as_cmap=True))\n",
    "plt.gca().set_aspect('equal', adjustable='box')\n",
    "plt.colorbar()\n",
    "plt.tight_layout()\n",
    "plt.title(\"2.2 Index for chlorophyll\", fontsize = 20);"
   ]
  },
  {
   "cell_type": "code",
   "execution_count": null,
   "id": "1b9b0cad",
   "metadata": {},
   "outputs": [],
   "source": [
    "plt.pcolor(ind_chl, cmap = sns.cubehelix_palette(start=.5, rot=-.5, as_cmap=True))\n",
    "plt.gca().set_aspect('equal', adjustable='box')\n",
    "plt.colorbar()\n",
    "plt.tight_layout()\n",
    "plt.title(\"2.3 Index for euphotic depth\", fontsize = 20);"
   ]
  },
  {
   "cell_type": "markdown",
   "id": "947616c7",
   "metadata": {},
   "source": [
    "<h2> ICEP plots </h2>"
   ]
  },
  {
   "cell_type": "code",
   "execution_count": null,
   "id": "ff7646f7",
   "metadata": {},
   "outputs": [],
   "source": [
    "pcm = plt.pcolor(index_eutroph, cmap = 'Spectral_r');\n",
    "plt.colorbar(pcm);\n",
    "plt.title(\"Out-of-the-box results for ICEP\");"
   ]
  },
  {
   "cell_type": "code",
   "execution_count": null,
   "id": "fc4a6789",
   "metadata": {},
   "outputs": [],
   "source": [
    "fig, axs = plt.subplots(2, 3, figsize=(20,10))\n",
    "\n",
    "# Ind N\n",
    "pcm = axs[0,0].pcolor(ind_N, cmap = sns.cubehelix_palette(as_cmap=True))\n",
    "axs[0,0].set_title(\"Index N\")\n",
    "axs[0,0].set_aspect('equal', adjustable='box')\n",
    "fig.colorbar(pcm, ax=axs[0,0], orientation=\"horizontal\")\n",
    "\n",
    "# Ind chlorophyll\n",
    "pcm = axs[0,1].pcolor(ind_chl, cmap = sns.cubehelix_palette(start=.5, rot=-.75, as_cmap=True))\n",
    "axs[0,1].set_title(\"Index Chlorophyll\")\n",
    "axs[0,1].set_aspect('equal', adjustable='box')\n",
    "fig.colorbar(pcm, ax=axs[0,1], orientation=\"horizontal\")\n",
    "\n",
    "# Ind depth\n",
    "pcm = axs[0,2].pcolor(ind_Z_SD, cmap = sns.cubehelix_palette(start=.5, rot=-.5, as_cmap=True))\n",
    "axs[0,2].set_title(\"Index Secchi depth\")\n",
    "axs[0,2].set_aspect('equal', adjustable='box')\n",
    "fig.colorbar(pcm, ax=axs[0,2], orientation=\"horizontal\")\n",
    "\n",
    "# make single eutrophication index plot\n",
    "axs[1,0].remove()\n",
    "axs[1,2].remove()\n",
    "pcm = axs[1,1].pcolor(index_eutroph, cmap = 'Spectral_r')\n",
    "axs[1,1].set_title(\"Eutrophication level\")\n",
    "axs[1,1].set_aspect('equal', adjustable='box')\n",
    "fig.colorbar(pcm, ax=axs[1,1], orientation=\"horizontal\")\n",
    "\n",
    "plt.suptitle(\"Water quality indices and ICEP\", fontsize = 20);\n",
    "\n",
    "fig.tight_layout()\n",
    "\n",
    "if save_plot:\n",
    "    plt.savefig(out_dir + \"/\" + \"Water quality indices and ICEP\")"
   ]
  },
  {
   "cell_type": "code",
   "execution_count": null,
   "id": "abac2e0b",
   "metadata": {
    "scrolled": false
   },
   "outputs": [],
   "source": [
    "# This plots the matrix with all indices, including ICEP==zero (e.g. offshore)\n",
    "# following the colormap from Sarelli et al (2018).\n",
    "# This does not highlight actionable data for eutrophication as ICEP is coastal\n",
    "# and offshore values will tend to zero. It however helps check the calculations.\n",
    "if show_all:\n",
    "    plt.figure(figsize=(10,7))\n",
    "\n",
    "    # Creates the map\n",
    "    mymap = plt.axes(projection=ccrs.PlateCarree())\n",
    "\n",
    "    mymap.add_feature(cfeature.LAND, alpha=0.5)\n",
    "    mymap.add_feature(cfeature.OCEAN, alpha=0.5)\n",
    "    mymap.add_feature(cfeature.BORDERS, linestyle='-', alpha=0.5)\n",
    "    mymap.add_feature(cfeature.RIVERS)\n",
    "\n",
    "    mymap.xaxis.set_visible(True)\n",
    "    mymap.yaxis.set_visible(True)\n",
    "\n",
    "    # Plots the data onto map\n",
    "    plt.scatter(Lon[index_eutroph<=2], Lat[index_eutroph<=2],\n",
    "                marker = 's', s= 10, \n",
    "                transform=ccrs.PlateCarree(),\n",
    "                c = 'limegreen')\n",
    "    plt.scatter(Lon[index_eutroph==3], Lat[index_eutroph==3],\n",
    "                marker = 's', s= 10, \n",
    "                transform=ccrs.PlateCarree(),\n",
    "                c = 'yellow')\n",
    "    plt.scatter(Lon[(index_eutroph>3)&(index_eutroph<=5)], Lat[(index_eutroph>3)&(index_eutroph<=5)], \n",
    "                marker = 's', s= 10, \n",
    "                transform=ccrs.PlateCarree(),\n",
    "                c = 'orange')\n",
    "    plt.scatter(Lon[index_eutroph>5], Lat[index_eutroph>5],\n",
    "                marker = 's', s= 10, \n",
    "                transform=ccrs.PlateCarree(),\n",
    "                c = 'red')\n",
    "\n",
    "    # Plot labels\n",
    "    plt.ylabel(\"Latitude\", fontsize=14)\n",
    "    plt.xlabel(\"Longitude\", fontsize=14)\n",
    "    plt.legend()"
   ]
  },
  {
   "cell_type": "code",
   "execution_count": null,
   "id": "e90c9ec8",
   "metadata": {
    "scrolled": false
   },
   "outputs": [],
   "source": [
    "plt.figure(figsize=(20,14))\n",
    "\n",
    "# Creates the map\n",
    "mymap = plt.axes(projection=ccrs.PlateCarree())\n",
    "\n",
    "mymap.add_feature(cfeature.LAND, alpha=0.5)\n",
    "mymap.add_feature(cfeature.OCEAN, alpha=0.5)\n",
    "mymap.add_feature(cfeature.BORDERS, linestyle='-', alpha=0.5)\n",
    "mymap.add_feature(cfeature.RIVERS)\n",
    "\n",
    "mymap.xaxis.set_visible(True)\n",
    "mymap.yaxis.set_visible(True)\n",
    "\n",
    "# Plots the data onto map\n",
    "pcm = plt.scatter(Lon[index_eutroph>0], Lat[index_eutroph>0], c = index_eutroph.data[index_eutroph>0], \n",
    "                 cmap = 'RdYlGn_r', transform=ccrs.PlateCarree())\n",
    "plt.title(\"Eutrophication level on \" + d, fontsize = 20);\n",
    "\n",
    "plt.legend(*pcm.legend_elements(), title = \"Index\");\n",
    "\n",
    "# Plot labels\n",
    "plt.ylabel(\"Latitude\", fontsize=14);\n",
    "plt.xlabel(\"Longitude\", fontsize=14);\n",
    "\n",
    "if save_plot:\n",
    "    plt.savefig(out_dir + \"/\" + \"ICEP_map_custom-legend\")"
   ]
  },
  {
   "cell_type": "code",
   "execution_count": null,
   "id": "573e80d5",
   "metadata": {
    "scrolled": false
   },
   "outputs": [],
   "source": [
    "plt.figure(figsize=(20,14))\n",
    "\n",
    "# Creates the map\n",
    "mymap = plt.axes(projection=ccrs.PlateCarree())\n",
    "\n",
    "mymap.add_feature(cfeature.LAND, alpha=0.5)\n",
    "mymap.add_feature(cfeature.OCEAN, alpha=0.5)\n",
    "mymap.add_feature(cfeature.BORDERS, linestyle='-', alpha=0.5)\n",
    "mymap.add_feature(cfeature.RIVERS)\n",
    "\n",
    "mymap.xaxis.set_visible(True)\n",
    "mymap.yaxis.set_visible(True)\n",
    "\n",
    "# Plots the data onto map\n",
    "plt.scatter(Lon[(index_eutroph>0)&(index_eutroph<=2)], Lat[(index_eutroph>0)&(index_eutroph<=2)],\n",
    "            marker = 's', s= 10, \n",
    "            transform=ccrs.PlateCarree(),\n",
    "            c = 'limegreen')\n",
    "plt.scatter(Lon[index_eutroph==3], Lat[index_eutroph==3],\n",
    "            marker = 's', s= 10, \n",
    "            transform=ccrs.PlateCarree(),\n",
    "            c = 'yellow')\n",
    "plt.scatter(Lon[(index_eutroph>3)&(index_eutroph<=5)], Lat[(index_eutroph>3)&(index_eutroph<=5)], \n",
    "            marker = 's', s= 10, \n",
    "            transform=ccrs.PlateCarree(),\n",
    "            c = 'orange')\n",
    "plt.scatter(Lon[index_eutroph>5], Lat[index_eutroph>5],\n",
    "            marker = 's', s= 10, \n",
    "            transform=ccrs.PlateCarree(),\n",
    "            c = 'red')\n",
    "\n",
    "#Custom legend\n",
    "custom_lines = [Line2D([0], [0], color='limegreen', lw=4),\n",
    "                Line2D([0], [0], color='yellow', lw=4),\n",
    "                Line2D([0], [0], color='orange', lw=4),\n",
    "                Line2D([0], [0], color='red', lw=4)]\n",
    "\n",
    "\n",
    "plt.legend(custom_lines, ['Index <= 2: non-problem areas', \n",
    "                          'Index = 3: tendency for eutrophication events',\n",
    "                          '4 <= Index <=5: possibility of eutrophication events',\n",
    "                          'Index = 6: problem areas'],\n",
    "          title = \"Legend\")\n",
    "\n",
    "# Plot labels\n",
    "plt.ylabel(\"Latitude\", fontsize=14);\n",
    "plt.xlabel(\"Longitude\", fontsize=14);\n",
    "\n",
    "if save_plot:\n",
    "    plt.savefig(out_dir + \"/\" + \"ICEP_map_SarelliEtAl2018-legend\")"
   ]
  },
  {
   "cell_type": "code",
   "execution_count": null,
   "id": "2128911f",
   "metadata": {},
   "outputs": [],
   "source": [
    "import session_info"
   ]
  },
  {
   "cell_type": "code",
   "execution_count": null,
   "id": "5a4ff0eb",
   "metadata": {},
   "outputs": [],
   "source": [
    "session_info.show()"
   ]
  },
  {
   "cell_type": "code",
   "execution_count": null,
   "id": "34532513",
   "metadata": {},
   "outputs": [],
   "source": []
  }
 ],
 "metadata": {
  "kernelspec": {
   "display_name": "Python 3 (ipykernel)",
   "language": "python",
   "name": "python3"
  },
  "language_info": {
   "codemirror_mode": {
    "name": "ipython",
    "version": 3
   },
   "file_extension": ".py",
   "mimetype": "text/x-python",
   "name": "python",
   "nbconvert_exporter": "python",
   "pygments_lexer": "ipython3",
   "version": "3.10.4"
  }
 },
 "nbformat": 4,
 "nbformat_minor": 5
}
