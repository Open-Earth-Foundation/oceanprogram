{
 "cells": [
  {
   "cell_type": "markdown",
   "metadata": {},
   "source": [
    "# Open Ocean\n",
    "# Open Earth Fundation\n",
    "---------------------------------------------------------------------------------------------------------------------\n",
    "Authors: Margaux Filippi & Maureen Fonseca\n",
    "\n",
    "---------------------------------------------------------------------------------------------------------------------"
   ]
  },
  {
   "cell_type": "markdown",
   "metadata": {},
   "source": [
    "<h1> Calculating and comparing marine biodiversity metrics for ACMC </h1>\n",
    "\n",
    "This series of notebooks aims to calculate different marine biodiversity indices, such as:\n",
    "- WEGE\n",
    "- STAR\n",
    "- other Marine Biodiversity Units\n",
    "\n",
    "for a few areas around Cocos Island, Costa Rica:\n",
    "- AMMB, or Área Marina de Manejo del Bicentenario (marine protected area that got extended for the bicentennial)\n",
    "- PNIC, or Parque National de Isla del Coco (Cocos Island national park)\n",
    "- ACMC, or Area de Conservación Marina Coco (AMMB + PNIC)\n",
    "\n",
    "We will later extend to the Eastern Tropical Pacific. The data source that we use is UICN."
   ]
  },
  {
   "cell_type": "markdown",
   "metadata": {},
   "source": [
    "<h1> Step 2: calculate different metrics </h1>\n",
    "\n",
    "This notebook shows the second step, the data analysis."
   ]
  },
  {
   "cell_type": "markdown",
   "metadata": {},
   "source": [
    "<h2> Data needed for this project </h2>\n",
    "\n",
    "The data was output by `ACMC_IUCN_step1_curatedata.ipynb` and can be found under [IUCN_RedList](https://drive.google.com/drive/folders/1nkw8VK9mPdthjyDOSsnljqCo_b7lMdP4?usp=sharing) under a temporary folder that accompagnies the GitHub repository: \n",
    "\n",
    "`Ocean Program > data > to download for gh > ACMC_IUCN_data`"
   ]
  },
  {
   "cell_type": "markdown",
   "metadata": {},
   "source": [
    "### Analyzing UICN data for marine species in the Eastern Tropical Pacific."
   ]
  },
  {
   "cell_type": "code",
   "execution_count": 1,
   "metadata": {},
   "outputs": [
    {
     "name": "stderr",
     "output_type": "stream",
     "text": [
      "/Users/maureenfonseca/opt/anaconda3/lib/python3.9/site-packages/geopandas/_compat.py:111: UserWarning: The Shapely GEOS version (3.8.0-CAPI-1.13.1 ) is incompatible with the GEOS version PyGEOS was compiled with (3.10.1-CAPI-1.16.0). Conversions between both will be slow.\n",
      "  warnings.warn(\n"
     ]
    }
   ],
   "source": [
    "import geopandas as gpd"
   ]
  },
  {
   "cell_type": "code",
   "execution_count": 2,
   "metadata": {},
   "outputs": [],
   "source": [
    "import numpy as np\n",
    "import pandas as pd"
   ]
  },
  {
   "cell_type": "code",
   "execution_count": 3,
   "metadata": {},
   "outputs": [],
   "source": [
    "import os\n",
    "import glob"
   ]
  },
  {
   "cell_type": "code",
   "execution_count": 4,
   "metadata": {},
   "outputs": [],
   "source": [
    "from shapely.geometry import Polygon, Point"
   ]
  },
  {
   "cell_type": "code",
   "execution_count": 5,
   "metadata": {},
   "outputs": [],
   "source": [
    "import fiona; #help(fiona.open)"
   ]
  },
  {
   "cell_type": "code",
   "execution_count": 6,
   "metadata": {},
   "outputs": [],
   "source": [
    "import matplotlib.pyplot as plt\n",
    "import seaborn as sns"
   ]
  },
  {
   "cell_type": "code",
   "execution_count": 7,
   "metadata": {},
   "outputs": [],
   "source": [
    "import timeit"
   ]
  },
  {
   "cell_type": "markdown",
   "metadata": {},
   "source": [
    "---------------------------------------------------------------------------------------------------------------------\n",
    "OEF functions\n",
    "\n",
    "---------------------------------------------------------------------------------------------------------------------"
   ]
  },
  {
   "cell_type": "code",
   "execution_count": 8,
   "metadata": {},
   "outputs": [],
   "source": [
    "from marinebiodiversity_utils import *"
   ]
  },
  {
   "cell_type": "markdown",
   "metadata": {},
   "source": [
    "<h1> 1. Load data </h1>\n",
    "\n",
    "<h2> 1.1 Get the conservation area</h2>\n",
    "\n",
    "Mostly for plotting."
   ]
  },
  {
   "cell_type": "markdown",
   "metadata": {},
   "source": [
    "<h3> Coordinates for Cocos Island </h3>\n",
    "\n",
    "Cocos Island is located at 05°31′41″N; 87°03′40″W"
   ]
  },
  {
   "cell_type": "code",
   "execution_count": 9,
   "metadata": {},
   "outputs": [],
   "source": [
    "Cocos_lat = 5+31/60+41/3600\n",
    "Cocos_lon = -(87+3/60+40/3600)\n",
    "Cocos = Point(Cocos_lon, Cocos_lat)"
   ]
  },
  {
   "cell_type": "markdown",
   "metadata": {},
   "source": [
    "<h3> Import entire AMMB and PNIC </h3>"
   ]
  },
  {
   "cell_type": "code",
   "execution_count": 10,
   "metadata": {},
   "outputs": [],
   "source": [
    "ACMC = gpd.read_file('../../ACMC/ACMC.shp')\n",
    "AMMB = gpd.read_file('../../ACMC/AMMB.shp')\n",
    "PNIC = gpd.read_file('../../ACMC/PNIC.shp')"
   ]
  },
  {
   "cell_type": "markdown",
   "metadata": {},
   "source": [
    "---------------------------------------------------------------------------------------------------------------------\n",
    "Inspect the Coordinate Reference Systems (CRS).\n",
    "\n",
    "---------------------------------------------------------------------------------------------------------------------"
   ]
  },
  {
   "cell_type": "code",
   "execution_count": 12,
   "metadata": {},
   "outputs": [
    {
     "data": {
      "text/plain": [
       "<Derived Projected CRS: EPSG:5367>\n",
       "Name: CR05 / CRTM05\n",
       "Axis Info [cartesian]:\n",
       "- N[north]: Northing (metre)\n",
       "- E[east]: Easting (metre)\n",
       "Area of Use:\n",
       "- name: Costa Rica - onshore and offshore east of 86°30'W.\n",
       "- bounds: (-86.5, 2.21, -81.43, 11.77)\n",
       "Coordinate Operation:\n",
       "- name: Costa Rica TM 2005\n",
       "- method: Transverse Mercator\n",
       "Datum: Costa Rica 2005\n",
       "- Ellipsoid: WGS 84\n",
       "- Prime Meridian: Greenwich"
      ]
     },
     "execution_count": 12,
     "metadata": {},
     "output_type": "execute_result"
    }
   ],
   "source": [
    "AMMB.crs"
   ]
  },
  {
   "cell_type": "code",
   "execution_count": 13,
   "metadata": {},
   "outputs": [
    {
     "data": {
      "text/plain": [
       "<Derived Projected CRS: EPSG:5367>\n",
       "Name: CR05 / CRTM05\n",
       "Axis Info [cartesian]:\n",
       "- N[north]: Northing (metre)\n",
       "- E[east]: Easting (metre)\n",
       "Area of Use:\n",
       "- name: Costa Rica - onshore and offshore east of 86°30'W.\n",
       "- bounds: (-86.5, 2.21, -81.43, 11.77)\n",
       "Coordinate Operation:\n",
       "- name: Costa Rica TM 2005\n",
       "- method: Transverse Mercator\n",
       "Datum: Costa Rica 2005\n",
       "- Ellipsoid: WGS 84\n",
       "- Prime Meridian: Greenwich"
      ]
     },
     "execution_count": 13,
     "metadata": {},
     "output_type": "execute_result"
    }
   ],
   "source": [
    "PNIC.crs"
   ]
  },
  {
   "cell_type": "code",
   "execution_count": 14,
   "metadata": {},
   "outputs": [],
   "source": [
    "AMMB_WGS84 = AMMB.to_crs(crs=4326)\n",
    "PNIC_WGS84 = PNIC.to_crs(crs=4326)\n",
    "ACMC = ACMC.set_crs(epsg=4326, allow_override=True)"
   ]
  },
  {
   "cell_type": "markdown",
   "metadata": {},
   "source": [
    "---------------------------------------------------------------------------------------------------------------------\n",
    "Get area information.\n",
    "\n",
    "---------------------------------------------------------------------------------------------------------------------"
   ]
  },
  {
   "cell_type": "code",
   "execution_count": 15,
   "metadata": {},
   "outputs": [
    {
     "name": "stdout",
     "output_type": "stream",
     "text": [
      "Area, PNIC:\n",
      "4.47 sqdeg.\n",
      "54,799.50 sqkm in CRS 31970.\n",
      "\n",
      "Area, AMMB:\n",
      "8.66 sqdeg.\n",
      "106,243.90 sqkm in CRS 31970.\n",
      "\n",
      "Total Area, ACMC:\n",
      "13.13 sqdeg.\n",
      "161,043.41 sqkm in CRS 31970.\n"
     ]
    },
    {
     "name": "stderr",
     "output_type": "stream",
     "text": [
      "/var/folders/v8/b0fnjf9d4q31sfz_8q4h4zxm0000gn/T/ipykernel_18229/2915868912.py:2: UserWarning: Geometry is in a geographic CRS. Results from 'area' are likely incorrect. Use 'GeoSeries.to_crs()' to re-project geometries to a projected CRS before this operation.\n",
      "\n",
      "  print(\"{:0.2f}\".format(PNIC_WGS84.area.item()) + \" sqdeg.\")\n",
      "/var/folders/v8/b0fnjf9d4q31sfz_8q4h4zxm0000gn/T/ipykernel_18229/2915868912.py:6: UserWarning: Geometry is in a geographic CRS. Results from 'area' are likely incorrect. Use 'GeoSeries.to_crs()' to re-project geometries to a projected CRS before this operation.\n",
      "\n",
      "  print(\"{:0.2f}\".format(AMMB_WGS84.area.item()) + \" sqdeg.\")\n",
      "/var/folders/v8/b0fnjf9d4q31sfz_8q4h4zxm0000gn/T/ipykernel_18229/2915868912.py:10: UserWarning: Geometry is in a geographic CRS. Results from 'area' are likely incorrect. Use 'GeoSeries.to_crs()' to re-project geometries to a projected CRS before this operation.\n",
      "\n",
      "  print(\"{:0.2f}\".format(AMMB_WGS84.area.item() + PNIC_WGS84.area.item()) + \" sqdeg.\")\n"
     ]
    }
   ],
   "source": [
    "print(\"Area, PNIC:\")\n",
    "print(\"{:0.2f}\".format(PNIC_WGS84.area.item()) + \" sqdeg.\")\n",
    "print(\"{:,.2f}\".format(PNIC_WGS84.to_crs(crs=31970).area.item()*10**(-6)) + \" sqkm in CRS 31970.\")\n",
    "\n",
    "print(\"\\nArea, AMMB:\")\n",
    "print(\"{:0.2f}\".format(AMMB_WGS84.area.item()) + \" sqdeg.\")\n",
    "print(\"{:,.2f}\".format(AMMB_WGS84.to_crs(crs=31970).area.item()*10**(-6)) + \" sqkm in CRS 31970.\")\n",
    "\n",
    "print(\"\\nTotal Area, ACMC:\")\n",
    "print(\"{:0.2f}\".format(AMMB_WGS84.area.item() + PNIC_WGS84.area.item()) + \" sqdeg.\")\n",
    "print(\"{:,.2f}\".format(AMMB_WGS84.to_crs(crs=31970).area.item()*10**(-6) + PNIC_WGS84.to_crs(crs=31970).area.item()*10**(-6)) + \" sqkm in CRS 31970.\")"
   ]
  },
  {
   "cell_type": "markdown",
   "metadata": {},
   "source": [
    "<h2> 1.2 Get the species data </h2>"
   ]
  },
  {
   "cell_type": "markdown",
   "metadata": {},
   "source": [
    "This is the outcome from `AMMB_IUCN_step1_curatedata.ipynb`."
   ]
  },
  {
   "cell_type": "code",
   "execution_count": 15,
   "metadata": {},
   "outputs": [],
   "source": [
    "df = gpd.read_file('../../ACMC_IUCN_data/gdf_ACMC_IUCN_range_status_filtered.shp') "
   ]
  },
  {
   "cell_type": "code",
   "execution_count": 16,
   "metadata": {},
   "outputs": [
    {
     "data": {
      "text/html": [
       "<div>\n",
       "<style scoped>\n",
       "    .dataframe tbody tr th:only-of-type {\n",
       "        vertical-align: middle;\n",
       "    }\n",
       "\n",
       "    .dataframe tbody tr th {\n",
       "        vertical-align: top;\n",
       "    }\n",
       "\n",
       "    .dataframe thead th {\n",
       "        text-align: right;\n",
       "    }\n",
       "</style>\n",
       "<table border=\"1\" class=\"dataframe\">\n",
       "  <thead>\n",
       "    <tr style=\"text-align: right;\">\n",
       "      <th></th>\n",
       "      <th>index</th>\n",
       "      <th>ASSESSMENT</th>\n",
       "      <th>ID_NO</th>\n",
       "      <th>BINOMIAL</th>\n",
       "      <th>PRESENCE</th>\n",
       "      <th>ORIGIN</th>\n",
       "      <th>SEASONAL</th>\n",
       "      <th>COMPILER</th>\n",
       "      <th>YEAR</th>\n",
       "      <th>CITATION</th>\n",
       "      <th>LEGEND</th>\n",
       "      <th>SUBSPECIES</th>\n",
       "      <th>SUBPOP</th>\n",
       "      <th>DIST_COMM</th>\n",
       "      <th>ISLAND</th>\n",
       "      <th>TAX_COMM</th>\n",
       "      <th>redlistCat</th>\n",
       "      <th>scientific</th>\n",
       "      <th>geometry</th>\n",
       "    </tr>\n",
       "  </thead>\n",
       "  <tbody>\n",
       "    <tr>\n",
       "      <th>0</th>\n",
       "      <td>3</td>\n",
       "      <td>1506081</td>\n",
       "      <td>177969.0</td>\n",
       "      <td>Acanthurus nigricans</td>\n",
       "      <td>1</td>\n",
       "      <td>1</td>\n",
       "      <td>1</td>\n",
       "      <td>Jonnell Sanciangco</td>\n",
       "      <td>2010</td>\n",
       "      <td>International Union for Conservation of Nature...</td>\n",
       "      <td>Extant (resident)</td>\n",
       "      <td>None</td>\n",
       "      <td>None</td>\n",
       "      <td>None</td>\n",
       "      <td>None</td>\n",
       "      <td>None</td>\n",
       "      <td>Least Concern</td>\n",
       "      <td>Acanthurus nigricans</td>\n",
       "      <td>MULTIPOLYGON (((109.79501 6.13966, 109.89836 6...</td>\n",
       "    </tr>\n",
       "    <tr>\n",
       "      <th>1</th>\n",
       "      <td>10</td>\n",
       "      <td>1512439</td>\n",
       "      <td>177988.0</td>\n",
       "      <td>Naso annulatus</td>\n",
       "      <td>1</td>\n",
       "      <td>1</td>\n",
       "      <td>1</td>\n",
       "      <td>Jonnell Sanciangco</td>\n",
       "      <td>2010</td>\n",
       "      <td>International Union for Conservation of Nature...</td>\n",
       "      <td>Extant (resident)</td>\n",
       "      <td>None</td>\n",
       "      <td>None</td>\n",
       "      <td>None</td>\n",
       "      <td>None</td>\n",
       "      <td>None</td>\n",
       "      <td>Least Concern</td>\n",
       "      <td>Naso annulatus</td>\n",
       "      <td>MULTIPOLYGON (((109.79501 6.13966, 109.89836 6...</td>\n",
       "    </tr>\n",
       "    <tr>\n",
       "      <th>2</th>\n",
       "      <td>13</td>\n",
       "      <td>1517273</td>\n",
       "      <td>178002.0</td>\n",
       "      <td>Naso hexacanthus</td>\n",
       "      <td>1</td>\n",
       "      <td>1</td>\n",
       "      <td>1</td>\n",
       "      <td>Jonnell Sanciangco</td>\n",
       "      <td>2010</td>\n",
       "      <td>International Union for Conservation of Nature...</td>\n",
       "      <td>Extant (resident)</td>\n",
       "      <td>None</td>\n",
       "      <td>None</td>\n",
       "      <td>None</td>\n",
       "      <td>None</td>\n",
       "      <td>None</td>\n",
       "      <td>Least Concern</td>\n",
       "      <td>Naso hexacanthus</td>\n",
       "      <td>MULTIPOLYGON (((99.07516 7.94581, 99.07794 7.9...</td>\n",
       "    </tr>\n",
       "    <tr>\n",
       "      <th>3</th>\n",
       "      <td>97</td>\n",
       "      <td>2412930</td>\n",
       "      <td>195754.0</td>\n",
       "      <td>Gymnothorax meleagris</td>\n",
       "      <td>1</td>\n",
       "      <td>1</td>\n",
       "      <td>1</td>\n",
       "      <td>IUCN Marine Biodiversity Unit/GMSA</td>\n",
       "      <td>2018</td>\n",
       "      <td>IUCN Marine Biodiversity Unit/GMSA</td>\n",
       "      <td>Extant (resident)</td>\n",
       "      <td>None</td>\n",
       "      <td>None</td>\n",
       "      <td>None</td>\n",
       "      <td>None</td>\n",
       "      <td>None</td>\n",
       "      <td>Least Concern</td>\n",
       "      <td>Gymnothorax meleagris</td>\n",
       "      <td>MULTIPOLYGON (((144.23853 -3.82053, 144.24330 ...</td>\n",
       "    </tr>\n",
       "    <tr>\n",
       "      <th>4</th>\n",
       "      <td>102</td>\n",
       "      <td>2423479</td>\n",
       "      <td>195824.0</td>\n",
       "      <td>Uropterygius macrocephalus</td>\n",
       "      <td>1</td>\n",
       "      <td>1</td>\n",
       "      <td>1</td>\n",
       "      <td>IUCN Marine Biodiversity Unit/GMSA</td>\n",
       "      <td>2018</td>\n",
       "      <td>IUCN Marine Biodiversity Unit/GMSA</td>\n",
       "      <td>Extant (resident)</td>\n",
       "      <td>None</td>\n",
       "      <td>None</td>\n",
       "      <td>None</td>\n",
       "      <td>None</td>\n",
       "      <td>None</td>\n",
       "      <td>Least Concern</td>\n",
       "      <td>Uropterygius macrocephalus</td>\n",
       "      <td>MULTIPOLYGON (((144.23853 -3.82053, 144.24330 ...</td>\n",
       "    </tr>\n",
       "  </tbody>\n",
       "</table>\n",
       "</div>"
      ],
      "text/plain": [
       "   index ASSESSMENT     ID_NO                    BINOMIAL PRESENCE ORIGIN  \\\n",
       "0      3    1506081  177969.0        Acanthurus nigricans        1      1   \n",
       "1     10    1512439  177988.0              Naso annulatus        1      1   \n",
       "2     13    1517273  178002.0            Naso hexacanthus        1      1   \n",
       "3     97    2412930  195754.0       Gymnothorax meleagris        1      1   \n",
       "4    102    2423479  195824.0  Uropterygius macrocephalus        1      1   \n",
       "\n",
       "  SEASONAL                            COMPILER  YEAR  \\\n",
       "0        1                  Jonnell Sanciangco  2010   \n",
       "1        1                  Jonnell Sanciangco  2010   \n",
       "2        1                  Jonnell Sanciangco  2010   \n",
       "3        1  IUCN Marine Biodiversity Unit/GMSA  2018   \n",
       "4        1  IUCN Marine Biodiversity Unit/GMSA  2018   \n",
       "\n",
       "                                            CITATION             LEGEND  \\\n",
       "0  International Union for Conservation of Nature...  Extant (resident)   \n",
       "1  International Union for Conservation of Nature...  Extant (resident)   \n",
       "2  International Union for Conservation of Nature...  Extant (resident)   \n",
       "3                 IUCN Marine Biodiversity Unit/GMSA  Extant (resident)   \n",
       "4                 IUCN Marine Biodiversity Unit/GMSA  Extant (resident)   \n",
       "\n",
       "  SUBSPECIES SUBPOP DIST_COMM ISLAND TAX_COMM     redlistCat  \\\n",
       "0       None   None      None   None     None  Least Concern   \n",
       "1       None   None      None   None     None  Least Concern   \n",
       "2       None   None      None   None     None  Least Concern   \n",
       "3       None   None      None   None     None  Least Concern   \n",
       "4       None   None      None   None     None  Least Concern   \n",
       "\n",
       "                   scientific  \\\n",
       "0        Acanthurus nigricans   \n",
       "1              Naso annulatus   \n",
       "2            Naso hexacanthus   \n",
       "3       Gymnothorax meleagris   \n",
       "4  Uropterygius macrocephalus   \n",
       "\n",
       "                                            geometry  \n",
       "0  MULTIPOLYGON (((109.79501 6.13966, 109.89836 6...  \n",
       "1  MULTIPOLYGON (((109.79501 6.13966, 109.89836 6...  \n",
       "2  MULTIPOLYGON (((99.07516 7.94581, 99.07794 7.9...  \n",
       "3  MULTIPOLYGON (((144.23853 -3.82053, 144.24330 ...  \n",
       "4  MULTIPOLYGON (((144.23853 -3.82053, 144.24330 ...  "
      ]
     },
     "execution_count": 16,
     "metadata": {},
     "output_type": "execute_result"
    }
   ],
   "source": [
    "df.head()"
   ]
  },
  {
   "cell_type": "markdown",
   "metadata": {},
   "source": [
    "With the first version data from Margaux, the data set had 164 unique species, now:"
   ]
  },
  {
   "cell_type": "code",
   "execution_count": 17,
   "metadata": {
    "scrolled": true
   },
   "outputs": [
    {
     "name": "stdout",
     "output_type": "stream",
     "text": [
      "There are 640 unique species in this dataset.\n"
     ]
    }
   ],
   "source": [
    "print(\"There are \" + str(len(df)) + \" unique species in this dataset.\")"
   ]
  },
  {
   "cell_type": "code",
   "execution_count": 18,
   "metadata": {},
   "outputs": [
    {
     "name": "stdout",
     "output_type": "stream",
     "text": [
      "The columns are:\n",
      "Index(['index', 'ASSESSMENT', 'ID_NO', 'BINOMIAL', 'PRESENCE', 'ORIGIN',\n",
      "       'SEASONAL', 'COMPILER', 'YEAR', 'CITATION', 'LEGEND', 'SUBSPECIES',\n",
      "       'SUBPOP', 'DIST_COMM', 'ISLAND', 'TAX_COMM', 'redlistCat', 'scientific',\n",
      "       'geometry'],\n",
      "      dtype='object')\n"
     ]
    }
   ],
   "source": [
    "print(\"The columns are:\")\n",
    "print(df.columns)"
   ]
  },
  {
   "cell_type": "markdown",
   "metadata": {},
   "source": [
    "Super annoying ESRI note: the column headers are cropped to 10 characters.\n",
    "\n",
    "`redlistCat` = `redlistCategory`\n",
    "\n",
    "`scientific` = `scientificName`"
   ]
  },
  {
   "cell_type": "code",
   "execution_count": 19,
   "metadata": {},
   "outputs": [
    {
     "name": "stdout",
     "output_type": "stream",
     "text": [
      "There are the following conservation statuses:\n",
      "['Least Concern' 'Vulnerable' 'Data Deficient' 'Near Threatened'\n",
      " 'Endangered' 'Critically Endangered']\n"
     ]
    }
   ],
   "source": [
    "print(\"There are the following conservation statuses:\")\n",
    "print(df.redlistCat.unique())"
   ]
  },
  {
   "cell_type": "code",
   "execution_count": 20,
   "metadata": {},
   "outputs": [
    {
     "name": "stdout",
     "output_type": "stream",
     "text": [
      "There are 531 species with the status Least Concern\n",
      "There are 46 species with the status Vulnerable\n",
      "There are 34 species with the status Data Deficient\n",
      "There are 10 species with the status Near Threatened\n",
      "There are 16 species with the status Endangered\n",
      "There are 3 species with the status Critically Endangered\n"
     ]
    }
   ],
   "source": [
    "for status in df.redlistCat.unique():\n",
    "    print(\"There are \" + str(len(df[df.redlistCat==status])) + \\\n",
    "          \" species with the status \" + status)"
   ]
  },
  {
   "cell_type": "code",
   "execution_count": 21,
   "metadata": {},
   "outputs": [
    {
     "name": "stdout",
     "output_type": "stream",
     "text": [
      "The species with the status Critically Endangered are :\n",
      "566    Carcharhinus longimanus\n",
      "573     Eretmochelys imbricata\n",
      "631            Pristis pristis\n",
      "Name: BINOMIAL, dtype: object\n"
     ]
    }
   ],
   "source": [
    "print(\"The species with the status Critically Endangered are :\")\n",
    "print(df[df.redlistCat=='Critically Endangered'].BINOMIAL)"
   ]
  },
  {
   "cell_type": "markdown",
   "metadata": {},
   "source": [
    "- *Carcharhinus longimanus* is Oceanic whitetip shark\n",
    "- *Eretmochelys imbricata* is Hawksbill sea turtle\n",
    "- *Pristis pristis* is Largetooth sawfish"
   ]
  },
  {
   "cell_type": "markdown",
   "metadata": {},
   "source": [
    "<h1> 2. Preliminary calculations </h1> "
   ]
  },
  {
   "cell_type": "code",
   "execution_count": 25,
   "metadata": {},
   "outputs": [],
   "source": [
    "area_of_conservation = ACMC.geometry.item()"
   ]
  },
  {
   "cell_type": "code",
   "execution_count": 26,
   "metadata": {},
   "outputs": [
    {
     "data": {
      "image/svg+xml": [
       "<svg xmlns=\"http://www.w3.org/2000/svg\" xmlns:xlink=\"http://www.w3.org/1999/xlink\" width=\"100.0\" height=\"100.0\" viewBox=\"-89.4988210631326 1.9738187896575243 3.6436306308410735 4.77401035521158\" preserveAspectRatio=\"xMinYMin meet\"><g transform=\"matrix(1,0,0,-1,0,8.72164793452663)\"><path fill-rule=\"evenodd\" fill=\"#66cc99\" stroke=\"#555555\" stroke-width=\"0.0954802071042316\" opacity=\"0.6\" d=\"M -86.0320056306327,6.571011315565231 L -86.03400907686711,2.316907726361919 L -86.04533803274306,2.3130971124457163 L -86.1077050528298,2.2934731614890964 L -86.17044107091725,2.2750802112949695 L -86.23352208844275,2.257924260808183 L -86.2969231054031,2.2420133109858176 L -86.36062112111928,2.227353361061635 L -86.42459113501114,2.213948412255013 L -86.48880914882774,2.2018044629012805 L -86.55325016120555,2.190926514622532 L -86.61789017335173,2.181318566315083 L -86.68270518370258,2.172984617565676 L -86.74766819319416,2.165926669356771 L -86.8127562014655,2.1601487214014843 L -86.87794320979333,2.155652773498366 L -86.94320621596543,2.1524398259037 L -87.14513223002524,2.150633987998694 L -89.31500691639735,3.3753084597252565 L -89.32200586479142,6.571013946527935 L -86.0320056306327,6.571011315565231 z\" /></g></svg>"
      ],
      "text/plain": [
       "<shapely.geometry.polygon.Polygon at 0x7fcf8aed6fa0>"
      ]
     },
     "execution_count": 26,
     "metadata": {},
     "output_type": "execute_result"
    }
   ],
   "source": [
    "area_of_conservation"
   ]
  },
  {
   "cell_type": "markdown",
   "metadata": {},
   "source": [
    "<h2> Modulating Factor : Distribution area </h2>"
   ]
  },
  {
   "cell_type": "markdown",
   "metadata": {},
   "source": [
    "First: DistRatio = $\\frac{\\text{total conservation area}}{\\text{distribution area}}$"
   ]
  },
  {
   "cell_type": "code",
   "execution_count": 34,
   "metadata": {},
   "outputs": [
    {
     "data": {
      "text/plain": [
       "0    0.009522\n",
       "1    0.009188\n",
       "2    0.008233\n",
       "3    0.009871\n",
       "4    0.012679\n",
       "Name: DistRatio, dtype: float64"
      ]
     },
     "execution_count": 34,
     "metadata": {},
     "output_type": "execute_result"
    }
   ],
   "source": [
    "df[\"DistRatio\"] = area_of_conservation.area/df.area\n",
    "df[\"DistFactorPerc\"] = 100*(1+df.DistRatio)\n",
    "df.head().DistRatio"
   ]
  },
  {
   "cell_type": "code",
   "execution_count": 35,
   "metadata": {},
   "outputs": [
    {
     "data": {
      "text/plain": [
       "110    2.562393\n",
       "153    0.142533\n",
       "157    2.562393\n",
       "86     0.173024\n",
       "87     0.050969\n",
       "Name: DistRatio, dtype: float64"
      ]
     },
     "execution_count": 35,
     "metadata": {},
     "output_type": "execute_result"
    }
   ],
   "source": [
    "df.loc[[110, 153, 157, 86, 87]].DistRatio"
   ]
  },
  {
   "cell_type": "markdown",
   "metadata": {},
   "source": [
    "Note:\n",
    "`df.loc[[110, 153, 157, 86, 87]].DistRatio`\n",
    "shows\n",
    "```\n",
    "110    0.000358\n",
    "153    0.000409\n",
    "157    0.000998\n",
    "86     0.001967\n",
    "87     0.000718\n",
    "Name: DistRatio, dtype: float64\n",
    "```\n",
    "and\n",
    "`AMMB_IUCN_df1.head().DistRatio`\n",
    "showed\n",
    "```\n",
    "110    0.000358\n",
    "153    0.000409\n",
    "157    0.000998\n",
    "86     0.001967\n",
    "87     0.000718\n",
    "Name: DistRatio, dtype: float64\n",
    "```"
   ]
  },
  {
   "cell_type": "markdown",
   "metadata": {},
   "source": [
    "Second: DistRatio = $\\frac{\\text{distribution area within total conservation area}}{\\text{total distribution area}}$"
   ]
  },
  {
   "cell_type": "code",
   "execution_count": null,
   "metadata": {},
   "outputs": [],
   "source": [
    "# Make new columns\n",
    "df[\"DistRatio2\"] = 0\n",
    "df[\"DistFactorPerc2\"] = 0\n",
    "DistRatio2 = []\n",
    "DistFactorPerc2 = []\n",
    "\n",
    "for iter, row in df.iterrows():\n",
    "    \n",
    "    df_intersect = df[df.BINOMIAL==row.BINOMIAL].intersection(area_of_conservation)\n",
    "    ratio2 = (df_intersect.area/df[df.BINOMIAL==row.BINOMIAL].area).sum()\n",
    "\n",
    "    DistRatio2.append(ratio2)\n",
    "    DistFactorPerc2.append(100*ratio2)"
   ]
  },
  {
   "cell_type": "code",
   "execution_count": null,
   "metadata": {},
   "outputs": [],
   "source": [
    "df[\"DistRatio2\"] = DistRatio2\n",
    "df[\"DistFactorPerc2\"] = DistFactorPerc2"
   ]
  },
  {
   "cell_type": "code",
   "execution_count": null,
   "metadata": {},
   "outputs": [],
   "source": [
    "# Now remove all geometries that are outside the AMMB -> clip does the job\n",
    "df2 = gpd.clip(df.set_crs(epsg=4326, allow_override=True), ACMC)"
   ]
  },
  {
   "cell_type": "code",
   "execution_count": null,
   "metadata": {},
   "outputs": [],
   "source": [
    "df2[\"DistRatio2\"] = df2.area/df.area\n",
    "df2[\"DistFactorPerc2\"] = 100 * df2.DistRatio2"
   ]
  },
  {
   "cell_type": "markdown",
   "metadata": {},
   "source": [
    "Verify:"
   ]
  },
  {
   "cell_type": "markdown",
   "metadata": {},
   "source": [
    "1) Maximum ratios"
   ]
  },
  {
   "cell_type": "code",
   "execution_count": null,
   "metadata": {},
   "outputs": [],
   "source": [
    "print(\"The species with the highest ratio of conservation area:\")\n",
    "df2[df2.DistRatio2==np.max(df2.DistRatio2)]"
   ]
  },
  {
   "cell_type": "code",
   "execution_count": null,
   "metadata": {},
   "outputs": [],
   "source": [
    "df2[df2['BINOMIAL'] == 'Halichoeres salmofasciatus']"
   ]
  },
  {
   "cell_type": "code",
   "execution_count": null,
   "metadata": {},
   "outputs": [],
   "source": [
    "#margaux result\n",
    "print(\"The species with the highest ratio of conservation area:\")\n",
    "df2[df2.DistRatio2==np.max(df2.DistRatio2)]"
   ]
  },
  {
   "cell_type": "code",
   "execution_count": null,
   "metadata": {},
   "outputs": [],
   "source": [
    "print(\"The species with the highest ratio of conservation area:\")\n",
    "df[df.DistRatio2==np.max(df.DistRatio2)]"
   ]
  },
  {
   "cell_type": "code",
   "execution_count": null,
   "metadata": {},
   "outputs": [],
   "source": [
    "print(\"Species distratio2, v1:\")\n",
    "print(df[df.ID_NO==183433.0].DistRatio2)\n",
    "print(\"Species distratio2, v2:\")\n",
    "print(df2[df2.ID_NO==183433.0].DistRatio2)"
   ]
  },
  {
   "cell_type": "markdown",
   "metadata": {},
   "source": [
    "2) Minimum ratios"
   ]
  },
  {
   "cell_type": "code",
   "execution_count": null,
   "metadata": {},
   "outputs": [],
   "source": [
    "print(\"The species with the lowest ratio of conservation area:distribution area is:\")\n",
    "df[df.DistRatio2==np.min(df.DistRatio2)]"
   ]
  },
  {
   "cell_type": "code",
   "execution_count": null,
   "metadata": {},
   "outputs": [],
   "source": [
    "print(\"The species with the lowest ratio of conservation area:distribution area is:\")\n",
    "df2[df2.DistRatio2==np.min(df2.DistRatio2)]"
   ]
  },
  {
   "cell_type": "code",
   "execution_count": null,
   "metadata": {},
   "outputs": [],
   "source": [
    "print(\"Species distratio2, v1:\")\n",
    "print(df[df.ID_NO=='60324'].DistRatio2)\n",
    "print(\"Species distratio2, v2:\")\n",
    "print(df2[df2.ID_NO=='60324'].DistRatio2)"
   ]
  },
  {
   "cell_type": "code",
   "execution_count": null,
   "metadata": {},
   "outputs": [],
   "source": [
    "print(\"Species distratio2, v1:\")\n",
    "print(df[df.ID_NO==39375.0].DistRatio2)\n",
    "print(\"Species distratio2, v2:\")\n",
    "print(df2[df2.ID_NO==39375.0].DistRatio2)"
   ]
  },
  {
   "cell_type": "markdown",
   "metadata": {},
   "source": [
    "*Mobula tarapacana* is the Chilean devil ray, which is **Endangered**."
   ]
  },
  {
   "cell_type": "code",
   "execution_count": null,
   "metadata": {},
   "outputs": [],
   "source": [
    "world = gpd.read_file(gpd.datasets.get_path('naturalearth_lowres'))\n",
    "fig, ax = plt.subplots(figsize=(20,10))\n",
    "\n",
    "ax.set_aspect('equal')\n",
    "\n",
    "world.plot(ax=ax, color='white', edgecolor='black')\n",
    "\n",
    "\n",
    "# ax.scatter(Cocos.x, Cocos.y, c = 'r')\n",
    "df[df.DistRatio2==np.max(df.DistRatio2)].plot(ax = ax, color = 'r', alpha = 0.25)\n",
    "\n",
    "AMMB_WGS84.plot(ax=ax, alpha = 0.15, color = 'purple', edgecolor='black')\n",
    "\n",
    "PNIC_WGS84.plot(ax=ax, alpha = 0.15, color = 'teal', edgecolor='black')#, marker='o', color='red', markersize=5)\n",
    "\n",
    "\n",
    "# ax.set_xlim((-110, -60))\n",
    "ax.set_ylim((-50, 60))\n",
    "plt.show();"
   ]
  },
  {
   "cell_type": "code",
   "execution_count": null,
   "metadata": {
    "scrolled": true
   },
   "outputs": [],
   "source": [
    "world = gpd.read_file(gpd.datasets.get_path('naturalearth_lowres'))\n",
    "fig, ax = plt.subplots(figsize=(10,5))\n",
    "\n",
    "ax.set_aspect('equal')\n",
    "\n",
    "world.plot(ax=ax, color='white', edgecolor='black')\n",
    "\n",
    "\n",
    "# ax.scatter(Cocos.x, Cocos.y, c = 'r')\n",
    "df[df.DistRatio2==np.min(df.DistRatio2)].plot(ax = ax, color = 'r', alpha = 1)\n",
    "\n",
    "AMMB_WGS84.plot(ax=ax, alpha = 0.15, color = 'purple', edgecolor='black')\n",
    "\n",
    "PNIC_WGS84.plot(ax=ax, alpha = 0.15, color = 'teal', edgecolor='black')#, marker='o', color='red', markersize=5)\n",
    "\n",
    "\n",
    "ax.set_xlim((-90, -80))\n",
    "ax.set_ylim((0, 10))\n",
    "plt.show();"
   ]
  },
  {
   "cell_type": "markdown",
   "metadata": {},
   "source": [
    "<h1> 3. Marine Biodiversity Unit </h1>\n",
    "\n",
    "i.e. we create a base unit and we modulate it with different adjustments: vulnerability, distribution range, etc.\n",
    "\n",
    "<h2> Base Unit</h2>"
   ]
  },
  {
   "cell_type": "markdown",
   "metadata": {},
   "source": [
    "This is where we get a biodiversity index for the area. Example:\n",
    "\n",
    "- get the Shannon index over AMMB\n",
    "- get another biodiversity score that we normalize against a global score\n",
    "\n",
    "<h3> Example: Shannon Biodiversity </h3>\n",
    "\n",
    "The maximum Shannon biodiversity index worldwide is ~8.5.\n",
    "\n",
    "E.g. around Cocos Island, based on OBIS data (...), a Shannon biodiversity index of 6.25 over 160,000 km$^2$ would give\n",
    "\n",
    "base credit $ = \\frac{6.25 \\text{ (local index)}}{8.5 \\text{ (max global index)}}) = $ 0.735\n",
    "\n",
    "total credits = $\\frac{6.25 \\text{ (local index)}}{8.5 \\text{ (max global index)}})\\times 160,000 \\text{ km}^2 \\times \\frac{1\\text{ Marine Biodiversity Unit}}{1 \\text {km}^2} = $ 117,647 Marine Biodiversity Units"
   ]
  },
  {
   "cell_type": "markdown",
   "metadata": {},
   "source": [
    "That gives the baseline. To be completed. \n",
    "\n",
    "Note: we CANNOT get the Shannon index just from IUCN data. We need the number of specimens for each species."
   ]
  },
  {
   "cell_type": "markdown",
   "metadata": {},
   "source": [
    "<h3> Example: species richness </h3>\n",
    "    \n",
    "That is: use the total number of species within the area of interest to get the base credit."
   ]
  },
  {
   "cell_type": "markdown",
   "metadata": {},
   "source": [
    "Info from SINAC, link to [Google Drive](https://drive.google.com/file/d/1Bztf55bKgZi7X9nJPbWGdOUtW7Zv0-3_/view?usp=sharing) document\n",
    "```\n",
    "The CINP is home to 1688 species of marine fauna, of which\n",
    "45 are endemic. This represents 47,4 % of the endemism in\n",
    "Costa Rica. In other words, the CINP contributes half of the\n",
    "country’s unique biological richness.\n",
    "```\n",
    "SINAC (Sistema Nacional de Áreas de Conservación). 2018. Importancia de los ecosistemas y las poblaciones del sitio de interés: Parque Nacional Isla del Coco (PNIC), Área Marina de Manejo Montes Submarinos (AMM MS) y aguas adyacentes. Área de Conservación Marina Cocos. San José, Costa Rica. 68 p."
   ]
  },
  {
   "cell_type": "markdown",
   "metadata": {},
   "source": [
    "Note: this was the old park\n",
    "```\n",
    "The CINP, created in 1978, is located 342 miles (500 km) southeast of Costa Rica’s Pacific coast and covers an area of 785 sq miles (2034 km2). The island comprises an area of about 9 sq miles (23 km2) and the marine area covers the remaining 776 sq miles (2011 km2). The SMMA was created in 2011 and was the first protected wildlife area in this category in Costa Rica. It encompasses 3725 sq miles (9649 km2) of the Pacific Ocean waters around the CINP (Figure 1).\n",
    "```"
   ]
  },
  {
   "cell_type": "markdown",
   "metadata": {},
   "source": [
    "<h2> Species richness </h2>"
   ]
  },
  {
   "cell_type": "markdown",
   "metadata": {},
   "source": [
    "Note: World Register of Marine Species (WoRMS)  contains 243,000 species in its inventory.\n",
    "\n",
    "https://en.wikipedia.org/wiki/Marine_life#/media/File:Marine_animal_biodiversity.png shows 201,004.\n",
    "\n",
    "https://en.wikipedia.org/wiki/Species_richness shows species richness in terms of km? or per sq km?\n",
    "\n",
    "https://www.researchgate.net/figure/Global-marine-species-richness-for-all-taxa-Source-Titterson-et-al-2010_fig2_305636318\n",
    "this is at a coarse resolution, but we can use this to normalize marine richness?\n",
    "\n",
    "According to: https://www.researchgate.net/publication/45406822_Global_patterns_and_predictors_of_marine_biodiversity_across_taxa\n",
    "we have: \n",
    "11,567 total - 60 seagrasses - 32 mangroves - 39 foraminifera"
   ]
  },
  {
   "cell_type": "markdown",
   "metadata": {},
   "source": [
    "**Marine biodiversity Assumption 1**\n",
    "\n",
    "Assuming a total number of species of marine fauna of $N_\\text{total}$ (here `N_species_fauna_total`)"
   ]
  },
  {
   "cell_type": "code",
   "execution_count": null,
   "metadata": {},
   "outputs": [],
   "source": [
    "N_species_fauna_total = 11567 - 60 - 32 - 39\n",
    "print(N_species_fauna_total)"
   ]
  },
  {
   "cell_type": "markdown",
   "metadata": {},
   "source": [
    "**Marine biodiversity Assumption 2**\n",
    "\n",
    "Assuming a number of species of marine fauna within the area of interest of $N_\\text{local}$ (here `N_species_fauna`). This is extrapolating the number of species given by SINAC to the entire AMMB area."
   ]
  },
  {
   "cell_type": "code",
   "execution_count": null,
   "metadata": {},
   "outputs": [],
   "source": [
    "N_species_fauna = 1688"
   ]
  },
  {
   "cell_type": "markdown",
   "metadata": {},
   "source": [
    "**Marine biodiversity Assumption 3**\n",
    "\n",
    "The marine fauna is uniformely distributed accross the AMMB... here because we don't have:\n",
    "- $N_\\text{local}$(square kilometer 1)\n",
    "- $N_\\text{local}$(square kilometer 2)\n",
    "- ...\n",
    "- $N_\\text{local}$(square kilometer  N)\n",
    "\n",
    "Thus our \"base unit\" for credits is homogeneous throughout AMMB. \n",
    "\n",
    "Note: this is for illustrative purposes and this is a WRONG assumption! but we do not have a heat map of marine fauma!"
   ]
  },
  {
   "cell_type": "code",
   "execution_count": null,
   "metadata": {},
   "outputs": [],
   "source": [
    "N_units_base = np.exp(N_species_fauna/N_species_fauna_total)\n",
    "print(N_units_base)"
   ]
  },
  {
   "cell_type": "markdown",
   "metadata": {},
   "source": [
    "Assuming we had the maximum species richness of $N_\\text{total}$ = 2,555 (here `N_species_fauna_total`):"
   ]
  },
  {
   "cell_type": "code",
   "execution_count": null,
   "metadata": {},
   "outputs": [],
   "source": [
    "np.exp(2555/N_species_fauna_total)"
   ]
  },
  {
   "cell_type": "markdown",
   "metadata": {},
   "source": [
    "That's the \"maximum base unit\" per this logic."
   ]
  },
  {
   "cell_type": "markdown",
   "metadata": {},
   "source": [
    "Assuming we have very little species richness, e.g. $N_\\text{total}$ = 10 (here `N_species_fauna_total` means there are only 10 species of fish, crabs, whatever):"
   ]
  },
  {
   "cell_type": "code",
   "execution_count": null,
   "metadata": {},
   "outputs": [],
   "source": [
    "np.exp(10/N_species_fauna_total)"
   ]
  },
  {
   "cell_type": "markdown",
   "metadata": {},
   "source": [
    "That's a lower bound for the \"base unit\" per this logic."
   ]
  },
  {
   "cell_type": "markdown",
   "metadata": {},
   "source": [
    "It is a very narrow range that does not reward high biodiversity this much. \n",
    "\n",
    "Is it \"good\" or \"bad\"? \n",
    "\n",
    "Well, the advantages are as follows:\n",
    "   * it minimizes the impact of measurements errors and uncertainty. Given that measuring marine biodiversity is difficult, this may actually be a good thing.\n",
    "    \n",
    "   * it increases the influence of modulating factors, such as:\n",
    "        - vulnerable species\n",
    "        - endemism\n",
    "        - habitat type\n",
    "        - etc."
   ]
  },
  {
   "cell_type": "markdown",
   "metadata": {},
   "source": [
    "<h2> Modulating factor 1 </h2>\n",
    "<h3> Incorporate the distribution range </h3>"
   ]
  },
  {
   "cell_type": "code",
   "execution_count": null,
   "metadata": {},
   "outputs": [],
   "source": []
  },
  {
   "cell_type": "markdown",
   "metadata": {},
   "source": [
    "<h2> Modulating factor 2 </h2>\n",
    "<h3> Incorporate the habitat type </h3>"
   ]
  },
  {
   "cell_type": "code",
   "execution_count": null,
   "metadata": {},
   "outputs": [],
   "source": []
  },
  {
   "cell_type": "markdown",
   "metadata": {},
   "source": [
    "<h2> Factor 3 </h2>\n",
    "<h3> Incorporate the conservation status </h3>"
   ]
  },
  {
   "cell_type": "markdown",
   "metadata": {},
   "source": [
    "We have the following conservation statuses:"
   ]
  },
  {
   "cell_type": "code",
   "execution_count": null,
   "metadata": {},
   "outputs": [],
   "source": [
    "print(\"The species with the status Critically Endangered are :\")\n",
    "print(df_nonan[df_nonan.redlistCategory=='Critically Endangered'].BINOMIAL)"
   ]
  },
  {
   "cell_type": "markdown",
   "metadata": {},
   "source": [
    "- *Carcharhinus longimanus* is Oceanic whitetip shark\n",
    "- *Eretmochelys imbricata* is Hawksbill sea turtle\n",
    "- *Pristis pristis* is Largetooth sawfish"
   ]
  },
  {
   "cell_type": "code",
   "execution_count": null,
   "metadata": {},
   "outputs": [],
   "source": [
    "fig, ax = plt.subplots(figsize=(20,10))\n",
    "\n",
    "ax.set_aspect('equal')\n",
    "\n",
    "world.plot(ax=ax, color='white', edgecolor='black')\n",
    "\n",
    "AMMB.plot(ax=ax, alpha = 0.15, color = 'purple', edgecolor='black')\n",
    "\n",
    "PNIC_WGS84.plot(ax=ax, alpha = 0.15, color = 'teal', edgecolor='black')#, marker='o', color='red', markersize=5)\n",
    "\n",
    "# ax.scatter(Cocos.x, Cocos.y, c = 'r')\n",
    "df_nonan[df_nonan.DistRatio2==np.min(df_nonan.DistRatio2)].plot(ax = ax, color = 'r')\n",
    "\n",
    "ax.set_xlim((-90, -85))\n",
    "ax.set_ylim((2, 7))\n",
    "plt.show();"
   ]
  },
  {
   "cell_type": "markdown",
   "metadata": {},
   "source": [
    "To be honest, I'm not sure which road to take. On the one hand, it seems more *logical* to use the second option in terms of distribution area:\n",
    "- the conservation area (AMMB) is HUGE compared to the range of the sawfish\n",
    "- but within AMMB, the sawfish is not widely distributed.\n",
    "- vice-versa for the ray\n",
    "\n",
    "On the other hand:\n",
    "- the region around AMMB seem way more critical for the sawfish than the ray: see how distributed the ray is?\n",
    "- the conservation for the milkfish is diminished compared to the orca.\n",
    "\n",
    "so perhaps the first route was the \"right\" one?"
   ]
  },
  {
   "cell_type": "markdown",
   "metadata": {},
   "source": [
    "In any case, we need some post-processing, e.g. smoothing, clustering, etc."
   ]
  },
  {
   "cell_type": "code",
   "execution_count": null,
   "metadata": {},
   "outputs": [],
   "source": [
    "def get_DistRatioFactor_invsquare(DistRatio, print_out = False):\n",
    "    # This function calculates the weighted endemism of species by taking the sum of the \n",
    "    # squares of the ratios of (area conserved / total distribution area)\n",
    "    #\n",
    "    # Input arguments:\n",
    "    #      DistRatio: a series of the area conserved / total distribution area ratio for each species\n",
    "    #      print_out: a boolean for printing out the factor\n",
    "    #\n",
    "    # Output:\n",
    "    #      factor: the factor of weighted endemism\n",
    "    \n",
    "    factor = 1+sum(DistRatio**2)\n",
    "    if print_out:\n",
    "        print(\"We multiply N credits by \" + \"{:0.3f}\".format(factor))\n",
    "    return factor"
   ]
  },
  {
   "cell_type": "markdown",
   "metadata": {},
   "source": [
    "**First approach**\n",
    "\n",
    "What are the credits based on DistRatio1?"
   ]
  },
  {
   "cell_type": "code",
   "execution_count": null,
   "metadata": {},
   "outputs": [],
   "source": [
    "example_credits(area_of_conservation.area, df_nonan.DistRatio, get_DistRatioFactor);\n",
    "example_credits(111.1**(-2), df_nonan.DistRatio, get_DistRatioFactor);\n",
    "\n",
    "example_credits(area_of_conservation.area, df_nonan.DistRatio, get_DistRatioFactor_square);\n",
    "example_credits(111.1**(-2), df_nonan.DistRatio, get_DistRatioFactor_square);"
   ]
  },
  {
   "cell_type": "markdown",
   "metadata": {},
   "source": [
    "Okay clearly these numbers get wild."
   ]
  },
  {
   "cell_type": "markdown",
   "metadata": {},
   "source": [
    "**Second approach**\n",
    "\n",
    "What are the credits based on DistRatio2?"
   ]
  },
  {
   "cell_type": "code",
   "execution_count": null,
   "metadata": {},
   "outputs": [],
   "source": [
    "example_credits(area_of_conservation.area, df_nonan.DistRatio2, get_DistRatioFactor);\n",
    "example_credits(111.1**(-2), df_nonan.DistRatio2, get_DistRatioFactor);\n",
    "\n",
    "example_credits(area_of_conservation.area, df_nonan.DistRatio2, get_DistRatioFactor_square);\n",
    "example_credits(111.1**(-2), df_nonan.DistRatio2, get_DistRatioFactor_square);"
   ]
  },
  {
   "cell_type": "markdown",
   "metadata": {},
   "source": [
    "Okay for the order of magnitude, so-so for what it represents."
   ]
  },
  {
   "cell_type": "markdown",
   "metadata": {},
   "source": [
    "Wild card:"
   ]
  },
  {
   "cell_type": "code",
   "execution_count": null,
   "metadata": {},
   "outputs": [],
   "source": [
    "example_credits(area_of_conservation.area, df_nonan.DistRatio, get_DistRatioFactor_invsquare);\n",
    "example_credits(111.1**(-2), df_nonan.DistRatio, get_DistRatioFactor);"
   ]
  },
  {
   "cell_type": "markdown",
   "metadata": {},
   "source": [
    "We will need to check this out with \"smoothing\"."
   ]
  },
  {
   "cell_type": "markdown",
   "metadata": {},
   "source": [
    "... to be continued."
   ]
  },
  {
   "cell_type": "markdown",
   "metadata": {},
   "source": [
    "It seems like a fairer approach."
   ]
  }
 ],
 "metadata": {
  "kernelspec": {
   "display_name": "Python 3 (ipykernel)",
   "language": "python",
   "name": "python3"
  },
  "language_info": {
   "codemirror_mode": {
    "name": "ipython",
    "version": 3
   },
   "file_extension": ".py",
   "mimetype": "text/x-python",
   "name": "python",
   "nbconvert_exporter": "python",
   "pygments_lexer": "ipython3",
   "version": "3.9.12"
  }
 },
 "nbformat": 4,
 "nbformat_minor": 4
}
