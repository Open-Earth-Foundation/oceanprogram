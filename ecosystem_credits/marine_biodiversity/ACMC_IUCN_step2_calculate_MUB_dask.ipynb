{
 "cells": [
  {
   "cell_type": "markdown",
   "metadata": {},
   "source": [
    "# Open Ocean\n",
    "# Open Earth Fundation\n",
    "---------------------------------------------------------------------------------------------------------------------\n",
    "Authors: Margaux Filippi & Ando Shah\n",
    "\n",
    "---------------------------------------------------------------------------------------------------------------------"
   ]
  },
  {
   "cell_type": "markdown",
   "metadata": {},
   "source": [
    "<h1> Calculating and comparing marine biodiversity metrics for ACMC </h1>\n",
    "\n",
    "This series of notebooks aims to calculate different marine biodiversity indices, such as:\n",
    "- WEGE\n",
    "- STAR\n",
    "- other Marine Biodiversity Units\n",
    "\n",
    "for a few areas around Cocos Island, Costa Rica:\n",
    "- AMMB, or Área Marina de Manejo del Bicentenario (marine protected area that got extended for the bicentennial)\n",
    "- PNIC, or Parque National de Isla del Coco (Cocos Island national park)\n",
    "- ACMC, or Area de Conservación Marina Coco (AMMB + PNIC)\n",
    "\n",
    "We will later extend to the Eastern Tropical Pacific. The data source that we use is UICN."
   ]
  },
  {
   "cell_type": "markdown",
   "metadata": {},
   "source": [
    "<h1> Step 2: calculate different metrics </h1>\n",
    "\n",
    "This notebook shows the second step, the data analysis."
   ]
  },
  {
   "cell_type": "markdown",
   "metadata": {},
   "source": [
    "<h2> Data needed for this project </h2>\n",
    "\n",
    "The data was output by `ACMC_IUCN_step1_curatedata.ipynb` and can be found under [IUCN_RedList](https://drive.google.com/drive/folders/1nkw8VK9mPdthjyDOSsnljqCo_b7lMdP4?usp=sharing) under a temporary folder that accompagnies the GitHub repository: \n",
    "\n",
    "`Ocean Program > data > to download for gh > ACMC_IUCN_data`"
   ]
  },
  {
   "cell_type": "markdown",
   "metadata": {},
   "source": [
    "### Analyzing UICN data for marine species in the Eastern Tropical Pacific."
   ]
  },
  {
   "cell_type": "code",
   "execution_count": 2,
   "metadata": {},
   "outputs": [],
   "source": [
    "import geopandas as gpd"
   ]
  },
  {
   "cell_type": "code",
   "execution_count": 3,
   "metadata": {},
   "outputs": [],
   "source": [
    "import numpy as np\n",
    "import pandas as pd"
   ]
  },
  {
   "cell_type": "code",
   "execution_count": 4,
   "metadata": {},
   "outputs": [],
   "source": [
    "import os\n",
    "import glob"
   ]
  },
  {
   "cell_type": "code",
   "execution_count": 5,
   "metadata": {},
   "outputs": [],
   "source": [
    "from shapely.geometry import Polygon, Point"
   ]
  },
  {
   "cell_type": "code",
   "execution_count": 6,
   "metadata": {},
   "outputs": [],
   "source": [
    "import fiona; #help(fiona.open)"
   ]
  },
  {
   "cell_type": "markdown",
   "metadata": {},
   "source": [
    "import matplotlib.pyplot as plt\n",
    "import seaborn as sns"
   ]
  },
  {
   "cell_type": "code",
   "execution_count": 7,
   "metadata": {},
   "outputs": [],
   "source": [
    "import timeit"
   ]
  },
  {
   "cell_type": "markdown",
   "metadata": {},
   "source": [
    "OEF functions"
   ]
  },
  {
   "cell_type": "markdown",
   "metadata": {},
   "source": [
    "Need to explicitly import from the parent directory"
   ]
  },
  {
   "cell_type": "code",
   "execution_count": 8,
   "metadata": {},
   "outputs": [],
   "source": [
    "import sys  \n",
    "sys.path.insert(0, '../')\n",
    "from marinebiodiversity_utils import *"
   ]
  },
  {
   "cell_type": "code",
   "execution_count": 9,
   "metadata": {},
   "outputs": [],
   "source": [
    "# from dask_utils import *"
   ]
  },
  {
   "cell_type": "code",
   "execution_count": 10,
   "metadata": {},
   "outputs": [],
   "source": [
    "import pystac_client\n",
    "import matplotlib.pyplot as plt\n",
    "import dask.dataframe as dd\n",
    "import planetary_computer\n",
    "import dask_geopandas as dgpd"
   ]
  },
  {
   "cell_type": "code",
   "execution_count": 11,
   "metadata": {},
   "outputs": [],
   "source": [
    "import dask_gateway\n",
    "\n",
    "# cluster = None\n",
    "gateway = dask_gateway.Gateway()\n",
    "cluster_options = gateway.cluster_options()\n"
   ]
  },
  {
   "cell_type": "markdown",
   "metadata": {
    "tags": []
   },
   "source": [
    "## Dask related helper functions\n",
    "\n",
    "Dont use: Use the dask_utils.py functions instead"
   ]
  },
  {
   "cell_type": "code",
   "execution_count": 12,
   "metadata": {},
   "outputs": [],
   "source": [
    "def check_for_existing_clusters():\n",
    "    if len(gateway.list_clusters()) == 0:\n",
    "        return False   \n",
    "    return True\n",
    "\n",
    "#max is 227\n",
    "def setup_dask_cluster(max=227, mem=16):\n",
    "    cluster_options[\"worker_memory\"] = mem\n",
    "    \n",
    "    if check_for_existing_clusters():\n",
    "        print (\"Clusters already exist, latching onto the first one\")\n",
    "        \n",
    "        clusters = gateway.list_clusters()\n",
    "        cluster = gateway.connect(clusters[0].name)\n",
    "        \n",
    "        client = cluster.get_client()\n",
    "        \n",
    "    else :\n",
    "        cluster = gateway.new_cluster(cluster_options, shutdown_on_close=False)\n",
    "        client = cluster.get_client()\n",
    "        cluster.adapt(minimum=2, maximum=max)\n",
    "    \n",
    "    \n",
    "    print(client)\n",
    "    print(cluster.dashboard_link)\n",
    "\n",
    "    \n",
    "def shutdown_all_clusters():\n",
    "    \n",
    "    clusters = gateway.list_clusters()\n",
    "    if clusters is not None:\n",
    "        for c in clusters:\n",
    "            cluster = gateway.connect(c.name)\n",
    "            cluster.shutdown()\n",
    "            print (cluster)\n",
    "    \n",
    "# This function will be used to 'override' dask.conpute\n",
    "# check if dask clusters are alive, if so, latch onto it\n",
    "# otherwise spawn a new cluster and do .compute on df\n",
    "def compute(ddf):\n",
    "    setup_dask_cluster()\n",
    "    return ddf.compute()\n",
    "\n",
    "def dashboard():\n",
    "    return cluster.dashboard_link"
   ]
  },
  {
   "cell_type": "markdown",
   "metadata": {},
   "source": [
    "<h1> 1. Load data </h1>\n",
    "\n",
    "<h2> 1.1 Get the conservation area</h2>\n",
    "\n",
    "Mostly for plotting."
   ]
  },
  {
   "cell_type": "markdown",
   "metadata": {},
   "source": [
    "<h3> Coordinates for Cocos Island </h3>\n",
    "\n",
    "Cocos Island is located at 05°31′41″N; 87°03′40″W"
   ]
  },
  {
   "cell_type": "code",
   "execution_count": 13,
   "metadata": {},
   "outputs": [],
   "source": [
    "Cocos_lat = 5+31/60+41/3600\n",
    "Cocos_lon = -(87+3/60+40/3600)\n",
    "Cocos = Point(Cocos_lon, Cocos_lat)"
   ]
  },
  {
   "cell_type": "markdown",
   "metadata": {},
   "source": [
    "<h3> Import entire AMMB and PNIC </h3>"
   ]
  },
  {
   "cell_type": "code",
   "execution_count": 14,
   "metadata": {},
   "outputs": [],
   "source": [
    "ACMC = gpd.read_file('../../ACMC/ACMC.shp')\n",
    "AMMB = gpd.read_file('../../ACMC/AMMB.shp')\n",
    "PNIC = gpd.read_file('../../ACMC/PNIC.shp')"
   ]
  },
  {
   "cell_type": "markdown",
   "metadata": {},
   "source": [
    "Inspect the Coordinate Reference Systems (CRS)."
   ]
  },
  {
   "cell_type": "code",
   "execution_count": 15,
   "metadata": {},
   "outputs": [
    {
     "data": {
      "text/plain": [
       "<Geographic 2D CRS: EPSG:4326>\n",
       "Name: WGS 84\n",
       "Axis Info [ellipsoidal]:\n",
       "- Lat[north]: Geodetic latitude (degree)\n",
       "- Lon[east]: Geodetic longitude (degree)\n",
       "Area of Use:\n",
       "- name: World.\n",
       "- bounds: (-180.0, -90.0, 180.0, 90.0)\n",
       "Datum: World Geodetic System 1984 ensemble\n",
       "- Ellipsoid: WGS 84\n",
       "- Prime Meridian: Greenwich"
      ]
     },
     "execution_count": 15,
     "metadata": {},
     "output_type": "execute_result"
    }
   ],
   "source": [
    "AMMB.crs"
   ]
  },
  {
   "cell_type": "code",
   "execution_count": 16,
   "metadata": {},
   "outputs": [
    {
     "data": {
      "text/plain": [
       "<Derived Projected CRS: EPSG:5367>\n",
       "Name: CR05 / CRTM05\n",
       "Axis Info [cartesian]:\n",
       "- N[north]: Northing (metre)\n",
       "- E[east]: Easting (metre)\n",
       "Area of Use:\n",
       "- name: Costa Rica - onshore and offshore east of 86°30'W.\n",
       "- bounds: (-86.5, 2.21, -81.43, 11.77)\n",
       "Coordinate Operation:\n",
       "- name: Costa Rica TM 2005\n",
       "- method: Transverse Mercator\n",
       "Datum: Costa Rica 2005\n",
       "- Ellipsoid: WGS 84\n",
       "- Prime Meridian: Greenwich"
      ]
     },
     "execution_count": 16,
     "metadata": {},
     "output_type": "execute_result"
    }
   ],
   "source": [
    "PNIC.crs"
   ]
  },
  {
   "cell_type": "code",
   "execution_count": 17,
   "metadata": {},
   "outputs": [
    {
     "data": {
      "text/html": [
       "<div>\n",
       "<style scoped>\n",
       "    .dataframe tbody tr th:only-of-type {\n",
       "        vertical-align: middle;\n",
       "    }\n",
       "\n",
       "    .dataframe tbody tr th {\n",
       "        vertical-align: top;\n",
       "    }\n",
       "\n",
       "    .dataframe thead th {\n",
       "        text-align: right;\n",
       "    }\n",
       "</style>\n",
       "<table border=\"1\" class=\"dataframe\">\n",
       "  <thead>\n",
       "    <tr style=\"text-align: right;\">\n",
       "      <th></th>\n",
       "      <th>id</th>\n",
       "      <th>area</th>\n",
       "      <th>area_km2</th>\n",
       "      <th>geometry</th>\n",
       "    </tr>\n",
       "  </thead>\n",
       "  <tbody>\n",
       "    <tr>\n",
       "      <th>0</th>\n",
       "      <td>1</td>\n",
       "      <td>5.484413e+10</td>\n",
       "      <td>54844.132</td>\n",
       "      <td>POLYGON ((-88.98701 4.52901, -88.98700 6.23701...</td>\n",
       "    </tr>\n",
       "  </tbody>\n",
       "</table>\n",
       "</div>"
      ],
      "text/plain": [
       "   id          area   area_km2  \\\n",
       "0   1  5.484413e+10  54844.132   \n",
       "\n",
       "                                            geometry  \n",
       "0  POLYGON ((-88.98701 4.52901, -88.98700 6.23701...  "
      ]
     },
     "execution_count": 17,
     "metadata": {},
     "output_type": "execute_result"
    }
   ],
   "source": [
    "PNIC_WGS84 = PNIC.to_crs(crs=4326)\n",
    "PNIC_WGS84"
   ]
  },
  {
   "cell_type": "markdown",
   "metadata": {},
   "source": [
    "Get area information."
   ]
  },
  {
   "cell_type": "code",
   "execution_count": 18,
   "metadata": {},
   "outputs": [
    {
     "name": "stdout",
     "output_type": "stream",
     "text": [
      "Area, PNIC:\n",
      "4.47 sqdeg.\n",
      "54,822.77 sqkm in CRS 31970.\n",
      "\n",
      "Total Area, AMMB:\n",
      "13.13 sqdeg.\n",
      "161,066.70 sqkm in CRS 31970.\n",
      "\n",
      "Area, AMMB:\n",
      "8.66 sqdeg.\n",
      "106,243.93 sqkm in CRS 31970.\n",
      "106,286.58 sqkm in CRS 6933.\n"
     ]
    },
    {
     "name": "stderr",
     "output_type": "stream",
     "text": [
      "/tmp/ipykernel_415/2907880770.py:2: UserWarning: Geometry is in a geographic CRS. Results from 'area' are likely incorrect. Use 'GeoSeries.to_crs()' to re-project geometries to a projected CRS before this operation.\n",
      "\n",
      "  print(\"{:0.2f}\".format(PNIC_WGS84.area.item()) + \" sqdeg.\")\n",
      "/tmp/ipykernel_415/2907880770.py:6: UserWarning: Geometry is in a geographic CRS. Results from 'area' are likely incorrect. Use 'GeoSeries.to_crs()' to re-project geometries to a projected CRS before this operation.\n",
      "\n",
      "  print(\"{:0.2f}\".format(AMMB.area.item()) + \" sqdeg.\")\n",
      "/tmp/ipykernel_415/2907880770.py:10: UserWarning: Geometry is in a geographic CRS. Results from 'area' are likely incorrect. Use 'GeoSeries.to_crs()' to re-project geometries to a projected CRS before this operation.\n",
      "\n",
      "  print(\"{:0.2f}\".format(AMMB.area.item() - PNIC_WGS84.area.item()) + \" sqdeg.\")\n"
     ]
    }
   ],
   "source": [
    "print(\"Area, PNIC:\")\n",
    "print(\"{:0.2f}\".format(PNIC_WGS84.area.item()) + \" sqdeg.\")\n",
    "print(\"{:,.2f}\".format(PNIC_WGS84.to_crs(crs=31970).area.item()*10**(-6)) + \" sqkm in CRS 31970.\")\n",
    "\n",
    "print(\"\\nTotal Area, AMMB:\")\n",
    "print(\"{:0.2f}\".format(AMMB.area.item()) + \" sqdeg.\")\n",
    "print(\"{:,.2f}\".format(AMMB.to_crs(crs=31970).area.item()*10**(-6)) + \" sqkm in CRS 31970.\")\n",
    "\n",
    "print(\"\\nArea, AMMB:\")\n",
    "print(\"{:0.2f}\".format(AMMB.area.item() - PNIC_WGS84.area.item()) + \" sqdeg.\")\n",
    "print(\"{:,.2f}\".format(AMMB.to_crs(crs=31970).area.item()*10**(-6) - PNIC_WGS84.to_crs(crs=31970).area.item()*10**(-6)) + \" sqkm in CRS 31970.\")\n",
    "print(\"{:,.2f}\".format(AMMB.to_crs({'proj':'cea'}).area.item()*10**(-6) - PNIC.to_crs({'proj':'cea'}).area.item()*10**(-6)) + \" sqkm in CRS 6933.\")"
   ]
  },
  {
   "cell_type": "markdown",
   "metadata": {
    "tags": []
   },
   "source": [
    "<h2> 1.2 Get the species data </h2>"
   ]
  },
  {
   "cell_type": "markdown",
   "metadata": {},
   "source": [
    "This is the outcome from `AMMB_IUCN_step1_curatedata.ipynb`."
   ]
  },
  {
   "cell_type": "markdown",
   "metadata": {
    "tags": []
   },
   "source": [
    "### Method 1: Load into Geopandas df, then convert to Dask-Geopandas df"
   ]
  },
  {
   "cell_type": "code",
   "execution_count": 19,
   "metadata": {},
   "outputs": [],
   "source": [
    "df1 = gpd.read_file('AMMB_IUCN_data/gdf_ACMC_IUCN_range_status_filtered.shp') \n",
    "# df1 = gpd.read_file('AMMB_IUCN_data/gdf_ACMC_IUCN_range_status_filtered.shp') "
   ]
  },
  {
   "cell_type": "code",
   "execution_count": 20,
   "metadata": {},
   "outputs": [
    {
     "data": {
      "text/html": [
       "<div>\n",
       "<style scoped>\n",
       "    .dataframe tbody tr th:only-of-type {\n",
       "        vertical-align: middle;\n",
       "    }\n",
       "\n",
       "    .dataframe tbody tr th {\n",
       "        vertical-align: top;\n",
       "    }\n",
       "\n",
       "    .dataframe thead th {\n",
       "        text-align: right;\n",
       "    }\n",
       "</style>\n",
       "<table border=\"1\" class=\"dataframe\">\n",
       "  <thead>\n",
       "    <tr style=\"text-align: right;\">\n",
       "      <th></th>\n",
       "      <th>index</th>\n",
       "      <th>ASSESSMENT</th>\n",
       "      <th>ID_NO</th>\n",
       "      <th>BINOMIAL</th>\n",
       "      <th>PRESENCE</th>\n",
       "      <th>ORIGIN</th>\n",
       "      <th>SEASONAL</th>\n",
       "      <th>COMPILER</th>\n",
       "      <th>YEAR</th>\n",
       "      <th>CITATION</th>\n",
       "      <th>LEGEND</th>\n",
       "      <th>SUBSPECIES</th>\n",
       "      <th>SUBPOP</th>\n",
       "      <th>DIST_COMM</th>\n",
       "      <th>ISLAND</th>\n",
       "      <th>TAX_COMM</th>\n",
       "      <th>redlistCat</th>\n",
       "      <th>scientific</th>\n",
       "      <th>geometry</th>\n",
       "    </tr>\n",
       "  </thead>\n",
       "  <tbody>\n",
       "    <tr>\n",
       "      <th>0</th>\n",
       "      <td>3</td>\n",
       "      <td>1506081</td>\n",
       "      <td>177969.0</td>\n",
       "      <td>Acanthurus nigricans</td>\n",
       "      <td>1</td>\n",
       "      <td>1</td>\n",
       "      <td>1</td>\n",
       "      <td>Jonnell Sanciangco</td>\n",
       "      <td>2010</td>\n",
       "      <td>International Union for Conservation of Nature...</td>\n",
       "      <td>Extant (resident)</td>\n",
       "      <td>None</td>\n",
       "      <td>None</td>\n",
       "      <td>None</td>\n",
       "      <td>None</td>\n",
       "      <td>None</td>\n",
       "      <td>Least Concern</td>\n",
       "      <td>Acanthurus nigricans</td>\n",
       "      <td>MULTIPOLYGON (((109.79501 6.13966, 109.89836 6...</td>\n",
       "    </tr>\n",
       "    <tr>\n",
       "      <th>1</th>\n",
       "      <td>10</td>\n",
       "      <td>1512439</td>\n",
       "      <td>177988.0</td>\n",
       "      <td>Naso annulatus</td>\n",
       "      <td>1</td>\n",
       "      <td>1</td>\n",
       "      <td>1</td>\n",
       "      <td>Jonnell Sanciangco</td>\n",
       "      <td>2010</td>\n",
       "      <td>International Union for Conservation of Nature...</td>\n",
       "      <td>Extant (resident)</td>\n",
       "      <td>None</td>\n",
       "      <td>None</td>\n",
       "      <td>None</td>\n",
       "      <td>None</td>\n",
       "      <td>None</td>\n",
       "      <td>Least Concern</td>\n",
       "      <td>Naso annulatus</td>\n",
       "      <td>MULTIPOLYGON (((109.79501 6.13966, 109.89836 6...</td>\n",
       "    </tr>\n",
       "    <tr>\n",
       "      <th>2</th>\n",
       "      <td>13</td>\n",
       "      <td>1517273</td>\n",
       "      <td>178002.0</td>\n",
       "      <td>Naso hexacanthus</td>\n",
       "      <td>1</td>\n",
       "      <td>1</td>\n",
       "      <td>1</td>\n",
       "      <td>Jonnell Sanciangco</td>\n",
       "      <td>2010</td>\n",
       "      <td>International Union for Conservation of Nature...</td>\n",
       "      <td>Extant (resident)</td>\n",
       "      <td>None</td>\n",
       "      <td>None</td>\n",
       "      <td>None</td>\n",
       "      <td>None</td>\n",
       "      <td>None</td>\n",
       "      <td>Least Concern</td>\n",
       "      <td>Naso hexacanthus</td>\n",
       "      <td>MULTIPOLYGON (((99.07516 7.94581, 99.07794 7.9...</td>\n",
       "    </tr>\n",
       "    <tr>\n",
       "      <th>3</th>\n",
       "      <td>97</td>\n",
       "      <td>2412930</td>\n",
       "      <td>195754.0</td>\n",
       "      <td>Gymnothorax meleagris</td>\n",
       "      <td>1</td>\n",
       "      <td>1</td>\n",
       "      <td>1</td>\n",
       "      <td>IUCN Marine Biodiversity Unit/GMSA</td>\n",
       "      <td>2018</td>\n",
       "      <td>IUCN Marine Biodiversity Unit/GMSA</td>\n",
       "      <td>Extant (resident)</td>\n",
       "      <td>None</td>\n",
       "      <td>None</td>\n",
       "      <td>None</td>\n",
       "      <td>None</td>\n",
       "      <td>None</td>\n",
       "      <td>Least Concern</td>\n",
       "      <td>Gymnothorax meleagris</td>\n",
       "      <td>MULTIPOLYGON (((144.23853 -3.82053, 144.24330 ...</td>\n",
       "    </tr>\n",
       "    <tr>\n",
       "      <th>4</th>\n",
       "      <td>102</td>\n",
       "      <td>2423479</td>\n",
       "      <td>195824.0</td>\n",
       "      <td>Uropterygius macrocephalus</td>\n",
       "      <td>1</td>\n",
       "      <td>1</td>\n",
       "      <td>1</td>\n",
       "      <td>IUCN Marine Biodiversity Unit/GMSA</td>\n",
       "      <td>2018</td>\n",
       "      <td>IUCN Marine Biodiversity Unit/GMSA</td>\n",
       "      <td>Extant (resident)</td>\n",
       "      <td>None</td>\n",
       "      <td>None</td>\n",
       "      <td>None</td>\n",
       "      <td>None</td>\n",
       "      <td>None</td>\n",
       "      <td>Least Concern</td>\n",
       "      <td>Uropterygius macrocephalus</td>\n",
       "      <td>MULTIPOLYGON (((144.23853 -3.82053, 144.24330 ...</td>\n",
       "    </tr>\n",
       "    <tr>\n",
       "      <th>...</th>\n",
       "      <td>...</td>\n",
       "      <td>...</td>\n",
       "      <td>...</td>\n",
       "      <td>...</td>\n",
       "      <td>...</td>\n",
       "      <td>...</td>\n",
       "      <td>...</td>\n",
       "      <td>...</td>\n",
       "      <td>...</td>\n",
       "      <td>...</td>\n",
       "      <td>...</td>\n",
       "      <td>...</td>\n",
       "      <td>...</td>\n",
       "      <td>...</td>\n",
       "      <td>...</td>\n",
       "      <td>...</td>\n",
       "      <td>...</td>\n",
       "      <td>...</td>\n",
       "      <td>...</td>\n",
       "    </tr>\n",
       "    <tr>\n",
       "      <th>635</th>\n",
       "      <td>133</td>\n",
       "      <td>156932432</td>\n",
       "      <td>22563.0</td>\n",
       "      <td>Tursiops truncatus</td>\n",
       "      <td>1</td>\n",
       "      <td>1</td>\n",
       "      <td>1</td>\n",
       "      <td>IUCN</td>\n",
       "      <td>2019</td>\n",
       "      <td>IUCN (International Union for Conservation of ...</td>\n",
       "      <td>Extant (resident)</td>\n",
       "      <td>None</td>\n",
       "      <td>None</td>\n",
       "      <td>None</td>\n",
       "      <td>None</td>\n",
       "      <td>None</td>\n",
       "      <td>Least Concern</td>\n",
       "      <td>Tursiops truncatus</td>\n",
       "      <td>MULTIPOLYGON (((5.12308 60.65136, 5.13625 60.6...</td>\n",
       "    </tr>\n",
       "    <tr>\n",
       "      <th>636</th>\n",
       "      <td>137</td>\n",
       "      <td>160983555</td>\n",
       "      <td>41755.0</td>\n",
       "      <td>Physeter macrocephalus</td>\n",
       "      <td>1</td>\n",
       "      <td>1</td>\n",
       "      <td>1</td>\n",
       "      <td>IUCN</td>\n",
       "      <td>2019</td>\n",
       "      <td>International Union for Conservation of Nature...</td>\n",
       "      <td>Extant (resident)</td>\n",
       "      <td>None</td>\n",
       "      <td>None</td>\n",
       "      <td>None</td>\n",
       "      <td>None</td>\n",
       "      <td>None</td>\n",
       "      <td>Vulnerable</td>\n",
       "      <td>Physeter macrocephalus</td>\n",
       "      <td>MULTIPOLYGON (((139.58461 -36.06409, 139.58937...</td>\n",
       "    </tr>\n",
       "    <tr>\n",
       "      <th>637</th>\n",
       "      <td>139</td>\n",
       "      <td>176550858</td>\n",
       "      <td>110847130.0</td>\n",
       "      <td>Mobula mobular</td>\n",
       "      <td>3</td>\n",
       "      <td>1</td>\n",
       "      <td>1</td>\n",
       "      <td>IUCN SSC Shark Specialist Group</td>\n",
       "      <td>2018</td>\n",
       "      <td>IUCN SSC Shark Specialist Group</td>\n",
       "      <td>Possibly Extant (resident)</td>\n",
       "      <td>None</td>\n",
       "      <td>None</td>\n",
       "      <td>None</td>\n",
       "      <td>None</td>\n",
       "      <td>None</td>\n",
       "      <td>Endangered</td>\n",
       "      <td>Mobula mobular</td>\n",
       "      <td>MULTIPOLYGON (((-90.53246 29.30669, -90.52809 ...</td>\n",
       "    </tr>\n",
       "    <tr>\n",
       "      <th>638</th>\n",
       "      <td>140</td>\n",
       "      <td>178929751</td>\n",
       "      <td>20738.0</td>\n",
       "      <td>Steno bredanensis</td>\n",
       "      <td>1</td>\n",
       "      <td>1</td>\n",
       "      <td>1</td>\n",
       "      <td>IUCN</td>\n",
       "      <td>2012</td>\n",
       "      <td>IUCN (International Union for Conservation of ...</td>\n",
       "      <td>Extant (resident)</td>\n",
       "      <td>None</td>\n",
       "      <td>None</td>\n",
       "      <td>None</td>\n",
       "      <td>None</td>\n",
       "      <td>None</td>\n",
       "      <td>Least Concern</td>\n",
       "      <td>Steno bredanensis</td>\n",
       "      <td>MULTIPOLYGON (((67.40459 24.07050, 67.40503 24...</td>\n",
       "    </tr>\n",
       "    <tr>\n",
       "      <th>639</th>\n",
       "      <td>141</td>\n",
       "      <td>194720078</td>\n",
       "      <td>4292.0</td>\n",
       "      <td>Cetorhinus maximus</td>\n",
       "      <td>1</td>\n",
       "      <td>1</td>\n",
       "      <td>1</td>\n",
       "      <td>IUCN SSC Shark Specialist Group</td>\n",
       "      <td>2018</td>\n",
       "      <td>IUCN SSC Shark Specialist Group</td>\n",
       "      <td>Extant (resident)</td>\n",
       "      <td>None</td>\n",
       "      <td>None</td>\n",
       "      <td>None</td>\n",
       "      <td>None</td>\n",
       "      <td>None</td>\n",
       "      <td>Endangered</td>\n",
       "      <td>Cetorhinus maximus</td>\n",
       "      <td>MULTIPOLYGON (((-171.24258 -4.44613, -171.2437...</td>\n",
       "    </tr>\n",
       "  </tbody>\n",
       "</table>\n",
       "<p>640 rows × 19 columns</p>\n",
       "</div>"
      ],
      "text/plain": [
       "     index ASSESSMENT        ID_NO                    BINOMIAL PRESENCE  \\\n",
       "0        3    1506081     177969.0        Acanthurus nigricans        1   \n",
       "1       10    1512439     177988.0              Naso annulatus        1   \n",
       "2       13    1517273     178002.0            Naso hexacanthus        1   \n",
       "3       97    2412930     195754.0       Gymnothorax meleagris        1   \n",
       "4      102    2423479     195824.0  Uropterygius macrocephalus        1   \n",
       "..     ...        ...          ...                         ...      ...   \n",
       "635    133  156932432      22563.0          Tursiops truncatus        1   \n",
       "636    137  160983555      41755.0      Physeter macrocephalus        1   \n",
       "637    139  176550858  110847130.0              Mobula mobular        3   \n",
       "638    140  178929751      20738.0           Steno bredanensis        1   \n",
       "639    141  194720078       4292.0          Cetorhinus maximus        1   \n",
       "\n",
       "    ORIGIN SEASONAL                            COMPILER  YEAR  \\\n",
       "0        1        1                  Jonnell Sanciangco  2010   \n",
       "1        1        1                  Jonnell Sanciangco  2010   \n",
       "2        1        1                  Jonnell Sanciangco  2010   \n",
       "3        1        1  IUCN Marine Biodiversity Unit/GMSA  2018   \n",
       "4        1        1  IUCN Marine Biodiversity Unit/GMSA  2018   \n",
       "..     ...      ...                                 ...   ...   \n",
       "635      1        1                                IUCN  2019   \n",
       "636      1        1                                IUCN  2019   \n",
       "637      1        1     IUCN SSC Shark Specialist Group  2018   \n",
       "638      1        1                                IUCN  2012   \n",
       "639      1        1     IUCN SSC Shark Specialist Group  2018   \n",
       "\n",
       "                                              CITATION  \\\n",
       "0    International Union for Conservation of Nature...   \n",
       "1    International Union for Conservation of Nature...   \n",
       "2    International Union for Conservation of Nature...   \n",
       "3                   IUCN Marine Biodiversity Unit/GMSA   \n",
       "4                   IUCN Marine Biodiversity Unit/GMSA   \n",
       "..                                                 ...   \n",
       "635  IUCN (International Union for Conservation of ...   \n",
       "636  International Union for Conservation of Nature...   \n",
       "637                    IUCN SSC Shark Specialist Group   \n",
       "638  IUCN (International Union for Conservation of ...   \n",
       "639                    IUCN SSC Shark Specialist Group   \n",
       "\n",
       "                         LEGEND SUBSPECIES SUBPOP DIST_COMM ISLAND TAX_COMM  \\\n",
       "0             Extant (resident)       None   None      None   None     None   \n",
       "1             Extant (resident)       None   None      None   None     None   \n",
       "2             Extant (resident)       None   None      None   None     None   \n",
       "3             Extant (resident)       None   None      None   None     None   \n",
       "4             Extant (resident)       None   None      None   None     None   \n",
       "..                          ...        ...    ...       ...    ...      ...   \n",
       "635           Extant (resident)       None   None      None   None     None   \n",
       "636           Extant (resident)       None   None      None   None     None   \n",
       "637  Possibly Extant (resident)       None   None      None   None     None   \n",
       "638           Extant (resident)       None   None      None   None     None   \n",
       "639           Extant (resident)       None   None      None   None     None   \n",
       "\n",
       "        redlistCat                  scientific  \\\n",
       "0    Least Concern        Acanthurus nigricans   \n",
       "1    Least Concern              Naso annulatus   \n",
       "2    Least Concern            Naso hexacanthus   \n",
       "3    Least Concern       Gymnothorax meleagris   \n",
       "4    Least Concern  Uropterygius macrocephalus   \n",
       "..             ...                         ...   \n",
       "635  Least Concern          Tursiops truncatus   \n",
       "636     Vulnerable      Physeter macrocephalus   \n",
       "637     Endangered              Mobula mobular   \n",
       "638  Least Concern           Steno bredanensis   \n",
       "639     Endangered          Cetorhinus maximus   \n",
       "\n",
       "                                              geometry  \n",
       "0    MULTIPOLYGON (((109.79501 6.13966, 109.89836 6...  \n",
       "1    MULTIPOLYGON (((109.79501 6.13966, 109.89836 6...  \n",
       "2    MULTIPOLYGON (((99.07516 7.94581, 99.07794 7.9...  \n",
       "3    MULTIPOLYGON (((144.23853 -3.82053, 144.24330 ...  \n",
       "4    MULTIPOLYGON (((144.23853 -3.82053, 144.24330 ...  \n",
       "..                                                 ...  \n",
       "635  MULTIPOLYGON (((5.12308 60.65136, 5.13625 60.6...  \n",
       "636  MULTIPOLYGON (((139.58461 -36.06409, 139.58937...  \n",
       "637  MULTIPOLYGON (((-90.53246 29.30669, -90.52809 ...  \n",
       "638  MULTIPOLYGON (((67.40459 24.07050, 67.40503 24...  \n",
       "639  MULTIPOLYGON (((-171.24258 -4.44613, -171.2437...  \n",
       "\n",
       "[640 rows x 19 columns]"
      ]
     },
     "execution_count": 20,
     "metadata": {},
     "output_type": "execute_result"
    }
   ],
   "source": [
    "df1"
   ]
  },
  {
   "cell_type": "code",
   "execution_count": 21,
   "metadata": {
    "scrolled": true
   },
   "outputs": [
    {
     "name": "stdout",
     "output_type": "stream",
     "text": [
      "There are 640 unique species in this dataset.\n"
     ]
    }
   ],
   "source": [
    "print(\"There are \" + str(len(df1)) + \" unique species in this dataset.\")"
   ]
  },
  {
   "cell_type": "markdown",
   "metadata": {},
   "source": [
    "### Setup Dask Cluster\n",
    "\n",
    "This will setup the backend infrastructure to run tasks in parallel. Click on the link that displays below to monitor the actual tasks and how they're being processed.\n",
    "\n",
    "General note for dask: it uses lazy computation, so unless you call a \\<dask-geopandas dataframe>.compute() or use a function that requires computation, it will not show any results."
   ]
  },
  {
   "cell_type": "code",
   "execution_count": 22,
   "metadata": {},
   "outputs": [
    {
     "name": "stdout",
     "output_type": "stream",
     "text": [
      "<Client: 'tls://10.244.29.12:8786' processes=0 threads=0, memory=0 B>\n",
      "https://pccompute.westeurope.cloudapp.azure.com/compute/services/dask-gateway/clusters/prod.d3e9314c6fe04587bca429cde698dbdb/status\n"
     ]
    }
   ],
   "source": [
    "setup_dask_cluster()\n",
    "df = dgpd.from_geopandas(df1, npartitions=100)"
   ]
  },
  {
   "cell_type": "code",
   "execution_count": null,
   "metadata": {},
   "outputs": [],
   "source": [
    "df"
   ]
  },
  {
   "cell_type": "markdown",
   "metadata": {
    "jp-MarkdownHeadingCollapsed": true,
    "tags": []
   },
   "source": [
    "### Alt method\n",
    "\n",
    "Doesnt work :("
   ]
  },
  {
   "cell_type": "code",
   "execution_count": null,
   "metadata": {},
   "outputs": [],
   "source": [
    "from dask.delayed import delayed\n",
    "import fiona\n",
    "import dask.dataframe as dd\n",
    "\n",
    "def read_file_gpd(path, npartitions):\n",
    "    \n",
    "    with fiona.open(path) as collection:\n",
    "        total_size = collection.session.get_length()\n",
    "    \n",
    "    # TODO smart inference for a good default partition size\n",
    "    batch_size = (total_size // npartitions) + 1\n",
    "    \n",
    "    row_offset = 0\n",
    "    dfs = []\n",
    "    \n",
    "    while row_offset < total_size:\n",
    "        rows = slice(row_offset, min(row_offset + batch_size, total_size))\n",
    "        df = delayed(gpd.read_file)(path, rows=rows)\n",
    "        dfs.append(df)\n",
    "        row_offset += batch_size\n",
    "    \n",
    "    # TODO this could be inferred from fiona's collection.meta[\"schema\"]\n",
    "    meta = gpd.read_file(path, rows=5)\n",
    "    \n",
    "    return dd.from_delayed(dfs, meta)"
   ]
  },
  {
   "cell_type": "code",
   "execution_count": null,
   "metadata": {},
   "outputs": [],
   "source": [
    "df = read_file_gpd('AMMB_IUCN_data/gdf_AMMB_IUCN_range_status_filtered.shp', npartitions=100)"
   ]
  },
  {
   "cell_type": "code",
   "execution_count": null,
   "metadata": {},
   "outputs": [],
   "source": [
    "type(df)"
   ]
  },
  {
   "cell_type": "code",
   "execution_count": null,
   "metadata": {},
   "outputs": [],
   "source": [
    "setup_dask_cluster()\n",
    "df.head().compute()"
   ]
  },
  {
   "cell_type": "markdown",
   "metadata": {
    "tags": []
   },
   "source": [
    "### Method2: Load into dask-geopandas directly\n",
    "\n",
    "Currently has some problems with loading pygrio (required by dgpd.read_file), but is the ideal way. Do not use right now"
   ]
  },
  {
   "cell_type": "code",
   "execution_count": null,
   "metadata": {},
   "outputs": [],
   "source": [
    "!pip install pyogrio"
   ]
  },
  {
   "cell_type": "code",
   "execution_count": null,
   "metadata": {},
   "outputs": [],
   "source": [
    "from dask_utils import *"
   ]
  },
  {
   "cell_type": "code",
   "execution_count": null,
   "metadata": {},
   "outputs": [],
   "source": [
    "import pyogrio\n",
    "import dask_gateway\n",
    "setup_dask_cluster(dask_gateway)"
   ]
  },
  {
   "cell_type": "markdown",
   "metadata": {},
   "source": [
    "## Convert to Dask Geopandas"
   ]
  },
  {
   "cell_type": "code",
   "execution_count": null,
   "metadata": {},
   "outputs": [],
   "source": [
    "# df = dgpd.from_geopandas(df, npartitions=100)\n",
    "# oceanprogram-internal/biodiversity/WEGE/AMMB_IUCN_data/gdf_ACMC_IUCN_range_status_filtered.shp\n",
    "df = dgpd.read_file('AMMB_IUCN_data/gdf_ACMC_IUCN_range_status_filtered.shp', npartitions=100)"
   ]
  },
  {
   "cell_type": "code",
   "execution_count": null,
   "metadata": {},
   "outputs": [],
   "source": [
    "print(\"The columns are:\")\n",
    "print(df.columns)"
   ]
  },
  {
   "cell_type": "code",
   "execution_count": null,
   "metadata": {},
   "outputs": [],
   "source": [
    "# setup_dask_cluster()\n",
    "df.head().compute()"
   ]
  },
  {
   "cell_type": "markdown",
   "metadata": {},
   "source": [
    "## Continue"
   ]
  },
  {
   "cell_type": "code",
   "execution_count": null,
   "metadata": {},
   "outputs": [],
   "source": [
    "#len(df) #requires compute\n",
    "df.count().compute()"
   ]
  },
  {
   "cell_type": "markdown",
   "metadata": {},
   "source": [
    "Super annoying ESRI note: the column headers are cropped to 10 characters.\n",
    "\n",
    "`redlistCat` = `redlistCategory`\n",
    "\n",
    "`scientific` = `scientificName`"
   ]
  },
  {
   "cell_type": "code",
   "execution_count": 24,
   "metadata": {},
   "outputs": [
    {
     "name": "stdout",
     "output_type": "stream",
     "text": [
      "There are the following conservation statuses:\n",
      "0            Least Concern\n",
      "1               Vulnerable\n",
      "2           Data Deficient\n",
      "3          Near Threatened\n",
      "4               Endangered\n",
      "5    Critically Endangered\n",
      "Name: redlistCat, dtype: object\n"
     ]
    }
   ],
   "source": [
    "print(\"There are the following conservation statuses:\")\n",
    "print(df.redlistCat.unique().compute())"
   ]
  },
  {
   "cell_type": "code",
   "execution_count": null,
   "metadata": {},
   "outputs": [],
   "source": [
    "for status in df.redlistCat.unique():\n",
    "    print(\"There are \" + str(len(df[df.redlistCat==status])) + \\\n",
    "          \" species with the status \" + status)"
   ]
  },
  {
   "cell_type": "code",
   "execution_count": 25,
   "metadata": {},
   "outputs": [
    {
     "name": "stdout",
     "output_type": "stream",
     "text": [
      "The species with the status Critically Endangered are :\n",
      "566    Carcharhinus longimanus\n",
      "573     Eretmochelys imbricata\n",
      "631            Pristis pristis\n",
      "Name: BINOMIAL, dtype: object\n"
     ]
    }
   ],
   "source": [
    "print(\"The species with the status Critically Endangered are :\")\n",
    "print(df[df.redlistCat=='Critically Endangered'].BINOMIAL.compute())"
   ]
  },
  {
   "cell_type": "markdown",
   "metadata": {},
   "source": [
    "- *Carcharhinus longimanus* is Oceanic whitetip shark\n",
    "- *Eretmochelys imbricata* is Hawksbill sea turtle\n",
    "- *Pristis pristis* is Largetooth sawfish"
   ]
  },
  {
   "cell_type": "markdown",
   "metadata": {},
   "source": [
    "<h1> 2. Preliminary calculations </h1> "
   ]
  },
  {
   "cell_type": "code",
   "execution_count": 26,
   "metadata": {},
   "outputs": [],
   "source": [
    "area_of_conservation = AMMB.geometry.item()"
   ]
  },
  {
   "cell_type": "markdown",
   "metadata": {},
   "source": [
    "<h2> Modulating Factor : Distribution area </h2>"
   ]
  },
  {
   "cell_type": "markdown",
   "metadata": {},
   "source": [
    "First: DistRatio = $\\frac{\\text{total conservation area}}{\\text{distribution area}}$"
   ]
  },
  {
   "cell_type": "code",
   "execution_count": null,
   "metadata": {},
   "outputs": [],
   "source": [
    "df[\"DistRatio\"] = area_of_conservation.area/df.area\n",
    "df[\"DistFactorPerc\"] = 100*(1+df.DistRatio)\n",
    "df.head().DistRatio"
   ]
  },
  {
   "cell_type": "markdown",
   "metadata": {},
   "source": [
    "Note:\n",
    "`df.loc[[110, 153, 157, 86, 87]].DistRatio`\n",
    "shows\n",
    "```\n",
    "110    0.000358\n",
    "153    0.000409\n",
    "157    0.000998\n",
    "86     0.001967\n",
    "87     0.000718\n",
    "Name: DistRatio, dtype: float64\n",
    "```\n",
    "and\n",
    "`AMMB_IUCN_df1.head().DistRatio`\n",
    "showed\n",
    "```\n",
    "110    0.000358\n",
    "153    0.000409\n",
    "157    0.000998\n",
    "86     0.001967\n",
    "87     0.000718\n",
    "Name: DistRatio, dtype: float64\n",
    "```"
   ]
  },
  {
   "cell_type": "markdown",
   "metadata": {},
   "source": [
    "Second: DistRatio = $\\frac{\\text{distribution area within total conservation area}}{\\text{total distribution area}}$"
   ]
  },
  {
   "cell_type": "code",
   "execution_count": 33,
   "metadata": {},
   "outputs": [
    {
     "ename": "TypeError",
     "evalue": "operand type(s) all returned NotImplemented from __array_ufunc__(<ufunc 'true_divide'>, '__call__', array([2.73215618]), Dask Series Structure:\nnpartitions=92\n0      float64\n7          ...\n        ...   \n637        ...\n639        ...\ndtype: float64\nDask Name: area, 1656 tasks): 'ndarray', 'Series'",
     "output_type": "error",
     "traceback": [
      "\u001b[0;31m---------------------------------------------------------------------------\u001b[0m",
      "\u001b[0;31mTypeError\u001b[0m                                 Traceback (most recent call last)",
      "Input \u001b[0;32mIn [33]\u001b[0m, in \u001b[0;36m<cell line: 7>\u001b[0;34m()\u001b[0m\n\u001b[1;32m      7\u001b[0m \u001b[38;5;28;01mfor\u001b[39;00m \u001b[38;5;28miter\u001b[39m, row \u001b[38;5;129;01min\u001b[39;00m df\u001b[38;5;241m.\u001b[39miterrows():\n\u001b[1;32m      9\u001b[0m     df_intersect \u001b[38;5;241m=\u001b[39m df[df\u001b[38;5;241m.\u001b[39mBINOMIAL\u001b[38;5;241m==\u001b[39mrow\u001b[38;5;241m.\u001b[39mBINOMIAL]\u001b[38;5;241m.\u001b[39mcompute()\u001b[38;5;241m.\u001b[39mintersection(area_of_conservation)\n\u001b[0;32m---> 10\u001b[0m     ratio2 \u001b[38;5;241m=\u001b[39m (\u001b[43mdf_intersect\u001b[49m\u001b[38;5;241;43m.\u001b[39;49m\u001b[43marea\u001b[49m\u001b[38;5;241;43m/\u001b[39;49m\u001b[43mdf\u001b[49m\u001b[43m[\u001b[49m\u001b[43mdf\u001b[49m\u001b[38;5;241;43m.\u001b[39;49m\u001b[43mBINOMIAL\u001b[49m\u001b[38;5;241;43m==\u001b[39;49m\u001b[43mrow\u001b[49m\u001b[38;5;241;43m.\u001b[39;49m\u001b[43mBINOMIAL\u001b[49m\u001b[43m]\u001b[49m\u001b[38;5;241;43m.\u001b[39;49m\u001b[43marea\u001b[49m)\u001b[38;5;241m.\u001b[39msum()\n\u001b[1;32m     12\u001b[0m     DistRatio2\u001b[38;5;241m.\u001b[39mappend(ratio2)\n\u001b[1;32m     13\u001b[0m     DistFactorPerc2\u001b[38;5;241m.\u001b[39mappend(\u001b[38;5;241m100\u001b[39m\u001b[38;5;241m*\u001b[39mratio2)\n",
      "File \u001b[0;32m/srv/conda/envs/notebook/lib/python3.8/site-packages/pandas/core/ops/common.py:70\u001b[0m, in \u001b[0;36m_unpack_zerodim_and_defer.<locals>.new_method\u001b[0;34m(self, other)\u001b[0m\n\u001b[1;32m     66\u001b[0m             \u001b[38;5;28;01mreturn\u001b[39;00m \u001b[38;5;28mNotImplemented\u001b[39m\n\u001b[1;32m     68\u001b[0m other \u001b[38;5;241m=\u001b[39m item_from_zerodim(other)\n\u001b[0;32m---> 70\u001b[0m \u001b[38;5;28;01mreturn\u001b[39;00m \u001b[43mmethod\u001b[49m\u001b[43m(\u001b[49m\u001b[38;5;28;43mself\u001b[39;49m\u001b[43m,\u001b[49m\u001b[43m \u001b[49m\u001b[43mother\u001b[49m\u001b[43m)\u001b[49m\n",
      "File \u001b[0;32m/srv/conda/envs/notebook/lib/python3.8/site-packages/pandas/core/arraylike.py:124\u001b[0m, in \u001b[0;36mOpsMixin.__truediv__\u001b[0;34m(self, other)\u001b[0m\n\u001b[1;32m    122\u001b[0m \u001b[38;5;129m@unpack_zerodim_and_defer\u001b[39m(\u001b[38;5;124m\"\u001b[39m\u001b[38;5;124m__truediv__\u001b[39m\u001b[38;5;124m\"\u001b[39m)\n\u001b[1;32m    123\u001b[0m \u001b[38;5;28;01mdef\u001b[39;00m \u001b[38;5;21m__truediv__\u001b[39m(\u001b[38;5;28mself\u001b[39m, other):\n\u001b[0;32m--> 124\u001b[0m     \u001b[38;5;28;01mreturn\u001b[39;00m \u001b[38;5;28;43mself\u001b[39;49m\u001b[38;5;241;43m.\u001b[39;49m\u001b[43m_arith_method\u001b[49m\u001b[43m(\u001b[49m\u001b[43mother\u001b[49m\u001b[43m,\u001b[49m\u001b[43m \u001b[49m\u001b[43moperator\u001b[49m\u001b[38;5;241;43m.\u001b[39;49m\u001b[43mtruediv\u001b[49m\u001b[43m)\u001b[49m\n",
      "File \u001b[0;32m/srv/conda/envs/notebook/lib/python3.8/site-packages/pandas/core/series.py:5639\u001b[0m, in \u001b[0;36mSeries._arith_method\u001b[0;34m(self, other, op)\u001b[0m\n\u001b[1;32m   5637\u001b[0m \u001b[38;5;28;01mdef\u001b[39;00m \u001b[38;5;21m_arith_method\u001b[39m(\u001b[38;5;28mself\u001b[39m, other, op):\n\u001b[1;32m   5638\u001b[0m     \u001b[38;5;28mself\u001b[39m, other \u001b[38;5;241m=\u001b[39m ops\u001b[38;5;241m.\u001b[39malign_method_SERIES(\u001b[38;5;28mself\u001b[39m, other)\n\u001b[0;32m-> 5639\u001b[0m     \u001b[38;5;28;01mreturn\u001b[39;00m \u001b[43mbase\u001b[49m\u001b[38;5;241;43m.\u001b[39;49m\u001b[43mIndexOpsMixin\u001b[49m\u001b[38;5;241;43m.\u001b[39;49m\u001b[43m_arith_method\u001b[49m\u001b[43m(\u001b[49m\u001b[38;5;28;43mself\u001b[39;49m\u001b[43m,\u001b[49m\u001b[43m \u001b[49m\u001b[43mother\u001b[49m\u001b[43m,\u001b[49m\u001b[43m \u001b[49m\u001b[43mop\u001b[49m\u001b[43m)\u001b[49m\n",
      "File \u001b[0;32m/srv/conda/envs/notebook/lib/python3.8/site-packages/pandas/core/base.py:1295\u001b[0m, in \u001b[0;36mIndexOpsMixin._arith_method\u001b[0;34m(self, other, op)\u001b[0m\n\u001b[1;32m   1292\u001b[0m rvalues \u001b[38;5;241m=\u001b[39m ensure_wrapped_if_datetimelike(rvalues)\n\u001b[1;32m   1294\u001b[0m \u001b[38;5;28;01mwith\u001b[39;00m np\u001b[38;5;241m.\u001b[39merrstate(\u001b[38;5;28mall\u001b[39m\u001b[38;5;241m=\u001b[39m\u001b[38;5;124m\"\u001b[39m\u001b[38;5;124mignore\u001b[39m\u001b[38;5;124m\"\u001b[39m):\n\u001b[0;32m-> 1295\u001b[0m     result \u001b[38;5;241m=\u001b[39m \u001b[43mops\u001b[49m\u001b[38;5;241;43m.\u001b[39;49m\u001b[43marithmetic_op\u001b[49m\u001b[43m(\u001b[49m\u001b[43mlvalues\u001b[49m\u001b[43m,\u001b[49m\u001b[43m \u001b[49m\u001b[43mrvalues\u001b[49m\u001b[43m,\u001b[49m\u001b[43m \u001b[49m\u001b[43mop\u001b[49m\u001b[43m)\u001b[49m\n\u001b[1;32m   1297\u001b[0m \u001b[38;5;28;01mreturn\u001b[39;00m \u001b[38;5;28mself\u001b[39m\u001b[38;5;241m.\u001b[39m_construct_result(result, name\u001b[38;5;241m=\u001b[39mres_name)\n",
      "File \u001b[0;32m/srv/conda/envs/notebook/lib/python3.8/site-packages/pandas/core/ops/array_ops.py:222\u001b[0m, in \u001b[0;36marithmetic_op\u001b[0;34m(left, right, op)\u001b[0m\n\u001b[1;32m    217\u001b[0m \u001b[38;5;28;01melse\u001b[39;00m:\n\u001b[1;32m    218\u001b[0m     \u001b[38;5;66;03m# TODO we should handle EAs consistently and move this check before the if/else\u001b[39;00m\n\u001b[1;32m    219\u001b[0m     \u001b[38;5;66;03m# (https://github.com/pandas-dev/pandas/issues/41165)\u001b[39;00m\n\u001b[1;32m    220\u001b[0m     _bool_arith_check(op, left, right)\n\u001b[0;32m--> 222\u001b[0m     res_values \u001b[38;5;241m=\u001b[39m \u001b[43m_na_arithmetic_op\u001b[49m\u001b[43m(\u001b[49m\u001b[43mleft\u001b[49m\u001b[43m,\u001b[49m\u001b[43m \u001b[49m\u001b[43mright\u001b[49m\u001b[43m,\u001b[49m\u001b[43m \u001b[49m\u001b[43mop\u001b[49m\u001b[43m)\u001b[49m\n\u001b[1;32m    224\u001b[0m \u001b[38;5;28;01mreturn\u001b[39;00m res_values\n",
      "File \u001b[0;32m/srv/conda/envs/notebook/lib/python3.8/site-packages/pandas/core/ops/array_ops.py:163\u001b[0m, in \u001b[0;36m_na_arithmetic_op\u001b[0;34m(left, right, op, is_cmp)\u001b[0m\n\u001b[1;32m    160\u001b[0m     func \u001b[38;5;241m=\u001b[39m partial(expressions\u001b[38;5;241m.\u001b[39mevaluate, op)\n\u001b[1;32m    162\u001b[0m \u001b[38;5;28;01mtry\u001b[39;00m:\n\u001b[0;32m--> 163\u001b[0m     result \u001b[38;5;241m=\u001b[39m \u001b[43mfunc\u001b[49m\u001b[43m(\u001b[49m\u001b[43mleft\u001b[49m\u001b[43m,\u001b[49m\u001b[43m \u001b[49m\u001b[43mright\u001b[49m\u001b[43m)\u001b[49m\n\u001b[1;32m    164\u001b[0m \u001b[38;5;28;01mexcept\u001b[39;00m \u001b[38;5;167;01mTypeError\u001b[39;00m:\n\u001b[1;32m    165\u001b[0m     \u001b[38;5;28;01mif\u001b[39;00m \u001b[38;5;129;01mnot\u001b[39;00m is_cmp \u001b[38;5;129;01mand\u001b[39;00m (is_object_dtype(left\u001b[38;5;241m.\u001b[39mdtype) \u001b[38;5;129;01mor\u001b[39;00m is_object_dtype(right)):\n\u001b[1;32m    166\u001b[0m         \u001b[38;5;66;03m# For object dtype, fallback to a masked operation (only operating\u001b[39;00m\n\u001b[1;32m    167\u001b[0m         \u001b[38;5;66;03m#  on the non-missing values)\u001b[39;00m\n\u001b[1;32m    168\u001b[0m         \u001b[38;5;66;03m# Don't do this for comparisons, as that will handle complex numbers\u001b[39;00m\n\u001b[1;32m    169\u001b[0m         \u001b[38;5;66;03m#  incorrectly, see GH#32047\u001b[39;00m\n",
      "File \u001b[0;32m/srv/conda/envs/notebook/lib/python3.8/site-packages/pandas/core/computation/expressions.py:239\u001b[0m, in \u001b[0;36mevaluate\u001b[0;34m(op, a, b, use_numexpr)\u001b[0m\n\u001b[1;32m    236\u001b[0m \u001b[38;5;28;01mif\u001b[39;00m op_str \u001b[38;5;129;01mis\u001b[39;00m \u001b[38;5;129;01mnot\u001b[39;00m \u001b[38;5;28;01mNone\u001b[39;00m:\n\u001b[1;32m    237\u001b[0m     \u001b[38;5;28;01mif\u001b[39;00m use_numexpr:\n\u001b[1;32m    238\u001b[0m         \u001b[38;5;66;03m# error: \"None\" not callable\u001b[39;00m\n\u001b[0;32m--> 239\u001b[0m         \u001b[38;5;28;01mreturn\u001b[39;00m \u001b[43m_evaluate\u001b[49m\u001b[43m(\u001b[49m\u001b[43mop\u001b[49m\u001b[43m,\u001b[49m\u001b[43m \u001b[49m\u001b[43mop_str\u001b[49m\u001b[43m,\u001b[49m\u001b[43m \u001b[49m\u001b[43ma\u001b[49m\u001b[43m,\u001b[49m\u001b[43m \u001b[49m\u001b[43mb\u001b[49m\u001b[43m)\u001b[49m  \u001b[38;5;66;03m# type: ignore[misc]\u001b[39;00m\n\u001b[1;32m    240\u001b[0m \u001b[38;5;28;01mreturn\u001b[39;00m _evaluate_standard(op, op_str, a, b)\n",
      "File \u001b[0;32m/srv/conda/envs/notebook/lib/python3.8/site-packages/pandas/core/computation/expressions.py:69\u001b[0m, in \u001b[0;36m_evaluate_standard\u001b[0;34m(op, op_str, a, b)\u001b[0m\n\u001b[1;32m     67\u001b[0m \u001b[38;5;28;01mif\u001b[39;00m _TEST_MODE:\n\u001b[1;32m     68\u001b[0m     _store_test_result(\u001b[38;5;28;01mFalse\u001b[39;00m)\n\u001b[0;32m---> 69\u001b[0m \u001b[38;5;28;01mreturn\u001b[39;00m \u001b[43mop\u001b[49m\u001b[43m(\u001b[49m\u001b[43ma\u001b[49m\u001b[43m,\u001b[49m\u001b[43m \u001b[49m\u001b[43mb\u001b[49m\u001b[43m)\u001b[49m\n",
      "\u001b[0;31mTypeError\u001b[0m: operand type(s) all returned NotImplemented from __array_ufunc__(<ufunc 'true_divide'>, '__call__', array([2.73215618]), Dask Series Structure:\nnpartitions=92\n0      float64\n7          ...\n        ...   \n637        ...\n639        ...\ndtype: float64\nDask Name: area, 1656 tasks): 'ndarray', 'Series'"
     ]
    },
    {
     "name": "stderr",
     "output_type": "stream",
     "text": [
      "distributed.client - ERROR - Failed to reconnect to scheduler after 30.00 seconds, closing client\n",
      "Exception in callback None()\n",
      "handle: <Handle cancelled>\n",
      "Traceback (most recent call last):\n",
      "  File \"/srv/conda/envs/notebook/lib/python3.8/site-packages/tornado/iostream.py\", line 1391, in _do_ssl_handshake\n",
      "    self.socket.do_handshake()\n",
      "  File \"/srv/conda/envs/notebook/lib/python3.8/ssl.py\", line 1309, in do_handshake\n",
      "    self._sslobj.do_handshake()\n",
      "ssl.SSLEOFError: EOF occurred in violation of protocol (_ssl.c:1131)\n",
      "\n",
      "During handling of the above exception, another exception occurred:\n",
      "\n",
      "Traceback (most recent call last):\n",
      "  File \"/srv/conda/envs/notebook/lib/python3.8/asyncio/events.py\", line 81, in _run\n",
      "    self._context.run(self._callback, *self._args)\n",
      "  File \"/srv/conda/envs/notebook/lib/python3.8/site-packages/tornado/platform/asyncio.py\", line 189, in _handle_events\n",
      "    handler_func(fileobj, events)\n",
      "  File \"/srv/conda/envs/notebook/lib/python3.8/site-packages/tornado/iostream.py\", line 696, in _handle_events\n",
      "    self._handle_read()\n",
      "  File \"/srv/conda/envs/notebook/lib/python3.8/site-packages/tornado/iostream.py\", line 1478, in _handle_read\n",
      "    self._do_ssl_handshake()\n",
      "  File \"/srv/conda/envs/notebook/lib/python3.8/site-packages/tornado/iostream.py\", line 1400, in _do_ssl_handshake\n",
      "    return self.close(exc_info=err)\n",
      "  File \"/srv/conda/envs/notebook/lib/python3.8/site-packages/tornado/iostream.py\", line 611, in close\n",
      "    self._signal_closed()\n",
      "  File \"/srv/conda/envs/notebook/lib/python3.8/site-packages/tornado/iostream.py\", line 641, in _signal_closed\n",
      "    self._ssl_connect_future.exception()\n",
      "asyncio.exceptions.CancelledError\n"
     ]
    }
   ],
   "source": [
    "# Make new columns\n",
    "df[\"DistRatio2\"] = 0\n",
    "df[\"DistFactorPerc2\"] = 0\n",
    "DistRatio2 = []\n",
    "DistFactorPerc2 = []\n",
    "\n",
    "for iter, row in df.iterrows():\n",
    "    \n",
    "    df_intersect = df[df.BINOMIAL==row.BINOMIAL].compute().intersection(area_of_conservation)\n",
    "    ratio2 = (df_intersect.area/df[df.BINOMIAL==row.BINOMIAL].area).sum()\n",
    "\n",
    "    DistRatio2.append(ratio2)\n",
    "    DistFactorPerc2.append(100*ratio2)"
   ]
  },
  {
   "cell_type": "code",
   "execution_count": 31,
   "metadata": {},
   "outputs": [
    {
     "ename": "AttributeError",
     "evalue": "'list' object has no attribute 'compute'",
     "output_type": "error",
     "traceback": [
      "\u001b[0;31m---------------------------------------------------------------------------\u001b[0m",
      "\u001b[0;31mAttributeError\u001b[0m                            Traceback (most recent call last)",
      "Input \u001b[0;32mIn [31]\u001b[0m, in \u001b[0;36m<cell line: 1>\u001b[0;34m()\u001b[0m\n\u001b[0;32m----> 1\u001b[0m \u001b[43mDistRatio2\u001b[49m\u001b[38;5;241;43m.\u001b[39;49m\u001b[43mcompute\u001b[49m()\n",
      "\u001b[0;31mAttributeError\u001b[0m: 'list' object has no attribute 'compute'"
     ]
    }
   ],
   "source": [
    "DistRatio2.compute()"
   ]
  },
  {
   "cell_type": "code",
   "execution_count": 29,
   "metadata": {},
   "outputs": [
    {
     "ename": "TypeError",
     "evalue": "Column assignment doesn't support type list",
     "output_type": "error",
     "traceback": [
      "\u001b[0;31m---------------------------------------------------------------------------\u001b[0m",
      "\u001b[0;31mTypeError\u001b[0m                                 Traceback (most recent call last)",
      "Input \u001b[0;32mIn [29]\u001b[0m, in \u001b[0;36m<cell line: 1>\u001b[0;34m()\u001b[0m\n\u001b[0;32m----> 1\u001b[0m df[\u001b[38;5;124m\"\u001b[39m\u001b[38;5;124mDistRatio2\u001b[39m\u001b[38;5;124m\"\u001b[39m] \u001b[38;5;241m=\u001b[39m DistRatio2\n\u001b[1;32m      2\u001b[0m df[\u001b[38;5;124m\"\u001b[39m\u001b[38;5;124mDistFactorPerc2\u001b[39m\u001b[38;5;124m\"\u001b[39m] \u001b[38;5;241m=\u001b[39m DistFactorPerc2\n",
      "File \u001b[0;32m/srv/conda/envs/notebook/lib/python3.8/site-packages/dask/dataframe/core.py:4344\u001b[0m, in \u001b[0;36mDataFrame.__setitem__\u001b[0;34m(self, key, value)\u001b[0m\n\u001b[1;32m   4342\u001b[0m     \u001b[38;5;28;01mraise\u001b[39;00m \u001b[38;5;167;01mNotImplementedError\u001b[39;00m(\u001b[38;5;124mf\u001b[39m\u001b[38;5;124m\"\u001b[39m\u001b[38;5;124mItem assignment with \u001b[39m\u001b[38;5;132;01m{\u001b[39;00m\u001b[38;5;28mtype\u001b[39m(key)\u001b[38;5;132;01m}\u001b[39;00m\u001b[38;5;124m not supported\u001b[39m\u001b[38;5;124m\"\u001b[39m)\n\u001b[1;32m   4343\u001b[0m \u001b[38;5;28;01melse\u001b[39;00m:\n\u001b[0;32m-> 4344\u001b[0m     df \u001b[38;5;241m=\u001b[39m \u001b[38;5;28;43mself\u001b[39;49m\u001b[38;5;241;43m.\u001b[39;49m\u001b[43massign\u001b[49m\u001b[43m(\u001b[49m\u001b[38;5;241;43m*\u001b[39;49m\u001b[38;5;241;43m*\u001b[39;49m\u001b[43m{\u001b[49m\u001b[43mkey\u001b[49m\u001b[43m:\u001b[49m\u001b[43m \u001b[49m\u001b[43mvalue\u001b[49m\u001b[43m}\u001b[49m\u001b[43m)\u001b[49m\n\u001b[1;32m   4346\u001b[0m \u001b[38;5;28mself\u001b[39m\u001b[38;5;241m.\u001b[39mdask \u001b[38;5;241m=\u001b[39m df\u001b[38;5;241m.\u001b[39mdask\n\u001b[1;32m   4347\u001b[0m \u001b[38;5;28mself\u001b[39m\u001b[38;5;241m.\u001b[39m_name \u001b[38;5;241m=\u001b[39m df\u001b[38;5;241m.\u001b[39m_name\n",
      "File \u001b[0;32m/srv/conda/envs/notebook/lib/python3.8/site-packages/dask/dataframe/core.py:4686\u001b[0m, in \u001b[0;36mDataFrame.assign\u001b[0;34m(self, **kwargs)\u001b[0m\n\u001b[1;32m   4677\u001b[0m \u001b[38;5;28;01mfor\u001b[39;00m k, v \u001b[38;5;129;01min\u001b[39;00m kwargs\u001b[38;5;241m.\u001b[39mitems():\n\u001b[1;32m   4678\u001b[0m     \u001b[38;5;28;01mif\u001b[39;00m \u001b[38;5;129;01mnot\u001b[39;00m (\n\u001b[1;32m   4679\u001b[0m         \u001b[38;5;28misinstance\u001b[39m(v, Scalar)\n\u001b[1;32m   4680\u001b[0m         \u001b[38;5;129;01mor\u001b[39;00m is_series_like(v)\n\u001b[0;32m   (...)\u001b[0m\n\u001b[1;32m   4684\u001b[0m         \u001b[38;5;129;01mor\u001b[39;00m \u001b[38;5;28misinstance\u001b[39m(v, Array)\n\u001b[1;32m   4685\u001b[0m     ):\n\u001b[0;32m-> 4686\u001b[0m         \u001b[38;5;28;01mraise\u001b[39;00m \u001b[38;5;167;01mTypeError\u001b[39;00m(\n\u001b[1;32m   4687\u001b[0m             \u001b[38;5;124mf\u001b[39m\u001b[38;5;124m\"\u001b[39m\u001b[38;5;124mColumn assignment doesn\u001b[39m\u001b[38;5;124m'\u001b[39m\u001b[38;5;124mt support type \u001b[39m\u001b[38;5;132;01m{\u001b[39;00mtypename(\u001b[38;5;28mtype\u001b[39m(v))\u001b[38;5;132;01m}\u001b[39;00m\u001b[38;5;124m\"\u001b[39m\n\u001b[1;32m   4688\u001b[0m         )\n\u001b[1;32m   4689\u001b[0m     \u001b[38;5;28;01mif\u001b[39;00m callable(v):\n\u001b[1;32m   4690\u001b[0m         kwargs[k] \u001b[38;5;241m=\u001b[39m v(data)\n",
      "\u001b[0;31mTypeError\u001b[0m: Column assignment doesn't support type list"
     ]
    }
   ],
   "source": [
    "df[\"DistRatio2\"] = DistRatio2\n",
    "df[\"DistFactorPerc2\"] = DistFactorPerc2"
   ]
  },
  {
   "cell_type": "code",
   "execution_count": 26,
   "metadata": {},
   "outputs": [],
   "source": [
    "# Now remove all geometries that are outside the AMMB -> clip does the job\n",
    "df2 = gpd.clip(df.set_crs(epsg=4326, allow_override=True), AMMB)"
   ]
  },
  {
   "cell_type": "code",
   "execution_count": 27,
   "metadata": {},
   "outputs": [
    {
     "name": "stderr",
     "output_type": "stream",
     "text": [
      "/var/folders/49/kr188s7j3r72q0kcd15579680000gn/T/ipykernel_28030/3251184085.py:1: UserWarning: Geometry is in a geographic CRS. Results from 'area' are likely incorrect. Use 'GeoSeries.to_crs()' to re-project geometries to a projected CRS before this operation.\n",
      "\n",
      "  df2[\"DistRatio2\"] = df2.area/df.area\n"
     ]
    }
   ],
   "source": [
    "df2[\"DistRatio2\"] = df2.area/df.area\n",
    "df2[\"DistFactorPerc2\"] = 100 * df2.DistRatio2"
   ]
  },
  {
   "cell_type": "markdown",
   "metadata": {},
   "source": [
    "Verify:"
   ]
  },
  {
   "cell_type": "markdown",
   "metadata": {},
   "source": [
    "1) Maximum ratios"
   ]
  },
  {
   "cell_type": "code",
   "execution_count": 28,
   "metadata": {},
   "outputs": [
    {
     "name": "stdout",
     "output_type": "stream",
     "text": [
      "The species with the highest ratio of conservation area:distribution area is:\n"
     ]
    },
    {
     "data": {
      "text/html": [
       "<div>\n",
       "<style scoped>\n",
       "    .dataframe tbody tr th:only-of-type {\n",
       "        vertical-align: middle;\n",
       "    }\n",
       "\n",
       "    .dataframe tbody tr th {\n",
       "        vertical-align: top;\n",
       "    }\n",
       "\n",
       "    .dataframe thead th {\n",
       "        text-align: right;\n",
       "    }\n",
       "</style>\n",
       "<table border=\"1\" class=\"dataframe\">\n",
       "  <thead>\n",
       "    <tr style=\"text-align: right;\">\n",
       "      <th></th>\n",
       "      <th>ASSESSMENT</th>\n",
       "      <th>ID_NO</th>\n",
       "      <th>BINOMIAL</th>\n",
       "      <th>PRESENCE</th>\n",
       "      <th>ORIGIN</th>\n",
       "      <th>SEASONAL</th>\n",
       "      <th>COMPILER</th>\n",
       "      <th>YEAR</th>\n",
       "      <th>CITATION</th>\n",
       "      <th>LEGEND</th>\n",
       "      <th>...</th>\n",
       "      <th>DIST_COMM</th>\n",
       "      <th>ISLAND</th>\n",
       "      <th>TAX_COMM</th>\n",
       "      <th>redlistCat</th>\n",
       "      <th>scientific</th>\n",
       "      <th>geometry</th>\n",
       "      <th>DistRatio</th>\n",
       "      <th>DistFactorPerc</th>\n",
       "      <th>DistRatio2</th>\n",
       "      <th>DistFactorPerc2</th>\n",
       "    </tr>\n",
       "  </thead>\n",
       "  <tbody>\n",
       "    <tr>\n",
       "      <th>8</th>\n",
       "      <td>6743337</td>\n",
       "      <td>170313</td>\n",
       "      <td>Sarda orientalis</td>\n",
       "      <td>1</td>\n",
       "      <td>1</td>\n",
       "      <td>1</td>\n",
       "      <td>Jonnell Sanciangco</td>\n",
       "      <td>2011</td>\n",
       "      <td>International Union for Conservation of Nature...</td>\n",
       "      <td>Extant (resident)</td>\n",
       "      <td>...</td>\n",
       "      <td>None</td>\n",
       "      <td>None</td>\n",
       "      <td>None</td>\n",
       "      <td>Least Concern</td>\n",
       "      <td>Sarda orientalis</td>\n",
       "      <td>POLYGON ((-88.92429 6.18700, -88.52164 6.57100...</td>\n",
       "      <td>0.009315</td>\n",
       "      <td>100.931455</td>\n",
       "      <td>0.009087</td>\n",
       "      <td>0.908672</td>\n",
       "    </tr>\n",
       "  </tbody>\n",
       "</table>\n",
       "<p>1 rows × 22 columns</p>\n",
       "</div>"
      ],
      "text/plain": [
       "  ASSESSMENT   ID_NO          BINOMIAL PRESENCE ORIGIN SEASONAL  \\\n",
       "8    6743337  170313  Sarda orientalis        1      1        1   \n",
       "\n",
       "             COMPILER  YEAR  \\\n",
       "8  Jonnell Sanciangco  2011   \n",
       "\n",
       "                                            CITATION             LEGEND  ...  \\\n",
       "8  International Union for Conservation of Nature...  Extant (resident)  ...   \n",
       "\n",
       "  DIST_COMM ISLAND TAX_COMM     redlistCat        scientific  \\\n",
       "8      None   None     None  Least Concern  Sarda orientalis   \n",
       "\n",
       "                                            geometry DistRatio DistFactorPerc  \\\n",
       "8  POLYGON ((-88.92429 6.18700, -88.52164 6.57100...  0.009315     100.931455   \n",
       "\n",
       "   DistRatio2  DistFactorPerc2  \n",
       "8    0.009087         0.908672  \n",
       "\n",
       "[1 rows x 22 columns]"
      ]
     },
     "execution_count": 28,
     "metadata": {},
     "output_type": "execute_result"
    }
   ],
   "source": [
    "print(\"The species with the highest ratio of conservation area:distribution area is:\")\n",
    "df2[df2.DistRatio2==np.max(df2.DistRatio2)]"
   ]
  },
  {
   "cell_type": "code",
   "execution_count": 29,
   "metadata": {},
   "outputs": [
    {
     "name": "stdout",
     "output_type": "stream",
     "text": [
      "The species with the highest ratio of conservation area:distribution area is:\n"
     ]
    },
    {
     "data": {
      "text/html": [
       "<div>\n",
       "<style scoped>\n",
       "    .dataframe tbody tr th:only-of-type {\n",
       "        vertical-align: middle;\n",
       "    }\n",
       "\n",
       "    .dataframe tbody tr th {\n",
       "        vertical-align: top;\n",
       "    }\n",
       "\n",
       "    .dataframe thead th {\n",
       "        text-align: right;\n",
       "    }\n",
       "</style>\n",
       "<table border=\"1\" class=\"dataframe\">\n",
       "  <thead>\n",
       "    <tr style=\"text-align: right;\">\n",
       "      <th></th>\n",
       "      <th>ASSESSMENT</th>\n",
       "      <th>ID_NO</th>\n",
       "      <th>BINOMIAL</th>\n",
       "      <th>PRESENCE</th>\n",
       "      <th>ORIGIN</th>\n",
       "      <th>SEASONAL</th>\n",
       "      <th>COMPILER</th>\n",
       "      <th>YEAR</th>\n",
       "      <th>CITATION</th>\n",
       "      <th>LEGEND</th>\n",
       "      <th>...</th>\n",
       "      <th>DIST_COMM</th>\n",
       "      <th>ISLAND</th>\n",
       "      <th>TAX_COMM</th>\n",
       "      <th>redlistCat</th>\n",
       "      <th>scientific</th>\n",
       "      <th>geometry</th>\n",
       "      <th>DistRatio</th>\n",
       "      <th>DistFactorPerc</th>\n",
       "      <th>DistRatio2</th>\n",
       "      <th>DistFactorPerc2</th>\n",
       "    </tr>\n",
       "  </thead>\n",
       "  <tbody>\n",
       "    <tr>\n",
       "      <th>8</th>\n",
       "      <td>6743337</td>\n",
       "      <td>170313</td>\n",
       "      <td>Sarda orientalis</td>\n",
       "      <td>1</td>\n",
       "      <td>1</td>\n",
       "      <td>1</td>\n",
       "      <td>Jonnell Sanciangco</td>\n",
       "      <td>2011</td>\n",
       "      <td>International Union for Conservation of Nature...</td>\n",
       "      <td>Extant (resident)</td>\n",
       "      <td>...</td>\n",
       "      <td>None</td>\n",
       "      <td>None</td>\n",
       "      <td>None</td>\n",
       "      <td>Least Concern</td>\n",
       "      <td>Sarda orientalis</td>\n",
       "      <td>MULTIPOLYGON (((121.79681 6.60840, 121.79362 6...</td>\n",
       "      <td>0.009315</td>\n",
       "      <td>100.931455</td>\n",
       "      <td>0.009087</td>\n",
       "      <td>0.908672</td>\n",
       "    </tr>\n",
       "  </tbody>\n",
       "</table>\n",
       "<p>1 rows × 22 columns</p>\n",
       "</div>"
      ],
      "text/plain": [
       "  ASSESSMENT   ID_NO          BINOMIAL PRESENCE ORIGIN SEASONAL  \\\n",
       "8    6743337  170313  Sarda orientalis        1      1        1   \n",
       "\n",
       "             COMPILER  YEAR  \\\n",
       "8  Jonnell Sanciangco  2011   \n",
       "\n",
       "                                            CITATION             LEGEND  ...  \\\n",
       "8  International Union for Conservation of Nature...  Extant (resident)  ...   \n",
       "\n",
       "  DIST_COMM ISLAND TAX_COMM     redlistCat        scientific  \\\n",
       "8      None   None     None  Least Concern  Sarda orientalis   \n",
       "\n",
       "                                            geometry DistRatio DistFactorPerc  \\\n",
       "8  MULTIPOLYGON (((121.79681 6.60840, 121.79362 6...  0.009315     100.931455   \n",
       "\n",
       "   DistRatio2  DistFactorPerc2  \n",
       "8    0.009087         0.908672  \n",
       "\n",
       "[1 rows x 22 columns]"
      ]
     },
     "execution_count": 29,
     "metadata": {},
     "output_type": "execute_result"
    }
   ],
   "source": [
    "print(\"The species with the highest ratio of conservation area:distribution area is:\")\n",
    "df[df.DistRatio2==np.max(df.DistRatio2)]"
   ]
  },
  {
   "cell_type": "code",
   "execution_count": 42,
   "metadata": {},
   "outputs": [
    {
     "name": "stdout",
     "output_type": "stream",
     "text": [
      "Species distratio2, v1:\n",
      "8    0.009087\n",
      "Name: DistRatio2, dtype: float64\n",
      "Species distratio2, v2:\n",
      "8    0.009087\n",
      "Name: DistRatio2, dtype: float64\n"
     ]
    }
   ],
   "source": [
    "print(\"Species distratio2, v1:\")\n",
    "print(df[df.ID_NO=='170313'].DistRatio2)\n",
    "print(\"Species distratio2, v2:\")\n",
    "print(df2[df2.ID_NO=='170313'].DistRatio2)"
   ]
  },
  {
   "cell_type": "markdown",
   "metadata": {},
   "source": [
    "2) Minimum ratios"
   ]
  },
  {
   "cell_type": "code",
   "execution_count": 48,
   "metadata": {},
   "outputs": [
    {
     "name": "stdout",
     "output_type": "stream",
     "text": [
      "The species with the lowest ratio of conservation area:distribution area is:\n"
     ]
    },
    {
     "data": {
      "text/html": [
       "<div>\n",
       "<style scoped>\n",
       "    .dataframe tbody tr th:only-of-type {\n",
       "        vertical-align: middle;\n",
       "    }\n",
       "\n",
       "    .dataframe tbody tr th {\n",
       "        vertical-align: top;\n",
       "    }\n",
       "\n",
       "    .dataframe thead th {\n",
       "        text-align: right;\n",
       "    }\n",
       "</style>\n",
       "<table border=\"1\" class=\"dataframe\">\n",
       "  <thead>\n",
       "    <tr style=\"text-align: right;\">\n",
       "      <th></th>\n",
       "      <th>ASSESSMENT</th>\n",
       "      <th>ID_NO</th>\n",
       "      <th>BINOMIAL</th>\n",
       "      <th>PRESENCE</th>\n",
       "      <th>ORIGIN</th>\n",
       "      <th>SEASONAL</th>\n",
       "      <th>COMPILER</th>\n",
       "      <th>YEAR</th>\n",
       "      <th>CITATION</th>\n",
       "      <th>LEGEND</th>\n",
       "      <th>...</th>\n",
       "      <th>DIST_COMM</th>\n",
       "      <th>ISLAND</th>\n",
       "      <th>TAX_COMM</th>\n",
       "      <th>redlistCat</th>\n",
       "      <th>scientific</th>\n",
       "      <th>geometry</th>\n",
       "      <th>DistRatio</th>\n",
       "      <th>DistFactorPerc</th>\n",
       "      <th>DistRatio2</th>\n",
       "      <th>DistFactorPerc2</th>\n",
       "    </tr>\n",
       "  </thead>\n",
       "  <tbody>\n",
       "    <tr>\n",
       "      <th>84</th>\n",
       "      <td>151598011</td>\n",
       "      <td>60324</td>\n",
       "      <td>Chanos chanos</td>\n",
       "      <td>1</td>\n",
       "      <td>1</td>\n",
       "      <td>1</td>\n",
       "      <td>IUCN Freshwater Biodiversity Unit</td>\n",
       "      <td>2017</td>\n",
       "      <td>IUCN International Union for Conservation of N...</td>\n",
       "      <td>Extant (resident)</td>\n",
       "      <td>...</td>\n",
       "      <td>None</td>\n",
       "      <td>None</td>\n",
       "      <td>None</td>\n",
       "      <td>Least Concern</td>\n",
       "      <td>Chanos chanos</td>\n",
       "      <td>MULTIPOLYGON (((173.11497 -41.07488, 173.11497...</td>\n",
       "      <td>0.055434</td>\n",
       "      <td>105.543403</td>\n",
       "      <td>0.00001</td>\n",
       "      <td>0.001028</td>\n",
       "    </tr>\n",
       "  </tbody>\n",
       "</table>\n",
       "<p>1 rows × 22 columns</p>\n",
       "</div>"
      ],
      "text/plain": [
       "   ASSESSMENT  ID_NO       BINOMIAL PRESENCE ORIGIN SEASONAL  \\\n",
       "84  151598011  60324  Chanos chanos        1      1        1   \n",
       "\n",
       "                             COMPILER  YEAR  \\\n",
       "84  IUCN Freshwater Biodiversity Unit  2017   \n",
       "\n",
       "                                             CITATION             LEGEND  ...  \\\n",
       "84  IUCN International Union for Conservation of N...  Extant (resident)  ...   \n",
       "\n",
       "   DIST_COMM ISLAND TAX_COMM     redlistCat     scientific  \\\n",
       "84      None   None     None  Least Concern  Chanos chanos   \n",
       "\n",
       "                                             geometry DistRatio  \\\n",
       "84  MULTIPOLYGON (((173.11497 -41.07488, 173.11497...  0.055434   \n",
       "\n",
       "   DistFactorPerc  DistRatio2  DistFactorPerc2  \n",
       "84     105.543403     0.00001         0.001028  \n",
       "\n",
       "[1 rows x 22 columns]"
      ]
     },
     "execution_count": 48,
     "metadata": {},
     "output_type": "execute_result"
    }
   ],
   "source": [
    "print(\"The species with the lowest ratio of conservation area:distribution area is:\")\n",
    "df[df.DistRatio2==np.min(df.DistRatio2)]"
   ]
  },
  {
   "cell_type": "code",
   "execution_count": 49,
   "metadata": {},
   "outputs": [
    {
     "name": "stdout",
     "output_type": "stream",
     "text": [
      "The species with the lowest ratio of conservation area:distribution area is:\n"
     ]
    },
    {
     "data": {
      "text/html": [
       "<div>\n",
       "<style scoped>\n",
       "    .dataframe tbody tr th:only-of-type {\n",
       "        vertical-align: middle;\n",
       "    }\n",
       "\n",
       "    .dataframe tbody tr th {\n",
       "        vertical-align: top;\n",
       "    }\n",
       "\n",
       "    .dataframe thead th {\n",
       "        text-align: right;\n",
       "    }\n",
       "</style>\n",
       "<table border=\"1\" class=\"dataframe\">\n",
       "  <thead>\n",
       "    <tr style=\"text-align: right;\">\n",
       "      <th></th>\n",
       "      <th>ASSESSMENT</th>\n",
       "      <th>ID_NO</th>\n",
       "      <th>BINOMIAL</th>\n",
       "      <th>PRESENCE</th>\n",
       "      <th>ORIGIN</th>\n",
       "      <th>SEASONAL</th>\n",
       "      <th>COMPILER</th>\n",
       "      <th>YEAR</th>\n",
       "      <th>CITATION</th>\n",
       "      <th>LEGEND</th>\n",
       "      <th>...</th>\n",
       "      <th>DIST_COMM</th>\n",
       "      <th>ISLAND</th>\n",
       "      <th>TAX_COMM</th>\n",
       "      <th>redlistCat</th>\n",
       "      <th>scientific</th>\n",
       "      <th>geometry</th>\n",
       "      <th>DistRatio</th>\n",
       "      <th>DistFactorPerc</th>\n",
       "      <th>DistRatio2</th>\n",
       "      <th>DistFactorPerc2</th>\n",
       "    </tr>\n",
       "  </thead>\n",
       "  <tbody>\n",
       "    <tr>\n",
       "      <th>84</th>\n",
       "      <td>151598011</td>\n",
       "      <td>60324</td>\n",
       "      <td>Chanos chanos</td>\n",
       "      <td>1</td>\n",
       "      <td>1</td>\n",
       "      <td>1</td>\n",
       "      <td>IUCN Freshwater Biodiversity Unit</td>\n",
       "      <td>2017</td>\n",
       "      <td>IUCN International Union for Conservation of N...</td>\n",
       "      <td>Extant (resident)</td>\n",
       "      <td>...</td>\n",
       "      <td>None</td>\n",
       "      <td>None</td>\n",
       "      <td>None</td>\n",
       "      <td>Least Concern</td>\n",
       "      <td>Chanos chanos</td>\n",
       "      <td>MULTIPOLYGON (((-87.03283 5.49362, -87.05473 5...</td>\n",
       "      <td>0.055434</td>\n",
       "      <td>105.543403</td>\n",
       "      <td>0.00001</td>\n",
       "      <td>0.001028</td>\n",
       "    </tr>\n",
       "  </tbody>\n",
       "</table>\n",
       "<p>1 rows × 22 columns</p>\n",
       "</div>"
      ],
      "text/plain": [
       "   ASSESSMENT  ID_NO       BINOMIAL PRESENCE ORIGIN SEASONAL  \\\n",
       "84  151598011  60324  Chanos chanos        1      1        1   \n",
       "\n",
       "                             COMPILER  YEAR  \\\n",
       "84  IUCN Freshwater Biodiversity Unit  2017   \n",
       "\n",
       "                                             CITATION             LEGEND  ...  \\\n",
       "84  IUCN International Union for Conservation of N...  Extant (resident)  ...   \n",
       "\n",
       "   DIST_COMM ISLAND TAX_COMM     redlistCat     scientific  \\\n",
       "84      None   None     None  Least Concern  Chanos chanos   \n",
       "\n",
       "                                             geometry DistRatio  \\\n",
       "84  MULTIPOLYGON (((-87.03283 5.49362, -87.05473 5...  0.055434   \n",
       "\n",
       "   DistFactorPerc  DistRatio2  DistFactorPerc2  \n",
       "84     105.543403     0.00001         0.001028  \n",
       "\n",
       "[1 rows x 22 columns]"
      ]
     },
     "execution_count": 49,
     "metadata": {},
     "output_type": "execute_result"
    }
   ],
   "source": [
    "print(\"The species with the lowest ratio of conservation area:distribution area is:\")\n",
    "df2[df2.DistRatio2==np.min(df2.DistRatio2)]"
   ]
  },
  {
   "cell_type": "code",
   "execution_count": 51,
   "metadata": {},
   "outputs": [
    {
     "name": "stdout",
     "output_type": "stream",
     "text": [
      "Species distratio2, v1:\n",
      "84    0.00001\n",
      "Name: DistRatio2, dtype: float64\n",
      "Species distratio2, v2:\n",
      "84    0.00001\n",
      "Name: DistRatio2, dtype: float64\n"
     ]
    }
   ],
   "source": [
    "print(\"Species distratio2, v1:\")\n",
    "print(df[df.ID_NO=='60324'].DistRatio2)\n",
    "print(\"Species distratio2, v2:\")\n",
    "print(df2[df2.ID_NO=='60324'].DistRatio2)"
   ]
  },
  {
   "cell_type": "code",
   "execution_count": 50,
   "metadata": {},
   "outputs": [
    {
     "name": "stdout",
     "output_type": "stream",
     "text": [
      "Species distratio2, v1:\n",
      "118    0.000344\n",
      "Name: DistRatio2, dtype: float64\n",
      "Species distratio2, v2:\n",
      "118    0.000344\n",
      "Name: DistRatio2, dtype: float64\n"
     ]
    }
   ],
   "source": [
    "print(\"Species distratio2, v1:\")\n",
    "print(df[df.ID_NO=='15421'].DistRatio2)\n",
    "print(\"Species distratio2, v2:\")\n",
    "print(df2[df2.ID_NO=='15421'].DistRatio2)"
   ]
  },
  {
   "cell_type": "markdown",
   "metadata": {},
   "source": [
    "*Mobula tarapacana* is the Chilean devil ray, which is **Endangered**."
   ]
  },
  {
   "cell_type": "code",
   "execution_count": 54,
   "metadata": {},
   "outputs": [
    {
     "data": {
      "image/png": "[encoded data removed]",
      "text/plain": [
       "<Figure size 1440x720 with 1 Axes>"
      ]
     },
     "metadata": {
      "needs_background": "light"
     },
     "output_type": "display_data"
    }
   ],
   "source": [
    "world = gpd.read_file(gpd.datasets.get_path('naturalearth_lowres'))\n",
    "fig, ax = plt.subplots(figsize=(20,10))\n",
    "\n",
    "ax.set_aspect('equal')\n",
    "\n",
    "world.plot(ax=ax, color='white', edgecolor='black')\n",
    "\n",
    "\n",
    "# ax.scatter(Cocos.x, Cocos.y, c = 'r')\n",
    "df[df.DistRatio2==np.max(df.DistRatio2)].plot(ax = ax, color = 'r', alpha = 0.25)\n",
    "\n",
    "AMMB.plot(ax=ax, alpha = 0.15, color = 'purple', edgecolor='black')\n",
    "\n",
    "PNIC_WGS84.plot(ax=ax, alpha = 0.15, color = 'teal', edgecolor='black')#, marker='o', color='red', markersize=5)\n",
    "\n",
    "\n",
    "# ax.set_xlim((-110, -60))\n",
    "ax.set_ylim((-50, 60))\n",
    "plt.show();"
   ]
  },
  {
   "cell_type": "code",
   "execution_count": 68,
   "metadata": {
    "scrolled": true
   },
   "outputs": [
    {
     "data": {
      "image/png": "[encoded data removed]",
      "text/plain": [
       "<Figure size 720x360 with 1 Axes>"
      ]
     },
     "metadata": {
      "needs_background": "light"
     },
     "output_type": "display_data"
    }
   ],
   "source": [
    "world = gpd.read_file(gpd.datasets.get_path('naturalearth_lowres'))\n",
    "fig, ax = plt.subplots(figsize=(10,5))\n",
    "\n",
    "ax.set_aspect('equal')\n",
    "\n",
    "world.plot(ax=ax, color='white', edgecolor='black')\n",
    "\n",
    "\n",
    "# ax.scatter(Cocos.x, Cocos.y, c = 'r')\n",
    "df[df.DistRatio2==np.min(df.DistRatio2)].plot(ax = ax, color = 'r', alpha = 1)\n",
    "\n",
    "AMMB.plot(ax=ax, alpha = 0.15, color = 'purple', edgecolor='black')\n",
    "\n",
    "PNIC_WGS84.plot(ax=ax, alpha = 0.15, color = 'teal', edgecolor='black')#, marker='o', color='red', markersize=5)\n",
    "\n",
    "\n",
    "ax.set_xlim((-90, -80))\n",
    "ax.set_ylim((0, 10))\n",
    "plt.show();"
   ]
  },
  {
   "cell_type": "markdown",
   "metadata": {},
   "source": [
    "<h1> 3. Marine Biodiversity Unit </h1>\n",
    "\n",
    "i.e. we create a base unit and we modulate it with different adjustments: vulnerability, distribution range, etc.\n",
    "\n",
    "<h2> Base Unit</h2>"
   ]
  },
  {
   "cell_type": "markdown",
   "metadata": {},
   "source": [
    "This is where we get a biodiversity index for the area. Example:\n",
    "\n",
    "- get the Shannon index over AMMB\n",
    "- get another biodiversity score that we normalize against a global score\n",
    "\n",
    "<h3> Example: Shannon Biodiversity </h3>\n",
    "\n",
    "The maximum Shannon biodiversity index worldwide is ~8.5.\n",
    "\n",
    "E.g. around Cocos Island, based on OBIS data (...), a Shannon biodiversity index of 6.25 over 160,000 km$^2$ would give\n",
    "\n",
    "base credit $ = \\frac{6.25 \\text{ (local index)}}{8.5 \\text{ (max global index)}}) = $ 0.735\n",
    "\n",
    "total credits = $\\frac{6.25 \\text{ (local index)}}{8.5 \\text{ (max global index)}})\\times 160,000 \\text{ km}^2 \\times \\frac{1\\text{ Marine Biodiversity Unit}}{1 \\text {km}^2} = $ 117,647 Marine Biodiversity Units"
   ]
  },
  {
   "cell_type": "markdown",
   "metadata": {},
   "source": [
    "That gives the baseline. To be completed. \n",
    "\n",
    "Note: we CANNOT get the Shannon index just from IUCN data. We need the number of specimens for each species."
   ]
  },
  {
   "cell_type": "markdown",
   "metadata": {},
   "source": [
    "<h3> Example: species richness </h3>\n",
    "    \n",
    "That is: use the total number of species within the area of interest to get the base credit."
   ]
  },
  {
   "cell_type": "markdown",
   "metadata": {},
   "source": [
    "Info from SINAC, link to [Google Drive](https://drive.google.com/file/d/1Bztf55bKgZi7X9nJPbWGdOUtW7Zv0-3_/view?usp=sharing) document\n",
    "```\n",
    "The CINP is home to 1688 species of marine fauna, of which\n",
    "45 are endemic. This represents 47,4 % of the endemism in\n",
    "Costa Rica. In other words, the CINP contributes half of the\n",
    "country’s unique biological richness.\n",
    "```\n",
    "SINAC (Sistema Nacional de Áreas de Conservación). 2018. Importancia de los ecosistemas y las poblaciones del sitio de interés: Parque Nacional Isla del Coco (PNIC), Área Marina de Manejo Montes Submarinos (AMM MS) y aguas adyacentes. Área de Conservación Marina Cocos. San José, Costa Rica. 68 p."
   ]
  },
  {
   "cell_type": "markdown",
   "metadata": {},
   "source": [
    "Note: this was the old park\n",
    "```\n",
    "The CINP, created in 1978, is located 342 miles (500 km) southeast of Costa Rica’s Pacific coast and covers an area of 785 sq miles (2034 km2). The island comprises an area of about 9 sq miles (23 km2) and the marine area covers the remaining 776 sq miles (2011 km2). The SMMA was created in 2011 and was the first protected wildlife area in this category in Costa Rica. It encompasses 3725 sq miles (9649 km2) of the Pacific Ocean waters around the CINP (Figure 1).\n",
    "```"
   ]
  },
  {
   "cell_type": "markdown",
   "metadata": {},
   "source": [
    "<h2> Species richness </h2>"
   ]
  },
  {
   "cell_type": "markdown",
   "metadata": {},
   "source": [
    "Note: World Register of Marine Species (WoRMS)  contains 243,000 species in its inventory.\n",
    "\n",
    "https://en.wikipedia.org/wiki/Marine_life#/media/File:Marine_animal_biodiversity.png shows 201,004.\n",
    "\n",
    "https://en.wikipedia.org/wiki/Species_richness shows species richness in terms of km? or per sq km?\n",
    "\n",
    "https://www.researchgate.net/figure/Global-marine-species-richness-for-all-taxa-Source-Titterson-et-al-2010_fig2_305636318\n",
    "this is at a coarse resolution, but we can use this to normalize marine richness?\n",
    "\n",
    "According to: https://www.researchgate.net/publication/45406822_Global_patterns_and_predictors_of_marine_biodiversity_across_taxa\n",
    "we have: \n",
    "11,567 total - 60 seagrasses - 32 mangroves - 39 foraminifera"
   ]
  },
  {
   "cell_type": "markdown",
   "metadata": {},
   "source": [
    "**Marine biodiversity Assumption 1**\n",
    "\n",
    "Assuming a total number of species of marine fauna of $N_\\text{total}$ (here `N_species_fauna_total`)"
   ]
  },
  {
   "cell_type": "code",
   "execution_count": 74,
   "metadata": {},
   "outputs": [
    {
     "name": "stdout",
     "output_type": "stream",
     "text": [
      "11436\n"
     ]
    }
   ],
   "source": [
    "N_species_fauna_total = 11567 - 60 - 32 - 39\n",
    "print(N_species_fauna_total)"
   ]
  },
  {
   "cell_type": "markdown",
   "metadata": {},
   "source": [
    "**Marine biodiversity Assumption 2**\n",
    "\n",
    "Assuming a number of species of marine fauna within the area of interest of $N_\\text{local}$ (here `N_species_fauna`). This is extrapolating the number of species given by SINAC to the entire AMMB area."
   ]
  },
  {
   "cell_type": "code",
   "execution_count": 70,
   "metadata": {},
   "outputs": [],
   "source": [
    "N_species_fauna = 1688"
   ]
  },
  {
   "cell_type": "markdown",
   "metadata": {},
   "source": [
    "**Marine biodiversity Assumption 3**\n",
    "\n",
    "The marine fauna is uniformely distributed accross the AMMB... here because we don't have:\n",
    "- $N_\\text{local}$(square kilometer 1)\n",
    "- $N_\\text{local}$(square kilometer 2)\n",
    "- ...\n",
    "- $N_\\text{local}$(square kilometer  N)\n",
    "\n",
    "Thus our \"base unit\" for credits is homogeneous throughout AMMB. \n",
    "\n",
    "Note: this is for illustrative purposes and this is a WRONG assumption! but we do not have a heat map of marine fauma!"
   ]
  },
  {
   "cell_type": "code",
   "execution_count": 76,
   "metadata": {},
   "outputs": [
    {
     "name": "stdout",
     "output_type": "stream",
     "text": [
      "1.1590538866455768\n"
     ]
    }
   ],
   "source": [
    "N_units_base = np.exp(N_species_fauna/N_species_fauna_total)\n",
    "print(N_units_base)"
   ]
  },
  {
   "cell_type": "markdown",
   "metadata": {},
   "source": [
    "Assuming we had the maximum species richness of $N_\\text{total}$ = 2,555 (here `N_species_fauna_total`):"
   ]
  },
  {
   "cell_type": "code",
   "execution_count": 77,
   "metadata": {},
   "outputs": [
    {
     "data": {
      "text/plain": [
       "1.2503422061517109"
      ]
     },
     "execution_count": 77,
     "metadata": {},
     "output_type": "execute_result"
    }
   ],
   "source": [
    "np.exp(2555/N_species_fauna_total)"
   ]
  },
  {
   "cell_type": "markdown",
   "metadata": {},
   "source": [
    "That's the \"maximum base unit\" per this logic."
   ]
  },
  {
   "cell_type": "markdown",
   "metadata": {},
   "source": [
    "Assuming we have very little species richness, e.g. $N_\\text{total}$ = 10 (here `N_species_fauna_total` means there are only 10 species of fish, crabs, whatever):"
   ]
  },
  {
   "cell_type": "code",
   "execution_count": 78,
   "metadata": {},
   "outputs": [
    {
     "data": {
      "text/plain": [
       "1.0008748140462365"
      ]
     },
     "execution_count": 78,
     "metadata": {},
     "output_type": "execute_result"
    }
   ],
   "source": [
    "np.exp(10/N_species_fauna_total)"
   ]
  },
  {
   "cell_type": "markdown",
   "metadata": {},
   "source": [
    "That's a lower bound for the \"base unit\" per this logic."
   ]
  },
  {
   "cell_type": "markdown",
   "metadata": {},
   "source": [
    "It is a very narrow range that does not reward high biodiversity this much. \n",
    "\n",
    "Is it \"good\" or \"bad\"? \n",
    "\n",
    "Well, the advantages are as follows:\n",
    "   * it minimizes the impact of measurements errors and uncertainty. Given that measuring marine biodiversity is difficult, this may actually be a good thing.\n",
    "    \n",
    "   * it increases the influence of modulating factors, such as:\n",
    "        - vulnerable species\n",
    "        - endemism\n",
    "        - habitat type\n",
    "        - etc."
   ]
  },
  {
   "cell_type": "markdown",
   "metadata": {},
   "source": [
    "<h2> Modulating factor 1 </h2>\n",
    "<h3> Incorporate the distribution range </h3>"
   ]
  },
  {
   "cell_type": "code",
   "execution_count": null,
   "metadata": {},
   "outputs": [],
   "source": []
  },
  {
   "cell_type": "markdown",
   "metadata": {},
   "source": [
    "<h2> Modulating factor 2 </h2>\n",
    "<h3> Incorporate the habitat type </h3>"
   ]
  },
  {
   "cell_type": "code",
   "execution_count": null,
   "metadata": {},
   "outputs": [],
   "source": []
  },
  {
   "cell_type": "markdown",
   "metadata": {},
   "source": [
    "<h2> Factor 3 </h2>\n",
    "<h3> Incorporate the conservation status </h3>"
   ]
  },
  {
   "cell_type": "markdown",
   "metadata": {},
   "source": [
    "We have the following conservation statuses:"
   ]
  },
  {
   "cell_type": "code",
   "execution_count": null,
   "metadata": {},
   "outputs": [],
   "source": [
    "print(\"The species with the status Critically Endangered are :\")\n",
    "print(df_nonan[df_nonan.redlistCategory=='Critically Endangered'].BINOMIAL)"
   ]
  },
  {
   "cell_type": "markdown",
   "metadata": {},
   "source": [
    "- *Carcharhinus longimanus* is Oceanic whitetip shark\n",
    "- *Eretmochelys imbricata* is Hawksbill sea turtle\n",
    "- *Pristis pristis* is Largetooth sawfish"
   ]
  },
  {
   "cell_type": "code",
   "execution_count": null,
   "metadata": {},
   "outputs": [],
   "source": [
    "fig, ax = plt.subplots(figsize=(20,10))\n",
    "\n",
    "ax.set_aspect('equal')\n",
    "\n",
    "world.plot(ax=ax, color='white', edgecolor='black')\n",
    "\n",
    "AMMB.plot(ax=ax, alpha = 0.15, color = 'purple', edgecolor='black')\n",
    "\n",
    "PNIC_WGS84.plot(ax=ax, alpha = 0.15, color = 'teal', edgecolor='black')#, marker='o', color='red', markersize=5)\n",
    "\n",
    "# ax.scatter(Cocos.x, Cocos.y, c = 'r')\n",
    "df_nonan[df_nonan.DistRatio2==np.min(df_nonan.DistRatio2)].plot(ax = ax, color = 'r')\n",
    "\n",
    "ax.set_xlim((-90, -85))\n",
    "ax.set_ylim((2, 7))\n",
    "plt.show();"
   ]
  },
  {
   "cell_type": "markdown",
   "metadata": {},
   "source": [
    "To be honest, I'm not sure which road to take. On the one hand, it seems more *logical* to use the second option in terms of distribution area:\n",
    "- the conservation area (AMMB) is HUGE compared to the range of the sawfish\n",
    "- but within AMMB, the sawfish is not widely distributed.\n",
    "- vice-versa for the ray\n",
    "\n",
    "On the other hand:\n",
    "- the region around AMMB seem way more critical for the sawfish than the ray: see how distributed the ray is?\n",
    "- the conservation for the milkfish is diminished compared to the orca.\n",
    "\n",
    "so perhaps the first route was the \"right\" one?"
   ]
  },
  {
   "cell_type": "markdown",
   "metadata": {},
   "source": [
    "In any case, we need some post-processing, e.g. smoothing, clustering, etc."
   ]
  },
  {
   "cell_type": "code",
   "execution_count": null,
   "metadata": {},
   "outputs": [],
   "source": [
    "def get_DistRatioFactor_invsquare(DistRatio, print_out = False):\n",
    "    # This function calculates the weighted endemism of species by taking the sum of the \n",
    "    # squares of the ratios of (area conserved / total distribution area)\n",
    "    #\n",
    "    # Input arguments:\n",
    "    #      DistRatio: a series of the area conserved / total distribution area ratio for each species\n",
    "    #      print_out: a boolean for printing out the factor\n",
    "    #\n",
    "    # Output:\n",
    "    #      factor: the factor of weighted endemism\n",
    "    \n",
    "    factor = 1+sum(DistRatio**2)\n",
    "    if print_out:\n",
    "        print(\"We multiply N credits by \" + \"{:0.3f}\".format(factor))\n",
    "    return factor"
   ]
  },
  {
   "cell_type": "markdown",
   "metadata": {},
   "source": [
    "**First approach**\n",
    "\n",
    "What are the credits based on DistRatio1?"
   ]
  },
  {
   "cell_type": "code",
   "execution_count": null,
   "metadata": {},
   "outputs": [],
   "source": [
    "example_credits(area_of_conservation.area, df_nonan.DistRatio, get_DistRatioFactor);\n",
    "example_credits(111.1**(-2), df_nonan.DistRatio, get_DistRatioFactor);\n",
    "\n",
    "example_credits(area_of_conservation.area, df_nonan.DistRatio, get_DistRatioFactor_square);\n",
    "example_credits(111.1**(-2), df_nonan.DistRatio, get_DistRatioFactor_square);"
   ]
  },
  {
   "cell_type": "markdown",
   "metadata": {},
   "source": [
    "Okay clearly these numbers get wild."
   ]
  },
  {
   "cell_type": "markdown",
   "metadata": {},
   "source": [
    "**Second approach**\n",
    "\n",
    "What are the credits based on DistRatio2?"
   ]
  },
  {
   "cell_type": "code",
   "execution_count": null,
   "metadata": {},
   "outputs": [],
   "source": [
    "example_credits(area_of_conservation.area, df_nonan.DistRatio2, get_DistRatioFactor);\n",
    "example_credits(111.1**(-2), df_nonan.DistRatio2, get_DistRatioFactor);\n",
    "\n",
    "example_credits(area_of_conservation.area, df_nonan.DistRatio2, get_DistRatioFactor_square);\n",
    "example_credits(111.1**(-2), df_nonan.DistRatio2, get_DistRatioFactor_square);"
   ]
  },
  {
   "cell_type": "markdown",
   "metadata": {},
   "source": [
    "Okay for the order of magnitude, so-so for what it represents."
   ]
  },
  {
   "cell_type": "markdown",
   "metadata": {},
   "source": [
    "Wild card:"
   ]
  },
  {
   "cell_type": "code",
   "execution_count": null,
   "metadata": {},
   "outputs": [],
   "source": [
    "example_credits(area_of_conservation.area, df_nonan.DistRatio, get_DistRatioFactor_invsquare);\n",
    "example_credits(111.1**(-2), df_nonan.DistRatio, get_DistRatioFactor);"
   ]
  },
  {
   "cell_type": "markdown",
   "metadata": {},
   "source": [
    "We will need to check this out with \"smoothing\"."
   ]
  },
  {
   "cell_type": "markdown",
   "metadata": {},
   "source": [
    "... to be continued."
   ]
  },
  {
   "cell_type": "markdown",
   "metadata": {},
   "source": [
    "It seems like a fairer approach."
   ]
  }
 ],
 "metadata": {
  "kernelspec": {
   "display_name": "Python 3 (ipykernel)",
   "language": "python",
   "name": "python3"
  },
  "language_info": {
   "codemirror_mode": {
    "name": "ipython",
    "version": 3
   },
   "file_extension": ".py",
   "mimetype": "text/x-python",
   "name": "python",
   "nbconvert_exporter": "python",
   "pygments_lexer": "ipython3",
   "version": "3.9.12"
  }
 },
 "nbformat": 4,
 "nbformat_minor": 4
}
